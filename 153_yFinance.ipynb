{
 "cells": [
  {
   "cell_type": "markdown",
   "id": "9d16f0f5",
   "metadata": {},
   "source": [
    "<div style=\"background-color:#000;\"><img src=\"pqn.png\"></img></div>"
   ]
  },
  {
   "cell_type": "markdown",
   "id": "2515b61b",
   "metadata": {},
   "source": [
    "## Imports and setup"
   ]
  },
  {
   "cell_type": "markdown",
   "id": "c2651fd7",
   "metadata": {},
   "source": [
    "We bring in two trusted libraries here: one for pulling live financial market data, and another for organizing and working with that data in flexible tables."
   ]
  },
  {
   "cell_type": "code",
   "execution_count": null,
   "id": "cb9fb610",
   "metadata": {},
   "outputs": [],
   "source": [
    "import yfinance as yf\n",
    "import pandas as pd"
   ]
  },
  {
   "cell_type": "markdown",
   "id": "e08f2604",
   "metadata": {
    "lines_to_next_cell": 2
   },
   "source": [
    "These libraries let us tap into historical or real-time stock market info, as well as work with it seamlessly in ways that make analysis smooth and powerful. We use finance-specific tools from the first library and lean on the second for reliable data wrangling. There’s nothing fancy happening behind the scenes—just straightforward access to data and ways to shape it as needed."
   ]
  },
  {
   "cell_type": "markdown",
   "id": "347abead",
   "metadata": {},
   "source": [
    "## Retrieve historical stock prices"
   ]
  },
  {
   "cell_type": "markdown",
   "id": "929ae673",
   "metadata": {},
   "source": [
    "We're pulling the last year of price data for Apple and Microsoft so we can analyze how these companies' stocks have moved recently."
   ]
  },
  {
   "cell_type": "code",
   "execution_count": null,
   "id": "acc42971",
   "metadata": {},
   "outputs": [],
   "source": [
    "apple = yf.Ticker(\"AAPL\")\n",
    "microsoft = yf.Ticker(\"MSFT\")"
   ]
  },
  {
   "cell_type": "code",
   "execution_count": null,
   "id": "d706c67a",
   "metadata": {},
   "outputs": [],
   "source": [
    "apple_price_data = apple.history(period=\"1y\")\n",
    "microsoft_price_data = microsoft.history(period=\"1y\")"
   ]
  },
  {
   "cell_type": "markdown",
   "id": "5784215e",
   "metadata": {
    "lines_to_next_cell": 2
   },
   "source": [
    "This code looks up each company by its ticker. Then, it fetches a full year’s worth of price data—like opening, closing, highs, and lows—so we have a clear view of these stocks’ behavior over time. Creating these pulls ahead of analysis saves us time and lets us explore trends, compare returns, or dig into specific dates quickly."
   ]
  },
  {
   "cell_type": "markdown",
   "id": "12986d96",
   "metadata": {},
   "source": [
    "## Collect options data for Apple"
   ]
  },
  {
   "cell_type": "markdown",
   "id": "c17a5ec0",
   "metadata": {},
   "source": [
    "Now, we’re grabbing Apple’s available options expiration dates and loading the calls and puts for the nearest expiry."
   ]
  },
  {
   "cell_type": "code",
   "execution_count": null,
   "id": "588b0fa3",
   "metadata": {},
   "outputs": [],
   "source": [
    "apple_option_dates = apple.options\n",
    "apple_option_chain = apple.option_chain(apple_option_dates[0])\n",
    "apple_calls = apple_option_chain.calls\n",
    "apple_puts = apple_option_chain.puts"
   ]
  },
  {
   "cell_type": "markdown",
   "id": "4c4c382e",
   "metadata": {
    "lines_to_next_cell": 2
   },
   "source": [
    "The code first finds all the future dates when Apple options expire. It locks in the earliest one, then fetches two key sets of contracts—those for betting on the stock going up (calls) and those for betting on it going down (puts). With this live options data, we’re ready to dig deeper into options trading or pricing for Apple."
   ]
  },
  {
   "cell_type": "markdown",
   "id": "f29c53f3",
   "metadata": {},
   "source": [
    "## Gather company financial statements"
   ]
  },
  {
   "cell_type": "markdown",
   "id": "7da4ec91",
   "metadata": {},
   "source": [
    "We’re pulling in the latest income statements, balance sheets, and cash flow tables for both Apple and Microsoft so we can look at the fundamentals."
   ]
  },
  {
   "cell_type": "code",
   "execution_count": null,
   "id": "14dc76f0",
   "metadata": {},
   "outputs": [],
   "source": [
    "apple_financials = apple.financials\n",
    "apple_balance_sheet = apple.balance_sheet\n",
    "apple_cash_flow = apple.cashflow"
   ]
  },
  {
   "cell_type": "code",
   "execution_count": null,
   "id": "0f06a86d",
   "metadata": {},
   "outputs": [],
   "source": [
    "microsoft_financials = microsoft.financials\n",
    "microsoft_balance_sheet = microsoft.balance_sheet\n",
    "microsoft_cash_flow = microsoft.cashflow"
   ]
  },
  {
   "cell_type": "markdown",
   "id": "65e871b0",
   "metadata": {
    "lines_to_next_cell": 2
   },
   "source": [
    "Each of these steps reaches out and downloads the key financial documents that investors and analysts rely on most: how much money the companies made, what they own and owe, and how their cash moves in and out. We now have side-by-side financial snapshots of these giants, letting us compare them or study trends over time as we see fit."
   ]
  },
  {
   "cell_type": "markdown",
   "id": "faa06adc",
   "metadata": {},
   "source": [
    "## Pull recent prices and financials for tech leaders"
   ]
  },
  {
   "cell_type": "markdown",
   "id": "fe140778",
   "metadata": {},
   "source": [
    "We're batching price, options, and core financials for a group of major tech companies—Apple, Microsoft, Google, and Meta—for quick comparison or portfolio-wide analysis."
   ]
  },
  {
   "cell_type": "code",
   "execution_count": null,
   "id": "13482eb1",
   "metadata": {},
   "outputs": [],
   "source": [
    "symbols = [\"AAPL\", \"MSFT\", \"GOOG\", \"META\"]\n",
    "price_data = {symbol: yf.Ticker(symbol).history(period=\"1mo\") for symbol in symbols}"
   ]
  },
  {
   "cell_type": "code",
   "execution_count": null,
   "id": "0013742b",
   "metadata": {},
   "outputs": [],
   "source": [
    "options_exp_dates = {symbol: yf.Ticker(symbol).options for symbol in symbols}"
   ]
  },
  {
   "cell_type": "code",
   "execution_count": null,
   "id": "48d648c0",
   "metadata": {},
   "outputs": [],
   "source": [
    "financials_data = {\n",
    "    symbol: {\n",
    "        \"financials\": yf.Ticker(symbol).financials,\n",
    "        \"balance_sheet\": yf.Ticker(symbol).balance_sheet,\n",
    "        \"cash_flow\": yf.Ticker(symbol).cashflow\n",
    "    }\n",
    "    for symbol in symbols\n",
    "}"
   ]
  },
  {
   "cell_type": "code",
   "execution_count": null,
   "id": "c2b08fc0",
   "metadata": {},
   "outputs": [],
   "source": [
    "financials_data"
   ]
  },
  {
   "cell_type": "markdown",
   "id": "3bdd200e",
   "metadata": {},
   "source": [
    "For each company in our group, we grab one month’s worth of price history, all of their available options expiries, and three detailed financial reports. This creates a tidy, easy-to-access set of data—one we can scan, visualize, or use in custom analysis. With this approach, any trends or hidden strengths become much easier to spot, whether we're trading or just tracking these industry leaders."
   ]
  },
  {
   "cell_type": "markdown",
   "id": "b22b0107",
   "metadata": {},
   "source": [
    "<a href=\"https://pyquantnews.com/\">PyQuant News</a> is where finance practitioners level up with Python for quant finance, algorithmic trading, and market data analysis. Looking to get started? Check out the fastest growing, top-selling course to <a href=\"https://gettingstartedwithpythonforquantfinance.com/\">get started with Python for quant finance</a>. For educational purposes. Not investment advice. Use at your own risk."
   ]
  }
 ],
 "metadata": {
  "jupytext": {
   "cell_metadata_filter": "-all",
   "main_language": "python",
   "notebook_metadata_filter": "-all"
  }
 },
 "nbformat": 4,
 "nbformat_minor": 5
}
