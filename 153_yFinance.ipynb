{
 "cells": [
  {
   "cell_type": "markdown",
   "id": "e9a63d2f",
   "metadata": {},
   "source": [
    "<div style=\"background-color:#000;\"><img src=\"pqn.png\"></img></div>"
   ]
  },
  {
   "cell_type": "markdown",
   "id": "6d63fbff",
   "metadata": {},
   "source": [
    "## Imports and setup"
   ]
  },
  {
   "cell_type": "markdown",
   "id": "ddcd0b28",
   "metadata": {},
   "source": [
    "We rely on these libraries to pull stock, options, and financial data from Yahoo Finance, and to handle and organize the results in convenient tables."
   ]
  },
  {
   "cell_type": "code",
   "execution_count": null,
   "id": "af0f792b",
   "metadata": {},
   "outputs": [],
   "source": [
    "import pandas as pd\n",
    "import yfinance as yf"
   ]
  },
  {
   "cell_type": "markdown",
   "id": "db0b04b5",
   "metadata": {},
   "source": [
    "We're defining a small list of stock tickers that we'll analyze in the next steps."
   ]
  },
  {
   "cell_type": "code",
   "execution_count": null,
   "id": "0fd8137c",
   "metadata": {},
   "outputs": [],
   "source": [
    "stock_symbols = [\"AAPL\", \"MSFT\", \"GOOGL\"]"
   ]
  },
  {
   "cell_type": "markdown",
   "id": "4c536c4d",
   "metadata": {},
   "source": [
    "Here, we're pulling past market prices, available options, and key financial statements for each company in our list."
   ]
  },
  {
   "cell_type": "code",
   "execution_count": null,
   "id": "988cee65",
   "metadata": {},
   "outputs": [],
   "source": [
    "market_data = {\n",
    "    symbol: yf.Ticker(symbol).history(period=\"1y\") for symbol in stock_symbols\n",
    "}\n",
    "options_data = {symbol: yf.Ticker(symbol).option_chain() for symbol in stock_symbols}\n",
    "financials_data = {symbol: yf.Ticker(symbol).financials for symbol in stock_symbols}"
   ]
  },
  {
   "cell_type": "markdown",
   "id": "6d66dcfb",
   "metadata": {},
   "source": [
    "This block sets up everything we need to work with data from Yahoo Finance. We start with our list of ticker symbols. Using a standard interface, we reach out to Yahoo Finance and grab a year of daily trading data, complete option chain data, and recent financials for each ticker. We organize all of this into dictionaries with the ticker symbol as the key for easy reference later."
   ]
  },
  {
   "cell_type": "markdown",
   "id": "5a64d83f",
   "metadata": {},
   "source": [
    "## Organize and standardize financial data"
   ]
  },
  {
   "cell_type": "markdown",
   "id": "4b023b8d",
   "metadata": {},
   "source": [
    "We're reformatting and cleaning the stock market price data so it's consistent and easy to work with later."
   ]
  },
  {
   "cell_type": "code",
   "execution_count": null,
   "id": "3c4c0230",
   "metadata": {},
   "outputs": [],
   "source": [
    "standardized_market_data = []\n",
    "for symbol, df in market_data.items():\n",
    "    if not df.empty:\n",
    "        df = df[[\"Open\", \"High\", \"Low\", \"Close\", \"Volume\"]]\n",
    "        df = df.dropna()\n",
    "        df = df.astype(float)\n",
    "        df[\"Symbol\"] = symbol\n",
    "        standardized_market_data.append(df)\n",
    "market_df = pd.concat(standardized_market_data).reset_index()"
   ]
  },
  {
   "cell_type": "markdown",
   "id": "f3f373f7",
   "metadata": {},
   "source": [
    "This section loops through each stock's daily trading data. We pick out the price and volume columns that matter most, remove any missing data, and make sure all numbers are in a usable format. We add a column so we always know which row belongs to which company. At the end, we stack all the companies' data together in a single, neat table, and include the date as a useful column."
   ]
  },
  {
   "cell_type": "markdown",
   "id": "ecc67a95",
   "metadata": {},
   "source": [
    "We reshape the options data so each company’s calls and puts are formatted the same way and combined in one spot."
   ]
  },
  {
   "cell_type": "code",
   "execution_count": null,
   "id": "f4349822",
   "metadata": {},
   "outputs": [],
   "source": [
    "standardized_options_data = []\n",
    "for symbol, option_chain in options_data.items():\n",
    "    calls = option_chain.calls\n",
    "    puts = option_chain.puts\n",
    "    for opt_type, opt_df in [(\"call\", calls), (\"put\", puts)]:\n",
    "        if not opt_df.empty:\n",
    "            opt_df = opt_df[\n",
    "                [\n",
    "                    \"contractSymbol\",\n",
    "                    \"strike\",\n",
    "                    \"lastPrice\",\n",
    "                    \"bid\",\n",
    "                    \"ask\",\n",
    "                    \"volume\",\n",
    "                    \"openInterest\",\n",
    "                ]\n",
    "            ]\n",
    "            opt_df = opt_df.dropna()\n",
    "            opt_df = opt_df.astype(\n",
    "                {\n",
    "                    \"strike\": float,\n",
    "                    \"lastPrice\": float,\n",
    "                    \"bid\": float,\n",
    "                    \"ask\": float,\n",
    "                    \"volume\": float,\n",
    "                    \"openInterest\": float,\n",
    "                }\n",
    "            )\n",
    "            opt_df[\"Type\"] = opt_type\n",
    "            opt_df[\"Symbol\"] = symbol\n",
    "            standardized_options_data.append(opt_df)\n",
    "options_df = pd.concat(standardized_options_data).reset_index(drop=True)"
   ]
  },
  {
   "cell_type": "markdown",
   "id": "68fe2055",
   "metadata": {},
   "source": [
    "For each company, we work through their option contracts—both calls and puts. We pick out contract IDs, strike prices, recent trading prices, and the amount of interest from buyers. Everything is cleaned up, filled with numbers only, and tagged with the type and company name. We pull all companies' options together into a single big table, keeping things lined up and ready for analysis."
   ]
  },
  {
   "cell_type": "markdown",
   "id": "3e1b550c",
   "metadata": {},
   "source": [
    "We’re setting up the financial statement data so every company is displayed in the same way, making it easy to compare performance."
   ]
  },
  {
   "cell_type": "code",
   "execution_count": null,
   "id": "1ad33d6f",
   "metadata": {},
   "outputs": [],
   "source": [
    "standardized_financials_data = []\n",
    "for symbol, df in financials_data.items():\n",
    "    if not df.empty:\n",
    "        df = df.transpose()\n",
    "        df[\"Symbol\"] = symbol\n",
    "        df = df.dropna(axis=1, how=\"all\")\n",
    "        standardized_financials_data.append(df)\n",
    "financials_df = pd.concat(standardized_financials_data).reset_index()"
   ]
  },
  {
   "cell_type": "markdown",
   "id": "206d10d4",
   "metadata": {},
   "source": [
    "Here, we loop through the companies and gather their income statements and other key financials. We flip the layout to make each year a row, which is easier to pull apart later. We also hide any columns where all companies have missing values, and label every row by company. The final product is a side-by-side view of the most recent financials for each stock on our list."
   ]
  },
  {
   "cell_type": "markdown",
   "id": "06ff98f5",
   "metadata": {},
   "source": [
    "## Clean and finalize data frames"
   ]
  },
  {
   "cell_type": "markdown",
   "id": "8683bfe7",
   "metadata": {},
   "source": [
    "We're making a final check for missing values in our results and removing any incomplete rows for reliable analysis."
   ]
  },
  {
   "cell_type": "code",
   "execution_count": null,
   "id": "a4c416fa",
   "metadata": {},
   "outputs": [],
   "source": [
    "if market_df.isnull().values.any():\n",
    "    market_df = market_df.dropna()\n",
    "if options_df.isnull().values.any():\n",
    "    options_df = options_df.dropna()"
   ]
  },
  {
   "cell_type": "markdown",
   "id": "20e740ac",
   "metadata": {},
   "source": [
    "Before our data is ready for use, we take one last sweep through the key tables and delete any rows with blanks. This makes sure future analysis isn’t thrown off by empty entries. Now, everything is tidy and set for use in models, charts, or whatever next step we want to take."
   ]
  },
  {
   "cell_type": "markdown",
   "id": "d3290113",
   "metadata": {},
   "source": [
    "<a href=\"https://pyquantnews.com/\">PyQuant News</a> is where finance practitioners level up with Python for quant finance, algorithmic trading, and market data analysis. Looking to get started? Check out the fastest growing, top-selling course to <a href=\"https://gettingstartedwithpythonforquantfinance.com/\">get started with Python for quant finance</a>. For educational purposes. Not investment advice. Use at your own risk."
   ]
  }
 ],
 "metadata": {
  "jupytext": {
   "cell_metadata_filter": "-all",
   "main_language": "python",
   "notebook_metadata_filter": "-all"
  },
  "kernelspec": {
   "display_name": "Python 3 (ipykernel)",
   "language": "python",
   "name": "python3"
  },
  "language_info": {
   "codemirror_mode": {
    "name": "ipython",
    "version": 3
   },
   "file_extension": ".py",
   "mimetype": "text/x-python",
   "name": "python",
   "nbconvert_exporter": "python",
   "pygments_lexer": "ipython3",
   "version": "3.10.13"
  }
 },
 "nbformat": 4,
 "nbformat_minor": 5
}
