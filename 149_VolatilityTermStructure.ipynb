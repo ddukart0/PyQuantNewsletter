{
 "cells": [
  {
   "cell_type": "markdown",
   "id": "ce13aec3",
   "metadata": {},
   "source": [
    "<div style=\"background-color:#000;\"><img src=\"pqn.png\"></img></div>"
   ]
  },
  {
   "cell_type": "markdown",
   "id": "2cb060e3",
   "metadata": {},
   "source": [
    "These libraries help us fetch financial data, manipulate it, and create visualizations"
   ]
  },
  {
   "cell_type": "code",
   "execution_count": null,
   "id": "1caa019d",
   "metadata": {},
   "outputs": [],
   "source": [
    "import numpy as np\n",
    "import pandas as pd\n",
    "from pandas.tseries.offsets import WeekOfMonth\n",
    "import yfinance as yf\n",
    "from matplotlib import pyplot as plt"
   ]
  },
  {
   "cell_type": "markdown",
   "id": "db21c2c7",
   "metadata": {},
   "source": [
    "### Fetch option data for our stock"
   ]
  },
  {
   "cell_type": "markdown",
   "id": "0794f098",
   "metadata": {},
   "source": [
    "We'll gather option data for a specific stock ticker and organize it into a dataframe."
   ]
  },
  {
   "cell_type": "code",
   "execution_count": null,
   "id": "98f4d380",
   "metadata": {},
   "outputs": [],
   "source": [
    "ticker = \"SPY\"\n",
    "stock = yf.Ticker(ticker)\n",
    "expirations = stock.options"
   ]
  },
  {
   "cell_type": "code",
   "execution_count": null,
   "id": "fafcfbb1",
   "metadata": {},
   "outputs": [],
   "source": [
    "all_options = []\n",
    "for dt in expirations:\n",
    "    options = stock.option_chain(dt)\n",
    "    calls = options.calls\n",
    "    calls['expirationDate'] = dt\n",
    "    all_options.append(calls)"
   ]
  },
  {
   "cell_type": "code",
   "execution_count": null,
   "id": "73a99b8e",
   "metadata": {},
   "outputs": [],
   "source": [
    "options_df = pd.concat(all_options)\n",
    "options_df['daysToExpiration'] = (pd.to_datetime(options_df['expirationDate']) - pd.Timestamp.now()).dt.days"
   ]
  },
  {
   "cell_type": "markdown",
   "id": "b877c9b2",
   "metadata": {},
   "source": [
    "We start by defining our stock ticker as \"SPY\" and use yfinance to fetch its data. We then loop through all available expiration dates, collecting call option data for each. We combine this data into a single dataframe and calculate the days to expiration for each option."
   ]
  },
  {
   "cell_type": "markdown",
   "id": "835e069a",
   "metadata": {},
   "source": [
    "### Filter and clean our option data"
   ]
  },
  {
   "cell_type": "markdown",
   "id": "02c32b33",
   "metadata": {},
   "source": [
    "Now we'll filter our options to a specific strike price and clean up the data."
   ]
  },
  {
   "cell_type": "code",
   "execution_count": null,
   "id": "03d85acf",
   "metadata": {
    "lines_to_next_cell": 1
   },
   "outputs": [],
   "source": [
    "strike = 590\n",
    "filtered_options = options_df[options_df['strike'] == strike]"
   ]
  },
  {
   "cell_type": "code",
   "execution_count": null,
   "id": "d303caa8",
   "metadata": {
    "lines_to_next_cell": 1
   },
   "outputs": [],
   "source": [
    "def clean(df):\n",
    "    cols = [\"daysToExpiration\", \"impliedVolatility\"]\n",
    "    return (\n",
    "        df[cols]\n",
    "        .dropna(subset=[\"impliedVolatility\"])\n",
    "        .drop_duplicates(\"daysToExpiration\")\n",
    "        .sort_values(\"daysToExpiration\")\n",
    "        .set_index(\"daysToExpiration\")\n",
    "    )"
   ]
  },
  {
   "cell_type": "code",
   "execution_count": null,
   "id": "2c68a7af",
   "metadata": {
    "lines_to_next_cell": 1
   },
   "outputs": [],
   "source": [
    "def build_iv_grid(df):\n",
    "    df_iv = clean(df)\n",
    "    df_iv = df_iv.where(df_iv >= 0.01, np.nan)\n",
    "    df_iv = df_iv[df_iv.index > 30]\n",
    "    expiry_grid = np.arange(df_iv.index.min(), df_iv.index.max() + 1, 1.0)\n",
    "    return (\n",
    "        df_iv.reindex(expiry_grid)\n",
    "        .interpolate(method=\"linear\")\n",
    "        .rename_axis(\"daysToExpiration\")\n",
    "    ).dropna()"
   ]
  },
  {
   "cell_type": "code",
   "execution_count": null,
   "id": "38f8c1d7",
   "metadata": {},
   "outputs": [],
   "source": [
    "call_structure = build_iv_grid(options_df)"
   ]
  },
  {
   "cell_type": "markdown",
   "id": "3e873efe",
   "metadata": {},
   "source": [
    "We filter our options to focus on a specific strike price. The clean function keeps only the days to expiration and implied volatility columns, removing any duplicates or missing data. The build_iv_grid function further processes this data, creating a grid of implied volatilities across different expiration dates."
   ]
  },
  {
   "cell_type": "markdown",
   "id": "78565871",
   "metadata": {},
   "source": [
    "### Visualize the implied volatility term structure"
   ]
  },
  {
   "cell_type": "markdown",
   "id": "82bb0cb1",
   "metadata": {},
   "source": [
    "Finally, we'll create a plot to visualize the implied volatility term structure."
   ]
  },
  {
   "cell_type": "code",
   "execution_count": null,
   "id": "3c422ebd",
   "metadata": {},
   "outputs": [],
   "source": [
    "plt.plot(call_structure.index, call_structure.impliedVolatility)\n",
    "plt.xlabel('Days to Expiration')\n",
    "plt.ylabel('Implied Volatility')\n",
    "plt.title(f'Implied Volatility Term Structure for {ticker} (Strike: {strike})')\n",
    "plt.grid(True)\n",
    "plt.show()"
   ]
  },
  {
   "cell_type": "markdown",
   "id": "6d5587d3",
   "metadata": {},
   "source": [
    "We use matplotlib to create a line plot of our implied volatility data. The x-axis shows the days to expiration, while the y-axis shows the implied volatility. We add labels to our axes and a title that includes our stock ticker and strike price. The grid helps make the chart easier to read."
   ]
  },
  {
   "cell_type": "markdown",
   "id": "8613b191",
   "metadata": {},
   "source": [
    "<a href=\"https://pyquantnews.com/\">PyQuant News</a> is where finance practitioners level up with Python for quant finance, algorithmic trading, and market data analysis. Looking to get started? Check out the fastest growing, top-selling course to <a href=\"https://gettingstartedwithpythonforquantfinance.com/\">get started with Python for quant finance</a>. For educational purposes. Not investment advise. Use at your own risk."
   ]
  }
 ],
 "metadata": {
  "jupytext": {
   "cell_metadata_filter": "-all",
   "main_language": "python",
   "notebook_metadata_filter": "-all"
  }
 },
 "nbformat": 4,
 "nbformat_minor": 5
}
