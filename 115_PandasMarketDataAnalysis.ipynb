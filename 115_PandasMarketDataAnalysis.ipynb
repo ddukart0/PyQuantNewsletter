{
 "cells": [
  {
   "cell_type": "markdown",
   "id": "1de13e7d",
   "metadata": {},
   "source": [
    "<div style=\"background-color:#000;\"><img src=\"pqn.png\"></img></div>"
   ]
  },
  {
   "cell_type": "markdown",
   "id": "85b06070",
   "metadata": {},
   "source": [
    "## Load historical stock data for a given ticker symbol"
   ]
  },
  {
   "cell_type": "code",
   "execution_count": null,
   "id": "4b2a14f0",
   "metadata": {},
   "outputs": [],
   "source": [
    "We start by loading historical stock data for NVIDIA (ticker symbol \"NVDA\") from Yahoo Finance. This helps us get the historical prices of the stock to perform further analysis."
   ]
  },
  {
   "cell_type": "code",
   "execution_count": null,
   "id": "286266d9",
   "metadata": {},
   "outputs": [],
   "source": [
    "import math\n",
    "import pandas as pd\n",
    "import yfinance as yf"
   ]
  },
  {
   "cell_type": "code",
   "execution_count": null,
   "id": "6858d527",
   "metadata": {},
   "outputs": [],
   "source": [
    "data = yf.download(\"NVDA\", start=\"2023-01-01\")"
   ]
  },
  {
   "cell_type": "markdown",
   "id": "fa664dcd",
   "metadata": {},
   "source": [
    "This code uses the `yfinance` library to download stock data for NVIDIA starting from January 1, 2023. The data is stored in a pandas DataFrame named `data`. This DataFrame contains various columns such as 'Open', 'High', 'Low', 'Close', 'Volume', and 'Adj Close', which represent different aspects of the stock's daily performance."
   ]
  },
  {
   "cell_type": "markdown",
   "id": "ea35ec2d",
   "metadata": {},
   "source": [
    "## Display the first few rows of the data"
   ]
  },
  {
   "cell_type": "code",
   "execution_count": null,
   "id": "2664819e",
   "metadata": {},
   "outputs": [],
   "source": [
    "Next, we display the first few rows of the data to understand its structure and the kind of information it holds."
   ]
  },
  {
   "cell_type": "code",
   "execution_count": null,
   "id": "d6b459fa",
   "metadata": {},
   "outputs": [],
   "source": [
    "data.head()"
   ]
  },
  {
   "cell_type": "markdown",
   "id": "ebeb8b38",
   "metadata": {},
   "source": [
    "The `head()` function in pandas displays the first five rows of the DataFrame by default. This allows us to quickly inspect the data and verify that it has been loaded correctly. We can see the dates as the index and the columns representing different metrics such as opening price, closing price, highest price, lowest price, and volume for each trading day."
   ]
  },
  {
   "cell_type": "markdown",
   "id": "4d8228e5",
   "metadata": {},
   "source": [
    "## Calculate moving averages and other indicators"
   ]
  },
  {
   "cell_type": "code",
   "execution_count": null,
   "id": "45321ad4",
   "metadata": {},
   "outputs": [],
   "source": [
    "Now, we calculate the 20-day and 50-day simple moving averages (SMA) of the stock's closing price. We also calculate the historical volatility and the percentile rank of the closing prices."
   ]
  },
  {
   "cell_type": "code",
   "execution_count": null,
   "id": "ed4d183a",
   "metadata": {},
   "outputs": [],
   "source": [
    "data['SMA20'] = data['Close'].rolling(window=20).mean()"
   ]
  },
  {
   "cell_type": "code",
   "execution_count": null,
   "id": "48c82c04",
   "metadata": {},
   "outputs": [],
   "source": [
    "data['SMA50'] = data['Close'].rolling(window=50).mean()"
   ]
  },
  {
   "cell_type": "code",
   "execution_count": null,
   "id": "d8537299",
   "metadata": {},
   "outputs": [],
   "source": [
    "data['vol'] = data['Close'].rolling(window=21).std() * math.sqrt(252)"
   ]
  },
  {
   "cell_type": "code",
   "execution_count": null,
   "id": "73483402",
   "metadata": {},
   "outputs": [],
   "source": [
    "data['pct_rank'] = data['Close'].rolling(window=21).rank(pct=True)"
   ]
  },
  {
   "cell_type": "markdown",
   "id": "6d4891ad",
   "metadata": {},
   "source": [
    "We calculate the 20-day and 50-day simple moving averages by using the `rolling` method with a specified window and then applying the `mean` function. These moving averages help identify trends in the stock price. We compute historical volatility by taking the standard deviation of the closing prices over a 21-day window and then annualizing it using the square root of 252 (number of trading days in a year). Finally, the percentile rank of the closing prices over a 21-day window is calculated using the `rank` method with the `pct` parameter set to True, giving us a value between 0 and 1."
   ]
  },
  {
   "cell_type": "markdown",
   "id": "04f8dcba",
   "metadata": {},
   "source": [
    "## Plot the stock's closing price and moving averages"
   ]
  },
  {
   "cell_type": "code",
   "execution_count": null,
   "id": "7f447636",
   "metadata": {},
   "outputs": [],
   "source": [
    "Next, we plot the stock's closing price along with the 20-day and 50-day simple moving averages to visualize trends and patterns."
   ]
  },
  {
   "cell_type": "code",
   "execution_count": null,
   "id": "1b5a28a6",
   "metadata": {},
   "outputs": [],
   "source": [
    "to_plot = [\"Close\", \"SMA20\", \"SMA50\"]"
   ]
  },
  {
   "cell_type": "code",
   "execution_count": null,
   "id": "8e397701",
   "metadata": {},
   "outputs": [],
   "source": [
    "data[to_plot].plot()"
   ]
  },
  {
   "cell_type": "markdown",
   "id": "5e175590",
   "metadata": {},
   "source": [
    "We store the columns to be plotted (closing price, 20-day SMA, and 50-day SMA) in a list named `to_plot`. Using pandas' `plot` method, we create a line plot for these columns. This visual representation helps us see how the stock's price moves relative to its short-term and long-term trends defined by the moving averages."
   ]
  },
  {
   "cell_type": "markdown",
   "id": "534be659",
   "metadata": {},
   "source": [
    "## Plot historical volatility"
   ]
  },
  {
   "cell_type": "code",
   "execution_count": null,
   "id": "42da55a4",
   "metadata": {},
   "outputs": [],
   "source": [
    "We then plot the historical volatility of the stock to understand its risk and price fluctuations over time."
   ]
  },
  {
   "cell_type": "code",
   "execution_count": null,
   "id": "11f60504",
   "metadata": {},
   "outputs": [],
   "source": [
    "data[[\"Close\", \"vol\"]].plot()"
   ]
  },
  {
   "cell_type": "markdown",
   "id": "ebaca4e2",
   "metadata": {},
   "source": [
    "This code creates a line plot showing both the closing price and the computed historical volatility. By plotting these together, we can see how the stock's volatility changes over time and how it correlates with the price movements. Higher volatility indicates higher risk and larger price swings, while lower volatility suggests more stable price behavior."
   ]
  },
  {
   "cell_type": "markdown",
   "id": "70f3dd1c",
   "metadata": {},
   "source": [
    "## Plot the percentile rank over time"
   ]
  },
  {
   "cell_type": "code",
   "execution_count": null,
   "id": "f6c34fb8",
   "metadata": {},
   "outputs": [],
   "source": [
    "Finally, we plot the percentile rank of the closing prices to see how the current price compares to its historical range."
   ]
  },
  {
   "cell_type": "code",
   "execution_count": null,
   "id": "8d9891d7",
   "metadata": {},
   "outputs": [],
   "source": [
    "data['pct_rank'].plot()"
   ]
  },
  {
   "cell_type": "markdown",
   "id": "3a935d44",
   "metadata": {},
   "source": [
    "We use the `plot` method to visualize the percentile rank of the closing prices. This plot shows how the current price ranks within a specified window of past prices. A high percentile rank indicates that the current price is relatively high compared to its historical range, while a low percentile rank suggests that it is relatively low. This can help identify overbought or oversold conditions in the stock."
   ]
  },
  {
   "cell_type": "markdown",
   "id": "adf2b678",
   "metadata": {},
   "source": [
    "## Your next steps"
   ]
  },
  {
   "cell_type": "code",
   "execution_count": null,
   "id": "2cb6c6ba",
   "metadata": {},
   "outputs": [],
   "source": [
    "To deepen your understanding, try changing the stock ticker symbol to analyze a different company's data. You can also experiment with different time windows for the moving averages and volatility calculations to see how these changes affect the results."
   ]
  },
  {
   "cell_type": "markdown",
   "id": "8ff41b94",
   "metadata": {},
   "source": [
    "<a href=\"https://pyquantnews.com/\">PyQuant News</a> is where finance practitioners level up with Python for quant finance, algorithmic trading, and market data analysis. Looking to get started? Check out the fastest growing, top-selling course to <a href=\"https://gettingstartedwithpythonforquantfinance.com/\">get started with Python for quant finance</a>. For educational purposes. Not investment advise. Use at your own risk."
   ]
  }
 ],
 "metadata": {
  "jupytext": {
   "cell_metadata_filter": "-all",
   "main_language": "python",
   "notebook_metadata_filter": "-all"
  }
 },
 "nbformat": 4,
 "nbformat_minor": 5
}
