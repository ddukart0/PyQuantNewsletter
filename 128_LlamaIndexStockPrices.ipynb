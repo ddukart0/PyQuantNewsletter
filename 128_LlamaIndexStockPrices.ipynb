{
 "cells": [
  {
   "cell_type": "markdown",
   "id": "9566c413",
   "metadata": {
    "lines_to_next_cell": 2
   },
   "source": [
    "<div style=\"background-color:#000;\"><img src=\"pqn.png\"></img></div>"
   ]
  },
  {
   "cell_type": "markdown",
   "id": "44c100bf",
   "metadata": {},
   "source": [
    "## Initialize the environment and load necessary tools"
   ]
  },
  {
   "cell_type": "markdown",
   "id": "54b7e56d-a3d2-4483-8add-655ed19ee8eb",
   "metadata": {},
   "source": [
    "We start by loading the essential libraries and tools to set up our environment. This includes loading environment variables, which can store sensitive information like API keys, and initializing the code interpreter tool that will help us interact with our language model."
   ]
  },
  {
   "cell_type": "code",
   "execution_count": null,
   "id": "a2a8020e",
   "metadata": {},
   "outputs": [],
   "source": [
    "from llama_index.llms.anthropic import Anthropic\n",
    "from llama_index.core import Settings\n",
    "from llama_index.tools.code_interpreter.base import CodeInterpreterToolSpec\n",
    "from llama_index.core.agent import FunctionCallingAgent\n",
    "from dotenv import load_dotenv\n",
    "load_dotenv()"
   ]
  },
  {
   "cell_type": "code",
   "execution_count": null,
   "id": "84ebcce4",
   "metadata": {},
   "outputs": [],
   "source": [
    "code_spec = CodeInterpreterToolSpec()\n",
    "tools = code_spec.to_tool_list()"
   ]
  },
  {
   "cell_type": "markdown",
   "id": "84aaae99-e655-4afd-81e7-2c34f11c88b9",
   "metadata": {},
   "source": [
    "This code block imports necessary libraries, including Anthropic for language models and dotenv for loading environment variables. The environment variables are loaded to access configuration settings securely. We initialize a `CodeInterpreterToolSpec` to translate its specifications into a list of tools, which are then stored in the variable `tools`. This setup prepares us to use advanced functionalities like language models and tool specifications."
   ]
  },
  {
   "cell_type": "markdown",
   "id": "874e721e",
   "metadata": {},
   "source": [
    "## Configure language model and settings"
   ]
  },
  {
   "cell_type": "markdown",
   "id": "5e0418e3-56a9-41a2-8bf9-9d8f52a3db19",
   "metadata": {},
   "source": [
    "Next, we configure the language model and set it up to work with tokenization and settings. This helps in processing natural language inputs and outputs effectively."
   ]
  },
  {
   "cell_type": "code",
   "execution_count": null,
   "id": "f1b1e3f8",
   "metadata": {},
   "outputs": [],
   "source": [
    "tokenizer = Anthropic().tokenizer\n",
    "Settings.tokenizer = tokenizer\n",
    "llm_claude = Anthropic(model=\"claude-3-5-sonnet-20241022\")"
   ]
  },
  {
   "cell_type": "markdown",
   "id": "4391f557-3273-45b1-a523-85ed495e88c6",
   "metadata": {},
   "source": [
    "The code initializes the tokenizer from an Anthropic language model instance. Tokenizers break down text into a format that models can understand. We update the global settings to use this tokenizer, ensuring consistency in text processing. We then create an instance of the language model `claude-3-5-sonnet-20241022`, which will be used for generating and interpreting natural language responses."
   ]
  },
  {
   "cell_type": "markdown",
   "id": "d7a6bf71",
   "metadata": {},
   "source": [
    "## Set up an agent to interact with the model"
   ]
  },
  {
   "cell_type": "markdown",
   "id": "ec0f43a3-5bbe-45c6-928f-843e80d13251",
   "metadata": {},
   "source": [
    "Here, we create an agent that will facilitate communication between our tools and the language model. This setup is crucial for executing tasks that require understanding and generating text."
   ]
  },
  {
   "cell_type": "code",
   "execution_count": null,
   "id": "c37f785b",
   "metadata": {},
   "outputs": [],
   "source": [
    "agent = FunctionCallingAgent.from_tools(\n",
    "    tools,\n",
    "    llm=llm_claude,\n",
    "    verbose=True,\n",
    "    allow_parallel_tool_calls=False,\n",
    ")"
   ]
  },
  {
   "cell_type": "markdown",
   "id": "1968310d-17e1-451f-96e0-cf62bd302a2a",
   "metadata": {},
   "source": [
    "The `FunctionCallingAgent` is constructed using the tools defined earlier and the initialized language model. We pass `verbose=True` to enable detailed logging of the agent's operations, which helps in debugging and understanding its actions. By setting `allow_parallel_tool_calls=False`, we ensure that the tools are called sequentially, which can prevent conflicts and ensure reliable execution. This agent will handle the interaction between our code and the language model."
   ]
  },
  {
   "cell_type": "markdown",
   "id": "03c4e967",
   "metadata": {},
   "source": [
    "## Write a prompt to analyze stock data"
   ]
  },
  {
   "cell_type": "markdown",
   "id": "810ca0e1-54c9-4b44-9e19-a09e4b2cf92a",
   "metadata": {},
   "source": [
    "Finally, we draft a prompt that instructs the language model to generate Python code. This code will fetch and analyze stock data for a specified company over the past year."
   ]
  },
  {
   "cell_type": "code",
   "execution_count": null,
   "id": "a4744935",
   "metadata": {},
   "outputs": [],
   "source": [
    "ticker = \"PLTR\"\n",
    "\n",
    "prompt = f\"\"\"\n",
    "Write Python code to:\n",
    "- Detect which date is today\n",
    "- Based on this date, fetch historical prices of {ticker} from the beginning of the month until today.\n",
    "- Analyze the last month prices\n",
    "\"\"\"\n",
    "\n",
    "resp = agent.chat(prompt)"
   ]
  },
  {
   "cell_type": "markdown",
   "id": "9cad423e-fade-49bb-bbe4-a910622e7ce1",
   "metadata": {},
   "source": [
    "We define a `ticker` symbol representing the stock we want to analyze; here, it is \"PLTR\" for Palantir Technologies. The prompt is a formatted string that instructs the language model to produce Python code. This code should determine the current date, retrieve historical stock prices for the past year, and analyze the stock's performance. We send this prompt to the agent using the `chat` method, which processes the request and generates the desired code."
   ]
  },
  {
   "cell_type": "markdown",
   "id": "cd2c4e65",
   "metadata": {},
   "source": [
    "## Your next steps"
   ]
  },
  {
   "cell_type": "markdown",
   "id": "622cd45c-4ad4-4556-8245-4a01aec93a1d",
   "metadata": {},
   "source": [
    "Now that you have set up the environment and initiated a query to generate Python code, try adjusting the `ticker` symbol to analyze different stocks. Experiment with changing the date range to explore different time periods. This will help you understand how the code adapts to different inputs and deepens your understanding of stock data analysis."
   ]
  },
  {
   "cell_type": "markdown",
   "id": "b0054802",
   "metadata": {},
   "source": [
    "<a href=\"https://pyquantnews.com/\">PyQuant News</a> is where finance practitioners level up with Python for quant finance, algorithmic trading, and market data analysis. Looking to get started? Check out the fastest growing, top-selling course to <a href=\"https://gettingstartedwithpythonforquantfinance.com/\">get started with Python for quant finance</a>. For educational purposes. Not investment advise. Use at your own risk."
   ]
  }
 ],
 "metadata": {
  "jupytext": {
   "cell_metadata_filter": "-all",
   "main_language": "python",
   "notebook_metadata_filter": "-all"
  },
  "kernelspec": {
   "display_name": "Python 3 (ipykernel)",
   "language": "python",
   "name": "python3"
  },
  "language_info": {
   "codemirror_mode": {
    "name": "ipython",
    "version": 3
   },
   "file_extension": ".py",
   "mimetype": "text/x-python",
   "name": "python",
   "nbconvert_exporter": "python",
   "pygments_lexer": "ipython3",
   "version": "3.10.13"
  }
 },
 "nbformat": 4,
 "nbformat_minor": 5
}
