{
 "cells": [
  {
   "cell_type": "markdown",
   "id": "69b28c6e",
   "metadata": {},
   "source": [
    "<div style=\"background-color:#000;\"><img src=\"pqn.png\"></img></div>"
   ]
  },
  {
   "cell_type": "markdown",
   "id": "eda4619d",
   "metadata": {},
   "source": [
    "## Imports and setup"
   ]
  },
  {
   "cell_type": "markdown",
   "id": "a2303048",
   "metadata": {},
   "source": [
    "We use these libraries to grab stock data from the web and handle math calculations. This gives us fast access to reliable information and powerful number-crunching tools."
   ]
  },
  {
   "cell_type": "code",
   "execution_count": null,
   "id": "62fa3257",
   "metadata": {},
   "outputs": [],
   "source": [
    "import numpy as np\n",
    "import yfinance as yf"
   ]
  },
  {
   "cell_type": "markdown",
   "id": "ba2351b0",
   "metadata": {},
   "source": [
    "Here, we're setting up all the key variables for our analysis. We define what stock ticker to use, what type of option to price, and set all the basic financial stats."
   ]
  },
  {
   "cell_type": "code",
   "execution_count": null,
   "id": "9ada4519",
   "metadata": {},
   "outputs": [],
   "source": [
    "symbol = \"PLTR\"\n",
    "option_type = \"call\"\n",
    "risk_free_rate = 0.0425\n",
    "time_to_expiry = 81 / 365\n",
    "strike_price = 140"
   ]
  },
  {
   "cell_type": "markdown",
   "id": "fdefeec8",
   "metadata": {},
   "source": [
    "We'll use this setup every time we want to price an option. These values set the framework for all calculations that follow—we can easily swap in new values as needed."
   ]
  },
  {
   "cell_type": "markdown",
   "id": "92e1d518",
   "metadata": {},
   "source": [
    "## Pull and prepare market data"
   ]
  },
  {
   "cell_type": "markdown",
   "id": "67ab4597",
   "metadata": {},
   "source": [
    "We're reaching out to the web to grab recent stock prices. This lets us see where the stock has been trading over the past 60 days and gives us the current price to use in our model."
   ]
  },
  {
   "cell_type": "code",
   "execution_count": null,
   "id": "f7d785e0",
   "metadata": {},
   "outputs": [],
   "source": [
    "data = yf.download(symbol, period=\"60d\", interval=\"1d\", progress=False)\n",
    "close_prices = data[\"Close\"]\n",
    "spot_price = close_prices.iat[-1, 0]\n",
    "returns = np.log(close_prices.PLTR / close_prices.PLTR.shift(1)).dropna()\n",
    "volatility = np.std(returns) * np.sqrt(252)"
   ]
  },
  {
   "cell_type": "markdown",
   "id": "7ae7e5fc",
   "metadata": {},
   "source": [
    "We grab the full set of historical closing prices, then pull the very latest price for our calculations. The returns are the day-to-day changes in price, and measuring how much those fluctuate tells us how volatile the stock has been. We adjust that measure to reflect a one-year timeframe, which aligns with standard practice for option pricing."
   ]
  },
  {
   "cell_type": "markdown",
   "id": "938d2b6f",
   "metadata": {},
   "source": [
    "## Calculate Black-Scholes parameters"
   ]
  },
  {
   "cell_type": "markdown",
   "id": "cca9be02",
   "metadata": {},
   "source": [
    "Here we're calculating important numbers used in the Black-Scholes option pricing model. These values help us figure out the expected risk and potential payout of the option."
   ]
  },
  {
   "cell_type": "code",
   "execution_count": null,
   "id": "28c3971a",
   "metadata": {},
   "outputs": [],
   "source": [
    "d1 = (np.log(spot_price / strike_price) + (risk_free_rate + 0.5 * volatility ** 2) * time_to_expiry) / (volatility * np.sqrt(time_to_expiry))\n",
    "d2 = d1 - volatility * np.sqrt(time_to_expiry)"
   ]
  },
  {
   "cell_type": "markdown",
   "id": "89d35a90",
   "metadata": {},
   "source": [
    "By running these calculations, we set up the groundwork for fair pricing. We factor in how far the current stock price is from the strike, how interest rates nudge values, and how much the price bounces around. The outputs serve as building blocks for the final option price and sensitivity."
   ]
  },
  {
   "cell_type": "markdown",
   "id": "8bcf54ce",
   "metadata": {},
   "source": [
    "## Compute option price and Greeks"
   ]
  },
  {
   "cell_type": "markdown",
   "id": "b7ffb67c",
   "metadata": {},
   "source": [
    "Now we calculate the fair price of the option, plus sensitivity measures that tell us how that price moves with the market. This gives us the full picture on both expected cost and risk."
   ]
  },
  {
   "cell_type": "code",
   "execution_count": null,
   "id": "cd7deaae",
   "metadata": {},
   "outputs": [],
   "source": [
    "if option_type == \"call\":\n",
    "    option_price = spot_price * np.exp(-0) * 0.5 * (1 + np.math.erf(d1 / np.sqrt(2))) - strike_price * np.exp(-risk_free_rate * time_to_expiry) * 0.5 * (1 + np.math.erf(d2 / np.sqrt(2)))\n",
    "    delta = 0.5 * (1 + np.math.erf(d1 / np.sqrt(2)))\n",
    "else:\n",
    "    option_price = strike_price * np.exp(-risk_free_rate * time_to_expiry) * 0.5 * (1 - np.math.erf(d2 / np.sqrt(2))) - spot_price * np.exp(-0) * 0.5 * (1 - np.math.erf(d1 / np.sqrt(2)))\n",
    "    delta = -0.5 * (1 - np.math.erf(d1 / np.sqrt(2)))"
   ]
  },
  {
   "cell_type": "code",
   "execution_count": null,
   "id": "7f56723d",
   "metadata": {},
   "outputs": [],
   "source": [
    "gamma = np.exp(-d1 ** 2 / 2) / (spot_price * volatility * np.sqrt(2 * np.pi * time_to_expiry))"
   ]
  },
  {
   "cell_type": "markdown",
   "id": "9ab95d0a",
   "metadata": {},
   "source": [
    "We decide if we're pricing a call or put, and then follow the path for the right formula. We get the expected option price, and also calculate how much the price could wiggle as the stock moves (Delta and Gamma). This gives us everything we need to judge whether an option is fairly priced or too risky to buy."
   ]
  },
  {
   "cell_type": "code",
   "execution_count": null,
   "id": "745b40b8",
   "metadata": {},
   "outputs": [],
   "source": [
    "option_price, delta, gamma"
   ]
  },
  {
   "cell_type": "markdown",
   "id": "884146f5",
   "metadata": {},
   "source": [
    "We finish by lining up our final answers: What would we pay for the option, and how would the price respond if the market moves? These results make it easy to weigh potential trades with real numbers in hand."
   ]
  },
  {
   "cell_type": "markdown",
   "id": "6add592d",
   "metadata": {},
   "source": [
    "<a href=\"https://pyquantnews.com/\">PyQuant News</a> is where finance practitioners level up with Python for quant finance, algorithmic trading, and market data analysis. Looking to get started? Check out the fastest growing, top-selling course to <a href=\"https://gettingstartedwithpythonforquantfinance.com/\">get started with Python for quant finance</a>. For educational purposes. Not investment advice. Use at your own risk."
   ]
  }
 ],
 "metadata": {
  "jupytext": {
   "cell_metadata_filter": "-all",
   "main_language": "python",
   "notebook_metadata_filter": "-all"
  },
  "kernelspec": {
   "display_name": "Python 3 (ipykernel)",
   "language": "python",
   "name": "python3"
  },
  "language_info": {
   "codemirror_mode": {
    "name": "ipython",
    "version": 3
   },
   "file_extension": ".py",
   "mimetype": "text/x-python",
   "name": "python",
   "nbconvert_exporter": "python",
   "pygments_lexer": "ipython3",
   "version": "3.10.13"
  }
 },
 "nbformat": 4,
 "nbformat_minor": 5
}
