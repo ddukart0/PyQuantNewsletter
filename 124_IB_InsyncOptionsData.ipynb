{
 "cells": [
  {
   "cell_type": "markdown",
   "id": "e6c17382",
   "metadata": {},
   "source": [
    "<div style=\"background-color:#000;\"><img src=\"pqn.png\"></img></div>"
   ]
  },
  {
   "cell_type": "markdown",
   "id": "9fe58a53",
   "metadata": {},
   "source": [
    "### Connect to the Interactive Brokers API"
   ]
  },
  {
   "cell_type": "markdown",
   "id": "9d24eaec",
   "metadata": {},
   "source": [
    "We start by connecting to the Interactive Brokers API, which allows us to retrieve financial data for various instruments. This is done using the `ib_insync` library, which provides an easy-to-use interface for interacting with Interactive Brokers. We establish a connection by specifying the host, port, and client ID."
   ]
  },
  {
   "cell_type": "code",
   "execution_count": 1,
   "id": "f1c34795",
   "metadata": {},
   "outputs": [],
   "source": [
    "from ib_insync import *\n",
    "util.startLoop()\n"
   ]
  },
  {
   "cell_type": "code",
   "execution_count": 2,
   "id": "25f11d6b",
   "metadata": {},
   "outputs": [
    {
     "data": {
      "text/plain": [
       "<IB connected to 127.0.0.1:7497 clientId=12>"
      ]
     },
     "execution_count": 2,
     "metadata": {},
     "output_type": "execute_result"
    },
    {
     "name": "stderr",
     "output_type": "stream",
     "text": [
      "Value (Trade(contract=Forex('EURUSD', exchange='IDEALPRO'), order=MarketOrder(orderId=3, clientId=12, permId=1266375962, action='BUY', totalQuantity=10.0, lmtPrice=0.0, auxPrice=0.0), orderStatus=OrderStatus(orderId=3, status='PreSubmitted', filled=0.0, remaining=10.0, avgFillPrice=0.0, permId=1266375962, parentId=0, lastFillPrice=0.0, clientId=12, whyHeld='', mktCapPrice=0.0), fills=[], log=[TradeLogEntry(time=datetime.datetime(2024, 12, 12, 23, 14, 47, 822160, tzinfo=datetime.timezone.utc), status='PendingSubmit', message='', errorCode=0), TradeLogEntry(time=datetime.datetime(2024, 12, 12, 23, 14, 47, 987081, tzinfo=datetime.timezone.utc), status='PreSubmitted', message='', errorCode=0)], advancedError=''),) caused exception for event Event<orderStatusEvent, [[None, None, <function onOrderStatus at 0x1128d0040>]]>\n",
      "Traceback (most recent call last):\n",
      "  File \"/Users/jason/anaconda3/envs/newsletter/lib/python3.10/site-packages/eventkit/event.py\", line 202, in emit\n",
      "    result = func(*args)\n",
      "  File \"/var/folders/5j/6vs4zprx4fqcwl49nsw0hzqc0000gn/T/ipykernel_98948/2752545404.py\", line 7, in onOrderStatus\n",
      "    print(f\"Order ID: {trade.order.orderId}, Perm ID: {trade.orderState.permId}, Status: {trade.orderState.status}\")\n",
      "AttributeError: 'Trade' object has no attribute 'orderState'. Did you mean: 'orderStatus'?\n",
      "Value (Trade(contract=Forex('EURUSD', exchange='IDEALPRO'), order=MarketOrder(orderId=3, clientId=12, permId=1266375962, action='BUY', totalQuantity=10.0, lmtPrice=0.0, auxPrice=0.0), orderStatus=OrderStatus(orderId=3, status='Filled', filled=10.0, remaining=0.0, avgFillPrice=1.04705, permId=1266375962, parentId=0, lastFillPrice=1.04705, clientId=12, whyHeld='', mktCapPrice=0.0), fills=[Fill(contract=Forex('EURUSD', conId=12087792, exchange='IDEALPRO', localSymbol='EUR.USD', tradingClass='EUR.USD'), execution=Execution(execId='0000e215.675b6017.01.01', time=datetime.datetime(2024, 12, 12, 23, 14, 48, tzinfo=datetime.timezone.utc), acctNumber='DU7129120', exchange='IDEALPRO', side='BOT', shares=10.0, price=1.04705, permId=1266375962, clientId=12, orderId=3, liquidation=0, cumQty=10.0, avgPrice=1.04705, orderRef='', evRule='', evMultiplier=0.0, modelCode='', lastLiquidity=2), commissionReport=CommissionReport(execId='', commission=0.0, currency='', realizedPNL=0.0, yield_=0.0, yieldRedemptionDate=0), time=datetime.datetime(2024, 12, 12, 23, 14, 48, 18217, tzinfo=datetime.timezone.utc))], log=[TradeLogEntry(time=datetime.datetime(2024, 12, 12, 23, 14, 47, 822160, tzinfo=datetime.timezone.utc), status='PendingSubmit', message='', errorCode=0), TradeLogEntry(time=datetime.datetime(2024, 12, 12, 23, 14, 47, 987081, tzinfo=datetime.timezone.utc), status='PreSubmitted', message='', errorCode=0), TradeLogEntry(time=datetime.datetime(2024, 12, 12, 23, 14, 48, 18217, tzinfo=datetime.timezone.utc), status='PreSubmitted', message='Fill 10.0@1.04705', errorCode=0), TradeLogEntry(time=datetime.datetime(2024, 12, 12, 23, 14, 48, 21047, tzinfo=datetime.timezone.utc), status='Filled', message='', errorCode=0)], advancedError=''),) caused exception for event Event<orderStatusEvent, [[None, None, <function onOrderStatus at 0x1128d0040>]]>\n",
      "Traceback (most recent call last):\n",
      "  File \"/Users/jason/anaconda3/envs/newsletter/lib/python3.10/site-packages/eventkit/event.py\", line 202, in emit\n",
      "    result = func(*args)\n",
      "  File \"/var/folders/5j/6vs4zprx4fqcwl49nsw0hzqc0000gn/T/ipykernel_98948/2752545404.py\", line 7, in onOrderStatus\n",
      "    print(f\"Order ID: {trade.order.orderId}, Perm ID: {trade.orderState.permId}, Status: {trade.orderState.status}\")\n",
      "AttributeError: 'Trade' object has no attribute 'orderState'. Did you mean: 'orderStatus'?\n",
      "Value (Trade(contract=Forex('EURUSD', exchange='IDEALPRO'), order=MarketOrder(orderId=4, clientId=12, permId=1266375963, action='BUY', totalQuantity=10.0, lmtPrice=0.0, auxPrice=0.0), orderStatus=OrderStatus(orderId=4, status='PreSubmitted', filled=0.0, remaining=10.0, avgFillPrice=0.0, permId=1266375963, parentId=0, lastFillPrice=0.0, clientId=12, whyHeld='', mktCapPrice=0.0), fills=[], log=[TradeLogEntry(time=datetime.datetime(2024, 12, 12, 23, 15, 8, 556200, tzinfo=datetime.timezone.utc), status='PendingSubmit', message='', errorCode=0), TradeLogEntry(time=datetime.datetime(2024, 12, 12, 23, 15, 8, 712623, tzinfo=datetime.timezone.utc), status='PreSubmitted', message='', errorCode=0)], advancedError=''),) caused exception for event Event<orderStatusEvent, [[None, None, <function onOrderStatus at 0x1128d0040>], [None, None, <function onOrderStatus at 0x1128d0280>]]>\n",
      "Traceback (most recent call last):\n",
      "  File \"/Users/jason/anaconda3/envs/newsletter/lib/python3.10/site-packages/eventkit/event.py\", line 202, in emit\n",
      "    result = func(*args)\n",
      "  File \"/var/folders/5j/6vs4zprx4fqcwl49nsw0hzqc0000gn/T/ipykernel_98948/2752545404.py\", line 7, in onOrderStatus\n",
      "    print(f\"Order ID: {trade.order.orderId}, Perm ID: {trade.orderState.permId}, Status: {trade.orderState.status}\")\n",
      "AttributeError: 'Trade' object has no attribute 'orderState'. Did you mean: 'orderStatus'?\n",
      "Value (Trade(contract=Forex('EURUSD', exchange='IDEALPRO'), order=MarketOrder(orderId=4, clientId=12, permId=1266375963, action='BUY', totalQuantity=10.0, lmtPrice=0.0, auxPrice=0.0), orderStatus=OrderStatus(orderId=4, status='Filled', filled=10.0, remaining=0.0, avgFillPrice=1.0471, permId=1266375963, parentId=0, lastFillPrice=1.0471, clientId=12, whyHeld='', mktCapPrice=0.0), fills=[Fill(contract=Forex('EURUSD', conId=12087792, exchange='IDEALPRO', localSymbol='EUR.USD', tradingClass='EUR.USD'), execution=Execution(execId='0000e215.675b6018.01.01', time=datetime.datetime(2024, 12, 12, 23, 15, 8, tzinfo=datetime.timezone.utc), acctNumber='DU7129120', exchange='IDEALPRO', side='BOT', shares=10.0, price=1.0471, permId=1266375963, clientId=12, orderId=4, liquidation=0, cumQty=10.0, avgPrice=1.0471, orderRef='', evRule='', evMultiplier=0.0, modelCode='', lastLiquidity=2), commissionReport=CommissionReport(execId='', commission=0.0, currency='', realizedPNL=0.0, yield_=0.0, yieldRedemptionDate=0), time=datetime.datetime(2024, 12, 12, 23, 15, 8, 740165, tzinfo=datetime.timezone.utc))], log=[TradeLogEntry(time=datetime.datetime(2024, 12, 12, 23, 15, 8, 556200, tzinfo=datetime.timezone.utc), status='PendingSubmit', message='', errorCode=0), TradeLogEntry(time=datetime.datetime(2024, 12, 12, 23, 15, 8, 712623, tzinfo=datetime.timezone.utc), status='PreSubmitted', message='', errorCode=0), TradeLogEntry(time=datetime.datetime(2024, 12, 12, 23, 15, 8, 740165, tzinfo=datetime.timezone.utc), status='PreSubmitted', message='Fill 10.0@1.0471', errorCode=0), TradeLogEntry(time=datetime.datetime(2024, 12, 12, 23, 15, 8, 740165, tzinfo=datetime.timezone.utc), status='Filled', message='', errorCode=0)], advancedError=''),) caused exception for event Event<orderStatusEvent, [[None, None, <function onOrderStatus at 0x1128d0040>], [None, None, <function onOrderStatus at 0x1128d0280>]]>\n",
      "Traceback (most recent call last):\n",
      "  File \"/Users/jason/anaconda3/envs/newsletter/lib/python3.10/site-packages/eventkit/event.py\", line 202, in emit\n",
      "    result = func(*args)\n",
      "  File \"/var/folders/5j/6vs4zprx4fqcwl49nsw0hzqc0000gn/T/ipykernel_98948/2752545404.py\", line 7, in onOrderStatus\n",
      "    print(f\"Order ID: {trade.order.orderId}, Perm ID: {trade.orderState.permId}, Status: {trade.orderState.status}\")\n",
      "AttributeError: 'Trade' object has no attribute 'orderState'. Did you mean: 'orderStatus'?\n"
     ]
    },
    {
     "name": "stdout",
     "output_type": "stream",
     "text": [
      "Order ID: 4, Perm ID: 1266375963, Status: PreSubmitted\n",
      "Order ID: 4, Perm ID: 1266375963, Status: Filled\n"
     ]
    },
    {
     "name": "stderr",
     "output_type": "stream",
     "text": [
      "Value (Trade(contract=Forex('EURUSD', exchange='IDEALPRO'), order=MarketOrder(orderId=5, clientId=12, permId=1266375964, action='BUY', totalQuantity=10.0, lmtPrice=0.0, auxPrice=0.0), orderStatus=OrderStatus(orderId=5, status='PreSubmitted', filled=0.0, remaining=10.0, avgFillPrice=0.0, permId=1266375964, parentId=0, lastFillPrice=0.0, clientId=12, whyHeld='', mktCapPrice=0.0), fills=[], log=[TradeLogEntry(time=datetime.datetime(2024, 12, 12, 23, 17, 59, 693756, tzinfo=datetime.timezone.utc), status='PendingSubmit', message='', errorCode=0), TradeLogEntry(time=datetime.datetime(2024, 12, 12, 23, 17, 59, 856557, tzinfo=datetime.timezone.utc), status='PreSubmitted', message='', errorCode=0)], advancedError=''),) caused exception for event Event<orderStatusEvent, [[None, None, <function onOrderStatus at 0x1128d0040>], [None, None, <function onOrderStatus at 0x1128d0280>], [None, None, <function onOrderStatus at 0x1128d0310>]]>\n",
      "Traceback (most recent call last):\n",
      "  File \"/Users/jason/anaconda3/envs/newsletter/lib/python3.10/site-packages/eventkit/event.py\", line 202, in emit\n",
      "    result = func(*args)\n",
      "  File \"/var/folders/5j/6vs4zprx4fqcwl49nsw0hzqc0000gn/T/ipykernel_98948/2752545404.py\", line 7, in onOrderStatus\n",
      "    print(f\"Order ID: {trade.order.orderId}, Perm ID: {trade.orderState.permId}, Status: {trade.orderState.status}\")\n",
      "AttributeError: 'Trade' object has no attribute 'orderState'. Did you mean: 'orderStatus'?\n",
      "Value (Trade(contract=Forex('EURUSD', exchange='IDEALPRO'), order=MarketOrder(orderId=5, clientId=12, permId=1266375964, action='BUY', totalQuantity=10.0, lmtPrice=0.0, auxPrice=0.0), orderStatus=OrderStatus(orderId=5, status='Filled', filled=10.0, remaining=0.0, avgFillPrice=1.04725, permId=1266375964, parentId=0, lastFillPrice=1.04725, clientId=12, whyHeld='', mktCapPrice=0.0), fills=[Fill(contract=Forex('EURUSD', conId=12087792, exchange='IDEALPRO', localSymbol='EUR.USD', tradingClass='EUR.USD'), execution=Execution(execId='0000e215.675b6020.01.01', time=datetime.datetime(2024, 12, 12, 23, 17, 59, tzinfo=datetime.timezone.utc), acctNumber='DU7129120', exchange='IDEALPRO', side='BOT', shares=10.0, price=1.04725, permId=1266375964, clientId=12, orderId=5, liquidation=0, cumQty=10.0, avgPrice=1.04725, orderRef='', evRule='', evMultiplier=0.0, modelCode='', lastLiquidity=2), commissionReport=CommissionReport(execId='', commission=0.0, currency='', realizedPNL=0.0, yield_=0.0, yieldRedemptionDate=0), time=datetime.datetime(2024, 12, 12, 23, 17, 59, 884955, tzinfo=datetime.timezone.utc))], log=[TradeLogEntry(time=datetime.datetime(2024, 12, 12, 23, 17, 59, 693756, tzinfo=datetime.timezone.utc), status='PendingSubmit', message='', errorCode=0), TradeLogEntry(time=datetime.datetime(2024, 12, 12, 23, 17, 59, 856557, tzinfo=datetime.timezone.utc), status='PreSubmitted', message='', errorCode=0), TradeLogEntry(time=datetime.datetime(2024, 12, 12, 23, 17, 59, 884955, tzinfo=datetime.timezone.utc), status='PreSubmitted', message='Fill 10.0@1.04725', errorCode=0), TradeLogEntry(time=datetime.datetime(2024, 12, 12, 23, 17, 59, 886139, tzinfo=datetime.timezone.utc), status='Filled', message='', errorCode=0)], advancedError=''),) caused exception for event Event<orderStatusEvent, [[None, None, <function onOrderStatus at 0x1128d0040>], [None, None, <function onOrderStatus at 0x1128d0280>], [None, None, <function onOrderStatus at 0x1128d0310>]]>\n",
      "Traceback (most recent call last):\n",
      "  File \"/Users/jason/anaconda3/envs/newsletter/lib/python3.10/site-packages/eventkit/event.py\", line 202, in emit\n",
      "    result = func(*args)\n",
      "  File \"/var/folders/5j/6vs4zprx4fqcwl49nsw0hzqc0000gn/T/ipykernel_98948/2752545404.py\", line 7, in onOrderStatus\n",
      "    print(f\"Order ID: {trade.order.orderId}, Perm ID: {trade.orderState.permId}, Status: {trade.orderState.status}\")\n",
      "AttributeError: 'Trade' object has no attribute 'orderState'. Did you mean: 'orderStatus'?\n"
     ]
    },
    {
     "name": "stdout",
     "output_type": "stream",
     "text": [
      "Order ID: 5, Perm ID: 1266375964, Status: PreSubmitted\n",
      "Order ID\n",
      "Order ID: 5, Perm ID: 1266375964, Status: Filled\n",
      "Order ID\n"
     ]
    },
    {
     "name": "stderr",
     "output_type": "stream",
     "text": [
      "Error 1100, reqId -1: Connectivity between IBKR and Trader Workstation has been lost.\n",
      "Error 1100, reqId -1: Connectivity between IBKR and Trader Workstation has been lost.\n",
      "Error 1100, reqId -1: Connectivity between IBKR and Trader Workstation has been lost.\n",
      "Error 1100, reqId -1: Connectivity between IBKR and Trader Workstation has been lost.\n",
      "Error 1100, reqId -1: Connectivity between IBKR and Trader Workstation has been lost.\n",
      "Error 1100, reqId -1: Connectivity between IBKR and Trader Workstation has been lost.\n",
      "Error 1100, reqId -1: Connectivity between IBKR and Trader Workstation has been lost.\n",
      "Error 1100, reqId -1: Connectivity between IBKR and Trader Workstation has been lost.\n",
      "Error 1100, reqId -1: Connectivity between IBKR and Trader Workstation has been lost.\n",
      "Error 1100, reqId -1: Connectivity between IBKR and Trader Workstation has been lost.\n",
      "Error 1100, reqId -1: Connectivity between IBKR and Trader Workstation has been lost.\n",
      "Error 1100, reqId -1: Connectivity between IBKR and Trader Workstation has been lost.\n",
      "Error 1100, reqId -1: Connectivity between IBKR and Trader Workstation has been lost.\n",
      "Error 1100, reqId -1: Connectivity between IBKR and Trader Workstation has been lost.\n",
      "Error 1100, reqId -1: Connectivity between IBKR and Trader Workstation has been lost.\n",
      "Error 1100, reqId -1: Connectivity between IBKR and Trader Workstation has been lost.\n",
      "Error 1100, reqId -1: Connectivity between IBKR and Trader Workstation has been lost.\n",
      "Error 1100, reqId -1: Connectivity between IBKR and Trader Workstation has been lost.\n",
      "Error 1100, reqId -1: Connectivity between IBKR and Trader Workstation has been lost.\n",
      "Error 1100, reqId -1: Connectivity between IBKR and Trader Workstation has been lost.\n",
      "Error 1100, reqId -1: Connectivity between IBKR and Trader Workstation has been lost.\n",
      "Error 1100, reqId -1: Connectivity between IBKR and Trader Workstation has been lost.\n",
      "Error 1100, reqId -1: Connectivity between IBKR and Trader Workstation has been lost.\n",
      "Error 1102, reqId -1: Connectivity between IBKR and Trader Workstation has been restored - data maintained. All data farms are connected: cafarm; cashfarm; usfuture; jfarm; usfarm.nj; eufarm; usopt; usfarm; euhmds; fundfarm; ushmds; secdefil.\n",
      "Peer closed connection.\n"
     ]
    }
   ],
   "source": [
    "ib = IB()\n",
    "ib.connect('127.0.0.1', 7497, clientId=12)"
   ]
  },
  {
   "cell_type": "code",
   "execution_count": 5,
   "id": "d54a1ae3-23ee-4093-a9cc-b5a06e865402",
   "metadata": {},
   "outputs": [
    {
     "data": {
      "text/plain": [
       "True"
      ]
     },
     "execution_count": 5,
     "metadata": {},
     "output_type": "execute_result"
    }
   ],
   "source": [
    "from ib_insync import IB, Stock, MarketOrder, Forex\n",
    "\n",
    "\n",
    "\n",
    "# Define a callback to monitor order status\n",
    "def onOrderStatus(trade):\n",
    "    print(f\"Order ID\")\n",
    "\n",
    "# Attach the callback to the orderStatusEvent\n",
    "ib.orderStatusEvent += onOrderStatus\n",
    "\n",
    "# Define a stock contract\n",
    "contract = Forex(\"EURUSD\")\n",
    "\n",
    "# Place a market order\n",
    "order = MarketOrder('BUY', 10)\n",
    "trade = ib.placeOrder(contract, order)\n",
    "\n",
    "# Wait to receive updates\n",
    "ib.sleep(5)"
   ]
  },
  {
   "cell_type": "code",
   "execution_count": null,
   "id": "3ef808da-1d3a-4a78-8ef0-0ef25bb3d3e1",
   "metadata": {},
   "outputs": [],
   "source": []
  },
  {
   "cell_type": "code",
   "execution_count": null,
   "id": "f52a033d-74ec-4988-ab92-9888e9d0c4f4",
   "metadata": {},
   "outputs": [],
   "source": []
  },
  {
   "cell_type": "code",
   "execution_count": null,
   "id": "a1df17c0-79cb-4bce-a948-5a10c3732d4c",
   "metadata": {},
   "outputs": [],
   "source": []
  },
  {
   "cell_type": "code",
   "execution_count": null,
   "id": "8a80fd19-8d07-4813-898f-e9418e9bde05",
   "metadata": {},
   "outputs": [],
   "source": []
  },
  {
   "cell_type": "code",
   "execution_count": null,
   "id": "1486d86b-2163-4dff-91c8-e532967ea0e7",
   "metadata": {},
   "outputs": [],
   "source": []
  },
  {
   "cell_type": "markdown",
   "id": "74f1a8d6",
   "metadata": {},
   "source": [
    "The code initializes the connection to Interactive Brokers using the `ib_insync` package. We create an instance of `IB` and use it to connect to the local TWS or Gateway application at the specified host and port. The `clientId` is a unique identifier for your connection, allowing multiple connections from the same machine. The `util.startLoop()` function enables the asynchronous event loop required by `ib_insync`."
   ]
  },
  {
   "cell_type": "markdown",
   "id": "12ecf5ee",
   "metadata": {},
   "source": [
    "### Retrieve the current market price of NVIDIA stock"
   ]
  },
  {
   "cell_type": "markdown",
   "id": "feaa0b71",
   "metadata": {},
   "source": [
    "Next, we define the stock symbol for NVIDIA and request its current market price. We create a stock contract using the `Stock` class and specify the ticker symbol, exchange, and currency. Then, we qualify the contract and request the market price."
   ]
  },
  {
   "cell_type": "code",
   "execution_count": null,
   "id": "9bb12dc0",
   "metadata": {},
   "outputs": [],
   "source": [
    "nvda = Stock(\"NVDA\", \"SMART\", \"USD\")\n",
    "ib.qualifyContracts(nvda)\n",
    "[ticker] = ib.reqTickers(nvda)\n",
    "nvdaValue = ticker.marketPrice()"
   ]
  },
  {
   "cell_type": "markdown",
   "id": "d75f76ac",
   "metadata": {},
   "source": [
    "We define a stock contract for NVIDIA by specifying its ticker symbol, exchange, and currency. The `qualifyContracts` function ensures that the contract details are complete and accurate. We then request the ticker information using `reqTickers`, which retrieves the current market price and other data for the specified contract. The market price is extracted from the `ticker` object and stored in the `nvdaValue` variable."
   ]
  },
  {
   "cell_type": "markdown",
   "id": "167ad2be",
   "metadata": {},
   "source": [
    "### Request option chain data for NVIDIA"
   ]
  },
  {
   "cell_type": "markdown",
   "id": "d2151d5d",
   "metadata": {},
   "source": [
    "We request the option chain for NVIDIA to explore available options data. We use the `reqSecDefOptParams` method to obtain option parameters like trading class, exchange, strikes, and expirations. We filter the chain to find the specific options available for NVIDIA on the SMART exchange."
   ]
  },
  {
   "cell_type": "code",
   "execution_count": null,
   "id": "5371d76a",
   "metadata": {},
   "outputs": [],
   "source": [
    "chains = ib.reqSecDefOptParams(nvda.symbol, \"\", nvda.secType, nvda.conId)\n",
    "chain = next(c for c in chains if c.tradingClass == \"NVDA\" and c.exchange == \"SMART\")"
   ]
  },
  {
   "cell_type": "code",
   "execution_count": null,
   "id": "0c9293b3",
   "metadata": {},
   "outputs": [],
   "source": [
    "strikes = [\n",
    "    strike for strike in chain.strikes\n",
    "    if strike % 5 == 0\n",
    "    and nvdaValue - 20 < strike < nvdaValue + 20\n",
    "]"
   ]
  },
  {
   "cell_type": "code",
   "execution_count": null,
   "id": "4bb51f06",
   "metadata": {},
   "outputs": [],
   "source": [
    "expirations = sorted(exp for exp in chain.expirations)[:3]\n",
    "rights = [\"C\", \"P\"]"
   ]
  },
  {
   "cell_type": "markdown",
   "id": "7e4c3677",
   "metadata": {},
   "source": [
    "We call `reqSecDefOptParams` to retrieve option parameters for NVIDIA, such as available strike prices and expiration dates. We filter the results to isolate options with a trading class of \"NVDA\" on the \"SMART\" exchange. We then create a list of strike prices in increments of 5, within 20 units of the current market price. We also select the upcoming three expiration dates and both call (\"C\") and put (\"P\") options."
   ]
  },
  {
   "cell_type": "markdown",
   "id": "8e8052b9",
   "metadata": {},
   "source": [
    "### Request market data for NVIDIA options"
   ]
  },
  {
   "cell_type": "markdown",
   "id": "6ce0ed44",
   "metadata": {},
   "source": [
    "We create option contracts for NVIDIA based on filtered strikes, expirations, and rights. Then, we qualify these contracts and request tickers to get market data. Finally, we compile the relevant contract data into a structured format for analysis."
   ]
  },
  {
   "cell_type": "code",
   "execution_count": null,
   "id": "016fe250",
   "metadata": {},
   "outputs": [],
   "source": [
    "contracts = [\n",
    "    Option(\"NVDA\", expiration, strike, right, \"SMART\", tradingClass=\"NVDA\")\n",
    "    for right in rights\n",
    "    for expiration in expirations\n",
    "    for strike in strikes\n",
    "]"
   ]
  },
  {
   "cell_type": "code",
   "execution_count": null,
   "id": "5b361ad3",
   "metadata": {},
   "outputs": [],
   "source": [
    "contracts = ib.qualifyContracts(*contracts)\n",
    "tickers = ib.reqTickers(*contracts)"
   ]
  },
  {
   "cell_type": "code",
   "execution_count": null,
   "id": "ab6c8879",
   "metadata": {},
   "outputs": [],
   "source": [
    "contractData = [\n",
    "    (\n",
    "        t.contract.lastTradeDateOrContractMonth, \n",
    "        t.contract.strike, \n",
    "        t.contract.right,\n",
    "        t.time,\n",
    "        t.close,\n",
    "        nvdaValue,\n",
    "    )\n",
    "    for t\n",
    "    in tickers\n",
    "]"
   ]
  },
  {
   "cell_type": "code",
   "execution_count": null,
   "id": "45bfe534",
   "metadata": {},
   "outputs": [],
   "source": [
    "fields = [\n",
    "    \"expiration\", \n",
    "    \"strike\", \n",
    "    \"right\", \n",
    "    \"time\", \n",
    "    \"undPrice\",\n",
    "    \"close\", \n",
    "]"
   ]
  },
  {
   "cell_type": "code",
   "execution_count": null,
   "id": "1191db7f",
   "metadata": {},
   "outputs": [],
   "source": [
    "util.df([dict(zip(fields, t)) for t in contractData])"
   ]
  },
  {
   "cell_type": "markdown",
   "id": "e200602f",
   "metadata": {},
   "source": [
    "We generate option contracts for NVIDIA by iterating over the available strikes, expirations, and rights. The `Option` class is used to define each contract's attributes. We then qualify the contracts to ensure they are valid for trading. The `reqTickers` method retrieves market data, including last trade date, strike price, option type, time, and closing price. The data is structured and converted into a DataFrame for easier analysis and visualization using `util.df`."
   ]
  },
  {
   "cell_type": "markdown",
   "id": "7435f5b2",
   "metadata": {},
   "source": [
    "### Your next steps"
   ]
  },
  {
   "cell_type": "markdown",
   "id": "311c4d61",
   "metadata": {},
   "source": [
    "Now that you've learned how to retrieve stock and option data using Interactive Brokers, consider exploring different stocks or option strategies. Try modifying the stock symbol or adjusting the range of strike prices and expirations to see how it affects the options data. Experimenting with these parameters will give you deeper insights into option trading and how market conditions impact option pricing."
   ]
  },
  {
   "cell_type": "markdown",
   "id": "3ef23b17",
   "metadata": {},
   "source": [
    "<a href=\"https://pyquantnews.com/\">PyQuant News</a> is where finance practitioners level up with Python for quant finance, algorithmic trading, and market data analysis. Looking to get started? Check out the fastest growing, top-selling course to <a href=\"https://gettingstartedwithpythonforquantfinance.com/\">get started with Python for quant finance</a>. For educational purposes. Not investment advise. Use at your own risk."
   ]
  }
 ],
 "metadata": {
  "jupytext": {
   "cell_metadata_filter": "-all",
   "main_language": "python",
   "notebook_metadata_filter": "-all"
  },
  "kernelspec": {
   "display_name": "Python 3 (ipykernel)",
   "language": "python",
   "name": "python3"
  },
  "language_info": {
   "codemirror_mode": {
    "name": "ipython",
    "version": 3
   },
   "file_extension": ".py",
   "mimetype": "text/x-python",
   "name": "python",
   "nbconvert_exporter": "python",
   "pygments_lexer": "ipython3",
   "version": "3.10.13"
  }
 },
 "nbformat": 4,
 "nbformat_minor": 5
}
