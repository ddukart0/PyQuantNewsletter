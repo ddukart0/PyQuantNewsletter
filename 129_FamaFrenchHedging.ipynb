{
 "cells": [
  {
   "cell_type": "markdown",
   "id": "521f407c",
   "metadata": {},
   "source": [
    "<div style=\"background-color:#000;\"><img src=\"pqn.png\"></img></div>"
   ]
  },
  {
   "cell_type": "markdown",
   "id": "9dae06d2",
   "metadata": {},
   "source": [
    "### Define stock tickers and download historical data"
   ]
  },
  {
   "cell_type": "markdown",
   "id": "97ee8f1e",
   "metadata": {},
   "source": [
    "Let's start by defining the stock tickers we want to analyze and specify the date range for our historical data. Then we download the adjusted closing prices for these stocks using the yfinance library."
   ]
  },
  {
   "cell_type": "code",
   "execution_count": null,
   "id": "ee3de8e1-84ae-49fe-a278-8a72cf77b8d4",
   "metadata": {},
   "outputs": [],
   "source": [
    "import yfinance as yf\n",
    "import pandas_datareader.data as web\n",
    "import pandas as pd\n",
    "import datetime as dt\n",
    "import statsmodels.api as sm\n",
    "import warnings\n",
    "warnings.filterwarnings(\"ignore\")"
   ]
  },
  {
   "cell_type": "code",
   "execution_count": null,
   "id": "cdb9a137",
   "metadata": {},
   "outputs": [],
   "source": [
    "tickers = ['AAPL', 'MSFT', 'GOOGL']\n",
    "start_date = \"2020-01-01\"\n",
    "end_date = \"2024-12-31\""
   ]
  },
  {
   "cell_type": "code",
   "execution_count": null,
   "id": "1d194d7b",
   "metadata": {},
   "outputs": [],
   "source": [
    "stock_data = yf.download(\n",
    "    tickers, \n",
    "    start=start_date, \n",
    "    end=end_date\n",
    ")['Adj Close']"
   ]
  },
  {
   "cell_type": "code",
   "execution_count": null,
   "id": "d8426d71",
   "metadata": {},
   "outputs": [],
   "source": [
    "port_returns = (\n",
    "    stock_data\n",
    "    .pct_change()\n",
    "    .sum(axis=1)\n",
    ")"
   ]
  },
  {
   "cell_type": "code",
   "execution_count": null,
   "id": "67053db3",
   "metadata": {},
   "outputs": [],
   "source": [
    "port_returns.name = \"port_returns\""
   ]
  },
  {
   "cell_type": "markdown",
   "id": "49a2c6fe",
   "metadata": {},
   "source": [
    "We define a list of stock tickers for Apple, Microsoft, and Google, specifying the time period from January 1, 2020, to December 31, 2024. Using yfinance, we download the adjusted closing prices for these stocks, which reflects the stock's actual market price adjusted for splits and dividends. We then compute the daily percentage change to calculate the portfolio's daily returns by summing up the individual returns of each stock. Finally, we name this series \"port_returns\" for clarity in subsequent analysis."
   ]
  },
  {
   "cell_type": "markdown",
   "id": "80bb7399",
   "metadata": {},
   "source": [
    "### Fetch Fama French factors and preprocess data"
   ]
  },
  {
   "cell_type": "markdown",
   "id": "df6e76d1",
   "metadata": {},
   "source": [
    "Now we will fetch the Fama French factors, which are widely used in finance to analyze and explain returns. We'll then align this data with our stock returns."
   ]
  },
  {
   "cell_type": "code",
   "execution_count": null,
   "id": "569c99c4",
   "metadata": {},
   "outputs": [],
   "source": [
    "fama_french = web.DataReader(\n",
    "    'F-F_Research_Data_Factors_daily',\n",
    "    'famafrench',\n",
    "    start_date,\n",
    "    end_date\n",
    ")[0]"
   ]
  },
  {
   "cell_type": "code",
   "execution_count": null,
   "id": "094aa83a",
   "metadata": {},
   "outputs": [],
   "source": [
    "fama_french = fama_french / 100  # Convert to decimals\n",
    "fama_french.index = fama_french.index.tz_localize(\"UTC\")"
   ]
  },
  {
   "cell_type": "code",
   "execution_count": null,
   "id": "07231aa8",
   "metadata": {},
   "outputs": [],
   "source": [
    "data = fama_french.join(port_returns, how='inner')"
   ]
  },
  {
   "cell_type": "code",
   "execution_count": null,
   "id": "8e5d8d66",
   "metadata": {},
   "outputs": [],
   "source": [
    "excess_returns = data.port_returns - data.RF"
   ]
  },
  {
   "cell_type": "markdown",
   "id": "7d11eb08",
   "metadata": {},
   "source": [
    "We retrieve daily Fama French factors using the pandas_datareader library, which provides the size, value, and market risk factors. These factors are in percentage form, so we convert them into decimals for accurate computations. The index of this data is then localized to UTC to match the timezone of our stock data. We join the Fama French data with our portfolio returns, keeping only the dates common to both datasets. Finally, we calculate the excess returns of the portfolio by subtracting the risk-free rate (RF) from the portfolio returns."
   ]
  },
  {
   "cell_type": "markdown",
   "id": "830338d5",
   "metadata": {},
   "source": [
    "### Model excess returns using Fama French factors"
   ]
  },
  {
   "cell_type": "markdown",
   "id": "c0495f64",
   "metadata": {},
   "source": [
    "Next, we prepare the independent variables for our regression model, add a constant term, and fit the model to the data. This will help us understand the influence of Fama French factors on our excess returns."
   ]
  },
  {
   "cell_type": "code",
   "execution_count": null,
   "id": "f0d0f4fb",
   "metadata": {},
   "outputs": [],
   "source": [
    "X = data[['SMB', 'HML']]\n",
    "X = sm.add_constant(X)"
   ]
  },
  {
   "cell_type": "code",
   "execution_count": null,
   "id": "408b5875",
   "metadata": {},
   "outputs": [],
   "source": [
    "model = sm.OLS(excess_returns, X).fit()"
   ]
  },
  {
   "cell_type": "code",
   "execution_count": null,
   "id": "926c74cc",
   "metadata": {},
   "outputs": [],
   "source": [
    "hedge_weights = -model.params[1:]"
   ]
  },
  {
   "cell_type": "markdown",
   "id": "b165e691",
   "metadata": {},
   "source": [
    "We select the Small-Minus-Big (SMB) and High-Minus-Low (HML) factors from our dataset as our independent variables. To account for the intercept in our regression model, we add a constant to this matrix. We then fit an Ordinary Least Squares (OLS) regression model using statsmodels to explain the excess returns of our portfolio by these factors. The resulting model's parameters (excluding the constant) are negated to calculate the hedge weights, indicating how much exposure to each factor is needed to minimize risk."
   ]
  },
  {
   "cell_type": "markdown",
   "id": "e51e15d7",
   "metadata": {},
   "source": [
    "### Simulate and analyze the hedged portfolio"
   ]
  },
  {
   "cell_type": "markdown",
   "id": "c7020f15",
   "metadata": {},
   "source": [
    "Finally, we use the hedge weights to create a hedged portfolio and simulate its returns. We compare these with the unhedged returns to analyze the impact of hedging."
   ]
  },
  {
   "cell_type": "code",
   "execution_count": null,
   "id": "924dc8c8",
   "metadata": {},
   "outputs": [],
   "source": [
    "hedge_portfolio = (data[['SMB', 'HML']] @ hedge_weights).dropna()"
   ]
  },
  {
   "cell_type": "code",
   "execution_count": null,
   "id": "405fb611",
   "metadata": {},
   "outputs": [],
   "source": [
    "hedged_portfolio_returns = port_returns.loc[hedge_portfolio.index] + hedge_portfolio"
   ]
  },
  {
   "cell_type": "code",
   "execution_count": null,
   "id": "22ab4dda",
   "metadata": {},
   "outputs": [],
   "source": [
    "hedge = pd.DataFrame({\n",
    "    \"unhedged_returns\": port_returns.loc[hedged_portfolio_returns.index],\n",
    "    \"hedged_returns\": hedged_portfolio_returns\n",
    "})"
   ]
  },
  {
   "cell_type": "code",
   "execution_count": null,
   "id": "24abf00d",
   "metadata": {},
   "outputs": [],
   "source": [
    "hedge.mean() / hedge.std()"
   ]
  },
  {
   "cell_type": "markdown",
   "id": "e47428ee",
   "metadata": {},
   "source": [
    "We calculate the hedged portfolio returns by applying the hedge weights to the SMB and HML factors, effectively offsetting their impact on the portfolio. We then add these hedged returns to the original portfolio returns, aligning them by date to ensure accuracy. We construct a DataFrame to hold both unhedged and hedged returns for comparison. Finally, we compute the Sharpe ratio for both sets of returns, which measures risk-adjusted performance. This helps us understand the effectiveness of our hedging strategy by comparing the consistency and risk of returns before and after hedging."
   ]
  },
  {
   "cell_type": "markdown",
   "id": "65d7f7c3",
   "metadata": {},
   "source": [
    "### Your next steps"
   ]
  },
  {
   "cell_type": "markdown",
   "id": "876c78bb-68dd-4231-86d5-c23553a259a1",
   "metadata": {},
   "source": [
    "Try experimenting with different stock tickers or adjusting the date range to see how the portfolio performance changes. You could also explore incorporating additional factors into the model to better capture the nuances of market behavior. Finally, this analysis uses the same data over the entire analysis period, which could introduce lookahead bias. In a few lines of code, you can create a rolling regression to avoid this."
   ]
  },
  {
   "cell_type": "markdown",
   "id": "a1ad3326",
   "metadata": {},
   "source": [
    "<a href=\"https://pyquantnews.com/\">PyQuant News</a> is where finance practitioners level up with Python for quant finance, algorithmic trading, and market data analysis. Looking to get started? Check out the fastest growing, top-selling course to <a href=\"https://gettingstartedwithpythonforquantfinance.com/\">get started with Python for quant finance</a>. For educational purposes. Not investment advise. Use at your own risk."
   ]
  }
 ],
 "metadata": {
  "jupytext": {
   "cell_metadata_filter": "-all",
   "main_language": "python",
   "notebook_metadata_filter": "-all"
  },
  "kernelspec": {
   "display_name": "Python 3 (ipykernel)",
   "language": "python",
   "name": "python3"
  },
  "language_info": {
   "codemirror_mode": {
    "name": "ipython",
    "version": 3
   },
   "file_extension": ".py",
   "mimetype": "text/x-python",
   "name": "python",
   "nbconvert_exporter": "python",
   "pygments_lexer": "ipython3",
   "version": "3.10.13"
  }
 },
 "nbformat": 4,
 "nbformat_minor": 5
}
