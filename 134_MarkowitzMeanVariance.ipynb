{
 "cells": [
  {
   "cell_type": "markdown",
   "id": "8f3f7695",
   "metadata": {},
   "source": [
    "<div style=\"background-color:#000;\"><img src=\"pqn.png\"></img></div>"
   ]
  },
  {
   "cell_type": "code",
   "execution_count": null,
   "id": "bec8dfde",
   "metadata": {
    "lines_to_next_cell": 1
   },
   "outputs": [],
   "source": [
    "import time\n",
    "import numpy as np\n",
    "import pandas as pd\n",
    "import cudf\n",
    "import cupy as cp"
   ]
  },
  {
   "cell_type": "markdown",
   "id": "1c026a3d",
   "metadata": {},
   "source": [
    "### Load and preprocess price data using pandas"
   ]
  },
  {
   "cell_type": "markdown",
   "id": "25c38355",
   "metadata": {},
   "source": [
    "First, we define a function to load our price data from a CSV file using pandas. The function will read the data, set the date as the index, and ensure all date indices are in the correct datetime format."
   ]
  },
  {
   "cell_type": "code",
   "execution_count": null,
   "id": "c537f5d1",
   "metadata": {
    "lines_to_next_cell": 1
   },
   "outputs": [],
   "source": [
    "def get_prices_as_pandas(prices_file):\n",
    "    d = pd.read_csv(prices_file)\n",
    "    d.set_index(\"date_time\", inplace=True)\n",
    "    d.index = pd.to_datetime(d.index)\n",
    "    return d.bfill().ffill()"
   ]
  },
  {
   "cell_type": "markdown",
   "id": "c3bc8964",
   "metadata": {},
   "source": [
    "This function reads a CSV file containing price data into a pandas DataFrame. It sets the column \"date_time\" as the index, converting it to a datetime format. This ensures that any missing data points at the beginning or end of the series are filled using a forward and backward fill method, providing a complete dataset for analysis."
   ]
  },
  {
   "cell_type": "markdown",
   "id": "bbca6766",
   "metadata": {},
   "source": [
    "### Load and preprocess price data using cuDF"
   ]
  },
  {
   "cell_type": "markdown",
   "id": "83a8efc5",
   "metadata": {},
   "source": [
    "Next, we define a similar function to load the price data using cuDF, a GPU-accelerated library similar to pandas. This will allow us to perform computations on the GPU."
   ]
  },
  {
   "cell_type": "code",
   "execution_count": null,
   "id": "737fe496",
   "metadata": {
    "lines_to_next_cell": 1
   },
   "outputs": [],
   "source": [
    "def get_prices_as_cudf(prices_file):\n",
    "    c = cudf.read_csv(prices_file)\n",
    "    c.set_index(\"date_time\", inplace=True)\n",
    "    c.index = cudf.to_datetime(c.index)\n",
    "    return c.bfill().ffill()"
   ]
  },
  {
   "cell_type": "markdown",
   "id": "995e015a",
   "metadata": {},
   "source": [
    "This function performs the same operations as the pandas function but utilizes cuDF to leverage GPU processing. It reads the CSV file and converts the \"date_time\" column to the index in datetime format. Just like the pandas version, it fills any missing values to ensure the data is ready for efficient GPU processing."
   ]
  },
  {
   "cell_type": "markdown",
   "id": "fc3533e1",
   "metadata": {},
   "source": [
    "### Compute optimal asset weights using pandas on the CPU"
   ]
  },
  {
   "cell_type": "markdown",
   "id": "8c8d6dd5",
   "metadata": {},
   "source": [
    "We will now compute the optimal asset weights using the classical Markowitz mean-variance optimization method with pandas. This involves reading the price data, calculating returns, and deriving the portfolio weights that minimize risk."
   ]
  },
  {
   "cell_type": "code",
   "execution_count": null,
   "id": "c451c348",
   "metadata": {},
   "outputs": [],
   "source": [
    "print(\"=== Pandas (CPU) Computation ===\")"
   ]
  },
  {
   "cell_type": "code",
   "execution_count": null,
   "id": "21d7800f",
   "metadata": {},
   "outputs": [],
   "source": [
    "start_cpu = time.time()"
   ]
  },
  {
   "cell_type": "code",
   "execution_count": null,
   "id": "114c0aef",
   "metadata": {},
   "outputs": [],
   "source": [
    "df_pandas = get_prices_as_pandas(\"intraday_prices.csv\")\n",
    "n_assets = len(df_pandas.columns)"
   ]
  },
  {
   "cell_type": "code",
   "execution_count": null,
   "id": "4d9c283f",
   "metadata": {},
   "outputs": [],
   "source": [
    "df_returns_cpu = df_pandas.pct_change().dropna()\n",
    "mean_returns_cpu = df_returns_cpu.mean()\n",
    "cov_matrix_cpu = df_returns_cpu.cov()"
   ]
  },
  {
   "cell_type": "code",
   "execution_count": null,
   "id": "ed7d1ede",
   "metadata": {},
   "outputs": [],
   "source": [
    "inv_cov_cpu = np.linalg.inv(cov_matrix_cpu.values)\n",
    "ones_cpu = np.ones((n_assets, 1))\n",
    "w_cpu = inv_cov_cpu.dot(ones_cpu)\n",
    "w_cpu = w_cpu / (ones_cpu.T.dot(w_cpu))"
   ]
  },
  {
   "cell_type": "code",
   "execution_count": null,
   "id": "4dcebe4c",
   "metadata": {},
   "outputs": [],
   "source": [
    "end_cpu = time.time()\n",
    "cpu_elapsed = end_cpu - start_cpu"
   ]
  },
  {
   "cell_type": "code",
   "execution_count": null,
   "id": "91b6bdfd",
   "metadata": {},
   "outputs": [],
   "source": [
    "print(f\"CPU elapsed time: {cpu_elapsed:.4f} seconds\")\n",
    "print(f\"Optimal weights (first 5):\\n{w_cpu[:5].flatten()}\")\n",
    "print()"
   ]
  },
  {
   "cell_type": "markdown",
   "id": "5586750d",
   "metadata": {},
   "source": [
    "We start by reading the price data and calculating daily asset returns as percentage changes. After computing the mean returns and covariance matrix, we use these to find the optimal portfolio weights that minimize variance. The weights are computed using a closed-form solution involving the inverse of the covariance matrix. The elapsed time for these calculations is printed, along with the first few optimal weights."
   ]
  },
  {
   "cell_type": "markdown",
   "id": "7c559242",
   "metadata": {},
   "source": [
    "### Perform the same computations using cuDF and cuPY on the GPU"
   ]
  },
  {
   "cell_type": "markdown",
   "id": "0d3a7a86",
   "metadata": {},
   "source": [
    "Now, we will perform the same computations using cuDF and cuPY to leverage the GPU's computational power. This involves similar steps, but the operations will be accelerated by the GPU."
   ]
  },
  {
   "cell_type": "code",
   "execution_count": null,
   "id": "8f22c83d",
   "metadata": {},
   "outputs": [],
   "source": [
    "print(\"=== cuDF (GPU) Computation ===\")"
   ]
  },
  {
   "cell_type": "code",
   "execution_count": null,
   "id": "6a8fede5",
   "metadata": {},
   "outputs": [],
   "source": [
    "df_cudf = get_prices_as_cudf(\"intraday_prices.csv\")\n",
    "n_assets = len(df_cudf.columns)"
   ]
  },
  {
   "cell_type": "code",
   "execution_count": null,
   "id": "e7647de7",
   "metadata": {},
   "outputs": [],
   "source": [
    "start_gpu = time.time()"
   ]
  },
  {
   "cell_type": "code",
   "execution_count": null,
   "id": "71952a81",
   "metadata": {},
   "outputs": [],
   "source": [
    "df_returns_gpu = df_cudf.pct_change().dropna()\n",
    "mean_returns_gpu = df_returns_gpu.mean()\n",
    "cov_matrix_gpu = df_returns_gpu.cov()"
   ]
  },
  {
   "cell_type": "code",
   "execution_count": null,
   "id": "375dbb5a",
   "metadata": {},
   "outputs": [],
   "source": [
    "cov_cp = cov_matrix_gpu.values\n",
    "inv_cov_gpu = cp.linalg.inv(cov_cp)"
   ]
  },
  {
   "cell_type": "code",
   "execution_count": null,
   "id": "918eaaf8",
   "metadata": {},
   "outputs": [],
   "source": [
    "ones_gpu = cp.ones((n_assets, 1))\n",
    "w_gpu = inv_cov_gpu.dot(ones_gpu)\n",
    "w_gpu = w_gpu / (ones_gpu.T.dot(w_gpu))"
   ]
  },
  {
   "cell_type": "code",
   "execution_count": null,
   "id": "25de062c",
   "metadata": {},
   "outputs": [],
   "source": [
    "end_gpu = time.time()\n",
    "gpu_elapsed = end_gpu - start_gpu"
   ]
  },
  {
   "cell_type": "code",
   "execution_count": null,
   "id": "125660c1",
   "metadata": {},
   "outputs": [],
   "source": [
    "print(f\"GPU elapsed time: {gpu_elapsed:.4f} seconds\")\n",
    "print(f\"Optimal weights (first 5):\\n{w_gpu[:5].flatten()}\")\n",
    "print()"
   ]
  },
  {
   "cell_type": "markdown",
   "id": "aae4d9ac",
   "metadata": {},
   "source": [
    "This code performs similar operations as before, but using cuDF and cuPY. The GPU processes the same price data, calculating returns, mean returns, and the covariance matrix. The covariance matrix inversion and weight calculations are accelerated by the GPU, resulting in potentially faster computations. We print the elapsed time and the first few optimal weights obtained through GPU processing."
   ]
  },
  {
   "cell_type": "markdown",
   "id": "ccb8b51b",
   "metadata": {},
   "source": [
    "### Compare the computation times between CPU and GPU"
   ]
  },
  {
   "cell_type": "markdown",
   "id": "c3c26ae7",
   "metadata": {},
   "source": [
    "Finally, we calculate the speedup achieved by using the GPU over the CPU. This comparison helps us understand the benefits of GPU acceleration for financial computations."
   ]
  },
  {
   "cell_type": "code",
   "execution_count": null,
   "id": "003fdf62",
   "metadata": {},
   "outputs": [],
   "source": [
    "speedup = cpu_elapsed / gpu_elapsed if gpu_elapsed > 0 else float('inf')\n",
    "print(f\"Speedup (CPU / GPU) ~ {speedup:.2f}x\")"
   ]
  },
  {
   "cell_type": "markdown",
   "id": "dc5c0843",
   "metadata": {},
   "source": [
    "Here, we determine how much faster the GPU computations are compared to the CPU ones by calculating the ratio of CPU time to GPU time. This provides an insight into the efficiency gain from utilizing GPU resources, especially when dealing with large datasets. Understanding this difference can help decide which approach to use based on the available hardware."
   ]
  },
  {
   "cell_type": "markdown",
   "id": "fd8b1f1d",
   "metadata": {},
   "source": [
    "### Your next steps"
   ]
  },
  {
   "cell_type": "markdown",
   "id": "40e9ce5e-eb75-487f-aea7-ba05dd00d678",
   "metadata": {},
   "source": [
    "You've seen how to compute optimal portfolio weights using both CPU and GPU. Try modifying the code to use a different dataset or change the optimization criteria. Experiment with different parameter values or methods to see how they affect the results. This hands-on practice will deepen your understanding of the optimization process and its applications in finance."
   ]
  },
  {
   "cell_type": "markdown",
   "id": "eb9dc380",
   "metadata": {},
   "source": [
    "<a href=\"https://pyquantnews.com/\">PyQuant News</a> is where finance practitioners level up with Python for quant finance, algorithmic trading, and market data analysis. Looking to get started? Check out the fastest growing, top-selling course to <a href=\"https://gettingstartedwithpythonforquantfinance.com/\">get started with Python for quant finance</a>. For educational purposes. Not investment advise. Use at your own risk."
   ]
  }
 ],
 "metadata": {
  "jupytext": {
   "cell_metadata_filter": "-all",
   "main_language": "python",
   "notebook_metadata_filter": "-all"
  },
  "kernelspec": {
   "display_name": "Python 3 (ipykernel)",
   "language": "python",
   "name": "python3"
  },
  "language_info": {
   "codemirror_mode": {
    "name": "ipython",
    "version": 3
   },
   "file_extension": ".py",
   "mimetype": "text/x-python",
   "name": "python",
   "nbconvert_exporter": "python",
   "pygments_lexer": "ipython3",
   "version": "3.10.13"
  }
 },
 "nbformat": 4,
 "nbformat_minor": 5
}
