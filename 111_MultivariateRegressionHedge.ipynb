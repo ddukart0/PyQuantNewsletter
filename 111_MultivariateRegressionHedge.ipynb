{
 "cells": [
  {
   "cell_type": "markdown",
   "id": "28582995",
   "metadata": {},
   "source": [
    "<div style=\"background-color:#000;\"><img src=\"pqn.png\"></img></div>"
   ]
  },
  {
   "cell_type": "markdown",
   "id": "0e8455b1",
   "metadata": {},
   "source": [
    "This code performs a linear regression analysis to model the relationship between stock returns and market returns. It uses the Ordinary Least Squares (OLS) method to fit the model, incorporating market returns and risk-free rates as independent variables. The data is provided in a dictionary and then converted into a DataFrame for analysis. The results of the regression, including statistical summaries, are printed out. This is useful in practice for understanding how stock returns are influenced by market conditions and other factors."
   ]
  },
  {
   "cell_type": "code",
   "execution_count": null,
   "id": "5caace29",
   "metadata": {},
   "outputs": [],
   "source": [
    "import pandas as pd\n",
    "import statsmodels.api as sm"
   ]
  },
  {
   "cell_type": "markdown",
   "id": "068c12fe",
   "metadata": {},
   "source": [
    "Create a dictionary containing market returns, stock returns, and risk-free rates."
   ]
  },
  {
   "cell_type": "code",
   "execution_count": null,
   "id": "86f95888",
   "metadata": {},
   "outputs": [],
   "source": [
    "data = {\n",
    "    'market_return': [0.10, 0.12, 0.14, 0.16, 0.18],\n",
    "    'stock_return': [0.08, 0.09, 0.11, 0.13, 0.15],\n",
    "    'risk_free_rate': [0.02, 0.03, 0.02, 0.03, 0.02]\n",
    "}"
   ]
  },
  {
   "cell_type": "markdown",
   "id": "5e7195f1",
   "metadata": {},
   "source": [
    "Convert the dictionary into a DataFrame for analysis."
   ]
  },
  {
   "cell_type": "code",
   "execution_count": null,
   "id": "fd930e95",
   "metadata": {},
   "outputs": [],
   "source": [
    "df = pd.DataFrame(data)"
   ]
  },
  {
   "cell_type": "markdown",
   "id": "95e8865a",
   "metadata": {},
   "source": [
    "Define the independent variables (market returns and risk-free rates) and the dependent variable (stock returns)."
   ]
  },
  {
   "cell_type": "code",
   "execution_count": null,
   "id": "6b88bb26",
   "metadata": {},
   "outputs": [],
   "source": [
    "X = df[['market_return', 'risk_free_rate']]\n",
    "y = df['stock_return']"
   ]
  },
  {
   "cell_type": "markdown",
   "id": "1a9b9c9a",
   "metadata": {},
   "source": [
    "Add a constant term to the independent variables to account for the intercept in the regression model."
   ]
  },
  {
   "cell_type": "code",
   "execution_count": null,
   "id": "0565a657",
   "metadata": {},
   "outputs": [],
   "source": [
    "X = sm.add_constant(X)"
   ]
  },
  {
   "cell_type": "markdown",
   "id": "c93153bb",
   "metadata": {},
   "source": [
    "Fit the Ordinary Least Squares (OLS) regression model using the defined variables."
   ]
  },
  {
   "cell_type": "code",
   "execution_count": null,
   "id": "0fef4aac",
   "metadata": {},
   "outputs": [],
   "source": [
    "model = sm.OLS(y, X).fit()"
   ]
  },
  {
   "cell_type": "markdown",
   "id": "647dd230",
   "metadata": {},
   "source": [
    "Generate a summary of the regression results and print it out."
   ]
  },
  {
   "cell_type": "code",
   "execution_count": null,
   "id": "81d72416",
   "metadata": {},
   "outputs": [],
   "source": [
    "results = model.summary()\n",
    "print(results)"
   ]
  },
  {
   "cell_type": "markdown",
   "id": "e80a301a",
   "metadata": {},
   "source": [
    "<a href=\"https://pyquantnews.com/\">PyQuant News</a> is where finance practitioners level up with Python for quant finance, algorithmic trading, and market data analysis. Looking to get started? Check out the fastest growing, top-selling course to <a href=\"https://gettingstartedwithpythonforquantfinance.com/\">get started with Python for quant finance</a>. For educational purposes. Not investment advise. Use at your own risk."
   ]
  }
 ],
 "metadata": {
  "jupytext": {
   "cell_metadata_filter": "-all",
   "main_language": "python",
   "notebook_metadata_filter": "-all"
  }
 },
 "nbformat": 4,
 "nbformat_minor": 5
}
