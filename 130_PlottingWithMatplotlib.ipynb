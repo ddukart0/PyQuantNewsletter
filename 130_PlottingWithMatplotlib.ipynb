{
 "cells": [
  {
   "cell_type": "markdown",
   "id": "4189aa08",
   "metadata": {},
   "source": [
    "<div style=\"background-color:#000;\"><img src=\"pqn.png\"></img></div>"
   ]
  },
  {
   "cell_type": "code",
   "execution_count": null,
   "id": "b1af7cb8",
   "metadata": {},
   "outputs": [],
   "source": [
    "import matplotlib.pyplot as plt\n",
    "import yfinance as yf"
   ]
  },
  {
   "cell_type": "markdown",
   "id": "8f9d302d",
   "metadata": {},
   "source": [
    "### Download and explore stock data for analysis"
   ]
  },
  {
   "cell_type": "markdown",
   "id": "34f385c5",
   "metadata": {},
   "source": [
    "We'll download historical adjusted closing prices for Apple (AAPL) and Microsoft (MSFT) over a specified date range. By focusing on adjusted closing prices, we ensure our analysis reflects corporate actions like stock splits and dividends."
   ]
  },
  {
   "cell_type": "code",
   "execution_count": null,
   "id": "02db61bc",
   "metadata": {},
   "outputs": [],
   "source": [
    "start = '2020-01-01'\n",
    "end = '2024-12-31'\n",
    "data = yf.download(['AAPL', 'MSFT'], start=start, end=end)[\"Adj Close\"]\n",
    "data.head()"
   ]
  },
  {
   "cell_type": "markdown",
   "id": "0d9a626b",
   "metadata": {},
   "source": [
    "This code downloads historical stock data for Apple and Microsoft using Yahoo Finance. The data is retrieved for a specified period from January 1, 2020, to December 31, 2024. We focus on the adjusted closing prices, which reflect any corporate actions such as dividends or splits, providing a more accurate representation of a stock's value. By displaying the first few rows with `data.head()`, we can quickly inspect and verify the data's structure and content."
   ]
  },
  {
   "cell_type": "markdown",
   "id": "0d963a65",
   "metadata": {},
   "source": [
    "### Visualize the frequency distribution of stock prices and returns"
   ]
  },
  {
   "cell_type": "markdown",
   "id": "45411387",
   "metadata": {},
   "source": [
    "We'll plot histograms for Apple's stock prices and Microsoft's daily returns. This helps us understand the distribution and volatility of the stock prices and returns over the period."
   ]
  },
  {
   "cell_type": "code",
   "execution_count": null,
   "id": "9896e52b",
   "metadata": {},
   "outputs": [],
   "source": [
    "plt.figure(figsize=(10, 6))\n",
    "plt.hist(data.AAPL, bins=30)\n",
    "plt.xlabel('Price')\n",
    "plt.ylabel('Number of Days Observed')\n",
    "plt.title('Frequency Distribution of AAPL Prices')"
   ]
  },
  {
   "cell_type": "code",
   "execution_count": null,
   "id": "098eee60",
   "metadata": {},
   "outputs": [],
   "source": [
    "R = data.MSFT.pct_change()[1:]\n",
    "plt.figure(figsize=(10, 6))\n",
    "plt.hist(R, bins=30)\n",
    "plt.xlabel('Return')\n",
    "plt.ylabel('Number of Days Observed')\n",
    "plt.title('Frequency Distribution of MSFT Returns')"
   ]
  },
  {
   "cell_type": "markdown",
   "id": "2124a9d2",
   "metadata": {},
   "source": [
    "This section first plots a histogram of Apple's daily adjusted closing prices using 30 bins. This visualization allows us to see how often certain price levels occurred over the examined period. The second part calculates Microsoft's daily returns, excluding the first day since a percentage change cannot be calculated from a nonexistent previous day. The histogram of returns helps visualize the volatility and frequency of different return levels, providing insight into the stock's risk and potential reward."
   ]
  },
  {
   "cell_type": "markdown",
   "id": "4a2193f1",
   "metadata": {},
   "source": [
    "### Analyze the cumulative distribution of stock returns"
   ]
  },
  {
   "cell_type": "markdown",
   "id": "82386634",
   "metadata": {},
   "source": [
    "We'll create a cumulative distribution plot for Microsoft's daily returns. This will provide a visual representation of the probability that the returns will fall below a certain level."
   ]
  },
  {
   "cell_type": "code",
   "execution_count": null,
   "id": "fb66c78e",
   "metadata": {},
   "outputs": [],
   "source": [
    "plt.figure(figsize=(10, 6))\n",
    "plt.hist(R, bins=30, cumulative=True)\n",
    "plt.xlabel('Return')\n",
    "plt.ylabel('Number of Days Observed')\n",
    "plt.title('Cumulative Distribution of MSFT Returns')"
   ]
  },
  {
   "cell_type": "markdown",
   "id": "e8abb3d9",
   "metadata": {},
   "source": [
    "This code generates a cumulative distribution plot for Microsoft's daily returns. By setting the `cumulative` parameter to `True`, the histogram shows the cumulative frequency of returns, essentially the probability that a randomly chosen return is less than or equal to a specific value. The cumulative distribution gives insight into the return behavior, showing how returns accumulate over time and the likelihood of various return levels. This is particularly useful for assessing risk and understanding long-term trends."
   ]
  },
  {
   "cell_type": "markdown",
   "id": "361899e1",
   "metadata": {},
   "source": [
    "### Explore relationships between stock prices and returns"
   ]
  },
  {
   "cell_type": "markdown",
   "id": "49002519",
   "metadata": {},
   "source": [
    "We'll create scatter plots to visualize relationships between daily prices and daily returns for Microsoft and Apple. This helps us assess if any correlation exists between the two companies or between consecutive days."
   ]
  },
  {
   "cell_type": "code",
   "execution_count": null,
   "id": "ee9db5ee",
   "metadata": {},
   "outputs": [],
   "source": [
    "plt.figure(figsize=(10, 6))\n",
    "plt.scatter(data.MSFT, data.AAPL, s=1)\n",
    "plt.xlabel('MSFT')\n",
    "plt.ylabel('AAPL')\n",
    "plt.title('Daily Prices')"
   ]
  },
  {
   "cell_type": "code",
   "execution_count": null,
   "id": "a4b39f02",
   "metadata": {},
   "outputs": [],
   "source": [
    "R = data.pct_change()[1:]\n",
    "plt.figure(figsize=(10, 6))\n",
    "plt.scatter(R.MSFT, R.AAPL, s=1)\n",
    "plt.title('Daily Returns')"
   ]
  },
  {
   "cell_type": "markdown",
   "id": "452a8056",
   "metadata": {},
   "source": [
    "The first scatter plot visualizes the relationship between daily adjusted closing prices of Microsoft and Apple. With each point representing a day's closing price for both stocks, this plot helps identify any potential correlation or trend between these two tech giants. The second scatter plot uses the same approach but focuses on daily returns. By examining these plots, we can explore whether the movement in Microsoft's prices or returns influences Apple's, or vice versa, and assess the strength of these relationships."
   ]
  },
  {
   "cell_type": "markdown",
   "id": "d9722df6",
   "metadata": {},
   "source": [
    "### Your next steps"
   ]
  },
  {
   "cell_type": "markdown",
   "id": "161d7bf9-b086-4a08-9a22-bd1d1eb5490e",
   "metadata": {},
   "source": [
    "Try altering parts of this code to further your understanding. You could explore different stocks or adjust the date range to see how market conditions affect results. Experimenting with different visualization techniques can also provide new insights into stock behavior."
   ]
  },
  {
   "cell_type": "markdown",
   "id": "19f14554",
   "metadata": {},
   "source": [
    "<a href=\"https://pyquantnews.com/\">PyQuant News</a> is where finance practitioners level up with Python for quant finance, algorithmic trading, and market data analysis. Looking to get started? Check out the fastest growing, top-selling course to <a href=\"https://gettingstartedwithpythonforquantfinance.com/\">get started with Python for quant finance</a>. For educational purposes. Not investment advise. Use at your own risk."
   ]
  }
 ],
 "metadata": {
  "jupytext": {
   "cell_metadata_filter": "-all",
   "main_language": "python",
   "notebook_metadata_filter": "-all"
  },
  "kernelspec": {
   "display_name": "Python 3 (ipykernel)",
   "language": "python",
   "name": "python3"
  },
  "language_info": {
   "codemirror_mode": {
    "name": "ipython",
    "version": 3
   },
   "file_extension": ".py",
   "mimetype": "text/x-python",
   "name": "python",
   "nbconvert_exporter": "python",
   "pygments_lexer": "ipython3",
   "version": "3.10.13"
  }
 },
 "nbformat": 4,
 "nbformat_minor": 5
}
