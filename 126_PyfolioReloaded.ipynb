{
 "cells": [
  {
   "cell_type": "markdown",
   "id": "793af5af",
   "metadata": {},
   "source": [
    "<div style=\"background-color:#000;\"><img src=\"pqn.png\"></img></div>"
   ]
  },
  {
   "cell_type": "code",
   "execution_count": null,
   "id": "6a5c5751",
   "metadata": {},
   "outputs": [],
   "source": [
    "import yfinance as yf\n",
    "import pandas as pd\n",
    "import pyfolio as pf\n",
    "import warnings\n",
    "warnings.filterwarnings(\"ignore\")"
   ]
  },
  {
   "cell_type": "markdown",
   "id": "8c44a150",
   "metadata": {},
   "source": [
    "### Retrieve historical stock data for selected tickers"
   ]
  },
  {
   "cell_type": "markdown",
   "id": "91fe4081",
   "metadata": {},
   "source": [
    "We'll start by using the `yfinance` library to download historical stock data for Apple, Nvidia, and the SPDR S&P 500 ETF (SPY). We'll get data from January 1, 2020, to January 1, 2023."
   ]
  },
  {
   "cell_type": "code",
   "execution_count": null,
   "id": "39c242bd",
   "metadata": {},
   "outputs": [],
   "source": [
    "data = yf.download([\"AAPL\", \"NVDA\", \"SPY\"], start=\"2020-01-01\", end=\"2023-01-01\")"
   ]
  },
  {
   "cell_type": "markdown",
   "id": "9de9cab3",
   "metadata": {},
   "source": [
    "This code utilizes the `yfinance` library to fetch historical stock data for three specific tickers: Apple (AAPL), Nvidia (NVDA), and SPY, which is an ETF tracking the S&P 500 index. The `download` function is used to obtain the data over a specified date range, starting from January 1, 2020, to January 1, 2023. The data is stored in a DataFrame, with columns representing the stock data attributes, such as 'Open', 'High', 'Low', 'Close', 'Adj Close', and 'Volume'. This allows us to perform further analysis on the price movements of these stocks over the selected period."
   ]
  },
  {
   "cell_type": "markdown",
   "id": "bb74499e",
   "metadata": {},
   "source": [
    "### Calculate daily returns for the stocks"
   ]
  },
  {
   "cell_type": "markdown",
   "id": "f8f3d1aa",
   "metadata": {},
   "source": [
    "We'll calculate the daily returns for the stocks using their adjusted closing prices. This will help us understand their day-to-day performance."
   ]
  },
  {
   "cell_type": "code",
   "execution_count": null,
   "id": "3580b07a",
   "metadata": {},
   "outputs": [],
   "source": [
    "returns = data[\"Adj Close\"].pct_change().dropna()"
   ]
  },
  {
   "cell_type": "markdown",
   "id": "27fb148f",
   "metadata": {},
   "source": [
    "The code calculates the daily returns of the stocks from their adjusted closing prices. The `pct_change()` method computes the percentage change between the current and previous data points, effectively giving us the daily return rate for each stock. By chaining the `dropna()` method, we remove any resulting NaN values that arise from the calculation, particularly at the start of the dataset where there is no preceding data point. This results in a DataFrame containing the daily returns for each stock, which can be used for further analysis, such as evaluating the portfolio's performance."
   ]
  },
  {
   "cell_type": "markdown",
   "id": "b7235ab4",
   "metadata": {},
   "source": [
    "### Separate benchmark returns and calculate portfolio returns"
   ]
  },
  {
   "cell_type": "markdown",
   "id": "be30441f",
   "metadata": {},
   "source": [
    "Here, we'll isolate the benchmark returns for SPY and compute the combined returns for our portfolio by summing the returns of the individual stocks."
   ]
  },
  {
   "cell_type": "code",
   "execution_count": null,
   "id": "12396a13",
   "metadata": {},
   "outputs": [],
   "source": [
    "benchmark_rets = returns.pop(\"SPY\")\n",
    "portfolio_returns = returns.sum(axis=1)"
   ]
  },
  {
   "cell_type": "markdown",
   "id": "c1444edd",
   "metadata": {},
   "source": [
    "In this part, we separate the benchmark returns for SPY from the rest of the stock returns. We use the `pop` method to remove the SPY column from the returns DataFrame and store it in a separate variable called `benchmark_rets`. This leaves us with only the returns of Apple and Nvidia. We then calculate the portfolio's returns by summing the returns of Apple and Nvidia across each day, using the `sum` method with `axis=1` to perform the sum operation row-wise. This calculation gives us a daily return series for an equal-weighted portfolio consisting of Apple and Nvidia."
   ]
  },
  {
   "cell_type": "markdown",
   "id": "86aba5ea",
   "metadata": {},
   "source": [
    "### Generate a detailed performance analysis with Pyfolio"
   ]
  },
  {
   "cell_type": "markdown",
   "id": "9568a669",
   "metadata": {},
   "source": [
    "Finally, we'll use `pyfolio` to create a comprehensive performance analysis of our portfolio against the benchmark."
   ]
  },
  {
   "cell_type": "code",
   "execution_count": null,
   "id": "68b11ef7",
   "metadata": {},
   "outputs": [],
   "source": [
    "pf.create_full_tear_sheet(portfolio_returns, benchmark_rets=benchmark_rets)"
   ]
  },
  {
   "cell_type": "markdown",
   "id": "e091d67f",
   "metadata": {},
   "source": [
    "The code uses the `pyfolio` library to generate a detailed performance analysis, known as a \"tear sheet,\" for our portfolio. By calling the `create_full_tear_sheet` function, we pass in the portfolio's daily returns and the benchmark returns for SPY. Pyfolio then generates a comprehensive report that includes various metrics, plots, and analyses to evaluate the portfolio's performance. This includes performance statistics like cumulative returns, risk metrics, and visualizations such as the rolling beta and drawdown periods. The tear sheet provides valuable insights into how the portfolio has performed relative to the benchmark over the specified period."
   ]
  },
  {
   "cell_type": "markdown",
   "id": "00f66902",
   "metadata": {},
   "source": [
    "### Your next steps"
   ]
  },
  {
   "cell_type": "markdown",
   "id": "a04e9c43",
   "metadata": {},
   "source": [
    "Now that you've seen how to analyze a portfolio's performance, try experimenting with different stocks or date ranges. You can add more stocks to the portfolio or change the benchmark to see how it affects the results. Exploring different libraries and techniques will enhance your understanding of quantitative finance."
   ]
  },
  {
   "cell_type": "markdown",
   "id": "fcc2049b",
   "metadata": {},
   "source": [
    "<a href=\"https://pyquantnews.com/\">PyQuant News</a> is where finance practitioners level up with Python for quant finance, algorithmic trading, and market data analysis. Looking to get started? Check out the fastest growing, top-selling course to <a href=\"https://gettingstartedwithpythonforquantfinance.com/\">get started with Python for quant finance</a>. For educational purposes. Not investment advise. Use at your own risk."
   ]
  }
 ],
 "metadata": {
  "jupytext": {
   "cell_metadata_filter": "-all",
   "main_language": "python",
   "notebook_metadata_filter": "-all"
  },
  "kernelspec": {
   "display_name": "Python 3 (ipykernel)",
   "language": "python",
   "name": "python3"
  },
  "language_info": {
   "codemirror_mode": {
    "name": "ipython",
    "version": 3
   },
   "file_extension": ".py",
   "mimetype": "text/x-python",
   "name": "python",
   "nbconvert_exporter": "python",
   "pygments_lexer": "ipython3",
   "version": "3.10.13"
  }
 },
 "nbformat": 4,
 "nbformat_minor": 5
}
