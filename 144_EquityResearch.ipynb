{
 "cells": [
  {
   "cell_type": "markdown",
   "id": "061373d4",
   "metadata": {},
   "source": [
    "<div style=\"background-color:#000;\"><img src=\"pqn.png\"></img></div>"
   ]
  },
  {
   "cell_type": "markdown",
   "id": "7eb8f0c9",
   "metadata": {},
   "source": [
    "We import libraries for quantitative finance, data processing, and workflow management"
   ]
  },
  {
   "cell_type": "code",
   "execution_count": null,
   "id": "1c746b6a",
   "metadata": {},
   "outputs": [],
   "source": [
    "from pydantic import BaseModel, Field\n",
    "from typing import Optional, List, Dict\n",
    "\n",
    "from llama_cloud_services import LlamaExtract\n",
    "from llama_cloud.core.api_error import ApiError\n",
    "from llama_cloud import ExtractConfig\n",
    "\n",
    "from llama_index.core.workflow import (\n",
    "    Event,\n",
    "    StartEvent,\n",
    "    StopEvent,\n",
    "    Context,\n",
    "    Workflow,\n",
    "    step,\n",
    "    draw_all_possible_flows\n",
    ")\n",
    "from llama_index.utils.workflow import draw_all_possible_flows\n",
    "from llama_index.llms.openai import OpenAI\n",
    "from llama_index.core.llms.llm import LLM\n",
    "from llama_index.core.prompts import ChatPromptTemplate\n",
    "\n",
    "import nest_asyncio\n",
    "nest_asyncio.apply()\n",
    "\n",
    "from dotenv import load_dotenv\n",
    "load_dotenv()"
   ]
  },
  {
   "cell_type": "markdown",
   "id": "d1c70ad9",
   "metadata": {},
   "source": [
    "These libraries provide tools for data modeling, API interactions, workflow management, and natural language processing. We use them to create a structured workflow for financial analysis and report generation."
   ]
  },
  {
   "cell_type": "markdown",
   "id": "3a9c11f2",
   "metadata": {},
   "source": [
    "## Define data models"
   ]
  },
  {
   "cell_type": "markdown",
   "id": "efeabcb7",
   "metadata": {
    "lines_to_next_cell": 2
   },
   "source": [
    "We create data models to structure our financial information and analysis outputs."
   ]
  },
  {
   "cell_type": "code",
   "execution_count": null,
   "id": "a08ebd1c",
   "metadata": {},
   "outputs": [],
   "source": [
    "class RawFinancials(BaseModel):\n",
    "    revenue: Optional[float] = Field(\n",
    "        None, description=\"Extracted revenue (in million USD)\"\n",
    "    )\n",
    "    operating_income: Optional[float] = Field(\n",
    "        None, description=\"Extracted operating income (in million USD)\"\n",
    "    )\n",
    "    eps: Optional[float] = Field(None, description=\"Extracted earnings per share\")\n",
    "    # Add more metrics as needed\n",
    "\n",
    "\n",
    "class InitialFinancialDataOutput(BaseModel):\n",
    "    company_name: str = Field(\n",
    "        ..., description=\"Company name as extracted from the earnings deck\"\n",
    "    )\n",
    "    ticker: str = Field(..., description=\"Stock ticker symbol\")\n",
    "    report_date: str = Field(..., description=\"Date of the earnings deck/report\")\n",
    "    raw_financials: RawFinancials = Field(\n",
    "        ..., description=\"Structured raw financial metrics\"\n",
    "    )\n",
    "    narrative: Optional[str] = Field(\n",
    "        None, description=\"Additional narrative content (if any)\"\n",
    "    )\n",
    "\n",
    "\n",
    "# Define the structured output schema for each company's financial model\n",
    "class FinancialModelOutput(BaseModel):\n",
    "    revenue_projection: float = Field(\n",
    "        ..., description=\"Projected revenue for next year (in million USD)\"\n",
    "    )\n",
    "    operating_income_projection: float = Field(\n",
    "        ..., description=\"Projected operating income for next year (in million USD)\"\n",
    "    )\n",
    "    growth_rate: float = Field(..., description=\"Expected revenue growth rate (%)\")\n",
    "    discount_rate: float = Field(\n",
    "        ..., description=\"Discount rate (%) used for valuation\"\n",
    "    )\n",
    "    terminal_growth_rate: float = Field(\n",
    "        ..., description=\"Terminal growth rate (%) used in the model\"\n",
    "    )\n",
    "    valuation_estimate: float = Field(\n",
    "        ..., description=\"Estimated enterprise value (in million USD)\"\n",
    "    )\n",
    "    key_assumptions: str = Field(\n",
    "        ..., description=\"Key assumptions such as tax rate, CAPEX ratio, etc.\"\n",
    "    )\n",
    "    summary: str = Field(\n",
    "        ..., description=\"A brief summary of the preliminary financial model analysis.\"\n",
    "    )\n",
    "\n",
    "\n",
    "class ComparativeAnalysisOutput(BaseModel):\n",
    "    comparative_analysis: str = Field(\n",
    "        ..., description=\"Comparative analysis between Company A and Company B\"\n",
    "    )\n",
    "    overall_recommendation: str = Field(\n",
    "        ..., description=\"Overall investment recommendation with rationale\"\n",
    "    )\n",
    "\n",
    "\n",
    "# Define the final equity research memo schema, which aggregates the outputs for Company A and B\n",
    "class FinalEquityResearchMemoOutput(BaseModel):\n",
    "    company_a_model: FinancialModelOutput = Field(\n",
    "        ..., description=\"Financial model summary for Company A\"\n",
    "    )\n",
    "    company_b_model: FinancialModelOutput = Field(\n",
    "        ..., description=\"Financial model summary for Company B\"\n",
    "    )\n",
    "    comparative_analysis: ComparativeAnalysisOutput = Field(\n",
    "        ..., description=\"Comparative analysis between Company A and Company B\"\n",
    "    )\n"
   ]
  },
  {
   "cell_type": "markdown",
   "id": "715ed927",
   "metadata": {},
   "source": [
    "We define several data models using Pydantic. These models help structure our financial data and analysis outputs. They include classes for raw financials, initial financial data output, financial model output, comparative analysis, and the final equity research memo. Each model specifies the expected fields and their descriptions."
   ]
  },
  {
   "cell_type": "markdown",
   "id": "b23e7ac6",
   "metadata": {},
   "source": [
    "## Set up LlamaExtract agent"
   ]
  },
  {
   "cell_type": "code",
   "execution_count": null,
   "id": "a5646dea",
   "metadata": {},
   "outputs": [],
   "source": [
    "llama_extract = LlamaExtract(\n",
    "    project_id=\"e8aabe96-8170-4987-a058-168961a97375\",\n",
    "    organization_id=\"14b36159-7d91-4d2d-8048-d8ce28654ef3\",\n",
    ")\n",
    "\n",
    "try:\n",
    "    existing_agent = llama_extract.get_agent(name=\"automotive-sector-analysis\")\n",
    "    if existing_agent:\n",
    "        llama_extract.delete_agent(existing_agent.id)\n",
    "except ApiError as e:\n",
    "    if e.status_code == 404:\n",
    "        pass\n",
    "    else:\n",
    "        raise\n",
    "\n",
    "extract_config = ExtractConfig(\n",
    "    extraction_mode=\"BALANCED\"\n",
    "    # extraction_mode=\"MULTIMODAL\"\n",
    ")\n",
    "\n",
    "agent = llama_extract.create_agent(\n",
    "    name=\"automotive-sector-analysis\",\n",
    "    data_schema=InitialFinancialDataOutput,\n",
    "    config=extract_config,\n",
    ")"
   ]
  },
  {
   "cell_type": "markdown",
   "id": "78a87680",
   "metadata": {},
   "source": [
    "We set up the LlamaExtract agent for our automotive sector analysis. This involves initializing the agent with specific project and organization IDs, handling any existing agents, and creating a new agent with a balanced extraction mode. The agent is configured to use our InitialFinancialDataOutput schema for data extraction."
   ]
  },
  {
   "cell_type": "markdown",
   "id": "80f80491",
   "metadata": {
    "lines_to_next_cell": 2
   },
   "source": [
    "## Define workflow events and classes"
   ]
  },
  {
   "cell_type": "code",
   "execution_count": null,
   "id": "02cb5eac",
   "metadata": {},
   "outputs": [],
   "source": [
    "# Define custom events for each step\n",
    "class DeckAParseEvent(Event):\n",
    "    deck_content: InitialFinancialDataOutput\n",
    "\n",
    "\n",
    "class DeckBParseEvent(Event):\n",
    "    deck_content: InitialFinancialDataOutput\n",
    "\n",
    "\n",
    "class CompanyModelEvent(Event):\n",
    "    model_output: FinancialModelOutput\n",
    "\n",
    "\n",
    "class ComparableDataLoadEvent(Event):\n",
    "    company_a_output: FinancialModelOutput\n",
    "    company_b_output: FinancialModelOutput\n",
    "\n",
    "\n",
    "class LogEvent(Event):\n",
    "    msg: str\n",
    "    delta: bool = False\n",
    "\n",
    "\n",
    "class AutomotiveSectorAnalysisWorkflow(Workflow):\n",
    "    \"\"\"\n",
    "    Workflow to generate an equity research memo for automotive sector analysis.\n",
    "    \"\"\"\n",
    "\n",
    "    def __init__(\n",
    "        self,\n",
    "        agent: LlamaExtract,\n",
    "        modeling_path: str,\n",
    "        llm: Optional[LLM] = None,\n",
    "        **kwargs\n",
    "    ):\n",
    "        super().__init__(**kwargs)\n",
    "        self.agent = agent\n",
    "        self.llm = llm or OpenAI(model=\"gpt-4o\")\n",
    "        # Load financial modeling assumptions from file\n",
    "        with open(modeling_path, \"r\") as f:\n",
    "            self.modeling_data = f.read()\n",
    "        # Instead of loading comparable data from a text file, we load from a PDF\n",
    "\n",
    "    async def _parse_deck(self, ctx: Context, deck_path) -> InitialFinancialDataOutput:\n",
    "        extraction_result = await self.agent.aextract(deck_path)\n",
    "        initial_output = extraction_result.data  # expected to be a string\n",
    "        ctx.write_event_to_stream(LogEvent(msg=\"Transcript parsed successfully.\"))\n",
    "        return initial_output\n",
    "\n",
    "    @step\n",
    "    async def parse_deck_a(self, ctx: Context, ev: StartEvent) -> DeckAParseEvent:\n",
    "        initial_output = await self._parse_deck(ctx, ev.deck_path_a)\n",
    "        await ctx.set(\"initial_output_a\", initial_output)\n",
    "        return DeckAParseEvent(deck_content=initial_output)\n",
    "\n",
    "    @step\n",
    "    async def parse_deck_b(self, ctx: Context, ev: StartEvent) -> DeckBParseEvent:\n",
    "        initial_output = await self._parse_deck(ctx, ev.deck_path_b)\n",
    "        await ctx.set(\"initial_output_b\", initial_output)\n",
    "        return DeckBParseEvent(deck_content=initial_output)\n",
    "\n",
    "    async def _generate_financial_model(\n",
    "        self, ctx: Context, financial_data: InitialFinancialDataOutput\n",
    "    ) -> FinancialModelOutput:\n",
    "        prompt_str = \"\"\"\n",
    "    You are an expert financial analyst.\n",
    "    Using the following raw financial data from an earnings deck and financial modeling assumptions,\n",
    "    refine the data to produce a financial model summary. Adjust the assumptions based on the company-specific context.\n",
    "    Please use the most recent quarter's financial data from the earnings deck.\n",
    "\n",
    "    Raw Financial Data:\n",
    "    {raw_data}\n",
    "    Financial Modeling Assumptions:\n",
    "    {assumptions}\n",
    "\n",
    "    Return your output as JSON conforming to the FinancialModelOutput schema.\n",
    "    You MUST make sure all fields are filled in the output JSON.\n",
    "\n",
    "    \"\"\"\n",
    "        prompt = ChatPromptTemplate.from_messages([(\"user\", prompt_str)])\n",
    "        refined_model = await self.llm.astructured_predict(\n",
    "            FinancialModelOutput,\n",
    "            prompt,\n",
    "            raw_data=financial_data.model_dump_json(),\n",
    "            assumptions=self.modeling_data,\n",
    "        )\n",
    "        return refined_model\n",
    "\n",
    "    @step\n",
    "    async def refine_financial_model_company_a(\n",
    "        self, ctx: Context, ev: DeckAParseEvent\n",
    "    ) -> CompanyModelEvent:\n",
    "        print(\"deck content A\", ev.deck_content)\n",
    "        refined_model = await self._generate_financial_model(ctx, ev.deck_content)\n",
    "        print(\"refined_model A\", refined_model)\n",
    "        print(type(refined_model))\n",
    "        await ctx.set(\"CompanyAModelEvent\", refined_model)\n",
    "        return CompanyModelEvent(model_output=refined_model)\n",
    "\n",
    "    @step\n",
    "    async def refine_financial_model_company_b(\n",
    "        self, ctx: Context, ev: DeckBParseEvent\n",
    "    ) -> CompanyModelEvent:\n",
    "        print(\"deck content B\", ev.deck_content)\n",
    "        refined_model = await self._generate_financial_model(ctx, ev.deck_content)\n",
    "        print(\"refined_model B\", refined_model)\n",
    "        print(type(refined_model))\n",
    "        await ctx.set(\"CompanyBModelEvent\", refined_model)\n",
    "        return CompanyModelEvent(model_output=refined_model)\n",
    "\n",
    "    @step\n",
    "    async def cross_reference_models(\n",
    "        self, ctx: Context, ev: CompanyModelEvent\n",
    "    ) -> StopEvent:\n",
    "        # Assume CompanyAModelEvent and CompanyBModelEvent are stored in the context\n",
    "        company_a_model = await ctx.get(\"CompanyAModelEvent\", default=None)\n",
    "        company_b_model = await ctx.get(\"CompanyBModelEvent\", default=None)\n",
    "        if company_a_model is None or company_b_model is None:\n",
    "            return\n",
    "\n",
    "        prompt_str = \"\"\"\n",
    "    You are an expert investment analyst.\n",
    "    Compare the following refined financial models for Company A and Company B.\n",
    "    Based on this comparison, provide a specific investment recommendation for Tesla (Company A).\n",
    "    Focus your analysis on:\n",
    "    1. Key differences in revenue projections, operating income, and growth rates\n",
    "    2. Valuation estimates and their implications\n",
    "    3. Clear recommendation for Tesla with supporting rationale\n",
    "\n",
    "    Return your output as JSON conforming to the ComparativeAnalysisOutput schema.\n",
    "    You MUST make sure all fields are filled in the output JSON.\n",
    "\n",
    "    Company A Model:\n",
    "    {company_a_model}\n",
    "\n",
    "    Company B Model:\n",
    "    {company_b_model}\n",
    "        \"\"\"\n",
    "        prompt = ChatPromptTemplate.from_messages([(\"user\", prompt_str)])\n",
    "        comp_analysis = await self.llm.astructured_predict(\n",
    "            ComparativeAnalysisOutput,\n",
    "            prompt,\n",
    "            company_a_model=company_a_model.model_dump_json(),\n",
    "            company_b_model=company_b_model.model_dump_json(),\n",
    "        )\n",
    "        final_memo = FinalEquityResearchMemoOutput(\n",
    "            company_a_model=company_a_model,\n",
    "            company_b_model=company_b_model,\n",
    "            comparative_analysis=comp_analysis,\n",
    "        )\n",
    "        return StopEvent(result={\"memo\": final_memo})"
   ]
  },
  {
   "cell_type": "markdown",
   "id": "97e0b8f4",
   "metadata": {},
   "source": [
    "We define custom events and a workflow class for our automotive sector analysis. The workflow includes steps for parsing financial decks, generating financial models, and performing comparative analysis. Each step is defined as an asynchronous method within the AutomotiveSectorAnalysisWorkflow class."
   ]
  },
  {
   "cell_type": "markdown",
   "id": "a7569663",
   "metadata": {},
   "source": [
    "## Generate workflow diagram and run analysis"
   ]
  },
  {
   "cell_type": "code",
   "execution_count": null,
   "id": "60587017",
   "metadata": {},
   "outputs": [],
   "source": [
    "draw_all_possible_flows(\n",
    "    AutomotiveSectorAnalysisWorkflow,\n",
    "    filename=\"data/automotive_sector_analysis_workflow.html\",\n",
    ")"
   ]
  },
  {
   "cell_type": "code",
   "execution_count": null,
   "id": "53cef73b",
   "metadata": {},
   "outputs": [],
   "source": [
    "modeling_path = \"data/modeling_assumptions.txt\"\n",
    "workflow = AutomotiveSectorAnalysisWorkflow(\n",
    "    agent=agent, modeling_path=modeling_path, verbose=True, timeout=240\n",
    ")"
   ]
  },
  {
   "cell_type": "code",
   "execution_count": null,
   "id": "4680c774",
   "metadata": {},
   "outputs": [],
   "source": [
    "result = await workflow.run(\n",
    "    deck_path_a=\"data/tesla_q2_earnings.pdf\",\n",
    "    deck_path_b=\"data/ford_q2_earnings_press_release.pdf\",\n",
    ")\n",
    "final_memo = result[\"memo\"]\n",
    "print(\"\\n********Final Equity Research Memo:********\\n\", final_memo)"
   ]
  },
  {
   "cell_type": "markdown",
   "id": "c0f9486e",
   "metadata": {},
   "source": [
    "We generate a visual representation of our workflow and then run the analysis. The workflow processes earnings reports for Tesla and Ford, generates financial models, and produces a comparative analysis. The final result is an equity research memo that provides insights and recommendations based on the analysis of both companies."
   ]
  },
  {
   "cell_type": "markdown",
   "id": "a8ef0752",
   "metadata": {},
   "source": [
    "<a href=\"https://pyquantnews.com/\">PyQuant News</a> is where finance practitioners level up with Python for quant finance, algorithmic trading, and market data analysis. Looking to get started? Check out the fastest growing, top-selling course to <a href=\"https://gettingstartedwithpythonforquantfinance.com/\">get started with Python for quant finance</a>. For educational purposes. Not investment advise. Use at your own risk."
   ]
  }
 ],
 "metadata": {
  "jupytext": {
   "cell_metadata_filter": "-all",
   "main_language": "python",
   "notebook_metadata_filter": "-all"
  },
  "kernelspec": {
   "display_name": "Python 3 (ipykernel)",
   "language": "python",
   "name": "python3"
  },
  "language_info": {
   "codemirror_mode": {
    "name": "ipython",
    "version": 3
   },
   "file_extension": ".py",
   "mimetype": "text/x-python",
   "name": "python",
   "nbconvert_exporter": "python",
   "pygments_lexer": "ipython3",
   "version": "3.10.13"
  }
 },
 "nbformat": 4,
 "nbformat_minor": 5
}
