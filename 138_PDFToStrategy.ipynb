{
 "cells": [
  {
   "cell_type": "markdown",
   "id": "8a07f3e3",
   "metadata": {},
   "source": [
    "<div style=\"background-color:#000;\"><img src=\"pqn.png\"></img></div>"
   ]
  },
  {
   "cell_type": "markdown",
   "id": "30f422bd",
   "metadata": {},
   "source": [
    "### Import necessary libraries"
   ]
  },
  {
   "cell_type": "markdown",
   "id": "815608f8",
   "metadata": {},
   "source": [
    "We import the required libraries for our pairs trading strategy implementation."
   ]
  },
  {
   "cell_type": "code",
   "execution_count": null,
   "id": "4628d57a",
   "metadata": {},
   "outputs": [],
   "source": [
    "import os\n",
    "import asyncio\n",
    "from dotenv import load_dotenv"
   ]
  },
  {
   "cell_type": "code",
   "execution_count": null,
   "id": "e32509e4",
   "metadata": {},
   "outputs": [],
   "source": [
    "from llama_index.llms.openai import OpenAI\n",
    "from llama_index.core.workflow import Context\n",
    "from llama_index.core.agent.workflow import (\n",
    "    FunctionAgent,\n",
    "    AgentWorkflow,\n",
    "    AgentOutput,\n",
    "    ToolCall,\n",
    "    ToolCallResult,\n",
    ")\n",
    "from llama_index.core import SimpleDirectoryReader, GPTVectorStoreIndex"
   ]
  },
  {
   "cell_type": "markdown",
   "id": "c0bac1aa",
   "metadata": {},
   "source": [
    "These libraries provide essential tools for our project. We use them for environment variable management, asynchronous programming, and leveraging AI models for natural language processing tasks. The llama_index library offers specialized components for building AI-powered workflows and indexing documents."
   ]
  },
  {
   "cell_type": "markdown",
   "id": "b549caeb",
   "metadata": {},
   "source": [
    "### Set up the environment and initialize the language model"
   ]
  },
  {
   "cell_type": "code",
   "execution_count": null,
   "id": "eedff913",
   "metadata": {},
   "outputs": [],
   "source": [
    "load_dotenv()"
   ]
  },
  {
   "cell_type": "code",
   "execution_count": null,
   "id": "bce714ba",
   "metadata": {},
   "outputs": [],
   "source": [
    "llm = OpenAI(model=\"gpt-4o\")"
   ]
  },
  {
   "cell_type": "markdown",
   "id": "da43c1e7",
   "metadata": {},
   "source": [
    "We load environment variables and initialize our language model. This setup ensures we have access to necessary credentials and creates an instance of the OpenAI language model we'll use throughout our workflow."
   ]
  },
  {
   "cell_type": "markdown",
   "id": "4f3c25ce",
   "metadata": {},
   "source": [
    "### Define tool functions for our workflow"
   ]
  },
  {
   "cell_type": "code",
   "execution_count": null,
   "id": "27c4bc8f",
   "metadata": {},
   "outputs": [],
   "source": [
    "async def read_pdf_tool(ctx: Context) -> str:\n",
    "    documents = SimpleDirectoryReader(input_files=[\"pairs.pdf\"]).load_data()\n",
    "    index = GPTVectorStoreIndex(documents)\n",
    "    query_engine = index.as_query_engine()\n",
    "    query = (\n",
    "        \"Extract a detailed description of the pairs trading strategy implementation from this PDF. \"\n",
    "        \"Ensure the description is detailed enough to reproduce the strategy in code.\"\n",
    "    )\n",
    "    response = query_engine.query(query)\n",
    "    return str(response)"
   ]
  },
  {
   "cell_type": "code",
   "execution_count": null,
   "id": "00431073",
   "metadata": {},
   "outputs": [],
   "source": [
    "async def build_plan_tool(ctx: Context, plan: str) -> str:\n",
    "    current_state = await ctx.get(\"state\")\n",
    "    current_state[\"implementation_plan\"] = plan\n",
    "    await ctx.set(\"state\", current_state)\n",
    "    return \"Implementation plan recorded.\""
   ]
  },
  {
   "cell_type": "code",
   "execution_count": null,
   "id": "ce5bac7f",
   "metadata": {},
   "outputs": [],
   "source": [
    "async def write_code_tool(ctx: Context, plan: str) -> str:\n",
    "    current_state = await ctx.get(\"state\")\n",
    "    current_state[\"python_code\"] = plan\n",
    "    await ctx.set(\"state\", current_state)\n",
    "    return \"Python code recorded.\""
   ]
  },
  {
   "cell_type": "markdown",
   "id": "0dacf637",
   "metadata": {},
   "source": [
    "We define three asynchronous functions that serve as tools in our workflow. The read_pdf_tool extracts information from a PDF file, the build_plan_tool creates an implementation plan, and the write_code_tool generates Python code based on the plan. These tools interact with the workflow context to update the state as they progress."
   ]
  },
  {
   "cell_type": "markdown",
   "id": "990367b6",
   "metadata": {},
   "source": [
    "### Create function agents for our workflow"
   ]
  },
  {
   "cell_type": "code",
   "execution_count": null,
   "id": "844cadc8",
   "metadata": {},
   "outputs": [],
   "source": [
    "pdf_reader_agent = FunctionAgent(\n",
    "    name=\"PDFReaderAgent\",\n",
    "    description=(\n",
    "        \"Reads a PDF file containing a pairs trading strategy and extracts a detailed description \"\n",
    "        \"of the strategy implementation.\"\n",
    "    ),\n",
    "    system_prompt=(\n",
    "        \"You are the PDFReaderAgent that can read PDFs containing implementation details of pairs trading strategies \"\n",
    "        \"and describe the strategy in detail. Once you read the PDF and describe the implementation details and are \"\n",
    "        \"satisfied, you should hand off control to the PlanBuilderAgent to develop an implementation plan. \"\n",
    "        \"You should have a detailed description of the strategy before handing off control to the PlanBuilderAgent.\"\n",
    "    ),\n",
    "    llm=llm,\n",
    "    tools=[read_pdf_tool],\n",
    "    can_handoff_to=[\"PlanBuilderAgent\"],\n",
    ")"
   ]
  },
  {
   "cell_type": "code",
   "execution_count": null,
   "id": "758567fe",
   "metadata": {},
   "outputs": [],
   "source": [
    "plan_builder_agent = FunctionAgent(\n",
    "    name=\"PlanBuilderAgent\",\n",
    "    description=(\n",
    "        \"Takes the detailed strategy description and builds a detailed plan to implement the strategy in Python.\"\n",
    "    ),\n",
    "    system_prompt=(\n",
    "        \"You are the PlanBuilderAgent. Your task is to analyze the strategy description from the state and generate \"\n",
    "        \"a detailed plan outlining the steps, functions, and code structure required to implement the pairs trading strategy. \"\n",
    "        \"Include suggested Python libraries for the implementation. Your plan should be in markdown format. Once the plan \"\n",
    "        \"is written, you should hand off control to the CodeWriterAgent. Output your plan with no preamble. Just output the plan.\"\n",
    "    ),\n",
    "    llm=llm,\n",
    "    tools=[build_plan_tool],\n",
    "    can_handoff_to=[\"CodeWriterAgent\"],\n",
    ")"
   ]
  },
  {
   "cell_type": "code",
   "execution_count": null,
   "id": "78cfbc45",
   "metadata": {},
   "outputs": [],
   "source": [
    "code_writer_agent = FunctionAgent(\n",
    "    name=\"CodeWriter"
   ]
  },
  {
   "cell_type": "markdown",
   "id": "f306ab5d",
   "metadata": {},
   "source": [
    "<a href=\"https://pyquantnews.com/\">PyQuant News</a> is where finance practitioners level up with Python for quant finance, algorithmic trading, and market data analysis. Looking to get started? Check out the fastest growing, top-selling course to <a href=\"https://gettingstartedwithpythonforquantfinance.com/\">get started with Python for quant finance</a>. For educational purposes. Not investment advise. Use at your own risk."
   ]
  }
 ],
 "metadata": {
  "jupytext": {
   "cell_metadata_filter": "-all",
   "main_language": "python",
   "notebook_metadata_filter": "-all"
  }
 },
 "nbformat": 4,
 "nbformat_minor": 5
}
