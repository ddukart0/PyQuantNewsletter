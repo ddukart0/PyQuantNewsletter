{
 "cells": [
  {
   "cell_type": "markdown",
   "id": "00761df3",
   "metadata": {},
   "source": [
    "<div style=\"background-color:#000;\"><img src=\"pqn.png\"></img></div>"
   ]
  },
  {
   "cell_type": "markdown",
   "id": "7e5ae39b",
   "metadata": {},
   "source": [
    "## Import libraries and set up"
   ]
  },
  {
   "cell_type": "markdown",
   "id": "f0f049e5",
   "metadata": {},
   "source": [
    "We import the necessary libraries for data manipulation, visualization, and financial analysis."
   ]
  },
  {
   "cell_type": "code",
   "execution_count": null,
   "id": "95741d3e",
   "metadata": {},
   "outputs": [],
   "source": [
    "import warnings\n",
    "import matplotlib.pyplot as plt\n",
    "import pandas as pd\n",
    "import yfinance as yf\n",
    "import riskfolio as rp\n",
    "\n",
    "warnings.filterwarnings(\"ignore\")"
   ]
  },
  {
   "cell_type": "markdown",
   "id": "b26329ba",
   "metadata": {},
   "source": [
    "These libraries provide tools for working with financial data, creating visualizations, and performing portfolio optimization. We import them to use their functionality in our analysis. We also suppress warnings to keep our output clean."
   ]
  },
  {
   "cell_type": "markdown",
   "id": "b9c5756d",
   "metadata": {},
   "source": [
    "## Define investment parameters"
   ]
  },
  {
   "cell_type": "markdown",
   "id": "15c25f5a",
   "metadata": {},
   "source": [
    "We set the date range and select the stocks for our portfolio."
   ]
  },
  {
   "cell_type": "code",
   "execution_count": null,
   "id": "a3e06ae4",
   "metadata": {},
   "outputs": [],
   "source": [
    "start = \"2016-01-01\"\n",
    "end = \"2024-12-30\""
   ]
  },
  {
   "cell_type": "code",
   "execution_count": null,
   "id": "13770a77",
   "metadata": {},
   "outputs": [],
   "source": [
    "tickers = [\n",
    "    \"JCI\", \"TGT\", \"CMCSA\", \"CPB\", \"MO\", \"APA\", \"MMC\", \"JPM\", \"ZION\", \"PSA\",\n",
    "    \"BAX\", \"BMY\", \"LUV\", \"PCAR\", \"TXT\", \"TMO\", \"DE\", \"MSFT\", \"HPQ\", \"SEE\",\n",
    "    \"VZ\", \"CNP\", \"NI\", \"T\", \"BA\"\n",
    "]\n",
    "tickers.sort()"
   ]
  },
  {
   "cell_type": "markdown",
   "id": "30802f5f",
   "metadata": {},
   "source": [
    "We define the start and end dates for our historical data, spanning from January 1, 2016, to December 30, 2024. We also create a list of stock tickers for our portfolio, including a diverse range of companies from various sectors. The tickers are sorted alphabetically for easier reference."
   ]
  },
  {
   "cell_type": "markdown",
   "id": "773988c0",
   "metadata": {},
   "source": [
    "## Download and prepare data"
   ]
  },
  {
   "cell_type": "markdown",
   "id": "27f9de21",
   "metadata": {},
   "source": [
    "We download historical stock data and calculate returns."
   ]
  },
  {
   "cell_type": "code",
   "execution_count": null,
   "id": "8aab47d4",
   "metadata": {},
   "outputs": [],
   "source": [
    "data = yf.download(tickers, start=start, end=end).Close\n",
    "Y = data.pct_change().dropna()"
   ]
  },
  {
   "cell_type": "markdown",
   "id": "c0304fdc",
   "metadata": {},
   "source": [
    "We use the yfinance library to download the closing prices for our selected stocks within the specified date range. Then, we calculate the percentage change in prices to get the returns. Any rows with missing data are removed to ensure clean data for our analysis."
   ]
  },
  {
   "cell_type": "markdown",
   "id": "d1d74e10",
   "metadata": {},
   "source": [
    "## Create and optimize portfolio"
   ]
  },
  {
   "cell_type": "markdown",
   "id": "2d0897be",
   "metadata": {},
   "source": [
    "We build a portfolio object and set optimization parameters."
   ]
  },
  {
   "cell_type": "code",
   "execution_count": null,
   "id": "84c75dff",
   "metadata": {},
   "outputs": [],
   "source": [
    "port = rp.Portfolio(returns=Y)"
   ]
  },
  {
   "cell_type": "code",
   "execution_count": null,
   "id": "2cd29926",
   "metadata": {},
   "outputs": [],
   "source": [
    "port.assets_stats(method_mu=\"hist\", method_cov=\"ledoit\")"
   ]
  },
  {
   "cell_type": "code",
   "execution_count": null,
   "id": "1b7ce9fe",
   "metadata": {},
   "outputs": [],
   "source": [
    "port.sht = True\n",
    "port.uppersht = 1\n",
    "port.upperlng = 1\n",
    "port.budget = 0\n",
    "port.upperdev = 0.20 / 252**0.5"
   ]
  },
  {
   "cell_type": "code",
   "execution_count": null,
   "id": "551bebc0",
   "metadata": {},
   "outputs": [],
   "source": [
    "w = port.optimization(model=\"Classic\", rm=\"CVaR\", obj=\"Sharpe\", hist=True)"
   ]
  },
  {
   "cell_type": "markdown",
   "id": "3587a0d2",
   "metadata": {},
   "source": [
    "We create a portfolio object using our returns data. We set parameters for the portfolio, including allowing short positions, setting upper bounds for short and long positions, and specifying a budget constraint. We also set a maximum daily standard deviation. Finally, we optimize the portfolio to maximize the Sharpe ratio using the CVaR risk measure."
   ]
  },
  {
   "cell_type": "markdown",
   "id": "ccbd5306",
   "metadata": {},
   "source": [
    "## Visualize portfolio composition"
   ]
  },
  {
   "cell_type": "markdown",
   "id": "59a580b7",
   "metadata": {},
   "source": [
    "We create pie and bar charts to display the optimized portfolio weights."
   ]
  },
  {
   "cell_type": "code",
   "execution_count": null,
   "id": "2153639f",
   "metadata": {},
   "outputs": [],
   "source": [
    "title = \"Max Return Dollar Neutral with Variance Constraint\"\n",
    "ax = rp.plot_pie(\n",
    "    w=w, title=title, others=0.05, nrow=25, cmap=\"tab20\", height=7, width=10, ax=None\n",
    ")"
   ]
  },
  {
   "cell_type": "code",
   "execution_count": null,
   "id": "b850ed80",
   "metadata": {},
   "outputs": [],
   "source": [
    "ax = rp.plot_bar(\n",
    "    w,\n",
    "    title=\"Max Return Dollar Neutral with Variance Constraint\",\n",
    "    kind=\"v\",\n",
    "    others=0.05,\n",
    ")"
   ]
  },
  {
   "cell_type": "markdown",
   "id": "6c282f63",
   "metadata": {},
   "source": [
    "We use the riskfolio library to create two visualizations of our optimized portfolio. The pie chart shows the allocation of weights across different assets, while the bar chart provides a vertical representation of the same information. These visualizations help us understand the composition of our optimized portfolio at a glance."
   ]
  },
  {
   "cell_type": "markdown",
   "id": "42e17702",
   "metadata": {},
   "source": [
    "<a href=\"https://pyquantnews.com/\">PyQuant News</a> is where finance practitioners level up with Python for quant finance, algorithmic trading, and market data analysis. Looking to get started? Check out the fastest growing, top-selling course to <a href=\"https://gettingstartedwithpythonforquantfinance.com/\">get started with Python for quant finance</a>. For educational purposes. Not investment advise. Use at your own risk."
   ]
  }
 ],
 "metadata": {
  "jupytext": {
   "cell_metadata_filter": "-all",
   "main_language": "python",
   "notebook_metadata_filter": "-all"
  },
  "kernelspec": {
   "display_name": "Python 3 (ipykernel)",
   "language": "python",
   "name": "python3"
  },
  "language_info": {
   "codemirror_mode": {
    "name": "ipython",
    "version": 3
   },
   "file_extension": ".py",
   "mimetype": "text/x-python",
   "name": "python",
   "nbconvert_exporter": "python",
   "pygments_lexer": "ipython3",
   "version": "3.10.13"
  }
 },
 "nbformat": 4,
 "nbformat_minor": 5
}
