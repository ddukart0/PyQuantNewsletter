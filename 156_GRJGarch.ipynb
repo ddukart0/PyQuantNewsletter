{
 "cells": [
  {
   "cell_type": "markdown",
   "id": "07a140ae",
   "metadata": {},
   "source": [
    "<div style=\"background-color:#000;\"><img src=\"pqn.png\"></img></div>"
   ]
  },
  {
   "cell_type": "markdown",
   "id": "72d179e0",
   "metadata": {},
   "source": [
    "## Imports and setup"
   ]
  },
  {
   "cell_type": "markdown",
   "id": "65312ce8",
   "metadata": {},
   "source": [
    "We load key libraries to pull in market data and apply a statistical model that helps us analyze how daily price swings cluster over time."
   ]
  },
  {
   "cell_type": "code",
   "execution_count": null,
   "id": "0452ecad",
   "metadata": {},
   "outputs": [],
   "source": [
    "import yfinance as yf\n",
    "from arch import arch_model"
   ]
  },
  {
   "cell_type": "markdown",
   "id": "900cb37e",
   "metadata": {
    "lines_to_next_cell": 2
   },
   "source": [
    "This block brings together the data download package and the volatility modeling library so we have everything on board for our analysis."
   ]
  },
  {
   "cell_type": "markdown",
   "id": "13ce096c",
   "metadata": {},
   "source": [
    "## Download and prepare market data"
   ]
  },
  {
   "cell_type": "markdown",
   "id": "890fe137",
   "metadata": {},
   "source": [
    "We collect daily pricing data for NVIDIA shares, then reshape that data by removing any blanks and expressing day-to-day price changes as percentages."
   ]
  },
  {
   "cell_type": "code",
   "execution_count": null,
   "id": "51078b53",
   "metadata": {},
   "outputs": [],
   "source": [
    "nvidia_data = yf.download(\"NVDA\", start=\"2018-01-01\", end=\"2024-01-01\")\n",
    "nvidia_close = nvidia_data[\"Close\"].dropna()\n",
    "nvidia_returns = 100 * nvidia_close.pct_change().dropna()"
   ]
  },
  {
   "cell_type": "markdown",
   "id": "75b1b6a9",
   "metadata": {
    "lines_to_next_cell": 2
   },
   "source": [
    "We pull the full daily price record for NVIDIA over the last several years and focus only on the closing value for each day. By turning these prices into percent changes, we get a view of how much the stock moves day by day. We remove any missing days so nothing throws off our calculations."
   ]
  },
  {
   "cell_type": "markdown",
   "id": "66bda568",
   "metadata": {},
   "source": [
    "## Visualize daily price movements"
   ]
  },
  {
   "cell_type": "markdown",
   "id": "fd3665ff",
   "metadata": {},
   "source": [
    "We chart these daily percent changes to quickly spot trends and see how much the stock's price has bounced around."
   ]
  },
  {
   "cell_type": "code",
   "execution_count": null,
   "id": "9279be34",
   "metadata": {},
   "outputs": [],
   "source": [
    "nvidia_returns.plot(title=\"Daily returns\")"
   ]
  },
  {
   "cell_type": "markdown",
   "id": "c1c4024d",
   "metadata": {
    "lines_to_next_cell": 2
   },
   "source": [
    "This chart gives us a clear look at the pattern of ups and downs over time. We see stretches of calm and sudden spikes at a glance. Visualizing returns this way sets the stage for deeper analysis of risk and volatility."
   ]
  },
  {
   "cell_type": "markdown",
   "id": "b0dd2f73",
   "metadata": {},
   "source": [
    "## Apply a volatility modeling approach"
   ]
  },
  {
   "cell_type": "markdown",
   "id": "889aff6c",
   "metadata": {},
   "source": [
    "We apply a GARCH-family model that’s well suited for analyzing the way market swings often bunch together, then we look over a detailed report of the results."
   ]
  },
  {
   "cell_type": "code",
   "execution_count": null,
   "id": "52ca3490",
   "metadata": {},
   "outputs": [],
   "source": [
    "am = arch_model(nvidia_returns, p=1, q=1, o=1)\n",
    "res = am.fit(update_freq=5, disp=\"off\")\n",
    "print(res.summary())"
   ]
  },
  {
   "cell_type": "markdown",
   "id": "e8f12943",
   "metadata": {
    "lines_to_next_cell": 2
   },
   "source": [
    "By fitting this model, we get a read on how today’s volatility relates to yesterday’s news and past patterns. The summary shows us which parts of the model really matter and how well it matches our data. This kind of approach is a mainstay in quant finance for measuring risk."
   ]
  },
  {
   "cell_type": "markdown",
   "id": "da65f418",
   "metadata": {},
   "source": [
    "## Show volatility modeling results visually"
   ]
  },
  {
   "cell_type": "markdown",
   "id": "ec552538",
   "metadata": {},
   "source": [
    "We plot the fitted volatility and related model output, making it easy to see periods of turbulence or calm in our data over time."
   ]
  },
  {
   "cell_type": "code",
   "execution_count": null,
   "id": "2cd07189",
   "metadata": {},
   "outputs": [],
   "source": [
    "fig = res.plot(annualize=\"D\")"
   ]
  },
  {
   "cell_type": "markdown",
   "id": "c2bc7f0f",
   "metadata": {},
   "source": [
    "The chart visually separates volatile episodes from stable ones, using our fitted model's results. We spot stretches where risk has surged or dropped quickly and track how well the model fits the day-to-day action. Having the visual makes our analysis more concrete and actionable."
   ]
  },
  {
   "cell_type": "markdown",
   "id": "eaeee2cf",
   "metadata": {},
   "source": [
    "<a href=\"https://pyquantnews.com/\">PyQuant News</a> is where finance practitioners level up with Python for quant finance, algorithmic trading, and market data analysis. Looking to get started? Check out the fastest growing, top-selling course to <a href=\"https://gettingstartedwithpythonforquantfinance.com/\">get started with Python for quant finance</a>. For educational purposes. Not investment advice. Use at your own risk."
   ]
  }
 ],
 "metadata": {
  "jupytext": {
   "cell_metadata_filter": "-all",
   "main_language": "python",
   "notebook_metadata_filter": "-all"
  }
 },
 "nbformat": 4,
 "nbformat_minor": 5
}
