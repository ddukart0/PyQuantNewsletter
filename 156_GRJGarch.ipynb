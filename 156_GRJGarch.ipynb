{
 "cells": [
  {
   "cell_type": "markdown",
   "id": "cef6a11d",
   "metadata": {},
   "source": [
    "<div style=\"background-color:#000;\"><img src=\"pqn.png\"></img></div>"
   ]
  },
  {
   "cell_type": "markdown",
   "id": "396732a3",
   "metadata": {},
   "source": [
    "## Imports and setup"
   ]
  },
  {
   "cell_type": "markdown",
   "id": "e76fc24f",
   "metadata": {},
   "source": [
    "We use these libraries to get financial data, run calculations, build models, and make charts. Each library lets us analyze and display information about stock prices in a clear, structured way."
   ]
  },
  {
   "cell_type": "code",
   "execution_count": null,
   "id": "56ab0e7b",
   "metadata": {},
   "outputs": [],
   "source": [
    "import yfinance as yf\n",
    "import numpy as np\n",
    "import pandas as pd\n",
    "import matplotlib.pyplot as plt\n",
    "from arch import arch_model"
   ]
  },
  {
   "cell_type": "markdown",
   "id": "606dda31",
   "metadata": {},
   "source": [
    "This code grabs historical price data for a popular technology company and quickly prepares it for analysis."
   ]
  },
  {
   "cell_type": "code",
   "execution_count": null,
   "id": "15fe27b6",
   "metadata": {},
   "outputs": [],
   "source": [
    "nvidia_data = yf.download(\"NVDA\", start=\"2020-01-01\", end=\"2024-01-01\")\n",
    "adj_close_prices = nvidia_data[\"Adj Close\"].dropna()\n",
    "log_returns = 100 * np.log(adj_close_prices / adj_close_prices.shift(1)).dropna()"
   ]
  },
  {
   "cell_type": "markdown",
   "id": "6258d192",
   "metadata": {
    "lines_to_next_cell": 2
   },
   "source": [
    "We pull stock data for NVIDIA from an online source, focusing on price changes since the start of 2020. After downloading the data, we use only the adjusted closing prices—which factor in dividends and stock splits—to keep our calculations reliable. Next, we calculate daily returns as a percentage using a method that handles even small price movements well. This approach gives us a series showing how the stock's value changed each day, which helps us understand its patterns."
   ]
  },
  {
   "cell_type": "markdown",
   "id": "fedf328e",
   "metadata": {},
   "source": [
    "## Visualize price changes over time"
   ]
  },
  {
   "cell_type": "markdown",
   "id": "692e69b0",
   "metadata": {},
   "source": [
    "This block creates a line chart that shows how the stock's value moved over each day, helping us spot trends and swings."
   ]
  },
  {
   "cell_type": "code",
   "execution_count": null,
   "id": "85f40b77",
   "metadata": {},
   "outputs": [],
   "source": [
    "plt.figure(figsize=(12, 5))\n",
    "plt.plot(log_returns.index, log_returns.values, color=\"midnightblue\")\n",
    "plt.title(\"NVIDIA Daily Log Returns (%)\")\n",
    "plt.ylabel(\"Log Return (%)\")\n",
    "plt.xlabel(\"Date\")\n",
    "plt.tight_layout()\n",
    "plt.show()"
   ]
  },
  {
   "cell_type": "markdown",
   "id": "237ebf4f",
   "metadata": {
    "lines_to_next_cell": 2
   },
   "source": [
    "We build a simple yet clear chart tracking the company's daily price shifts as a percentage. We adjust the size and layout for easy reading, making each movement visible over the full period. The axes are labeled so we know exactly what we're seeing. This visual makes it easier to spot when the stock was most or least volatile."
   ]
  },
  {
   "cell_type": "markdown",
   "id": "48d03929",
   "metadata": {},
   "source": [
    "## Model volatility using advanced statistics"
   ]
  },
  {
   "cell_type": "markdown",
   "id": "fea21851",
   "metadata": {},
   "source": [
    "This section builds a model that helps us understand how unpredictable the stock's price movements can be."
   ]
  },
  {
   "cell_type": "code",
   "execution_count": null,
   "id": "3ee13828",
   "metadata": {},
   "outputs": [],
   "source": [
    "gjr_garch_model = arch_model(log_returns, vol=\"GARCH\", p=1, o=1, q=1, dist=\"normal\")\n",
    "gjr_garch_fit = gjr_garch_model.fit(disp=\"off\")"
   ]
  },
  {
   "cell_type": "markdown",
   "id": "449c31e0",
   "metadata": {
    "lines_to_next_cell": 2
   },
   "source": [
    "Here, we fit a statistical model built for financial data that often sees sudden, big swings—especially downward ones. The technique helps us measure how random and extreme the price changes really are. Running this model on our data gives us a detailed look at the risk in the stock's movements. We set the model's complexity to a level that's realistic and avoid printing extra details during calculations."
   ]
  },
  {
   "cell_type": "markdown",
   "id": "fdedccc5",
   "metadata": {},
   "source": [
    "## Visualize standardized model residuals"
   ]
  },
  {
   "cell_type": "markdown",
   "id": "bccd5a00",
   "metadata": {},
   "source": [
    "This part creates a chart to show if our model captures the unpredictable nature of the price changes or misses anything important."
   ]
  },
  {
   "cell_type": "code",
   "execution_count": null,
   "id": "f5761552",
   "metadata": {},
   "outputs": [],
   "source": [
    "standardized_residuals = gjr_garch_fit.std_resid"
   ]
  },
  {
   "cell_type": "code",
   "execution_count": null,
   "id": "99ceb0d0",
   "metadata": {},
   "outputs": [],
   "source": [
    "plt.figure(figsize=(12, 5))\n",
    "plt.plot(standardized_residuals.index, standardized_residuals.values, color=\"darkred\")\n",
    "plt.title(\"Standardized Residuals from GJR-GARCH(1,1,1) model\")\n",
    "plt.ylabel(\"Standardized Residual\")\n",
    "plt.xlabel(\"Date\")\n",
    "plt.tight_layout()\n",
    "plt.show()"
   ]
  },
  {
   "cell_type": "markdown",
   "id": "36d70be1",
   "metadata": {},
   "source": [
    "We extract the leftover variation after modeling, which tells us where the model fits well and where it doesn't. By putting these on a chart, we can immediately see if any hidden patterns remain—maybe days when the price jumped in an unusual way. Consistent, small values would mean our model captures risks well, while larger or patterned spikes could mean there's more beneath the surface. This last view helps us decide how much trust to put in the model's results."
   ]
  },
  {
   "cell_type": "markdown",
   "id": "473a6294",
   "metadata": {},
   "source": [
    "<a href=\"https://pyquantnews.com/\">PyQuant News</a> is where finance practitioners level up with Python for quant finance, algorithmic trading, and market data analysis. Looking to get started? Check out the fastest growing, top-selling course to <a href=\"https://gettingstartedwithpythonforquantfinance.com/\">get started with Python for quant finance</a>. For educational purposes. Not investment advice. Use at your own risk."
   ]
  }
 ],
 "metadata": {
  "jupytext": {
   "cell_metadata_filter": "-all",
   "main_language": "python",
   "notebook_metadata_filter": "-all"
  }
 },
 "nbformat": 4,
 "nbformat_minor": 5
}
