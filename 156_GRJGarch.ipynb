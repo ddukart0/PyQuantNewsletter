{
 "cells": [
  {
   "cell_type": "markdown",
   "id": "3d0817cb",
   "metadata": {},
   "source": [
    "<div style=\"background-color:#000;\"><img src=\"pqn.png\"></img></div>"
   ]
  },
  {
   "cell_type": "markdown",
   "id": "03704cf9",
   "metadata": {},
   "source": [
    "## Imports and setup"
   ]
  },
  {
   "cell_type": "markdown",
   "id": "44c8fac5",
   "metadata": {},
   "source": [
    "We bring in tools for data downloading, analysis, and charting. Together, these let us fetch NVIDIA price history, work with numbers, and plot our results."
   ]
  },
  {
   "cell_type": "code",
   "execution_count": null,
   "id": "4bda3548",
   "metadata": {},
   "outputs": [],
   "source": [
    "import yfinance as yf\n",
    "import pandas as pd\n",
    "import numpy as np\n",
    "import matplotlib.pyplot as plt\n",
    "from arch import arch_model"
   ]
  },
  {
   "cell_type": "markdown",
   "id": "a0a00545",
   "metadata": {},
   "source": [
    "This set of imports gives us the ability to gather historical price data straight from the web, organize and analyze it, and display clear visuals. One package brings in financial tools for volatility modeling. These libraries are the foundation of any repeatable quantitative analysis workflow."
   ]
  },
  {
   "cell_type": "markdown",
   "id": "cc836d2a",
   "metadata": {},
   "source": [
    "## Retrieve and prepare NVIDIA data"
   ]
  },
  {
   "cell_type": "markdown",
   "id": "08852d13",
   "metadata": {},
   "source": [
    "Pull five years of NVIDIA daily price data and calculate daily percentage log returns."
   ]
  },
  {
   "cell_type": "code",
   "execution_count": null,
   "id": "cbebfbcb",
   "metadata": {},
   "outputs": [],
   "source": [
    "nvidia_ticker = \"NVDA\"\n",
    "data = yf.download(nvidia_ticker, period=\"5y\", interval=\"1d\", auto_adjust=True, progress=False)\n",
    "price = data[\"Close\"].dropna()\n",
    "log_returns = np.log(price).diff().dropna()"
   ]
  },
  {
   "cell_type": "markdown",
   "id": "1c509ffe",
   "metadata": {},
   "source": [
    "We start by requesting five years of adjusted price data for NVIDIA, which we then clean up by removing any missing values. Next, we calculate the daily log returns, a standard way of measuring changes over time. This approach helps us compare relative movements and reduces the impact of wild price swings."
   ]
  },
  {
   "cell_type": "markdown",
   "id": "08a53ef4",
   "metadata": {},
   "source": [
    "## Visualize return data"
   ]
  },
  {
   "cell_type": "markdown",
   "id": "e7419cd6",
   "metadata": {},
   "source": [
    "Plot daily log returns to get a feel for NVIDIA's price changes over time."
   ]
  },
  {
   "cell_type": "code",
   "execution_count": null,
   "id": "8b629e2e",
   "metadata": {},
   "outputs": [],
   "source": [
    "plt.figure(figsize=(10, 4))\n",
    "plt.plot(log_returns.index, log_returns * 100)\n",
    "plt.title(\"NVIDIA Daily Log Returns (%)\")\n",
    "plt.ylabel(\"Log Return (%)\")\n",
    "plt.xlabel(\"Date\")\n",
    "plt.tight_layout()\n",
    "plt.show()"
   ]
  },
  {
   "cell_type": "markdown",
   "id": "7ced1f6e",
   "metadata": {},
   "source": [
    "Here, we plot the percentage value of these daily log returns on a chart with clear labels. This helps us quickly spot periods of high and low volatility visually. Viewing the data this way gives us a sense of how much the stock's returns change day to day. We scale returns by 100 to convert them to percentages for easier interpretation."
   ]
  },
  {
   "cell_type": "markdown",
   "id": "3bdcdd1a",
   "metadata": {},
   "source": [
    "## Fit and investigate GJR-GARCH volatility model"
   ]
  },
  {
   "cell_type": "markdown",
   "id": "2d4c1724",
   "metadata": {},
   "source": [
    "Fit a volatility model that handles both regular and unexpected market moves, then look at the model’s fit through its residuals."
   ]
  },
  {
   "cell_type": "code",
   "execution_count": null,
   "id": "dd40bc3b",
   "metadata": {},
   "outputs": [],
   "source": [
    "gjr_garch_model = arch_model(log_returns * 100, vol=\"Garch\", p=1, o=1, q=1, dist=\"normal\")\n",
    "gjr_garch_result = gjr_garch_model.fit(disp=\"off\")\n",
    "residuals = gjr_garch_result.resid"
   ]
  },
  {
   "cell_type": "markdown",
   "id": "6a0ac636",
   "metadata": {},
   "source": [
    "We build a volatility model designed for real market behavior, including reactions to sudden downturns. This model adjusts for the common patterns in price swings and helps us estimate how unpredictable returns can be. After fitting the model to our data, we pull out what's left unexplained by the model—these differences, called residuals, show how well the model fits."
   ]
  },
  {
   "cell_type": "markdown",
   "id": "e1ad16d3",
   "metadata": {},
   "source": [
    "Plot the residuals to spot patterns the model might have missed and assess its performance visually."
   ]
  },
  {
   "cell_type": "code",
   "execution_count": null,
   "id": "627d5584",
   "metadata": {},
   "outputs": [],
   "source": [
    "plt.figure(figsize=(10, 4))\n",
    "plt.plot(residuals.index, residuals)\n",
    "plt.title(\"GJR-GARCH Model Residuals\")\n",
    "plt.ylabel(\"Residual\")\n",
    "plt.xlabel(\"Date\")\n",
    "plt.tight_layout()\n",
    "plt.show()"
   ]
  },
  {
   "cell_type": "markdown",
   "id": "6bc82574",
   "metadata": {},
   "source": [
    "We display the model's residuals to see if there's structure left unaccounted for. Smooth and random-looking residuals suggest the model has done a good job capturing the dynamics in our data. Any obvious clusters or patterns might indicate areas for model improvement. Looking at this plot helps us decide whether the model is reliable for understanding NVIDIA's volatility."
   ]
  },
  {
   "cell_type": "markdown",
   "id": "571ac99d",
   "metadata": {},
   "source": [
    "<a href=\"https://pyquantnews.com/\">PyQuant News</a> is where finance practitioners level up with Python for quant finance, algorithmic trading, and market data analysis. Looking to get started? Check out the fastest growing, top-selling course to <a href=\"https://gettingstartedwithpythonforquantfinance.com/\">get started with Python for quant finance</a>. For educational purposes. Not investment advice. Use at your own risk."
   ]
  }
 ],
 "metadata": {
  "jupytext": {
   "cell_metadata_filter": "-all",
   "main_language": "python",
   "notebook_metadata_filter": "-all"
  }
 },
 "nbformat": 4,
 "nbformat_minor": 5
}
