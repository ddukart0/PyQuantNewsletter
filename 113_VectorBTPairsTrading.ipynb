{
 "cells": [
  {
   "cell_type": "markdown",
   "id": "79e43a1f",
   "metadata": {},
   "source": [
    "<div style=\"background-color:#000;\"><img src=\"pqn.png\"></img></div>"
   ]
  },
  {
   "cell_type": "markdown",
   "id": "fd78a817",
   "metadata": {},
   "source": [
    "## Download and prepare the data"
   ]
  },
  {
   "cell_type": "markdown",
   "id": "1bbaeb43-d88e-44e7-b4a5-0faadbe008dd",
   "metadata": {},
   "source": [
    "We start by loading the S&P 500 tickers and downloading historical price data for each ticker. The data will be saved locally to avoid repeated downloads."
   ]
  },
  {
   "cell_type": "code",
   "execution_count": null,
   "id": "e3722322",
   "metadata": {},
   "outputs": [],
   "source": [
    "import time\n",
    "from vectorbtpro import *\n",
    "import pandas as pd\n",
    "import scipy.stats as st\n",
    "import statsmodels.tsa.stattools as ts  \n",
    "import numpy as np\n",
    "import warnings\n",
    "warnings.filterwarnings(\"ignore\")"
   ]
  },
  {
   "cell_type": "code",
   "execution_count": null,
   "id": "ef90958a",
   "metadata": {},
   "outputs": [],
   "source": [
    "sp500_tickers = pd.read_html('https://en.wikipedia.org/wiki/List_of_S%26P_500_companies')[0]['Symbol'].tolist()"
   ]
  },
  {
   "cell_type": "code",
   "execution_count": null,
   "id": "4c3ce971",
   "metadata": {},
   "outputs": [],
   "source": [
    "COINT_FILE = \"coint_pvalues.pickle\"\n",
    "POOL_FILE = \"data_pool.h5\"\n",
    "START = \"2015-01-01\"\n",
    "END = \"2023-12-31\""
   ]
  },
  {
   "cell_type": "code",
   "execution_count": null,
   "id": "23311753",
   "metadata": {},
   "outputs": [],
   "source": [
    "if not vbt.file_exists(POOL_FILE):\n",
    "    with vbt.ProgressBar(total=len(sp500_tickers)) as pbar:  \n",
    "        collected = 0\n",
    "        for symbol in sp500_tickers:\n",
    "            try:\n",
    "                data = vbt.YFData.pull(\n",
    "                    symbol, \n",
    "                    start=START,\n",
    "                    end=END,\n",
    "                    silence_warnings=True,\n",
    "                )\n",
    "                data.to_hdf(POOL_FILE)  \n",
    "                collected += 1\n",
    "            except:\n",
    "                pass\n",
    "            pbar.set_prefix(f\"{symbol} ({collected})\")  \n",
    "            pbar.update()"
   ]
  },
  {
   "cell_type": "code",
   "execution_count": null,
   "id": "cbc151e4",
   "metadata": {},
   "outputs": [],
   "source": [
    "data = vbt.HDFData.pull(\n",
    "    POOL_FILE, \n",
    "    start=START, \n",
    "    end=END, \n",
    "    silence_warnings=True\n",
    ")"
   ]
  },
  {
   "cell_type": "code",
   "execution_count": null,
   "id": "932cead7",
   "metadata": {},
   "outputs": [],
   "source": [
    "data = data.select_symbols([\n",
    "    k \n",
    "    for k, v in data.data.items() \n",
    "    if not v.isnull().any().any()\n",
    "])"
   ]
  },
  {
   "cell_type": "markdown",
   "id": "9fd75f1e-d941-46d9-8893-a79dd1e2d9e9",
   "metadata": {},
   "source": [
    "We retrieve the tickers of S&P 500 companies from Wikipedia. Using these tickers, we download historical price data from Yahoo Finance for a specified date range. If the data does not already exist locally, we save it in a file for future use. We also ensure the data is complete by filtering out any symbols with missing values."
   ]
  },
  {
   "cell_type": "markdown",
   "id": "fe87cce1",
   "metadata": {},
   "source": [
    "## Perform cointegration test"
   ]
  },
  {
   "cell_type": "markdown",
   "id": "e7447264-3b93-47a8-9e62-7f2e68759fff",
   "metadata": {
    "lines_to_next_cell": 1
   },
   "source": [
    "Next, we perform a cointegration test on the closing prices of the stocks. This helps us identify pairs of stocks that have a statistically significant relationship."
   ]
  },
  {
   "cell_type": "code",
   "execution_count": null,
   "id": "ab57b5ec",
   "metadata": {
    "lines_to_next_cell": 1
   },
   "outputs": [],
   "source": [
    "@vbt.parameterized(\n",
    "    merge_func=\"concat\", \n",
    "    engine=\"pathos\",\n",
    "    distribute=\"chunks\",  \n",
    "    n_chunks=\"auto\"  \n",
    ")\n",
    "def coint_pvalue(close, s1, s2):\n",
    "    return ts.coint(np.log(close[s1]), np.log(close[s2]))[1]"
   ]
  },
  {
   "cell_type": "code",
   "execution_count": null,
   "id": "731777e9",
   "metadata": {},
   "outputs": [],
   "source": [
    "if not vbt.file_exists(COINT_FILE):\n",
    "    coint_pvalues = coint_pvalue(  \n",
    "        data.close,\n",
    "        vbt.Param(data.symbols, condition=\"s1 != s2\"),  \n",
    "        vbt.Param(data.symbols)\n",
    "    )\n",
    "    vbt.save(coint_pvalues, COINT_FILE)\n",
    "else:\n",
    "    coint_pvalues = vbt.load(COINT_FILE)"
   ]
  },
  {
   "cell_type": "code",
   "execution_count": null,
   "id": "2bf39686",
   "metadata": {},
   "outputs": [],
   "source": [
    "coint_pvalues = coint_pvalues.sort_values()\n",
    "coint_pvalues.head(20)"
   ]
  },
  {
   "cell_type": "markdown",
   "id": "cd7219c7-2b05-4341-a9cd-84a2a52bf086",
   "metadata": {},
   "source": [
    "We define a function to compute the p-value of the cointegration test between two time series. We iterate through all possible pairs of stocks to calculate their p-values, indicating the likelihood that they are cointegrated. The results are saved to a file to avoid recalculating them. We then load the p-values and sort them to find the most significant pairs."
   ]
  },
  {
   "cell_type": "markdown",
   "id": "6cdea0b6",
   "metadata": {},
   "source": [
    "## Visualize the cointegrated pairs"
   ]
  },
  {
   "cell_type": "markdown",
   "id": "148c9bef-a0ed-495b-98cf-2e262208b7ed",
   "metadata": {},
   "source": [
    "We visualize the price movements of two highly cointegrated stocks and their log difference. This helps us understand their relationship."
   ]
  },
  {
   "cell_type": "code",
   "execution_count": null,
   "id": "a97c85ed",
   "metadata": {},
   "outputs": [],
   "source": [
    "S1, S2 = \"WYNN\", \"DVN\""
   ]
  },
  {
   "cell_type": "code",
   "execution_count": null,
   "id": "9e5abecd",
   "metadata": {},
   "outputs": [],
   "source": [
    "data.plot(column=\"Close\", symbol=[S1, S2], base=1).show()"
   ]
  },
  {
   "cell_type": "code",
   "execution_count": null,
   "id": "433581bd",
   "metadata": {},
   "outputs": [],
   "source": [
    "S1_log = np.log(data.get(\"Close\", S1))  \n",
    "S2_log = np.log(data.get(\"Close\", S2))\n",
    "log_diff = (S2_log - S1_log).rename(\"Log diff\")\n",
    "fig = log_diff.vbt.plot()\n",
    "fig.add_hline(y=log_diff.mean(), line_color=\"yellow\", line_dash=\"dot\")\n",
    "fig.show()"
   ]
  },
  {
   "cell_type": "code",
   "execution_count": null,
   "id": "6873f114",
   "metadata": {},
   "outputs": [],
   "source": [
    "data = vbt.YFData.pull(\n",
    "    [S1, S2], \n",
    "    start=START,\n",
    "    end=END,\n",
    "    silence_warnings=True,\n",
    ")"
   ]
  },
  {
   "cell_type": "markdown",
   "id": "266de639-ace7-49a8-b634-94154e08bc83",
   "metadata": {},
   "source": [
    "We select two stocks from the most significant cointegrated pairs. We plot their closing prices to visually inspect their relationship. We then calculate the log difference between their prices and plot it, including a horizontal line for the mean. This visualization helps us see how the stocks move together over time."
   ]
  },
  {
   "cell_type": "markdown",
   "id": "9e177535",
   "metadata": {},
   "source": [
    "## Build and backtest the trading strategy"
   ]
  },
  {
   "cell_type": "markdown",
   "id": "38533515-d147-4aa4-ad9d-bb9f5b6406da",
   "metadata": {},
   "source": [
    "We set up a simple pairs trading strategy based on the z-score of the spread between the two stocks. We then backtest the strategy using historical data."
   ]
  },
  {
   "cell_type": "code",
   "execution_count": null,
   "id": "14ddc915",
   "metadata": {},
   "outputs": [],
   "source": [
    "UPPER = st.norm.ppf(1 - 0.05 / 2)  \n",
    "LOWER = -st.norm.ppf(1 - 0.05 / 2)"
   ]
  },
  {
   "cell_type": "code",
   "execution_count": null,
   "id": "7ebc9a52",
   "metadata": {},
   "outputs": [],
   "source": [
    "S1_close = data.get(\"Close\", S1)\n",
    "S2_close = data.get(\"Close\", S2)\n",
    "ols = vbt.OLS.run(S1_close, S2_close, window=vbt.Default(21))\n",
    "spread = ols.error.rename(\"Spread\")\n",
    "zscore = ols.zscore.rename(\"Z-score\")\n",
    "print(pd.concat((spread, zscore), axis=1))"
   ]
  },
  {
   "cell_type": "code",
   "execution_count": null,
   "id": "d6811199",
   "metadata": {},
   "outputs": [],
   "source": [
    "upper_crossed = zscore.vbt.crossed_above(UPPER)\n",
    "lower_crossed = zscore.vbt.crossed_below(LOWER)"
   ]
  },
  {
   "cell_type": "code",
   "execution_count": null,
   "id": "e889724c",
   "metadata": {},
   "outputs": [],
   "source": [
    "fig = zscore.vbt.plot()\n",
    "fig.add_hline(y=UPPER, line_color=\"orangered\", line_dash=\"dot\")\n",
    "fig.add_hline(y=0, line_color=\"yellow\", line_dash=\"dot\")\n",
    "fig.add_hline(y=LOWER, line_color=\"limegreen\", line_dash=\"dot\")\n",
    "upper_crossed.vbt.signals.plot_as_exits(zscore, fig=fig)\n",
    "lower_crossed.vbt.signals.plot_as_entries(zscore, fig=fig)\n",
    "fig.show()"
   ]
  },
  {
   "cell_type": "code",
   "execution_count": null,
   "id": "5c4b2d7c",
   "metadata": {},
   "outputs": [],
   "source": [
    "long_entries = data.symbol_wrapper.fill(False)\n",
    "short_entries = data.symbol_wrapper.fill(False)"
   ]
  },
  {
   "cell_type": "code",
   "execution_count": null,
   "id": "a4b78d74",
   "metadata": {},
   "outputs": [],
   "source": [
    "short_entries.loc[upper_crossed, S1] = True\n",
    "long_entries.loc[upper_crossed, S2] = True\n",
    "long_entries.loc[lower_crossed, S1] = True\n",
    "short_entries.loc[lower_crossed, S2] = True"
   ]
  },
  {
   "cell_type": "code",
   "execution_count": null,
   "id": "95add456",
   "metadata": {},
   "outputs": [],
   "source": [
    "pf = vbt.Portfolio.from_signals(\n",
    "    data,\n",
    "    entries=long_entries,\n",
    "    short_entries=short_entries,\n",
    "    size=10,  \n",
    "    size_type=\"valuepercent100\",  \n",
    "    group_by=True,  \n",
    "    cash_sharing=True,\n",
    "    call_seq=\"auto\"\n",
    ")"
   ]
  },
  {
   "cell_type": "code",
   "execution_count": null,
   "id": "ddfe9976",
   "metadata": {},
   "outputs": [],
   "source": [
    "pf.stats()"
   ]
  },
  {
   "cell_type": "markdown",
   "id": "fa7850be-044c-46e8-8493-8af2e2e2e0b8",
   "metadata": {},
   "source": [
    "We determine the upper and lower thresholds for the z-score based on a 95% confidence interval. We calculate the spread and its z-score for the selected stock pair using a rolling window. When the z-score crosses above the upper threshold, we generate a short signal for the first stock and a long signal for the second stock. Conversely, when the z-score crosses below the lower threshold, we generate a long signal for the first stock and a short signal for the second stock. We then create a portfolio based on these signals and compute its performance statistics."
   ]
  },
  {
   "cell_type": "markdown",
   "id": "7e4fa130",
   "metadata": {},
   "source": [
    "## Your next steps"
   ]
  },
  {
   "cell_type": "markdown",
   "id": "144cd938-394c-41a6-b6c3-348a8d18514a",
   "metadata": {},
   "source": [
    "Try experimenting with different stock pairs or changing the window size for calculating the z-score. You can also adjust the confidence interval to see how it affects the trading signals. These changes can help you understand the impact of different parameters on the performance of the trading strategy."
   ]
  },
  {
   "cell_type": "markdown",
   "id": "c46d4bb5",
   "metadata": {},
   "source": [
    "<a href=\"https://pyquantnews.com/\">PyQuant News</a> is where finance practitioners level up with Python for quant finance, algorithmic trading, and market data analysis. Looking to get started? Check out the fastest growing, top-selling course to <a href=\"https://gettingstartedwithpythonforquantfinance.com/\">get started with Python for quant finance</a>. For educational purposes. Not investment advise. Use at your own risk."
   ]
  }
 ],
 "metadata": {
  "jupytext": {
   "cell_metadata_filter": "-all",
   "main_language": "python",
   "notebook_metadata_filter": "-all"
  },
  "kernelspec": {
   "display_name": "Python 3 (ipykernel)",
   "language": "python",
   "name": "python3"
  },
  "language_info": {
   "codemirror_mode": {
    "name": "ipython",
    "version": 3
   },
   "file_extension": ".py",
   "mimetype": "text/x-python",
   "name": "python",
   "nbconvert_exporter": "python",
   "pygments_lexer": "ipython3",
   "version": "3.10.13"
  }
 },
 "nbformat": 4,
 "nbformat_minor": 5
}
