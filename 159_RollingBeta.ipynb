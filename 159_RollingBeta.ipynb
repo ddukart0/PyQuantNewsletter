{
 "cells": [
  {
   "cell_type": "markdown",
   "id": "82c2012c",
   "metadata": {},
   "source": [
    "<div style=\"background-color:#000;\"><img src=\"pqn.png\"></img></div>"
   ]
  },
  {
   "cell_type": "markdown",
   "id": "44f07427",
   "metadata": {},
   "source": [
    "## Imports and setup"
   ]
  },
  {
   "cell_type": "markdown",
   "id": "aa3f859c",
   "metadata": {},
   "source": [
    "We use these libraries to collect historical market data, organize and store it efficiently, and work with dates and times. These tools have everything we need to analyze stock market performance over time."
   ]
  },
  {
   "cell_type": "code",
   "execution_count": null,
   "id": "bfc26919",
   "metadata": {},
   "outputs": [],
   "source": [
    "import datetime as dt"
   ]
  },
  {
   "cell_type": "code",
   "execution_count": null,
   "id": "9f9699f9",
   "metadata": {},
   "outputs": [],
   "source": [
    "import arcticdb as adb\n",
    "import yfinance as yf"
   ]
  },
  {
   "cell_type": "markdown",
   "id": "6a04748b",
   "metadata": {},
   "source": [
    "Here, we create a direct connection to a local database where we'll keep our financial data. Setting up this library once makes saving and reusing data much faster."
   ]
  },
  {
   "cell_type": "code",
   "execution_count": null,
   "id": "201bd686",
   "metadata": {},
   "outputs": [],
   "source": [
    "arctic = adb.Arctic(\"lmdb://arcticdb_equity\")\n",
    "lib = arctic.get_library(\"demo\", create_if_missing=True)"
   ]
  },
  {
   "cell_type": "markdown",
   "id": "c4c3c6f3",
   "metadata": {
    "lines_to_next_cell": 2
   },
   "source": [
    "This setup initializes our data environment so we can easily store results and access them later. The code creates a workspace that holds our downloaded information, reducing the need for repeated downloads."
   ]
  },
  {
   "cell_type": "markdown",
   "id": "985fbf49",
   "metadata": {},
   "source": [
    "## Download and store market data"
   ]
  },
  {
   "cell_type": "markdown",
   "id": "36a93fe8",
   "metadata": {},
   "source": [
    "We define the time period to study, the daily frequency, and choose a mix of iconic global stocks and an index. We then fetch all the historical price data at once."
   ]
  },
  {
   "cell_type": "code",
   "execution_count": null,
   "id": "729f9c4a",
   "metadata": {},
   "outputs": [],
   "source": [
    "start = dt.datetime(2013, 1, 1)\n",
    "end = dt.datetime(2022, 12, 31)\n",
    "freq = \"1d\"\n",
    "symbols = {\n",
    "    \"^GSPC\": \"S&P 500\",\n",
    "    \"AAPL\": \"Apple\",\n",
    "    \"MSFT\": \"Microsoft\",\n",
    "    \"GOOG\": \"Google\",\n",
    "    \"AMZN\": \"Amazon\",\n",
    "    \"NVDA\": \"Nvidia\",\n",
    "    \"META\": \"Meta\",\n",
    "    \"TSLA\": \"Tesla\",\n",
    "    \"TSM\": \"TSMC\",\n",
    "    \"TCEHY\": \"Tencent\",\n",
    "    \"005930.KS\": \"Samsung\",\n",
    "    \"ORCL\": \"Oracle\",\n",
    "    \"ADBE\": \"Adobe\",\n",
    "    \"ASML\": \"ASML\",\n",
    "    \"CSCO\": \"Cisco\",\n",
    "}"
   ]
  },
  {
   "cell_type": "code",
   "execution_count": null,
   "id": "8160365c",
   "metadata": {},
   "outputs": [],
   "source": [
    "hist = yf.download(list(symbols.keys()), interval=freq, start=start, end=end)"
   ]
  },
  {
   "cell_type": "markdown",
   "id": "812b91e8",
   "metadata": {
    "lines_to_next_cell": 2
   },
   "source": [
    "This block pulls daily data for each chosen company and index from a reliable source covering nearly a decade. We define our universe upfront, making our analysis clear and repeatable.\n",
    "By setting a consistent start and end date, we make sure we’re comparing all assets on equal footing. Storing the returned data means we can work efficiently with it later with no repeated downloads."
   ]
  },
  {
   "cell_type": "markdown",
   "id": "1918b989",
   "metadata": {},
   "source": [
    "For each price type—like \"Close\" or \"Open\"—we save that data to our database. This means we can access any type of price history we want, organized for easy future use."
   ]
  },
  {
   "cell_type": "code",
   "execution_count": null,
   "id": "b9c3e2f2",
   "metadata": {},
   "outputs": [],
   "source": [
    "for l in hist.columns.levels[0]:\n",
    "    lib.write(l, hist[l])"
   ]
  },
  {
   "cell_type": "markdown",
   "id": "8bb6e90b",
   "metadata": {
    "lines_to_next_cell": 2
   },
   "source": [
    "We loop through different categories of price information and write each one to our data library. This step gives us flexibility to analyze any aspect of the market data later.\n",
    "Because different stocks may have data formatted in slightly different ways, breaking it down by type ensures nothing gets missed. Writing these organized sections helps us avoid confusion later."
   ]
  },
  {
   "cell_type": "markdown",
   "id": "a446ca44",
   "metadata": {},
   "source": [
    "## Clean and process price data"
   ]
  },
  {
   "cell_type": "markdown",
   "id": "f4f6733f",
   "metadata": {},
   "source": [
    "We grab all historical closing prices, fill in any missing days with the latest available value, and check for gaps. We then calculate day-to-day returns and store them for analysis."
   ]
  },
  {
   "cell_type": "code",
   "execution_count": null,
   "id": "8de861e1",
   "metadata": {},
   "outputs": [],
   "source": [
    "hist_adj_close = lib.read(\"Close\").data\n",
    "hist_adj_close_clean = hist_adj_close.ffill()\n",
    "hist_adj_close_clean.isnull().any().any()\n",
    "hist_daily_returns = hist_adj_close_clean.pct_change(1).iloc[1:]\n",
    "returns_sym = \"hist/returns_Close_clean\"\n",
    "lib.write(returns_sym, hist_daily_returns)"
   ]
  },
  {
   "cell_type": "markdown",
   "id": "aaa1f0d4",
   "metadata": {
    "lines_to_next_cell": 2
   },
   "source": [
    "This section ensures we have a complete, consistent record for every asset—even if some markets took holidays or missed a day. Filling missing spots with the most recent value keeps our measures real and avoids errors.\n",
    "We measure performance as percentage change from one day to the next, a standard way to compare very different stocks. These new results are also saved, making future steps much faster."
   ]
  },
  {
   "cell_type": "markdown",
   "id": "3ef01bee",
   "metadata": {},
   "source": [
    "## Calculate and visualize rolling betas"
   ]
  },
  {
   "cell_type": "markdown",
   "id": "7c38883d",
   "metadata": {},
   "source": [
    "We focus on a more recent time window, then compare each stock’s day-to-day performance with the S&P 500. For each company, we calculate how much it tends to move in line with the market, updating our measure every six months or so."
   ]
  },
  {
   "cell_type": "code",
   "execution_count": null,
   "id": "f7b6f333",
   "metadata": {},
   "outputs": [],
   "source": [
    "index_ticker = \"^GSPC\"\n",
    "roll_days = 130\n",
    "beta_start = dt.datetime(2018, 1, 1)\n",
    "beta_end = dt.datetime(2022, 12, 31)\n",
    "beta_returns = lib.read(returns_sym, date_range=(beta_start, beta_end)).data\n",
    "index_returns = beta_returns[index_ticker]\n",
    "stock_returns = beta_returns.drop(columns=index_ticker)"
   ]
  },
  {
   "cell_type": "code",
   "execution_count": null,
   "id": "fbe61bc6",
   "metadata": {},
   "outputs": [],
   "source": [
    "rolling_cov = stock_returns.rolling(roll_days).cov(index_returns).iloc[roll_days - 1 :]\n",
    "rolling_index_var = index_returns.rolling(roll_days).var().iloc[roll_days - 1 :]\n",
    "rolling_beta = rolling_cov.divide(rolling_index_var, axis=\"index\").rename(\n",
    "    columns=symbols\n",
    ")"
   ]
  },
  {
   "cell_type": "code",
   "execution_count": null,
   "id": "12ac0b8d",
   "metadata": {},
   "outputs": [],
   "source": [
    "ax = rolling_beta.plot(grid=True, linewidth=0.9, title=f\"Rolling {roll_days}-day beta\")\n",
    "ax.legend(loc=\"upper left\")"
   ]
  },
  {
   "cell_type": "markdown",
   "id": "9874bccd",
   "metadata": {},
   "source": [
    "By looking at performance in overlapping six-month periods, we see how each stock’s link to the wider market changes over time. We first measure how closely each one tracks the S&P 500, then turn this into an intuitive “beta” score.\n",
    "A higher beta means a stock tends to move more than the market, while something near zero tracks it less closely. Finally, we plot these results together, letting patterns and differences stand out clearly. This gives us a practical view of risk and correlation across global leaders."
   ]
  },
  {
   "cell_type": "markdown",
   "id": "0ca6feef",
   "metadata": {},
   "source": [
    "<a href=\"https://pyquantnews.com/\">PyQuant News</a> is where finance practitioners level up with Python for quant finance, algorithmic trading, and market data analysis. Looking to get started? Check out the fastest growing, top-selling course to <a href=\"https://gettingstartedwithpythonforquantfinance.com/\">get started with Python for quant finance</a>. For educational purposes. Not investment advice. Use at your own risk."
   ]
  }
 ],
 "metadata": {
  "jupytext": {
   "cell_metadata_filter": "-all",
   "main_language": "python",
   "notebook_metadata_filter": "-all"
  }
 },
 "nbformat": 4,
 "nbformat_minor": 5
}
