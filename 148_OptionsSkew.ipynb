{
 "cells": [
  {
   "cell_type": "markdown",
   "id": "32e8250e",
   "metadata": {},
   "source": [
    "<div style=\"background-color:#000;\"><img src=\"pqn.png\"></img></div>"
   ]
  },
  {
   "cell_type": "markdown",
   "id": "4253164f",
   "metadata": {},
   "source": [
    "These libraries help us fetch stock data, analyze options, and visualize results"
   ]
  },
  {
   "cell_type": "code",
   "execution_count": null,
   "id": "f7798a7a",
   "metadata": {},
   "outputs": [],
   "source": [
    "import numpy as np\n",
    "import pandas as pd\n",
    "import yfinance as yf\n",
    "from matplotlib import pyplot as plt"
   ]
  },
  {
   "cell_type": "markdown",
   "id": "38ac5ded",
   "metadata": {},
   "source": [
    "### Fetch option data for PLTR"
   ]
  },
  {
   "cell_type": "markdown",
   "id": "c4c8160a",
   "metadata": {},
   "source": [
    "We'll start by getting the options chain for Palantir Technologies (PLTR) with an expiration date of July 18, 2025."
   ]
  },
  {
   "cell_type": "code",
   "execution_count": null,
   "id": "5cd1367a",
   "metadata": {},
   "outputs": [],
   "source": [
    "ticker = \"PLTR\"\n",
    "stock = yf.Ticker(ticker)\n",
    "options_chain = stock.option_chain(\"2025-07-18\")"
   ]
  },
  {
   "cell_type": "code",
   "execution_count": null,
   "id": "909ed931",
   "metadata": {
    "lines_to_next_cell": 1
   },
   "outputs": [],
   "source": [
    "calls = options_chain.calls\n",
    "puts = options_chain.puts"
   ]
  },
  {
   "cell_type": "markdown",
   "id": "ccc58444",
   "metadata": {},
   "source": [
    "We use the yfinance library to fetch option data for PLTR. We create a Ticker object for PLTR and request its option chain for the specified date. The data is split into two DataFrames: one for call options and another for put options."
   ]
  },
  {
   "cell_type": "markdown",
   "id": "42da7e5e",
   "metadata": {},
   "source": [
    "### Clean and process option data"
   ]
  },
  {
   "cell_type": "markdown",
   "id": "5cbbea20",
   "metadata": {},
   "source": [
    "Now we'll define functions to clean our data and build an implied volatility grid."
   ]
  },
  {
   "cell_type": "code",
   "execution_count": null,
   "id": "003d4c50",
   "metadata": {},
   "outputs": [],
   "source": [
    "def clean(df):\n",
    "    cols = [\"strike\", \"impliedVolatility\"]\n",
    "    return (\n",
    "        df[cols]\n",
    "        .dropna(subset=[\"impliedVolatility\"])\n",
    "        .drop_duplicates(\"strike\")\n",
    "        .astype({\"strike\": float, \"impliedVolatility\": float})\n",
    "        .sort_values(\"strike\")\n",
    "        .set_index(\"strike\")\n",
    "    )"
   ]
  },
  {
   "cell_type": "code",
   "execution_count": null,
   "id": "dc55ae3b",
   "metadata": {
    "lines_to_next_cell": 1
   },
   "outputs": [],
   "source": [
    "def build_iv_grid(df):\n",
    "    df_iv = clean(df)\n",
    "    strike_grid = np.arange(df_iv.index.min(), df_iv.index.max() + 1, 1.0)\n",
    "    return (\n",
    "        df_iv.reindex(strike_grid)\n",
    "        .interpolate(method=\"linear\")\n",
    "        .rename_axis(\"strike\")\n",
    "        .reset_index()\n",
    "    )"
   ]
  },
  {
   "cell_type": "markdown",
   "id": "42583d58",
   "metadata": {},
   "source": [
    "We define two functions: clean and build_iv_grid. The clean function filters and formats our data, keeping only the strike price and implied volatility columns. The build_iv_grid function creates a uniform grid of strike prices and interpolates the implied volatility values. This helps us create a smooth volatility curve."
   ]
  },
  {
   "cell_type": "markdown",
   "id": "ee2d1545",
   "metadata": {},
   "source": [
    "### Plot volatility skew for calls and puts"
   ]
  },
  {
   "cell_type": "markdown",
   "id": "26959c4b",
   "metadata": {},
   "source": [
    "Finally, we'll create and plot the volatility skew for both call and put options."
   ]
  },
  {
   "cell_type": "code",
   "execution_count": null,
   "id": "94de21ea",
   "metadata": {},
   "outputs": [],
   "source": [
    "call_skew = build_iv_grid(calls)"
   ]
  },
  {
   "cell_type": "code",
   "execution_count": null,
   "id": "4a09ac25",
   "metadata": {},
   "outputs": [],
   "source": [
    "plt.plot(call_skew.strike, call_skew.impliedVolatility)"
   ]
  },
  {
   "cell_type": "code",
   "execution_count": null,
   "id": "1e77dc57",
   "metadata": {},
   "outputs": [],
   "source": [
    "put_skew = build_iv_grid(puts)"
   ]
  },
  {
   "cell_type": "code",
   "execution_count": null,
   "id": "1ecd82a7",
   "metadata": {},
   "outputs": [],
   "source": [
    "plt.plot(put_skew.strike, put_skew.impliedVolatility)"
   ]
  },
  {
   "cell_type": "markdown",
   "id": "f22ed644",
   "metadata": {},
   "source": [
    "We apply our build_iv_grid function to both the call and put options data. This gives us a smooth curve of implied volatilities across different strike prices. We then plot these curves using matplotlib. The resulting graph shows the volatility skew for both call and put options, allowing us to visualize how implied volatility changes with the strike price."
   ]
  },
  {
   "cell_type": "markdown",
   "id": "840e6746",
   "metadata": {},
   "source": [
    "<a href=\"https://pyquantnews.com/\">PyQuant News</a> is where finance practitioners level up with Python for quant finance, algorithmic trading, and market data analysis. Looking to get started? Check out the fastest growing, top-selling course to <a href=\"https://gettingstartedwithpythonforquantfinance.com/\">get started with Python for quant finance</a>. For educational purposes. Not investment advise. Use at your own risk."
   ]
  }
 ],
 "metadata": {
  "jupytext": {
   "cell_metadata_filter": "-all",
   "main_language": "python",
   "notebook_metadata_filter": "-all"
  },
  "kernelspec": {
   "display_name": "Python 3 (ipykernel)",
   "language": "python",
   "name": "python3"
  },
  "language_info": {
   "codemirror_mode": {
    "name": "ipython",
    "version": 3
   },
   "file_extension": ".py",
   "mimetype": "text/x-python",
   "name": "python",
   "nbconvert_exporter": "python",
   "pygments_lexer": "ipython3",
   "version": "3.10.13"
  }
 },
 "nbformat": 4,
 "nbformat_minor": 5
}
