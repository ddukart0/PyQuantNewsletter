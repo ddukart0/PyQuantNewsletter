{
 "cells": [
  {
   "cell_type": "markdown",
   "id": "dce95214",
   "metadata": {},
   "source": [
    "<div style=\"background-color:#000;\"><img src=\"pqn.png\"></img></div>"
   ]
  },
  {
   "cell_type": "markdown",
   "id": "c151f80e",
   "metadata": {},
   "source": [
    "## Imports and setup"
   ]
  },
  {
   "cell_type": "markdown",
   "id": "7f959af9",
   "metadata": {},
   "source": [
    "We’re pulling in specialized tools for getting financial data, crunching numbers, and running backtests. This group of libraries gives us everything we need to handle price history and simulate trading strategies."
   ]
  },
  {
   "cell_type": "code",
   "execution_count": null,
   "id": "287c41bb",
   "metadata": {},
   "outputs": [],
   "source": [
    "import pandas as pd\n",
    "import numpy as np\n",
    "import yfinance as yf"
   ]
  },
  {
   "cell_type": "markdown",
   "id": "5bb0cb9d",
   "metadata": {},
   "source": [
    "These libraries bring in both core and extended functions for quantitative trading analysis, including the core backtesting framework, trading calendar, and custom commissions or trading costs."
   ]
  },
  {
   "cell_type": "code",
   "execution_count": null,
   "id": "81dbe7ea",
   "metadata": {},
   "outputs": [],
   "source": [
    "import zipline\n",
    "from zipline.api import set_slippage, set_commission, order_target_percent, symbol, schedule_function, date_rules, time_rules\n",
    "from zipline.utils.calendars import get_calendar\n",
    "from zipline.finance import commission, slippage"
   ]
  },
  {
   "cell_type": "code",
   "execution_count": null,
   "id": "28f21f76",
   "metadata": {},
   "outputs": [],
   "source": [
    "from zipline.data.bundles import register, unregister\n",
    "import shutil\n",
    "import os"
   ]
  },
  {
   "cell_type": "code",
   "execution_count": null,
   "id": "513fb722",
   "metadata": {},
   "outputs": [],
   "source": [
    "from zipline.data.bundles.core import ingest\n",
    "from zipline.data.bundles.yahoofinance import yahoo_equities"
   ]
  },
  {
   "cell_type": "code",
   "execution_count": null,
   "id": "e4e01d8f",
   "metadata": {},
   "outputs": [],
   "source": [
    "from zipline import run_algorithm\n",
    "from zipline.api import set_benchmark"
   ]
  },
  {
   "cell_type": "markdown",
   "id": "9874d1dd",
   "metadata": {
    "lines_to_next_cell": 2
   },
   "source": [
    "This set of imports will let us collect and prepare price data, then set up our environment for running and evaluating an investment strategy. By using these, we can backtest well-defined, rules-based strategies with real price history."
   ]
  },
  {
   "cell_type": "markdown",
   "id": "1d0e2769",
   "metadata": {},
   "source": [
    "## Load and process stock price data"
   ]
  },
  {
   "cell_type": "markdown",
   "id": "3be6d1f6",
   "metadata": {},
   "source": [
    "Here, we gather several years of daily price data for well-known tech companies and clean it up to remove any gaps."
   ]
  },
  {
   "cell_type": "code",
   "execution_count": null,
   "id": "58534939",
   "metadata": {},
   "outputs": [],
   "source": [
    "tickers = [\"AAPL\", \"MSFT\", \"GOOGL\", \"META\", \"AMZN\"]\n",
    "start_date = \"2016-01-01\"\n",
    "end_date = \"2023-12-31\""
   ]
  },
  {
   "cell_type": "code",
   "execution_count": null,
   "id": "98cca97f",
   "metadata": {},
   "outputs": [],
   "source": [
    "price_data = yf.download(tickers, start=start_date, end=end_date, progress=False)[\"Adj Close\"]\n",
    "price_data = price_data.dropna(axis=0, how=\"any\")"
   ]
  },
  {
   "cell_type": "markdown",
   "id": "32f9bd95",
   "metadata": {},
   "source": [
    "We select a handful of familiar technology stocks and specify the time period for our backtest. To keep our calculations clean, we pull only the adjusted closing prices—these reflect splits and dividends to show the truest value. We then remove any days with missing data so our later calculations won’t trip us up or give misleading results."
   ]
  },
  {
   "cell_type": "markdown",
   "id": "9068a901",
   "metadata": {},
   "source": [
    "Next, we calculate how much each stock's price changes every day and build a factor based on those moves, which will drive our trading signals."
   ]
  },
  {
   "cell_type": "code",
   "execution_count": null,
   "id": "afd48a13",
   "metadata": {},
   "outputs": [],
   "source": [
    "mean_rev_window = 5\n",
    "returns = price_data.pct_change()\n",
    "factor_scores = -(returns - returns.rolling(mean_rev_window).mean())\n",
    "factor_scores = factor_scores.shift(1)"
   ]
  },
  {
   "cell_type": "markdown",
   "id": "bdcde26f",
   "metadata": {
    "lines_to_next_cell": 2
   },
   "source": [
    "We’re focusing on mean reversion—a quick way to spot when a stock's price jump is out of sync with its recent history. For each stock, we compare today's price change to its average over the last few days. If something looks “too high” compared to where it’s been, that becomes a potential sell signal, and if “too low,” a buy. By shifting these signals one day back, we make sure our backtest uses only information that would have been known in real life, not future facts."
   ]
  },
  {
   "cell_type": "markdown",
   "id": "27bf61d2",
   "metadata": {},
   "source": [
    "## Define and configure trading strategy"
   ]
  },
  {
   "cell_type": "markdown",
   "id": "92736028",
   "metadata": {},
   "source": [
    "We map stock tickers into the trading engine’s format so we can access each security by name, and set up the core functions that will apply our trading rules and manage costs."
   ]
  },
  {
   "cell_type": "code",
   "execution_count": null,
   "id": "c6acfa8f",
   "metadata": {
    "lines_to_next_cell": 1
   },
   "outputs": [],
   "source": [
    "assets = {t: symbol(t) for t in tickers}"
   ]
  },
  {
   "cell_type": "code",
   "execution_count": null,
   "id": "f9b7567a",
   "metadata": {
    "lines_to_next_cell": 1
   },
   "outputs": [],
   "source": [
    "def initialize(context):\n",
    "    set_slippage(slippage.FixedSlippage(spread=0.0))\n",
    "    set_commission(commission.PerShare(cost=0.001))\n",
    "    context.assets = [symbol(t) for t in tickers]\n",
    "    schedule_function(rebalance, date_rule=date_rules.every_day(), time_rule=time_rules.market_open(minutes=1))"
   ]
  },
  {
   "cell_type": "code",
   "execution_count": null,
   "id": "d5829c20",
   "metadata": {},
   "outputs": [],
   "source": [
    "def rebalance(context, data):\n",
    "    date = data.current_dt.strftime('%Y-%m-%d')\n",
    "    if date not in factor_scores.index:\n",
    "        return\n",
    "    scores = factor_scores.loc[date]\n",
    "    scores = scores.dropna()\n",
    "    if len(scores) == 0:\n",
    "        return\n",
    "    scores = scores.sort_values(ascending=False)\n",
    "    top = scores.head(2)\n",
    "    bottom = scores.tail(2)\n",
    "    weights = pd.Series(0, index=scores.index)\n",
    "    if len(top) > 0:\n",
    "        weights[top.index] = 0.5 / len(top)\n",
    "    if len(bottom) > 0:\n",
    "        weights[bottom.index] = -0.5 / len(bottom)\n",
    "    for t in scores.index:\n",
    "        order_target_percent(assets[t], weights[t])"
   ]
  },
  {
   "cell_type": "markdown",
   "id": "35526e0e",
   "metadata": {
    "lines_to_next_cell": 2
   },
   "source": [
    "Here, we tell the trading engine to treat all the stocks in our list as “tradeable,” and then define our main strategy logic. Our rules work like this: every day, shortly after the open, we sort the stocks by their mean reversion signal. We’re looking to buy the two that look most “oversold” and sell (or short) the two that look most “overbought.” We then split our cash so that our buys and sells each add up to about half our portfolio, targeting balance between long and short bets. We set up small, fixed per-share trading costs and simulate perfectly efficient trading without extra cost from spread. This function gets called automatically at the scheduled time."
   ]
  },
  {
   "cell_type": "markdown",
   "id": "3abc6149",
   "metadata": {},
   "source": [
    "## Build and register the data bundle"
   ]
  },
  {
   "cell_type": "markdown",
   "id": "31b16562",
   "metadata": {},
   "source": [
    "We make sure the data we use for backtesting is stored in a format the trading engine expects, cleaning up any old data and loading a fresh copy specific to our stocks and timeframe."
   ]
  },
  {
   "cell_type": "code",
   "execution_count": null,
   "id": "5ecdb8ec",
   "metadata": {},
   "outputs": [],
   "source": [
    "bundle_name = \"meanrev_bundle\""
   ]
  },
  {
   "cell_type": "code",
   "execution_count": null,
   "id": "5afa1cf1",
   "metadata": {},
   "outputs": [],
   "source": [
    "if bundle_name in zipline.data.bundles.bundles:\n",
    "    unregister(bundle_name)\n",
    "if os.path.exists(os.path.expanduser(f\"~/.zipline/data/{bundle_name}\")):\n",
    "    shutil.rmtree(os.path.expanduser(f\"~/.zipline/data/{bundle_name}\"))"
   ]
  },
  {
   "cell_type": "code",
   "execution_count": null,
   "id": "2883e1e0",
   "metadata": {},
   "outputs": [],
   "source": [
    "register(\n",
    "    bundle_name,\n",
    "    yahoo_equities(tickers, start=start_date, end=end_date, show_progress=True),\n",
    ")"
   ]
  },
  {
   "cell_type": "code",
   "execution_count": null,
   "id": "3f2b5b04",
   "metadata": {},
   "outputs": [],
   "source": [
    "ingest(bundle_name, show_progress=True)"
   ]
  },
  {
   "cell_type": "markdown",
   "id": "88da7336",
   "metadata": {
    "lines_to_next_cell": 2
   },
   "source": [
    "Before running our simulation, we need to process our data into a neat “bundle.” We remove any old versions of this dataset to avoid confusion, then build and save a fresh feed from Yahoo Finance. This ensures that when the backtest runs, it gets consistent and up-to-date data tailored just for this model."
   ]
  },
  {
   "cell_type": "markdown",
   "id": "7ff67f2d",
   "metadata": {},
   "source": [
    "## Run the backtest and view results"
   ]
  },
  {
   "cell_type": "markdown",
   "id": "db9b8c3a",
   "metadata": {},
   "source": [
    "Now, we set our simulation parameters, run the backtest, and visualize how our trading rules performed over time."
   ]
  },
  {
   "cell_type": "code",
   "execution_count": null,
   "id": "2f67624d",
   "metadata": {
    "lines_to_next_cell": 1
   },
   "outputs": [],
   "source": [
    "calendar = get_calendar(\"XNYS\")\n",
    "capital_base = 100000"
   ]
  },
  {
   "cell_type": "code",
   "execution_count": null,
   "id": "40a29710",
   "metadata": {
    "lines_to_next_cell": 1
   },
   "outputs": [],
   "source": [
    "def before_trading_start(context, data):\n",
    "    set_benchmark(symbol(\"AAPL\"))"
   ]
  },
  {
   "cell_type": "code",
   "execution_count": null,
   "id": "d255a101",
   "metadata": {},
   "outputs": [],
   "source": [
    "results = run_algorithm(\n",
    "    start=pd.Timestamp(start_date, tz=\"utc\"),\n",
    "    end=pd.Timestamp(end_date, tz=\"utc\"),\n",
    "    initialize=initialize,\n",
    "    before_trading_start=before_trading_start,\n",
    "    capital_base=capital_base,\n",
    "    bundle=bundle_name,\n",
    "    trading_calendar=calendar,\n",
    ")"
   ]
  },
  {
   "cell_type": "code",
   "execution_count": null,
   "id": "ae388385",
   "metadata": {},
   "outputs": [],
   "source": [
    "results[[\"portfolio_value\"]].plot(title=\"Mean Reversion Strategy Portfolio Value\", figsize=(12, 6))"
   ]
  },
  {
   "cell_type": "markdown",
   "id": "4b2846e8",
   "metadata": {},
   "source": [
    "We tell the backtester to use the New York stock market’s calendar, and start with a cash balance of $100,000. Before trading each day, we use Apple as our yardstick to compare results. Then we fire off our simulation, guiding it with our rules and the pre-loaded data. Finally, we generate a chart showing how the total value of our account changed over the years—this gives us a quick, honest read on whether our mean reversion approach would have been successful with real money."
   ]
  },
  {
   "cell_type": "markdown",
   "id": "f832e549",
   "metadata": {},
   "source": [
    "<a href=\"https://pyquantnews.com/\">PyQuant News</a> is where finance practitioners level up with Python for quant finance, algorithmic trading, and market data analysis. Looking to get started? Check out the fastest growing, top-selling course to <a href=\"https://gettingstartedwithpythonforquantfinance.com/\">get started with Python for quant finance</a>. For educational purposes. Not investment advice. Use at your own risk."
   ]
  }
 ],
 "metadata": {
  "jupytext": {
   "cell_metadata_filter": "-all",
   "main_language": "python",
   "notebook_metadata_filter": "-all"
  }
 },
 "nbformat": 4,
 "nbformat_minor": 5
}
