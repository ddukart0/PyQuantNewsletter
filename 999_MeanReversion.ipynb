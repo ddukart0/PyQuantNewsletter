{
 "cells": [
  {
   "cell_type": "markdown",
   "id": "684d01a9",
   "metadata": {},
   "source": [
    "<div style=\"background-color:#000;\"><img src=\"pqn.png\"></img></div>"
   ]
  },
  {
   "cell_type": "markdown",
   "id": "5c0c7db4",
   "metadata": {},
   "source": [
    "## Imports and setup"
   ]
  },
  {
   "cell_type": "markdown",
   "id": "d941b4ae",
   "metadata": {},
   "source": [
    "We bring in libraries for handling data, pulling stock prices, and running a trading backtest. These tools give us everything we need to analyze the market and simulate a strategy."
   ]
  },
  {
   "cell_type": "code",
   "execution_count": null,
   "id": "a069521e",
   "metadata": {},
   "outputs": [],
   "source": [
    "import pandas as pd\n",
    "import numpy as np\n",
    "import yfinance as yf\n",
    "from zipline.reloaded import run_algorithm\n",
    "from zipline.api import order_target_percent, symbol, record, set_benchmark\n",
    "from datetime import datetime"
   ]
  },
  {
   "cell_type": "markdown",
   "id": "74a80f28",
   "metadata": {},
   "source": [
    "We set up our time range and define the list of stocks we want to analyze. We also start pulling close prices from Yahoo Finance for our selected stocks."
   ]
  },
  {
   "cell_type": "code",
   "execution_count": null,
   "id": "e441008e",
   "metadata": {},
   "outputs": [],
   "source": [
    "start_date = pd.Timestamp('2018-01-01', tz='utc')\n",
    "end_date = pd.Timestamp('2023-01-01', tz='utc')\n",
    "symbols = ['AAPL', 'MSFT', 'GOOG', 'NVDA', 'AMZN']\n",
    "yf_data = yf.download(symbols, start=start_date, end=end_date, auto_adjust=True)['Close']\n",
    "yf_data = yf_data.fillna(method='ffill')\n",
    "yf_data = yf_data.dropna(how='all')\n",
    "yf_data = yf_data[symbols]\n",
    "yf_data.index = yf_data.index.tz_localize('utc')"
   ]
  },
  {
   "cell_type": "markdown",
   "id": "588417f6",
   "metadata": {},
   "source": [
    "This block creates a set of stock price data, fills in any missing values by carrying forward earlier prices, and narrows down our table so it only includes the stocks we care about. We also make sure that all the times are matched to the right timezone, which is required by our backtesting tool."
   ]
  },
  {
   "cell_type": "code",
   "execution_count": null,
   "id": "1f213d97",
   "metadata": {},
   "outputs": [],
   "source": [
    "panel = pd.Panel({sym: pd.DataFrame({'close': yf_data[sym]}) for sym in symbols})"
   ]
  },
  {
   "cell_type": "markdown",
   "id": "59a865bb",
   "metadata": {
    "lines_to_next_cell": 2
   },
   "source": [
    "We build an easy-to-use data structure from our cleaned price data so our backtesting engine gets the format it expects. Each stock's price history is stored in a simple table, so we avoid any messy data handling during the backtest."
   ]
  },
  {
   "cell_type": "markdown",
   "id": "94fe88ff",
   "metadata": {},
   "source": [
    "## Strategy logic and execution"
   ]
  },
  {
   "cell_type": "markdown",
   "id": "267a8493",
   "metadata": {},
   "source": [
    "We write the setup and daily logic for our trading strategy. These functions tell the backtest how to start, which stocks to use, and what decisions to make each day."
   ]
  },
  {
   "cell_type": "code",
   "execution_count": null,
   "id": "0670b997",
   "metadata": {
    "lines_to_next_cell": 1
   },
   "outputs": [],
   "source": [
    "def initialize(context):\n",
    "    context.symbols = [symbol(s) for s in symbols]\n",
    "    set_benchmark(symbol('AAPL'))"
   ]
  },
  {
   "cell_type": "code",
   "execution_count": null,
   "id": "bd57b436",
   "metadata": {},
   "outputs": [],
   "source": [
    "def handle_data(context, data):\n",
    "    prices = np.array([data.current(s, 'price') for s in context.symbols])\n",
    "    returns = np.array([data.history(s, 'price', 5, '1d').pct_change().mean() for s in context.symbols])\n",
    "    mean = np.nanmean(returns)\n",
    "    zscores = (returns - mean) / (np.nanstd(returns) + 1e-8)\n",
    "    weights = -zscores\n",
    "    weights = weights / np.nansum(np.abs(weights))\n",
    "    for i, s in enumerate(context.symbols):\n",
    "        order_target_percent(s, weights[i])\n",
    "    record(leverage=np.sum(np.abs(weights)))"
   ]
  },
  {
   "cell_type": "markdown",
   "id": "88fddd13",
   "metadata": {
    "lines_to_next_cell": 2
   },
   "source": [
    "These functions create our rebalancing rules. The first part sets up our strategy at the start, picking the stocks and setting the benchmark we'll measure performance against. The daily function looks back at recent price changes, calculates a score for each stock, and decides how much to invest in each one. We use a simple process—buy underperformers and sell outperformers, based on how far their returns are from the average. Every day, we track how much we're investing to keep an eye on risk."
   ]
  },
  {
   "cell_type": "markdown",
   "id": "df40a1a4",
   "metadata": {},
   "source": [
    "## Running the backtest"
   ]
  },
  {
   "cell_type": "markdown",
   "id": "4e304881",
   "metadata": {},
   "source": [
    "We launch the backtest using our prepared data and trading rules. Results are collected so we can measure performance and risk."
   ]
  },
  {
   "cell_type": "code",
   "execution_count": null,
   "id": "f8543886",
   "metadata": {},
   "outputs": [],
   "source": [
    "metrics = run_algorithm(\n",
    "    start=start_date,\n",
    "    end=end_date,\n",
    "    initialize=initialize,\n",
    "    capital_base=1e5,\n",
    "    handle_data=handle_data,\n",
    "    data=panel\n",
    ")"
   ]
  },
  {
   "cell_type": "markdown",
   "id": "aec58f65",
   "metadata": {
    "lines_to_next_cell": 2
   },
   "source": [
    "The backtest runs the strategy over our chosen dates, using real stock prices. Each day, it follows the trading rules and tracks how our investment grows or shrinks. All the results are collected in one table for easy review."
   ]
  },
  {
   "cell_type": "markdown",
   "id": "b77c90b8",
   "metadata": {},
   "source": [
    "## Viewing key results"
   ]
  },
  {
   "cell_type": "markdown",
   "id": "61dc74fa",
   "metadata": {},
   "source": [
    "We focus on two numbers—the value of our portfolio over time, and how much we're leveraging our bets."
   ]
  },
  {
   "cell_type": "code",
   "execution_count": null,
   "id": "01409385",
   "metadata": {},
   "outputs": [],
   "source": [
    "metrics[['portfolio_value', 'leverage']]"
   ]
  },
  {
   "cell_type": "markdown",
   "id": "9e38f67b",
   "metadata": {},
   "source": [
    "We pull just the core results so we can quickly see if our approach stays within reasonable risk levels and how our wealth changes day to day. It's a simple way to check if the strategy is holding up in practice."
   ]
  },
  {
   "cell_type": "markdown",
   "id": "278b24aa",
   "metadata": {},
   "source": [
    "<a href=\"https://pyquantnews.com/\">PyQuant News</a> is where finance practitioners level up with Python for quant finance, algorithmic trading, and market data analysis. Looking to get started? Check out the fastest growing, top-selling course to <a href=\"https://gettingstartedwithpythonforquantfinance.com/\">get started with Python for quant finance</a>. For educational purposes. Not investment advice. Use at your own risk."
   ]
  }
 ],
 "metadata": {
  "jupytext": {
   "cell_metadata_filter": "-all",
   "main_language": "python",
   "notebook_metadata_filter": "-all"
  }
 },
 "nbformat": 4,
 "nbformat_minor": 5
}
