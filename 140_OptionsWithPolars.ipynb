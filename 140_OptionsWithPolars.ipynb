{
 "cells": [
  {
   "cell_type": "markdown",
   "id": "6d81ef78",
   "metadata": {},
   "source": [
    "<div style=\"background-color:#000;\"><img src=\"pqn.png\"></img></div>"
   ]
  },
  {
   "cell_type": "markdown",
   "id": "16988fb6",
   "metadata": {},
   "source": [
    "These libraries help us work with data, dates, and create visualizations"
   ]
  },
  {
   "cell_type": "code",
   "execution_count": null,
   "id": "2e25e64d",
   "metadata": {
    "lines_to_next_cell": 1
   },
   "outputs": [],
   "source": [
    "import glob\n",
    "import os\n",
    "import datetime as dt\n",
    "import polars as pl\n",
    "import matplotlib.pyplot as plt"
   ]
  },
  {
   "cell_type": "markdown",
   "id": "b8f9b0f5",
   "metadata": {},
   "source": [
    "We use these libraries to handle file operations, work with dates, process data efficiently, and create plots. They provide the tools we need for our financial data analysis."
   ]
  },
  {
   "cell_type": "markdown",
   "id": "c5c46add",
   "metadata": {},
   "source": [
    "## Read and process option chain data"
   ]
  },
  {
   "cell_type": "markdown",
   "id": "1583e1f1",
   "metadata": {},
   "source": [
    "First, we define a function to read and process option chain data from CSV files"
   ]
  },
  {
   "cell_type": "code",
   "execution_count": null,
   "id": "fd5f79a2",
   "metadata": {
    "lines_to_next_cell": 1
   },
   "outputs": [],
   "source": [
    "def read_chains(fl):\n",
    "    df = (\n",
    "        pl.read_csv(fl)\n",
    "          .with_columns([\n",
    "              pl.col(\"date\").str.to_datetime(\"%m/%d/%Y\", strict=False),\n",
    "              pl.col(\"option_expiration\").str.to_datetime(\"%m/%d/%Y\", strict=False),\n",
    "              pl.col(\"forward_price\")\n",
    "                .cast(pl.Float64, strict=False)\n",
    "                .fill_null(pl.lit(None).cast(pl.Float64))\n",
    "          ])\n",
    "          .sort(\"date\")\n",
    "    )\n",
    "    return df"
   ]
  },
  {
   "cell_type": "markdown",
   "id": "b9982fee",
   "metadata": {},
   "source": [
    "This function reads a CSV file and processes its contents. It converts date columns to datetime format and ensures the forward price is handled correctly. The function then sorts the data by date and returns the processed dataframe."
   ]
  },
  {
   "cell_type": "markdown",
   "id": "432bfa86",
   "metadata": {},
   "source": [
    "Now we use this function to read all CSV files in a specific directory"
   ]
  },
  {
   "cell_type": "code",
   "execution_count": null,
   "id": "dd6ff0f5",
   "metadata": {
    "lines_to_next_cell": 1
   },
   "outputs": [],
   "source": [
    "files = glob.glob(os.path.join(\"rut-eod\", \"*.csv\"))\n",
    "df = pl.concat([read_chains(fl) for fl in files], how=\"vertical_relaxed\")"
   ]
  },
  {
   "cell_type": "markdown",
   "id": "477fe8bf",
   "metadata": {},
   "source": [
    "We locate all CSV files in the \"rut-eod\" directory and read them using our read_chains function. The resulting dataframes are combined into a single large dataframe containing all the option chain data."
   ]
  },
  {
   "cell_type": "markdown",
   "id": "a0659045",
   "metadata": {},
   "source": [
    "## Define helper functions for data analysis"
   ]
  },
  {
   "cell_type": "markdown",
   "id": "5bd4e2a6",
   "metadata": {},
   "source": [
    "We create two helper functions to extract specific data from our main dataframe"
   ]
  },
  {
   "cell_type": "code",
   "execution_count": null,
   "id": "93545604",
   "metadata": {
    "lines_to_next_cell": 1
   },
   "outputs": [],
   "source": [
    "def read_vol_curve(df, as_of_date, underlying, expiry, delta_low, delta_high):\n",
    "    return (\n",
    "        df\n",
    "        .filter(\n",
    "            (pl.col(\"date\") == as_of_date)\n",
    "            & (pl.col(\"symbol\") == underlying)\n",
    "            & (pl.col(\"option_expiration\") == expiry)\n",
    "            & (\n",
    "                ((pl.col(\"delta\") >= delta_low) & (pl.col(\"delta\") <= delta_high))\n",
    "                | ((pl.col(\"delta\") >= -delta_high) & (pl.col(\"delta\") <= -delta_low))\n",
    "            )\n",
    "        )\n",
    "        .group_by(\"strike\")\n",
    "        .agg(pl.col(\"iv\").mean().alias(\"iv_mean\"))\n",
    "        .sort(\"strike\")\n",
    "    )"
   ]
  },
  {
   "cell_type": "code",
   "execution_count": null,
   "id": "f1032c19",
   "metadata": {
    "lines_to_next_cell": 1
   },
   "outputs": [],
   "source": [
    "def query_expirations(df, as_of_date, underlying, dte=30):\n",
    "    cutoff_date = as_of_date + dt.timedelta(days=dte)\n",
    "\n",
    "    return (\n",
    "        df\n",
    "        .filter(\n",
    "            (pl.col(\"date\") == as_of_date) &\n",
    "            (pl.col(\"symbol\") == underlying) &\n",
    "            (pl.col(\"option_expiration\") > cutoff_date)\n",
    "        )\n",
    "        .group_by(\"option_expiration\")\n",
    "        .agg(pl.col(\"volume\").sum().alias(\"total_volume\"))\n",
    "        .sort(\"option_expiration\")\n",
    "        .get_column(\"option_expiration\")\n",
    "        .to_list()\n",
    "    )"
   ]
  },
  {
   "cell_type": "markdown",
   "id": "990c5c36",
   "metadata": {},
   "source": [
    "These functions help us extract specific data from our main dataframe. The read_vol_curve function filters and processes data to create a volatility curve, while query_expirations finds relevant expiration dates based on given criteria."
   ]
  },
  {
   "cell_type": "markdown",
   "id": "fc646f6e",
   "metadata": {},
   "source": [
    "## Set parameters and create volatility smile plot"
   ]
  },
  {
   "cell_type": "markdown",
   "id": "bbae726f",
   "metadata": {},
   "source": [
    "We set our parameters and create a plot of the volatility smile"
   ]
  },
  {
   "cell_type": "code",
   "execution_count": null,
   "id": "b7286bca",
   "metadata": {},
   "outputs": [],
   "source": [
    "as_of_date = dt.datetime(2013, 6, 3)\n",
    "expiry = dt.datetime(2015, 12, 18)\n",
    "underlying = \"RUT\"\n",
    "dte = 30\n",
    "delta_low = 0.05\n",
    "delta_high = 0.50"
   ]
  },
  {
   "cell_type": "code",
   "execution_count": null,
   "id": "57bc4176",
   "metadata": {},
   "outputs": [],
   "source": [
    "expiries = query_expirations(df, as_of_date, underlying, dte)\n",
    "fig, ax = plt.subplots(figsize=(10, 6))\n",
    "cmap = plt.get_cmap(\"rainbow\", len(expiries))\n",
    "format_kw = {\"linewidth\": 0.5, \"alpha\": 0.85}\n",
    "\n",
    "for i, expiry in enumerate(expiries):\n",
    "    curve = read_vol_curve(\n",
    "        df,\n",
    "        as_of_date, \n",
    "        underlying, \n",
    "        expiry, \n",
    "        delta_low, \n",
    "        delta_high\n",
    "    )\n",
    "    ax.plot(\n",
    "        curve[\"strike\"], \n",
    "        curve[\"iv_mean\"],\n",
    "        label=expiry.strftime(\"%Y-%m-%d\"),\n",
    "        color=cmap(i),\n",
    "        **format_kw\n",
    "    )\n",
    "ax.set_ylabel(\"implied volatility\")\n",
    "ax.legend(loc=\"upper right\", framealpha=0.7)"
   ]
  },
  {
   "cell_type": "markdown",
   "id": "8369b475",
   "metadata": {},
   "source": [
    "We set our analysis parameters, including the date, underlying asset, and delta range. We then query for relevant expiration dates and create a plot. For each expiration, we calculate and plot the volatility curve. This creates a visual representation of the volatility smile across different expiration dates."
   ]
  },
  {
   "cell_type": "markdown",
   "id": "c25965c2",
   "metadata": {},
   "source": [
    "<a href=\"https://pyquantnews.com/\">PyQuant News</a> is where finance practitioners level up with Python for quant finance, algorithmic trading, and market data analysis. Looking to get started? Check out the fastest growing, top-selling course to <a href=\"https://gettingstartedwithpythonforquantfinance.com/\">get started with Python for quant finance</a>. For educational purposes. Not investment advise. Use at your own risk."
   ]
  }
 ],
 "metadata": {
  "jupytext": {
   "cell_metadata_filter": "-all",
   "main_language": "python",
   "notebook_metadata_filter": "-all"
  },
  "kernelspec": {
   "display_name": "Python 3 (ipykernel)",
   "language": "python",
   "name": "python3"
  },
  "language_info": {
   "codemirror_mode": {
    "name": "ipython",
    "version": 3
   },
   "file_extension": ".py",
   "mimetype": "text/x-python",
   "name": "python",
   "nbconvert_exporter": "python",
   "pygments_lexer": "ipython3",
   "version": "3.10.13"
  }
 },
 "nbformat": 4,
 "nbformat_minor": 5
}
