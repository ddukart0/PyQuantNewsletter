{
 "cells": [
  {
   "cell_type": "markdown",
   "id": "07ba76ac",
   "metadata": {},
   "source": [
    "<div style=\"background-color:#000;\"><img src=\"pqn.png\"></img></div>"
   ]
  },
  {
   "cell_type": "markdown",
   "id": "c79ba47f",
   "metadata": {},
   "source": [
    "These libraries help us fetch financial data, manipulate it, and visualize the results"
   ]
  },
  {
   "cell_type": "code",
   "execution_count": null,
   "id": "b0d09dc9",
   "metadata": {},
   "outputs": [],
   "source": [
    "import yfinance as yf\n",
    "import pandas as pd\n",
    "import numpy as np\n",
    "import matplotlib.pyplot as plt\n",
    "from scipy import stats"
   ]
  },
  {
   "cell_type": "markdown",
   "id": "8fe8a9b7",
   "metadata": {},
   "source": [
    "### Fetch and prepare SPY data"
   ]
  },
  {
   "cell_type": "markdown",
   "id": "3de0ae8e",
   "metadata": {},
   "source": [
    "We'll get SPY data for the last 5 years and calculate its daily returns."
   ]
  },
  {
   "cell_type": "code",
   "execution_count": null,
   "id": "effe5db9",
   "metadata": {},
   "outputs": [],
   "source": [
    "spy = yf.Ticker(\"SPY\")\n",
    "data = spy.history(period=\"5y\")\n",
    "returns = data['Close'].pct_change().dropna()"
   ]
  },
  {
   "cell_type": "markdown",
   "id": "7c971e77",
   "metadata": {},
   "source": [
    "We use yfinance to download SPY stock data for the past 5 years. Then, we calculate the daily percentage change in closing prices. This gives us the daily returns. We remove any missing values to ensure our data is clean and ready for analysis."
   ]
  },
  {
   "cell_type": "markdown",
   "id": "f1a494d9",
   "metadata": {},
   "source": [
    "### Calculate distribution statistics"
   ]
  },
  {
   "cell_type": "markdown",
   "id": "bffd7af6",
   "metadata": {},
   "source": [
    "Now we'll compute the skewness and kurtosis of the returns."
   ]
  },
  {
   "cell_type": "code",
   "execution_count": null,
   "id": "d29ddc33",
   "metadata": {},
   "outputs": [],
   "source": [
    "skewness = returns.skew()\n",
    "kurtosis = returns.kurtosis()"
   ]
  },
  {
   "cell_type": "code",
   "execution_count": null,
   "id": "d952d703",
   "metadata": {},
   "outputs": [],
   "source": [
    "print(f\"Skewness: {skewness:.4f}\")\n",
    "print(f\"Kurtosis: {kurtosis:.4f}\")"
   ]
  },
  {
   "cell_type": "markdown",
   "id": "c01fb8e0",
   "metadata": {},
   "source": [
    "We calculate two important measures of the returns distribution. Skewness tells us about the symmetry of the distribution. Kurtosis gives us information about the tails of the distribution. These values help us understand how the returns are distributed compared to a normal distribution."
   ]
  },
  {
   "cell_type": "markdown",
   "id": "22b4c641",
   "metadata": {},
   "source": [
    "### Visualize the distribution"
   ]
  },
  {
   "cell_type": "markdown",
   "id": "7af0cb80",
   "metadata": {},
   "source": [
    "Let's create a histogram of the returns and overlay a normal distribution for comparison."
   ]
  },
  {
   "cell_type": "code",
   "execution_count": null,
   "id": "671ea1f6",
   "metadata": {},
   "outputs": [],
   "source": [
    "plt.figure(figsize=(10, 6))\n",
    "returns.hist(bins=50, density=True, alpha=0.7)\n",
    "xmin, xmax = plt.xlim()\n",
    "x = np.linspace(xmin, xmax, 100)\n",
    "p = stats.norm.pdf(x, returns.mean(), returns.std())\n",
    "plt.plot(x, p, 'k', linewidth=2)\n",
    "plt.title(\"SPY Daily Returns Distribution\")\n",
    "plt.xlabel(\"Returns\")\n",
    "plt.ylabel(\"Frequency\")\n",
    "plt.show()"
   ]
  },
  {
   "cell_type": "markdown",
   "id": "fa7b4bf5",
   "metadata": {},
   "source": [
    "We create a histogram of the returns to visually represent their distribution. We set the number of bins to 50 for a detailed view. We also calculate and plot a normal distribution curve using the mean and standard deviation of our returns. This allows us to compare our actual returns distribution to what a normal distribution would look like."
   ]
  },
  {
   "cell_type": "markdown",
   "id": "eb689e9c",
   "metadata": {},
   "source": [
    "<a href=\"https://pyquantnews.com/\">PyQuant News</a> is where finance practitioners level up with Python for quant finance, algorithmic trading, and market data analysis. Looking to get started? Check out the fastest growing, top-selling course to <a href=\"https://gettingstartedwithpythonforquantfinance.com/\">get started with Python for quant finance</a>. For educational purposes. Not investment advise. Use at your own risk."
   ]
  }
 ],
 "metadata": {
  "jupytext": {
   "cell_metadata_filter": "-all",
   "main_language": "python",
   "notebook_metadata_filter": "-all"
  },
  "kernelspec": {
   "display_name": "Python 3 (ipykernel)",
   "language": "python",
   "name": "python3"
  },
  "language_info": {
   "codemirror_mode": {
    "name": "ipython",
    "version": 3
   },
   "file_extension": ".py",
   "mimetype": "text/x-python",
   "name": "python",
   "nbconvert_exporter": "python",
   "pygments_lexer": "ipython3",
   "version": "3.10.13"
  }
 },
 "nbformat": 4,
 "nbformat_minor": 5
}
