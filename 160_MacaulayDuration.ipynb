{
 "cells": [
  {
   "cell_type": "markdown",
   "id": "5aec45c3",
   "metadata": {},
   "source": [
    "<div style=\"background-color:#000;\"><img src=\"pqn.png\"></img></div>"
   ]
  },
  {
   "cell_type": "markdown",
   "id": "7ad8a10f",
   "metadata": {},
   "source": [
    "We use QuantLib to model fixed income securities and calculate analytics, datetime to handle dates, yFinance for accessing bond prices, and pandas to organize the results."
   ]
  },
  {
   "cell_type": "code",
   "execution_count": null,
   "id": "6bce30cd",
   "metadata": {},
   "outputs": [],
   "source": [
    "import QuantLib as ql\n",
    "import datetime\n",
    "import yfinance as yf\n",
    "import pandas as pd"
   ]
  },
  {
   "cell_type": "markdown",
   "id": "b29cd4cc",
   "metadata": {},
   "source": [
    "## Imports and setup"
   ]
  },
  {
   "cell_type": "markdown",
   "id": "9415d6cc",
   "metadata": {},
   "source": [
    "This block prepares the calendar and evaluation date for bond pricing operations using QuantLib."
   ]
  },
  {
   "cell_type": "code",
   "execution_count": null,
   "id": "2d5f2536",
   "metadata": {},
   "outputs": [],
   "source": [
    "today_date = datetime.date.today()\n",
    "calendar = ql.UnitedStates(ql.UnitedStates.GovernmentBond)\n",
    "ql.Settings.instance().evaluationDate = ql.Date(today_date.day, today_date.month, today_date.year)"
   ]
  },
  {
   "cell_type": "markdown",
   "id": "81d5a90f",
   "metadata": {},
   "source": [
    "This setup block tells QuantLib which calendar and market conventions to use for all date calculations. By setting the evaluation date to today, we tell the framework to reflect current market conditions when pricing and analyzing the bond."
   ]
  },
  {
   "cell_type": "markdown",
   "id": "4b4df4bd",
   "metadata": {},
   "source": [
    "## Specify bond terms and dates"
   ]
  },
  {
   "cell_type": "markdown",
   "id": "9cb494d0",
   "metadata": {},
   "source": [
    "Here, we define the bond’s basic terms, including coupon, maturity, and principal payout schedule."
   ]
  },
  {
   "cell_type": "code",
   "execution_count": null,
   "id": "7408b61a",
   "metadata": {},
   "outputs": [],
   "source": [
    "coupon_rate = 0.0445\n",
    "maturity_years = 30\n",
    "latest_price = 92.097\n",
    "issue_date = ql.Date(6, 5, 2014)\n",
    "maturity_date = calendar.advance(issue_date, ql.Period(maturity_years, ql.Years))"
   ]
  },
  {
   "cell_type": "code",
   "execution_count": null,
   "id": "8004b043",
   "metadata": {},
   "outputs": [],
   "source": [
    "frequency = ql.Semiannual\n",
    "day_count = ql.ActualActual(ql.ActualActual.ISDA)\n",
    "face_value = 100"
   ]
  },
  {
   "cell_type": "markdown",
   "id": "6673e482",
   "metadata": {},
   "source": [
    "We set the annual coupon, how often interest payments occur, and when the bond matures. We use QuantLib’s scheduling features to automatically determine when all future payments fall based on market conventions in the US for Treasury bonds."
   ]
  },
  {
   "cell_type": "markdown",
   "id": "0a46fcc6",
   "metadata": {},
   "source": [
    "This block builds the bond’s payment schedule and constructs a QuantLib bond object that will be used for pricing and risk calculations."
   ]
  },
  {
   "cell_type": "code",
   "execution_count": null,
   "id": "f658ebbb",
   "metadata": {},
   "outputs": [],
   "source": [
    "schedule = ql.Schedule(\n",
    "    issue_date,\n",
    "    maturity_date,\n",
    "    ql.Period(frequency),\n",
    "    calendar,\n",
    "    ql.Following,\n",
    "    ql.Following,\n",
    "    ql.DateGeneration.Backward,\n",
    "    False\n",
    ")"
   ]
  },
  {
   "cell_type": "code",
   "execution_count": null,
   "id": "fd0b6966",
   "metadata": {},
   "outputs": [],
   "source": [
    "fixed_rate_bond = ql.FixedRateBond(\n",
    "    0,\n",
    "    face_value,\n",
    "    schedule,\n",
    "    [coupon_rate],\n",
    "    day_count\n",
    ")"
   ]
  },
  {
   "cell_type": "markdown",
   "id": "5cd0d5a4",
   "metadata": {},
   "source": [
    "The payment schedule arranges all future cashflows based on the coupon and maturity. We create a plain vanilla fixed-rate bond using QuantLib, providing all the contract terms and conventions so that pricing and yield calculations stay accurate."
   ]
  },
  {
   "cell_type": "markdown",
   "id": "fd3c74f0",
   "metadata": {},
   "source": [
    "## Calculate yield and duration"
   ]
  },
  {
   "cell_type": "markdown",
   "id": "ea2dc0f9",
   "metadata": {},
   "source": [
    "This block calculates the bond’s yield to maturity and its risk to changes in interest rates by finding the Macaulay duration."
   ]
  },
  {
   "cell_type": "code",
   "execution_count": null,
   "id": "9ba7e4b9",
   "metadata": {},
   "outputs": [],
   "source": [
    "ytm_guess = coupon_rate\n",
    "compounding = ql.Compounded\n",
    "ytm = (coupon_rate + 0.01)\n",
    "bond_price = latest_price\n",
    "bond_yield = fixed_rate_bond.bondYield(\n",
    "    bond_price,\n",
    "    day_count,\n",
    "    compounding,\n",
    "    frequency\n",
    ")"
   ]
  },
  {
   "cell_type": "code",
   "execution_count": null,
   "id": "1881ae41",
   "metadata": {},
   "outputs": [],
   "source": [
    "macaulay_duration = ql.BondFunctions.duration(\n",
    "    fixed_rate_bond,\n",
    "    bond_yield,\n",
    "    day_count,\n",
    "    compounding,\n",
    "    frequency,\n",
    "    ql.Duration.Macaulay\n",
    ")"
   ]
  },
  {
   "cell_type": "markdown",
   "id": "b6a32e0a",
   "metadata": {},
   "source": [
    "Here, we use QuantLib to solve for the bond’s yield, which expresses the annualized return if held to maturity at today’s market price. We also get a practical summary statistic called duration, which tells us how sensitive the bond price is to moves in yields. Both are key numbers for anyone analyzing fixed income."
   ]
  },
  {
   "cell_type": "markdown",
   "id": "dcd62e90",
   "metadata": {},
   "source": [
    "## Display bond analytics"
   ]
  },
  {
   "cell_type": "markdown",
   "id": "aa71d5a2",
   "metadata": {},
   "source": [
    "This block displays the price, calculated yield to maturity, and Macaulay duration in a neat table using pandas."
   ]
  },
  {
   "cell_type": "code",
   "execution_count": null,
   "id": "94861e57",
   "metadata": {},
   "outputs": [],
   "source": [
    "pd.DataFrame({\n",
    "    \"Bond Price\": [bond_price],\n",
    "    \"Yield to Maturity\": [bond_yield],\n",
    "    \"Macaulay Duration (Years)\": [macaulay_duration]\n",
    "})"
   ]
  },
  {
   "cell_type": "markdown",
   "id": "61540b3f",
   "metadata": {},
   "source": [
    "We organize our results in a pandas DataFrame, giving us a clean, useful summary of all the main analytics. This format makes it easy to review, export, or compare results for this bond or others."
   ]
  },
  {
   "cell_type": "markdown",
   "id": "557bb8c8",
   "metadata": {},
   "source": [
    "<a href=\"https://pyquantnews.com/\">PyQuant News</a> is where finance practitioners level up with Python for quant finance, algorithmic trading, and market data analysis. Looking to get started? Check out the fastest growing, top-selling course to <a href=\"https://gettingstartedwithpythonforquantfinance.com/\">get started with Python for quant finance</a>. For educational purposes. Not investment advice. Use at your own risk."
   ]
  }
 ],
 "metadata": {
  "jupytext": {
   "cell_metadata_filter": "-all",
   "main_language": "python",
   "notebook_metadata_filter": "-all"
  }
 },
 "nbformat": 4,
 "nbformat_minor": 5
}
