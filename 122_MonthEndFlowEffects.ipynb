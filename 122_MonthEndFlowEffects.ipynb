{
 "cells": [
  {
   "cell_type": "markdown",
   "id": "fc41bbb7",
   "metadata": {},
   "source": [
    "<div style=\"background-color:#000;\"><img src=\"pqn.png\"></img></div>"
   ]
  },
  {
   "cell_type": "markdown",
   "id": "9aecd2b1",
   "metadata": {},
   "source": [
    "## Fetch and prepare TLT data for analysis"
   ]
  },
  {
   "cell_type": "markdown",
   "id": "0127d922-b58c-4a9b-870f-baa35e74c67c",
   "metadata": {},
   "source": [
    "We begin by downloading historical data for TLT, a long-term treasury bond ETF, using Yahoo Finance. We specify a start and end date to get data over a specific period. We then calculate the log returns to understand the percentage change in price."
   ]
  },
  {
   "cell_type": "code",
   "execution_count": null,
   "id": "4be4f99d",
   "metadata": {},
   "outputs": [],
   "source": [
    "import pandas as pd\n",
    "import numpy as np\n",
    "import yfinance as yf"
   ]
  },
  {
   "cell_type": "code",
   "execution_count": null,
   "id": "ce7456ce",
   "metadata": {},
   "outputs": [],
   "source": [
    "tlt = yf.download(\"TLT\", start=\"2002-01-01\", end=\"2024-06-30\")\n",
    "tlt[\"log_return\"] = np.log(tlt[\"Adj Close\"] / tlt[\"Adj Close\"].shift(1))"
   ]
  },
  {
   "cell_type": "markdown",
   "id": "b24375ed-73c5-4714-b143-89742d9859c4",
   "metadata": {},
   "source": [
    "This code fetches the adjusted closing prices for TLT from Yahoo Finance. It then calculates the log returns, which provide a continuous compounding measure of the rate of return. Log returns are useful because they are symmetric and additive over time. The `shift(1)` function aligns the prices for the current and previous day to compute the return. This creates a new column in our DataFrame to store log returns for each trading day."
   ]
  },
  {
   "cell_type": "markdown",
   "id": "cff9b4a8",
   "metadata": {},
   "source": [
    "## Analyze TLT returns by calendar day of the month"
   ]
  },
  {
   "cell_type": "markdown",
   "id": "7d99b633-b12a-4a6d-a375-250dec575fdd",
   "metadata": {},
   "source": [
    "We add the day of the month and year to the data. This allows us to categorize and analyze the returns based on specific days. We then compute the average log return for each day of the month and visualize it with a bar plot."
   ]
  },
  {
   "cell_type": "code",
   "execution_count": null,
   "id": "028be8dc",
   "metadata": {},
   "outputs": [],
   "source": [
    "tlt[\"day_of_month\"] = tlt.index.day\n",
    "tlt[\"year\"] = tlt.index.year\n",
    "grouped_by_day = tlt.groupby(\"day_of_month\").log_return.mean()\n",
    "grouped_by_day.plot.bar(title=\"Mean Log Returns by Calendar Day of Month\")"
   ]
  },
  {
   "cell_type": "markdown",
   "id": "fb83d645-d976-488e-92dd-63e5a802c4a2",
   "metadata": {},
   "source": [
    "The code extracts the day and year from the date index and adds them as new columns. It groups the data by the day of the month to calculate the mean log return for each day. This aggregation helps identify patterns or anomalies in returns on specific days. We use a bar plot to visualize these average returns, making it easier to spot trends or outliers."
   ]
  },
  {
   "cell_type": "markdown",
   "id": "230b6cff",
   "metadata": {},
   "source": [
    "## Compare returns from the first and last week of each month"
   ]
  },
  {
   "cell_type": "markdown",
   "id": "b35ca3ff-9939-4fff-a559-a225d7065a5e",
   "metadata": {},
   "source": [
    "We create two new columns to store returns for the first and last week of each month. We then calculate the difference between these two to analyze how returns change from the beginning to the end of the month."
   ]
  },
  {
   "cell_type": "code",
   "execution_count": null,
   "id": "06b1624c",
   "metadata": {},
   "outputs": [],
   "source": [
    "tlt[\"first_week_returns\"] = 0.0\n",
    "tlt.loc[tlt.day_of_month <= 7, \"first_week_returns\"] = tlt[tlt.day_of_month <= 7].log_return"
   ]
  },
  {
   "cell_type": "code",
   "execution_count": null,
   "id": "8e22651e",
   "metadata": {},
   "outputs": [],
   "source": [
    "tlt[\"last_week_returns\"] = 0.0\n",
    "tlt.loc[tlt.day_of_month >= 23, \"last_week_returns\"] = tlt[tlt.day_of_month >= 23].log_return"
   ]
  },
  {
   "cell_type": "code",
   "execution_count": null,
   "id": "aa31836d",
   "metadata": {},
   "outputs": [],
   "source": [
    "tlt[\"last_week_less_first_week\"] = tlt.last_week_returns - tlt.first_week_returns"
   ]
  },
  {
   "cell_type": "markdown",
   "id": "0df66b5a-871c-47f1-9ea5-0d7282ffb7c0",
   "metadata": {},
   "source": [
    "This section initializes two new columns to zero to store returns for specific weeks. It assigns log returns to `first_week_returns` for days 1 through 7 and to `last_week_returns` for days 23 through the end of the month. We calculate a new column `last_week_less_first_week` to find the difference between these two periods. This difference helps evaluate whether there are systematic return patterns between the start and end of the month."
   ]
  },
  {
   "cell_type": "markdown",
   "id": "f13d1934",
   "metadata": {},
   "source": [
    "## Visualize yearly and cumulative strategy returns"
   ]
  },
  {
   "cell_type": "markdown",
   "id": "b73bd9ef-04b6-4d23-a6c9-240269f0694f",
   "metadata": {},
   "source": [
    "We analyze the strategy returns by year and visualize them using bar plots. We also compute the cumulative returns over time, both annually and daily, to understand the overall performance of the strategy."
   ]
  },
  {
   "cell_type": "code",
   "execution_count": null,
   "id": "65729dae",
   "metadata": {},
   "outputs": [],
   "source": [
    "(\n",
    "    tlt.groupby(\"year\")\n",
    "    .last_week_less_first_week.mean()\n",
    "    .plot.bar(title=\"Mean Log Strategy Returns by Year\")\n",
    ")"
   ]
  },
  {
   "cell_type": "code",
   "execution_count": null,
   "id": "99b4bf5c",
   "metadata": {},
   "outputs": [],
   "source": [
    "(\n",
    "    tlt.groupby(\"year\")\n",
    "    .last_week_less_first_week.sum()\n",
    "    .cumsum()\n",
    "    .plot(title=\"Cumulative Sum of Returns By Year\")\n",
    ")"
   ]
  },
  {
   "cell_type": "code",
   "execution_count": null,
   "id": "c81b5847",
   "metadata": {},
   "outputs": [],
   "source": [
    "tlt.last_week_less_first_week.cumsum().plot(title=\"Cumulative Sum of Returns By Day\")\n",
    "tlt.log_return.cumsum().plot()"
   ]
  },
  {
   "cell_type": "markdown",
   "id": "3f237805-0905-4cd0-86a3-0864793ae5bb",
   "metadata": {},
   "source": [
    "We group the data by year and compute the average of `last_week_less_first_week` to understand annual performance. We use bar plots to visualize these yearly averages. To assess the long-term effectiveness, we calculate cumulative returns by summing up the yearly returns and plotting them. The cumulative plot by days gives a continuous view of the strategy's performance over the entire period. It helps visualize the growth or decline of investments over time, offering insights into the strategy's viability."
   ]
  },
  {
   "cell_type": "markdown",
   "id": "1383e114",
   "metadata": {},
   "source": [
    "## Your next steps"
   ]
  },
  {
   "cell_type": "markdown",
   "id": "32c0ee3c-b555-44e9-b322-e31e037ec211",
   "metadata": {},
   "source": [
    "Try altering the code to analyze a different asset or time period. You can change the ticker symbol or the date range to see how returns differ. Experiment with different months to check for seasonal patterns."
   ]
  },
  {
   "cell_type": "markdown",
   "id": "c2969a30",
   "metadata": {},
   "source": [
    "<a href=\"https://pyquantnews.com/\">PyQuant News</a> is where finance practitioners level up with Python for quant finance, algorithmic trading, and market data analysis. Looking to get started? Check out the fastest growing, top-selling course to <a href=\"https://gettingstartedwithpythonforquantfinance.com/\">get started with Python for quant finance</a>. For educational purposes. Not investment advise. Use at your own risk."
   ]
  },
  {
   "cell_type": "code",
   "execution_count": null,
   "id": "dfd1af79-9f18-4507-9753-d96dd288ba48",
   "metadata": {},
   "outputs": [],
   "source": []
  }
 ],
 "metadata": {
  "jupytext": {
   "cell_metadata_filter": "-all",
   "main_language": "python",
   "notebook_metadata_filter": "-all"
  },
  "kernelspec": {
   "display_name": "Python 3 (ipykernel)",
   "language": "python",
   "name": "python3"
  },
  "language_info": {
   "codemirror_mode": {
    "name": "ipython",
    "version": 3
   },
   "file_extension": ".py",
   "mimetype": "text/x-python",
   "name": "python",
   "nbconvert_exporter": "python",
   "pygments_lexer": "ipython3",
   "version": "3.10.13"
  }
 },
 "nbformat": 4,
 "nbformat_minor": 5
}
