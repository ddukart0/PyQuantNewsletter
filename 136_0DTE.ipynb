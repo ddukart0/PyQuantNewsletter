{
 "cells": [
  {
   "cell_type": "markdown",
   "id": "b1896617",
   "metadata": {},
   "source": [
    "<div style=\"background-color:#000;\"><img src=\"pqn.png\"></img></div>"
   ]
  },
  {
   "cell_type": "markdown",
   "id": "043f457f",
   "metadata": {},
   "source": [
    "These libraries provide tools for data manipulation, numerical operations, visualization, and financial data retrieval"
   ]
  },
  {
   "cell_type": "code",
   "execution_count": 1,
   "id": "192f1048",
   "metadata": {},
   "outputs": [],
   "source": [
    "import pandas as pd\n",
    "import numpy as np\n",
    "import matplotlib.pyplot as plt\n",
    "from scipy.stats import norm\n",
    "import yfinance as yf"
   ]
  },
  {
   "cell_type": "markdown",
   "id": "d88f72a1",
   "metadata": {},
   "source": [
    "### Retrieve option data"
   ]
  },
  {
   "cell_type": "markdown",
   "id": "f92bb333",
   "metadata": {},
   "source": [
    "We start by fetching option data for a specific ticker and expiration date using the yfinance library."
   ]
  },
  {
   "cell_type": "code",
   "execution_count": 2,
   "id": "b96b8638",
   "metadata": {},
   "outputs": [],
   "source": [
    "ticker = \"QQQ\"\n",
    "expiration_date = \"2025-02-28\""
   ]
  },
  {
   "cell_type": "code",
   "execution_count": 3,
   "id": "af51b45a",
   "metadata": {
    "lines_to_next_cell": 1
   },
   "outputs": [],
   "source": [
    "stock = yf.Ticker(ticker)\n",
    "options = stock.option_chain(expiration_date)\n",
    "calls = options.calls"
   ]
  },
  {
   "cell_type": "markdown",
   "id": "559c6c26",
   "metadata": {},
   "source": [
    "We use yfinance to get option data for the QQQ ticker with an expiration date of February 28, 2025. We retrieve the full option chain and then isolate the call options. This gives us a dataset of call options to work with for our analysis."
   ]
  },
  {
   "cell_type": "markdown",
   "id": "47d85f3c",
   "metadata": {},
   "source": [
    "### Calculate option gamma"
   ]
  },
  {
   "cell_type": "markdown",
   "id": "6f7cdb0c",
   "metadata": {},
   "source": [
    "Next, we define a function to calculate the gamma of a call option and apply it to our dataset."
   ]
  },
  {
   "cell_type": "code",
   "execution_count": null,
   "id": "6049f59e",
   "metadata": {
    "lines_to_next_cell": 1
   },
   "outputs": [],
   "source": [
    "def call_gamma(S, K, T, r, sigma):\n",
    "    d1 = (np.log(S / K) + (r + 0.5 * sigma ** 2) * T) / (sigma * np.sqrt(T))\n",
    "    return norm.pdf(d1) / (S * sigma * np.sqrt(T))"
   ]
  },
  {
   "cell_type": "code",
   "execution_count": null,
   "id": "2c6c7fa4",
   "metadata": {},
   "outputs": [],
   "source": [
    "S = stock.info[\"navPrice\"] # navPrice for ETFs, currentPrice for for stocks\n",
    "r = 0.0423  # Risk-free rate\n",
    "T = ((pd.to_datetime(expiration_date) - pd.Timestamp.now()).days + 1) / 365"
   ]
  },
  {
   "cell_type": "code",
   "execution_count": null,
   "id": "cd91949c",
   "metadata": {},
   "outputs": [],
   "source": [
    "atm_strike = (\n",
    "    calls\n",
    "    .strike[calls.strike >= S]\n",
    "    .sort_values()\n",
    "    .iloc[0]\n",
    ")"
   ]
  },
  {
   "cell_type": "code",
   "execution_count": null,
   "id": "0374aafe",
   "metadata": {},
   "outputs": [],
   "source": [
    "calls['gamma'] = (\n",
    "    calls\n",
    "    .apply(lambda row: call_gamma(S, row['strike'], T, r, row['impliedVolatility']), axis=1)\n",
    ")"
   ]
  },
  {
   "cell_type": "markdown",
   "id": "c93a54ac",
   "metadata": {},
   "source": [
    "We define a function to calculate the gamma of a call option using the Black-Scholes formula. We then set up our parameters, including the current price, risk-free rate, and time to expiration. We find the at-the-money strike price and calculate the gamma for each call option in our dataset."
   ]
  },
  {
   "cell_type": "markdown",
   "id": "fb908f4b",
   "metadata": {},
   "source": [
    "### Prepare data for visualization"
   ]
  },
  {
   "cell_type": "markdown",
   "id": "2bdd0e2c",
   "metadata": {},
   "source": [
    "We filter our data to focus on options near the current price and select the relevant columns for our analysis."
   ]
  },
  {
   "cell_type": "code",
   "execution_count": null,
   "id": "b3347411",
   "metadata": {},
   "outputs": [],
   "source": [
    "gamma = (\n",
    "    calls[\n",
    "        (calls.strike >= atm_strike * 0.95) & (calls.strike <= atm_strike * 1.05)\n",
    "    ][[\n",
    "        \"strike\", \n",
    "        \"impliedVolatility\", \n",
    "        \"openInterest\", \n",
    "        \"gamma\"\n",
    "    ]]\n",
    ")"
   ]
  },
  {
   "cell_type": "markdown",
   "id": "1a224bbb",
   "metadata": {},
   "source": [
    "We create a new dataframe called 'gamma' that contains options with strike prices within 5% of the at-the-money strike. We select the strike price, implied volatility, open interest, and calculated gamma for each of these options. This gives us a focused dataset for our visualization."
   ]
  },
  {
   "cell_type": "markdown",
   "id": "c86925d0",
   "metadata": {},
   "source": [
    "### Visualize gamma distribution"
   ]
  },
  {
   "cell_type": "markdown",
   "id": "fc633a5f",
   "metadata": {},
   "source": [
    "Finally, we create a plot to visualize the gamma distribution and open interest for our selected options."
   ]
  },
  {
   "cell_type": "code",
   "execution_count": null,
   "id": "813b67b4",
   "metadata": {},
   "outputs": [],
   "source": [
    "fig, ax1 = plt.subplots(figsize=(12, 6))\n",
    "\n",
    "ax1.plot(gamma['strike'], gamma['gamma'], label='Total Gamma', color='b')\n",
    "ax1.axvline(S, color='r', linestyle='--', label='Current Price')\n",
    "ax1.set_xlabel('Strike Price')\n",
    "ax1.set_ylabel('Gamma', color='b')\n",
    "ax1.tick_params(axis='y', labelcolor='b')\n",
    "\n",
    "ax1.set_ylim(0.00, ax1.get_ylim()[1])\n",
    "\n",
    "ax2 = ax1.twinx()\n",
    "ax2.bar(gamma['strike'], gamma['openInterest'], alpha=0.3, color='gray', label='Open Interest')\n",
    "ax2.set_ylabel('Open Interest', color='gray')\n",
    "ax2.tick_params(axis='y', labelcolor='gray')\n",
    "\n",
    "plt.title(f'Gamma Distribution for {ticker} Options')\n",
    "fig.legend(loc=\"upper left\", bbox_to_anchor=(0.1,0.9))\n",
    "ax1.grid(True)\n",
    "\n",
    "plt.show()"
   ]
  },
  {
   "cell_type": "markdown",
   "id": "bb71571a",
   "metadata": {},
   "source": [
    "We create a plot with two y-axes. The primary axis shows the gamma distribution as a blue line, with a red vertical line indicating the current"
   ]
  },
  {
   "cell_type": "markdown",
   "id": "85b2ec43",
   "metadata": {},
   "source": [
    "<a href=\"https://pyquantnews.com/\">PyQuant News</a> is where finance practitioners level up with Python for quant finance, algorithmic trading, and market data analysis. Looking to get started? Check out the fastest growing, top-selling course to <a href=\"https://gettingstartedwithpythonforquantfinance.com/\">get started with Python for quant finance</a>. For educational purposes. Not investment advise. Use at your own risk."
   ]
  }
 ],
 "metadata": {
  "jupytext": {
   "cell_metadata_filter": "-all",
   "main_language": "python",
   "notebook_metadata_filter": "-all"
  },
  "kernelspec": {
   "display_name": "Python 3 (ipykernel)",
   "language": "python",
   "name": "python3"
  },
  "language_info": {
   "codemirror_mode": {
    "name": "ipython",
    "version": 3
   },
   "file_extension": ".py",
   "mimetype": "text/x-python",
   "name": "python",
   "nbconvert_exporter": "python",
   "pygments_lexer": "ipython3",
   "version": "3.10.13"
  }
 },
 "nbformat": 4,
 "nbformat_minor": 5
}
