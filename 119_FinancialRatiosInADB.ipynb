{
 "cells": [
  {
   "cell_type": "markdown",
   "id": "d27b8ced",
   "metadata": {},
   "source": [
    "<div style=\"background-color:#000;\"><img src=\"pqn.png\"></img></div>"
   ]
  },
  {
   "cell_type": "markdown",
   "id": "3bc78e33",
   "metadata": {},
   "source": [
    "### Set up the ArcticDB connection and helper functions"
   ]
  },
  {
   "cell_type": "markdown",
   "id": "21a08646",
   "metadata": {},
   "source": [
    "First, we establish a connection to the ArcticDB database and define a helper function to construct API URLs."
   ]
  },
  {
   "cell_type": "code",
   "execution_count": null,
   "id": "3dd8264f",
   "metadata": {},
   "outputs": [],
   "source": [
    "import io\n",
    "import os\n",
    "import time\n",
    "import requests\n",
    "import pandas as pd\n",
    "import arcticdb as adb"
   ]
  },
  {
   "cell_type": "code",
   "execution_count": null,
   "id": "3b2a3a0a",
   "metadata": {
    "lines_to_next_cell": 1
   },
   "outputs": [],
   "source": [
    "arctic = adb.Arctic(\"lmdb://fundamantals\")\n",
    "lib = arctic.get_library(\"financial_ratios\", create_if_missing=True)"
   ]
  },
  {
   "cell_type": "code",
   "execution_count": null,
   "id": "9de66c55",
   "metadata": {
    "lines_to_next_cell": 1
   },
   "outputs": [],
   "source": [
    "def build_fmp_url(request, period, year):\n",
    "    apikey = os.environ.get(\"FMP_API_KEY\")\n",
    "    return f\"https://financialmodelingprep.com/api/v4/{request}?year={year}&period={period}&apikey={apikey}\""
   ]
  },
  {
   "cell_type": "markdown",
   "id": "96f3e940",
   "metadata": {},
   "source": [
    "We initiate a connection to the ArcticDB, a database designed for handling time-series data efficiently. We specify the database location using a URL and connect to a library within the database called \"financial_ratios\". The helper function `build_fmp_url` constructs URLs for API requests to the Financial Modeling Prep (FMP) service. It uses environmental variables to retrieve the API key securely, ensuring sensitive data is not hard-coded into the script."
   ]
  },
  {
   "cell_type": "markdown",
   "id": "09769e52",
   "metadata": {},
   "source": [
    "### Retrieve financial data from the API"
   ]
  },
  {
   "cell_type": "markdown",
   "id": "17ed739f",
   "metadata": {},
   "source": [
    "Next, we define a function that retrieves financial data from the FMP API and converts it into a pandas DataFrame."
   ]
  },
  {
   "cell_type": "code",
   "execution_count": null,
   "id": "19851b74",
   "metadata": {
    "lines_to_next_cell": 1
   },
   "outputs": [],
   "source": [
    "def get_fmp_data(request, period, year):\n",
    "    url = build_fmp_url(request, period, year)\n",
    "    response = requests.get(url)\n",
    "    csv = response.content.decode(\"utf-8\")\n",
    "    return pd.read_csv(io.StringIO(csv), parse_dates=True)"
   ]
  },
  {
   "cell_type": "code",
   "execution_count": null,
   "id": "7f9559df",
   "metadata": {},
   "outputs": [],
   "source": [
    "ratios = get_fmp_data(\"ratios-bulk\", \"quarter\", \"2020\")\n",
    "ratios"
   ]
  },
  {
   "cell_type": "markdown",
   "id": "8de91d48",
   "metadata": {},
   "source": [
    "This function fetches data from the FMP API using the URL constructed by `build_fmp_url`. It sends a GET request to the API and receives a CSV formatted response containing financial ratios for companies. The CSV data is decoded and then read into a pandas DataFrame for easier manipulation and analysis. The function is called with specific parameters to retrieve data for the year 2020, and the resulting DataFrame is stored in the `ratios` variable."
   ]
  },
  {
   "cell_type": "markdown",
   "id": "c7b90102",
   "metadata": {},
   "source": [
    "### Store financial data in ArcticDB"
   ]
  },
  {
   "cell_type": "markdown",
   "id": "bd367981",
   "metadata": {},
   "source": [
    "Now, we iterate over multiple years to store their financial ratios into the ArcticDB."
   ]
  },
  {
   "cell_type": "code",
   "execution_count": null,
   "id": "05675909",
   "metadata": {
    "lines_to_next_cell": 1
   },
   "outputs": [],
   "source": [
    "for year in [2020, 2021, 2022]:\n",
    "    ratios = get_fmp_data(\"ratios-bulk\", \"quarter\", year)\n",
    "    adb_sym = f\"financial_ratios/{year}\"\n",
    "    adb_fcn = lib.update if lib.has_symbol(adb_sym) else lib.write\n",
    "    adb_fcn(adb_sym, ratios)\n",
    "    time.sleep(10)"
   ]
  },
  {
   "cell_type": "markdown",
   "id": "52cb979a",
   "metadata": {},
   "source": [
    "We loop over a list of years from 2020 to 2022, retrieving financial data for each year using the `get_fmp_data` function. For each year, we construct a unique symbol name to store the data in ArcticDB. We check if the symbol already exists in the library; if it does, we update it with the new data, otherwise, we write a new entry. A short delay is introduced between API requests to avoid overwhelming the server with requests in quick succession."
   ]
  },
  {
   "cell_type": "markdown",
   "id": "1f9c6f21",
   "metadata": {},
   "source": [
    "### Filter and query financial data"
   ]
  },
  {
   "cell_type": "markdown",
   "id": "df5bf9af",
   "metadata": {},
   "source": [
    "Finally, we define a function to filter financial data based on specific criteria and return the results as a pandas DataFrame."
   ]
  },
  {
   "cell_type": "code",
   "execution_count": null,
   "id": "853510b8",
   "metadata": {
    "lines_to_next_cell": 1
   },
   "outputs": [],
   "source": [
    "def filter_by_year(year):\n",
    "    cols = [\n",
    "        \"symbol\",\n",
    "        \"period\",\n",
    "        \"date\",\n",
    "        \"debtEquityRatio\", \n",
    "        \"currentRatio\", \n",
    "        \"priceToBookRatio\", \n",
    "        \"returnOnEquity\", \n",
    "        \"returnOnAssets\", \n",
    "        \"interestCoverage\"\n",
    "    ]\n",
    "    q = adb.QueryBuilder()\n",
    "    filter = (\n",
    "        (q[\"debtEquityRatio\"] < 0.5)\n",
    "        & (\n",
    "            (q[\"currentRatio\"] > 1.5) & (q[\"currentRatio\"] < 2.5)\n",
    "        )\n",
    "        & (q[\"priceToBookRatio\"] < 1.5)\n",
    "        & (q[\"returnOnEquity\"] > 0.08)\n",
    "        & (q[\"returnOnAssets\"] > 0.06)\n",
    "        & (q[\"interestCoverage\"] > 5)\n",
    "    )\n",
    "    q = q[filter]\n",
    "    return lib.read(f\"financial_ratios/{year}\", query_builder=q).data[cols].set_index(\"symbol\")"
   ]
  },
  {
   "cell_type": "code",
   "execution_count": null,
   "id": "17eb8e4f",
   "metadata": {},
   "outputs": [],
   "source": [
    "filter_by_year(\"2020\")"
   ]
  },
  {
   "cell_type": "markdown",
   "id": "75915525",
   "metadata": {},
   "source": [
    "This function filters financial data for a specified year based on certain financial metrics. It selects a subset of columns to focus on key financial ratios. The `QueryBuilder` is used to construct a query that filters data based on predefined criteria, such as debt-to-equity ratio and return on equity. The data is read from ArcticDB using this query, and the results are returned as a pandas DataFrame with the company symbol as the index, allowing easy access and analysis."
   ]
  },
  {
   "cell_type": "markdown",
   "id": "7c74db75",
   "metadata": {},
   "source": [
    "### Your next steps"
   ]
  },
  {
   "cell_type": "markdown",
   "id": "17939421",
   "metadata": {},
   "source": [
    "Try changing the filtering criteria to explore different financial metrics. For example, adjust the debt-to-equity ratio threshold to see how it impacts the results. Experiment with different years to compare financial health across time. Exploring these variations will help you gain a deeper understanding of the financial data."
   ]
  },
  {
   "cell_type": "markdown",
   "id": "d98bee12",
   "metadata": {},
   "source": [
    "<a href=\"https://pyquantnews.com/\">PyQuant News</a> is where finance practitioners level up with Python for quant finance, algorithmic trading, and market data analysis. Looking to get started? Check out the fastest growing, top-selling course to <a href=\"https://gettingstartedwithpythonforquantfinance.com/\">get started with Python for quant finance</a>. For educational purposes. Not investment advise. Use at your own risk."
   ]
  }
 ],
 "metadata": {
  "jupytext": {
   "cell_metadata_filter": "-all",
   "main_language": "python",
   "notebook_metadata_filter": "-all"
  },
  "kernelspec": {
   "display_name": "Python 3 (ipykernel)",
   "language": "python",
   "name": "python3"
  },
  "language_info": {
   "codemirror_mode": {
    "name": "ipython",
    "version": 3
   },
   "file_extension": ".py",
   "mimetype": "text/x-python",
   "name": "python",
   "nbconvert_exporter": "python",
   "pygments_lexer": "ipython3",
   "version": "3.11.7"
  }
 },
 "nbformat": 4,
 "nbformat_minor": 5
}
