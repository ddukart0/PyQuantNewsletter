{
 "cells": [
  {
   "cell_type": "markdown",
   "id": "45cc93ef",
   "metadata": {},
   "source": [
    "<div style=\"background-color:#000;\"><img src=\"pqn.png\"></img></div>"
   ]
  },
  {
   "cell_type": "markdown",
   "id": "071f690b",
   "metadata": {},
   "source": [
    "### Import necessary libraries for analysis"
   ]
  },
  {
   "cell_type": "markdown",
   "id": "140ecf4c",
   "metadata": {},
   "source": [
    "We will import the libraries needed to fetch financial data and perform time series analysis. The first import is `yfinance`, which allows us to download historical market data. The second import is `statsmodels.graphics.tsaplots`, which provides functions to plot autocorrelation functions."
   ]
  },
  {
   "cell_type": "code",
   "execution_count": null,
   "id": "a819d141",
   "metadata": {},
   "outputs": [],
   "source": [
    "import yfinance as yf\n",
    "from statsmodels.graphics.tsaplots import plot_acf, plot_pacf"
   ]
  },
  {
   "cell_type": "markdown",
   "id": "e7eee108",
   "metadata": {},
   "source": [
    "### Fetch historical price data using Yahoo Finance"
   ]
  },
  {
   "cell_type": "markdown",
   "id": "0f1ee368",
   "metadata": {},
   "source": [
    "In this step, we will download historical monthly price data for the E-mini S&P 500 Futures. We will specify the ticker symbol to access the required financial data, the start date, and the interval for the data."
   ]
  },
  {
   "cell_type": "code",
   "execution_count": null,
   "id": "79410216",
   "metadata": {},
   "outputs": [],
   "source": [
    "prices = yf.download(\"ES=F\", start=\"2022-01-01\", interval=\"1mo\")"
   ]
  },
  {
   "cell_type": "markdown",
   "id": "25aa1db0",
   "metadata": {},
   "source": [
    "This code snippet uses the `yfinance` library to download historical price data for the E-mini S&P 500 Futures. We specify the ticker symbol \"ES=F\" to represent the futures contract. We set the start date to \"2022-01-01\" and choose a monthly interval for the data. The function returns a DataFrame containing the historical price data, which includes columns like Open, High, Low, Close prices, and Volume for each month."
   ]
  },
  {
   "cell_type": "markdown",
   "id": "353593f9",
   "metadata": {},
   "source": [
    "### Calculate and clean percentage returns from price data"
   ]
  },
  {
   "cell_type": "markdown",
   "id": "c0d143bb",
   "metadata": {},
   "source": [
    "We will compute the percentage change in closing prices to determine the returns. We will also clean the data by removing any missing values that may arise from the calculation."
   ]
  },
  {
   "cell_type": "code",
   "execution_count": null,
   "id": "7c22ac2e",
   "metadata": {},
   "outputs": [],
   "source": [
    "returns = prices.Close.pct_change().dropna()"
   ]
  },
  {
   "cell_type": "markdown",
   "id": "078e2b8d",
   "metadata": {},
   "source": [
    "We calculate the percentage change in the closing prices to determine the returns over each month. The `pct_change()` function computes the percentage change from the previous row, giving us the returns. Since the first observation will be NaN (as there is no previous data to compare), we use the `dropna()` function to remove any missing values. This results in a Series containing the cleaned percentage returns for the specified period."
   ]
  },
  {
   "cell_type": "markdown",
   "id": "74fc717b",
   "metadata": {},
   "source": [
    "### Visualize the autocorrelation and partial autocorrelation of returns"
   ]
  },
  {
   "cell_type": "markdown",
   "id": "34bb31a4",
   "metadata": {},
   "source": [
    "We will create plots to visualize the autocorrelation and partial autocorrelation of the returns. These plots help us understand the relationship between the returns at different time lags."
   ]
  },
  {
   "cell_type": "code",
   "execution_count": null,
   "id": "095146d9",
   "metadata": {},
   "outputs": [],
   "source": [
    "plot_acf(returns, lags=12);"
   ]
  },
  {
   "cell_type": "markdown",
   "id": "065fdf84",
   "metadata": {},
   "source": [
    "The `plot_acf` function generates a plot of the autocorrelation function for the returns. The plot shows how the returns are correlated with their own past values at different lags, up to 12 months. Each vertical bar represents the correlation at a specific lag, and the shaded area indicates the confidence interval. If a bar extends beyond the shaded area, it suggests a statistically significant correlation at that lag. This helps in identifying any patterns or dependencies in the return series."
   ]
  },
  {
   "cell_type": "code",
   "execution_count": null,
   "id": "102abb9c",
   "metadata": {},
   "outputs": [],
   "source": [
    "plot_pacf(returns, lags=12);"
   ]
  },
  {
   "cell_type": "markdown",
   "id": "76ce4cbd",
   "metadata": {},
   "source": [
    "The `plot_pacf` function generates a plot of the partial autocorrelation function for the returns. This plot shows the direct correlation between the returns and their lagged values, excluding the influence of intermediate lags. Like the autocorrelation plot, the partial autocorrelation plot includes bars for each lag and shaded confidence intervals. By examining these plots, we can identify significant autoregressive patterns that might be useful for modeling and forecasting future returns."
   ]
  },
  {
   "cell_type": "markdown",
   "id": "25292ced",
   "metadata": {},
   "source": [
    "### Your next steps"
   ]
  },
  {
   "cell_type": "markdown",
   "id": "41546ae1",
   "metadata": {},
   "source": [
    "Try experimenting with different ticker symbols to analyze other financial instruments. Change the start date or interval to explore how different time frames affect the autocorrelation patterns. You can also extend the lag length to see if longer periods reveal more insights into the data's behavior."
   ]
  },
  {
   "cell_type": "markdown",
   "id": "2cb9b5f4",
   "metadata": {},
   "source": [
    "<a href=\"https://pyquantnews.com/\">PyQuant News</a> is where finance practitioners level up with Python for quant finance, algorithmic trading, and market data analysis. Looking to get started? Check out the fastest growing, top-selling course to <a href=\"https://gettingstartedwithpythonforquantfinance.com/\">get started with Python for quant finance</a>. For educational purposes. Not investment advise. Use at your own risk."
   ]
  }
 ],
 "metadata": {
  "jupytext": {
   "cell_metadata_filter": "-all",
   "main_language": "python",
   "notebook_metadata_filter": "-all"
  },
  "kernelspec": {
   "display_name": "Python 3 (ipykernel)",
   "language": "python",
   "name": "python3"
  },
  "language_info": {
   "codemirror_mode": {
    "name": "ipython",
    "version": 3
   },
   "file_extension": ".py",
   "mimetype": "text/x-python",
   "name": "python",
   "nbconvert_exporter": "python",
   "pygments_lexer": "ipython3",
   "version": "3.10.13"
  }
 },
 "nbformat": 4,
 "nbformat_minor": 5
}
