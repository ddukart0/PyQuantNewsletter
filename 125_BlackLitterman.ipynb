{
 "cells": [
  {
   "cell_type": "markdown",
   "id": "f5c033b5",
   "metadata": {},
   "source": [
    "<div style=\"background-color:#000;\"><img src=\"pqn.png\"></img></div>"
   ]
  },
  {
   "cell_type": "markdown",
   "id": "0e533005",
   "metadata": {},
   "source": [
    "### Download historical price data for selected stocks"
   ]
  },
  {
   "cell_type": "markdown",
   "id": "dd4a53fb",
   "metadata": {},
   "source": [
    "We start by downloading the historical stock price data for a set of companies. We use Yahoo Finance to get the data."
   ]
  },
  {
   "cell_type": "code",
   "execution_count": null,
   "id": "718d530c-46e6-4262-8e1c-2555c3af95eb",
   "metadata": {},
   "outputs": [],
   "source": [
    "import pandas as pd\n",
    "import yfinance as yf\n",
    "\n",
    "from pypfopt import expected_returns, risk_models, black_litterman\n",
    "from pypfopt.black_litterman import BlackLittermanModel\n",
    "from pypfopt.efficient_frontier import EfficientFrontier\n",
    "\n",
    "import warnings\n",
    "warnings.filterwarnings(\"ignore\")"
   ]
  },
  {
   "cell_type": "code",
   "execution_count": null,
   "id": "96f9622c",
   "metadata": {},
   "outputs": [],
   "source": [
    "mag_7 = [\n",
    "    \"AAPL\",\n",
    "    \"AMZN\",\n",
    "    \"NVDA\",\n",
    "    \"TLSA\",\n",
    "    \"GOOGL\",\n",
    "    \"META\",\n",
    "    \"MSFT\",\n",
    "]"
   ]
  },
  {
   "cell_type": "code",
   "execution_count": null,
   "id": "89258ea9",
   "metadata": {},
   "outputs": [],
   "source": [
    "prices = yf.download(mag_7, start=\"2020-01-01\")[\"Adj Close\"]"
   ]
  },
  {
   "cell_type": "markdown",
   "id": "d2179248",
   "metadata": {},
   "source": [
    "We define a list of major tech companies, often referred to as the \"Magnificent 7\". We then use the yfinance library to download the adjusted closing price of these stocks starting from January 1, 2020. This data will be used to calculate returns and risks for our portfolio optimization. The adjusted closing price accounts for any corporate actions like splits and dividends, providing a more accurate reflection of an investor’s return."
   ]
  },
  {
   "cell_type": "markdown",
   "id": "ecd7dd8e",
   "metadata": {},
   "source": [
    "### Define our views and market capitalizations"
   ]
  },
  {
   "cell_type": "markdown",
   "id": "e8166491",
   "metadata": {},
   "source": [
    "Next, we define our own views on the expected returns for each stock and gather market capitalization data."
   ]
  },
  {
   "cell_type": "code",
   "execution_count": null,
   "id": "9ea0c26e",
   "metadata": {},
   "outputs": [],
   "source": [
    "views = {\n",
    "    \"AAPL\": 0.05,\n",
    "    \"AMZN\": 0.15,\n",
    "    \"NVDA\": 0.25,\n",
    "    \"TLSA\": -0.05,\n",
    "    \"GOOGL\": -0.15,\n",
    "    \"META\": 0.07,\n",
    "    \"MSFT\": 0.12\n",
    "}"
   ]
  },
  {
   "cell_type": "code",
   "execution_count": null,
   "id": "e4fb6125",
   "metadata": {},
   "outputs": [],
   "source": [
    "mcaps = {\n",
    "    \"AAPL\": 2.5e12,\n",
    "    \"AMZN\": 1.3e12,\n",
    "    \"NVDA\": 1.0e12,\n",
    "    \"TLSA\": 0.9e12,\n",
    "    \"GOOGL\": 1.4e12,\n",
    "    \"META\": 0.7e12,\n",
    "    \"MSFT\": 2.0e12,\n",
    "}"
   ]
  },
  {
   "cell_type": "markdown",
   "id": "d26e4c91",
   "metadata": {},
   "source": [
    "We define our views on the expected returns for each stock. These views represent our subjective beliefs about the future performance of these companies. For example, we expect Apple's return to be 5% and Amazon's to be 15%. Additionally, we provide the market capitalizations of each company, which reflect their total market value. This information will be used in the Black-Litterman model to incorporate market views."
   ]
  },
  {
   "cell_type": "markdown",
   "id": "3225d7d2",
   "metadata": {},
   "source": [
    "### Calculate expected returns and covariance"
   ]
  },
  {
   "cell_type": "markdown",
   "id": "f3ab1f5d",
   "metadata": {},
   "source": [
    "We calculate historical expected returns and the covariance matrix to assess the risk and return of our portfolio."
   ]
  },
  {
   "cell_type": "code",
   "execution_count": null,
   "id": "b696cfb0",
   "metadata": {},
   "outputs": [],
   "source": [
    "expected_returns_mean = expected_returns.mean_historical_return(prices)\n",
    "cov_matrix = risk_models.sample_cov(prices)"
   ]
  },
  {
   "cell_type": "code",
   "execution_count": null,
   "id": "3246e588",
   "metadata": {},
   "outputs": [],
   "source": [
    "delta = black_litterman.market_implied_risk_aversion(prices)\n",
    "market_prior = black_litterman.market_implied_prior_returns(mcaps, delta, cov_matrix)"
   ]
  },
  {
   "cell_type": "markdown",
   "id": "e8f115f0",
   "metadata": {},
   "source": [
    "We compute the historical expected returns for each company using the mean of their historical returns. The covariance matrix measures how the returns of the stocks move together, providing insight into the portfolio's risk. We also calculate the market's implied risk aversion, which reflects the market's overall attitude towards risk. With the market capitalizations and risk aversion, we estimate the market's prior expected returns, which serve as a baseline before incorporating our views."
   ]
  },
  {
   "cell_type": "markdown",
   "id": "2b10db8b",
   "metadata": {},
   "source": [
    "### Create a Black-Litterman model and optimize the portfolio"
   ]
  },
  {
   "cell_type": "markdown",
   "id": "4f15da64",
   "metadata": {},
   "source": [
    "We create a Black-Litterman model using our views and optimize the portfolio to maximize the Sharpe ratio."
   ]
  },
  {
   "cell_type": "code",
   "execution_count": null,
   "id": "32ef8cef",
   "metadata": {},
   "outputs": [],
   "source": [
    "bl = BlackLittermanModel(\n",
    "    cov_matrix,\n",
    "    absolute_views=views,\n",
    "    pi=market_prior\n",
    ")"
   ]
  },
  {
   "cell_type": "code",
   "execution_count": null,
   "id": "5310615c",
   "metadata": {},
   "outputs": [],
   "source": [
    "bl_returns = bl.bl_returns()"
   ]
  },
  {
   "cell_type": "code",
   "execution_count": null,
   "id": "4136992a",
   "metadata": {},
   "outputs": [],
   "source": [
    "ef = EfficientFrontier(bl_returns, cov_matrix)"
   ]
  },
  {
   "cell_type": "code",
   "execution_count": null,
   "id": "36ee8c95",
   "metadata": {},
   "outputs": [],
   "source": [
    "weights = ef.max_sharpe()"
   ]
  },
  {
   "cell_type": "code",
   "execution_count": null,
   "id": "b1d698f0",
   "metadata": {},
   "outputs": [],
   "source": [
    "bl_weights = pd.DataFrame(\n",
    "    list(weights.items()), \n",
    "    columns=[\"symbol\", \"weight\"]\n",
    ").set_index(\"symbol\")"
   ]
  },
  {
   "cell_type": "code",
   "execution_count": null,
   "id": "1df47a90",
   "metadata": {},
   "outputs": [],
   "source": [
    "performance = ef.portfolio_performance(verbose=True)"
   ]
  },
  {
   "cell_type": "markdown",
   "id": "f1f250b5",
   "metadata": {},
   "source": [
    "We create a Black-Litterman model using the covariance matrix, our views on expected returns, and the market's prior returns. This model adjusts the market's baseline expectations with our views, resulting in a set of expected returns that reflect both market data and personal insights. We then use these adjusted returns to construct an efficient frontier, which shows the best possible returns for a given level of risk. We optimize the portfolio to achieve the maximum Sharpe ratio, which balances risk and return, and derive the optimal weights for each stock. The calculated performance metrics provide an overview of the portfolio's return, volatility, and risk-adjusted return."
   ]
  },
  {
   "cell_type": "markdown",
   "id": "9a6b4ee0",
   "metadata": {},
   "source": [
    "### Your next steps"
   ]
  },
  {
   "cell_type": "markdown",
   "id": "24002941",
   "metadata": {},
   "source": [
    "Try experimenting with different views on the expected returns for each stock. You can adjust the values in the \"views\" dictionary to see how they affect the optimized portfolio weights. This exercise will help you understand the impact of subjective beliefs on portfolio construction and risk management."
   ]
  },
  {
   "cell_type": "markdown",
   "id": "d7948448",
   "metadata": {},
   "source": [
    "<a href=\"https://pyquantnews.com/\">PyQuant News</a> is where finance practitioners level up with Python for quant finance, algorithmic trading, and market data analysis. Looking to get started? Check out the fastest growing, top-selling course to <a href=\"https://gettingstartedwithpythonforquantfinance.com/\">get started with Python for quant finance</a>. For educational purposes. Not investment advise. Use at your own risk."
   ]
  }
 ],
 "metadata": {
  "jupytext": {
   "cell_metadata_filter": "-all",
   "main_language": "python",
   "notebook_metadata_filter": "-all"
  },
  "kernelspec": {
   "display_name": "Python 3 (ipykernel)",
   "language": "python",
   "name": "python3"
  },
  "language_info": {
   "codemirror_mode": {
    "name": "ipython",
    "version": 3
   },
   "file_extension": ".py",
   "mimetype": "text/x-python",
   "name": "python",
   "nbconvert_exporter": "python",
   "pygments_lexer": "ipython3",
   "version": "3.10.13"
  }
 },
 "nbformat": 4,
 "nbformat_minor": 5
}
