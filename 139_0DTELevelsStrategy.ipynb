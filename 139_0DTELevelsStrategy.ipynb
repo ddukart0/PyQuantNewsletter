{
 "cells": [
  {
   "cell_type": "markdown",
   "id": "02a51520",
   "metadata": {},
   "source": [
    "<div style=\"background-color:#000;\"><img src=\"pqn.png\"></img></div>"
   ]
  },
  {
   "cell_type": "markdown",
   "id": "cf893a63",
   "metadata": {},
   "source": [
    "These libraries help us analyze financial data and create visualizations"
   ]
  },
  {
   "cell_type": "code",
   "execution_count": null,
   "id": "8afdfe22",
   "metadata": {},
   "outputs": [],
   "source": [
    "import pandas as pd\n",
    "import numpy as np\n",
    "import matplotlib.pyplot as plt\n",
    "import yfinance as yf"
   ]
  },
  {
   "cell_type": "markdown",
   "id": "4282946b",
   "metadata": {},
   "source": [
    "### Load and prepare our data"
   ]
  },
  {
   "cell_type": "markdown",
   "id": "d7192e40",
   "metadata": {},
   "source": [
    "We start by loading our data from a CSV file and preparing it for analysis. The file contains many useful columns with Gamma levels. We'll focus on the 0DTE (immediate expiration) support and resistance levels."
   ]
  },
  {
   "cell_type": "code",
   "execution_count": null,
   "id": "0c483412",
   "metadata": {},
   "outputs": [],
   "source": [
    "df = pd.read_csv('spy_levels.csv')\n",
    "df['Date'] = pd.to_datetime(df['Date'])\n",
    "df.set_index('Date', inplace=True)\n",
    "levels = df[[\"Call Resistance 0DTE\", \"Put Support 0DTE\"]]\n",
    "levels.columns = [\"resistance\", \"support\"]"
   ]
  },
  {
   "cell_type": "code",
   "execution_count": null,
   "id": "2b45beea",
   "metadata": {},
   "outputs": [],
   "source": [
    "spy = yf.download(\"SPY\", start=levels.index.min(), end=levels.index.max()).Close\n",
    "levels = levels.copy()\n",
    "levels.loc[:, \"spy\"] = spy\n",
    "levels.dropna(inplace=True)"
   ]
  },
  {
   "cell_type": "markdown",
   "id": "ead26499",
   "metadata": {},
   "source": [
    "We load our data from a CSV file and convert the 'Date' column to datetime. We set the 'Date' as the index and select specific columns for our analysis. We then download SPY (S&P 500 ETF) closing prices using yfinance and add them to our dataset. Finally, we remove any rows with missing data to ensure our analysis is based on complete information."
   ]
  },
  {
   "cell_type": "markdown",
   "id": "78ec4be9",
   "metadata": {},
   "source": [
    "### Implement our trading strategy"
   ]
  },
  {
   "cell_type": "markdown",
   "id": "adc3ca84",
   "metadata": {},
   "source": [
    "Next, we define our trading strategy based on support and resistance levels."
   ]
  },
  {
   "cell_type": "code",
   "execution_count": null,
   "id": "24148f51",
   "metadata": {},
   "outputs": [],
   "source": [
    "strategy = levels.copy()\n",
    "strategy[\"position\"] = 0"
   ]
  },
  {
   "cell_type": "code",
   "execution_count": null,
   "id": "5b0f8486",
   "metadata": {},
   "outputs": [],
   "source": [
    "strategy.loc[strategy.spy >= strategy.resistance, 'position'] = -1\n",
    "strategy.loc[strategy.spy <= strategy.support, 'position'] = 1"
   ]
  },
  {
   "cell_type": "code",
   "execution_count": null,
   "id": "864c442b",
   "metadata": {},
   "outputs": [],
   "source": [
    "strategy.position = (\n",
    "    strategy\n",
    "    .position\n",
    "    .replace(0, np.nan)\n",
    "    .ffill()\n",
    "    .fillna(0)\n",
    ")"
   ]
  },
  {
   "cell_type": "code",
   "execution_count": null,
   "id": "e3fc39e2",
   "metadata": {},
   "outputs": [],
   "source": [
    "strategy[\"spy_returns\"] = strategy.spy.pct_change()\n",
    "strategy[\"strategy_returns\"] =  strategy.spy_returns * strategy.position.shift(1)"
   ]
  },
  {
   "cell_type": "markdown",
   "id": "b3e4e721",
   "metadata": {},
   "source": [
    "We create a copy of our data and add a 'position' column. We set our position to -1 (sell) when SPY price is above resistance and 1 (buy) when it's below support. We then forward-fill our positions to maintain them until the next signal. Finally, we calculate the returns for SPY and our strategy by multiplying SPY returns with our previous day's position."
   ]
  },
  {
   "cell_type": "markdown",
   "id": "1ca3ce8f",
   "metadata": {},
   "source": [
    "### Evaluate our strategy performance"
   ]
  },
  {
   "cell_type": "markdown",
   "id": "b04b4b54",
   "metadata": {},
   "source": [
    "Finally, we calculate cumulative returns and visualize our strategy's performance."
   ]
  },
  {
   "cell_type": "code",
   "execution_count": null,
   "id": "c6d1c2b7",
   "metadata": {},
   "outputs": [],
   "source": [
    "strategy['cumulative_returns'] = (1 + strategy.strategy_returns).cumprod()\n",
    "np.sqrt(252) * strategy.strategy_returns.mean() / strategy.strategy_returns.std()"
   ]
  },
  {
   "cell_type": "code",
   "execution_count": null,
   "id": "7319ae37",
   "metadata": {},
   "outputs": [],
   "source": [
    "plt.figure(figsize=(12, 6))\n",
    "plt.plot(strategy.cumulative_returns, label='Strategy')\n",
    "plt.plot((1 + strategy.spy_returns).cumprod(), label='Buy and Hold')\n",
    "plt.legend()\n",
    "plt.title('Strategy Performance vs Buy and Hold')\n",
    "plt.ylabel('Cumulative Returns')\n",
    "plt.show()"
   ]
  },
  {
   "cell_type": "markdown",
   "id": "25ada3a2",
   "metadata": {},
   "source": [
    "We calculate the cumulative returns for our strategy and compute its Sharpe ratio. We then create a plot comparing our strategy's performance to a simple buy-and-hold approach. This visualization helps us understand how well our strategy performs compared to passive investing in the S&P 500."
   ]
  },
  {
   "cell_type": "markdown",
   "id": "f13d1c6b",
   "metadata": {},
   "source": [
    "<a href=\"https://pyquantnews.com/\">PyQuant News</a> is where finance practitioners level up with Python for quant finance, algorithmic trading, and market data analysis. Looking to get started? Check out the fastest growing, top-selling course to <a href=\"https://gettingstartedwithpythonforquantfinance.com/\">get started with Python for quant finance</a>. For educational purposes. Not investment advise. Use at your own risk."
   ]
  }
 ],
 "metadata": {
  "jupytext": {
   "cell_metadata_filter": "-all",
   "main_language": "python",
   "notebook_metadata_filter": "-all"
  },
  "kernelspec": {
   "display_name": "Python 3 (ipykernel)",
   "language": "python",
   "name": "python3"
  },
  "language_info": {
   "codemirror_mode": {
    "name": "ipython",
    "version": 3
   },
   "file_extension": ".py",
   "mimetype": "text/x-python",
   "name": "python",
   "nbconvert_exporter": "python",
   "pygments_lexer": "ipython3",
   "version": "3.10.13"
  }
 },
 "nbformat": 4,
 "nbformat_minor": 5
}
