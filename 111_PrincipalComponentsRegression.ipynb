{
 "cells": [
  {
   "cell_type": "markdown",
   "id": "e55e527b",
   "metadata": {},
   "source": [
    "<div style=\"background-color:#000;\"><img src=\"pqn.png\"></img></div>"
   ]
  },
  {
   "cell_type": "markdown",
   "id": "772d0a75",
   "metadata": {},
   "source": [
    "This code downloads stock and factor returns data, constructs a portfolio, and performs factor analysis. It uses Yahoo Finance for data retrieval and Riskfolio for portfolio optimization. Specifically, it calculates statistical properties of the portfolio and factors, generates factor loadings, and optimizes the portfolio using a factor model. The final output is a pie chart visualizing the optimized portfolio weights. This is useful for investors aiming to optimize their portfolios considering multiple factors."
   ]
  },
  {
   "cell_type": "code",
   "execution_count": null,
   "id": "db936238",
   "metadata": {},
   "outputs": [],
   "source": [
    "import yfinance as yf\n",
    "import riskfolio as rf\n",
    "import pandas as pd\n",
    "pd.options.display.float_format = \"{:.4%}\".format\n",
    "import warnings\n",
    "warnings.filterwarnings(\"ignore\")"
   ]
  },
  {
   "cell_type": "markdown",
   "id": "f52f2bc1",
   "metadata": {},
   "source": [
    "Define a list of major technology stocks and factor tickers"
   ]
  },
  {
   "cell_type": "code",
   "execution_count": null,
   "id": "f74ed647",
   "metadata": {},
   "outputs": [],
   "source": [
    "mag_7 = [\n",
    "    \"AMZN\",\n",
    "    \"AAPL\",\n",
    "    \"NVDA\",\n",
    "    \"META\",\n",
    "    \"TSLA\",\n",
    "    \"MSFT\",\n",
    "    \"GOOG\",\n",
    "]"
   ]
  },
  {
   "cell_type": "markdown",
   "id": "3a8ea9cf",
   "metadata": {},
   "source": [
    "Define a list of factor indices"
   ]
  },
  {
   "cell_type": "code",
   "execution_count": null,
   "id": "80c7a16e",
   "metadata": {},
   "outputs": [],
   "source": [
    "factors = [\"MTUM\", \"QUAL\", \"VLUE\", \"SIZE\", \"USMV\"]"
   ]
  },
  {
   "cell_type": "markdown",
   "id": "9b4c2eaf",
   "metadata": {},
   "source": [
    "Define the start and end dates for the data download"
   ]
  },
  {
   "cell_type": "code",
   "execution_count": null,
   "id": "38d20e80",
   "metadata": {},
   "outputs": [],
   "source": [
    "start = \"2020-01-01\"\n",
    "end = \"2024-07-31\""
   ]
  },
  {
   "cell_type": "markdown",
   "id": "667143a5",
   "metadata": {},
   "source": [
    "Download adjusted close price data for the selected stocks and compute daily returns"
   ]
  },
  {
   "cell_type": "code",
   "execution_count": null,
   "id": "d96588a4",
   "metadata": {},
   "outputs": [],
   "source": [
    "port_returns = (\n",
    "    yf\n",
    "    .download(\n",
    "        mag_7, \n",
    "        start=start, \n",
    "        end=end\n",
    "    )[\"Adj Close\"]\n",
    "    .pct_change()\n",
    "    .dropna()\n",
    ")"
   ]
  },
  {
   "cell_type": "markdown",
   "id": "7ebffb45",
   "metadata": {},
   "source": [
    "Download adjusted close price data for the selected factors and compute daily returns"
   ]
  },
  {
   "cell_type": "code",
   "execution_count": null,
   "id": "46bbdeed",
   "metadata": {},
   "outputs": [],
   "source": [
    "factor_returns = (\n",
    "    yf\n",
    "    .download(\n",
    "        factors, \n",
    "        start=start, \n",
    "        end=end\n",
    "    )[\"Adj Close\"]\n",
    "    .pct_change()\n",
    "    .dropna()\n",
    ")"
   ]
  },
  {
   "cell_type": "markdown",
   "id": "530c745c",
   "metadata": {},
   "source": [
    "Create a portfolio object and calculate historical mean returns and Ledoit-Wolf shrinkage covariance matrix"
   ]
  },
  {
   "cell_type": "code",
   "execution_count": null,
   "id": "1ff85c71",
   "metadata": {},
   "outputs": [],
   "source": [
    "port = rf.Portfolio(returns=port_returns)\n",
    "port.assets_stats(method_mu=\"hist\", method_cov=\"ledoit\")"
   ]
  },
  {
   "cell_type": "markdown",
   "id": "92de352d",
   "metadata": {},
   "source": [
    "Set the minimum acceptable return for the portfolio optimization"
   ]
  },
  {
   "cell_type": "code",
   "execution_count": null,
   "id": "e0c091ed",
   "metadata": {},
   "outputs": [],
   "source": [
    "port.lowerret = 0.00056488 * 1.5"
   ]
  },
  {
   "cell_type": "markdown",
   "id": "e59bfa1d",
   "metadata": {},
   "source": [
    "Compute the loadings matrix using Principal Component Regression (PCR) with 95% explained variance"
   ]
  },
  {
   "cell_type": "code",
   "execution_count": null,
   "id": "80123c3e",
   "metadata": {},
   "outputs": [],
   "source": [
    "loadings = rf.loadings_matrix(\n",
    "    X=factor_returns,\n",
    "    Y=port_returns, \n",
    "    feature_selection=\"PCR\",\n",
    "    n_components=0.95\n",
    ")"
   ]
  },
  {
   "cell_type": "markdown",
   "id": "6c6f2587",
   "metadata": {},
   "source": [
    "Display the loadings matrix with formatting and background gradient"
   ]
  },
  {
   "cell_type": "code",
   "execution_count": null,
   "id": "05f151ef",
   "metadata": {},
   "outputs": [],
   "source": [
    "loadings.style.format(\"{:.4f}\").background_gradient(cmap='RdYlGn')"
   ]
  },
  {
   "cell_type": "markdown",
   "id": "361602b5",
   "metadata": {},
   "source": [
    "Assign factor returns to the portfolio and calculate factor statistics"
   ]
  },
  {
   "cell_type": "code",
   "execution_count": null,
   "id": "250cab33",
   "metadata": {},
   "outputs": [],
   "source": [
    "port.factors = factor_returns\n",
    "port.factors_stats(\n",
    "    method_mu=\"hist\",\n",
    "    method_cov=\"ledoit\",\n",
    "    feature_selection=\"PCR\",  # Method to select best model, could be PCR or Stepwise,\n",
    "    dict_risk=dict(\n",
    "        n_components=0.95  # 95% of explained variance.\n",
    "    )\n",
    ")"
   ]
  },
  {
   "cell_type": "markdown",
   "id": "d21fe52b",
   "metadata": {},
   "source": [
    "Optimize the portfolio using a Factor Model, variance as the risk measure, and Sharpe ratio as the objective"
   ]
  },
  {
   "cell_type": "code",
   "execution_count": null,
   "id": "8e346349",
   "metadata": {},
   "outputs": [],
   "source": [
    "w = port.optimization(\n",
    "    model=\"FM\",  # Factor model\n",
    "    rm=\"MV\",  # Risk measure used, this time will be variance\n",
    "    obj=\"Sharpe\",  # Objective function, could be MinRisk, MaxRet, Utility or Sharpe\n",
    "    hist=False,  # Use risk factor model for expected returns\n",
    ")"
   ]
  },
  {
   "cell_type": "markdown",
   "id": "8ec93c27",
   "metadata": {},
   "source": [
    "Plot the optimized portfolio weights as a pie chart"
   ]
  },
  {
   "cell_type": "code",
   "execution_count": null,
   "id": "54c23024",
   "metadata": {},
   "outputs": [],
   "source": [
    "ax = rf.plot_pie(\n",
    "    w=w,\n",
    "    title='Sharpe FM Mean Variance',\n",
    "    others=0.05,\n",
    "    nrow=25,\n",
    "    cmap=\"tab20\"\n",
    ")"
   ]
  },
  {
   "cell_type": "markdown",
   "id": "e8337718",
   "metadata": {},
   "source": [
    "<a href=\"https://pyquantnews.com/\">PyQuant News</a> is where finance practitioners level up with Python for quant finance, algorithmic trading, and market data analysis. Looking to get started? Check out the fastest growing, top-selling course to <a href=\"https://gettingstartedwithpythonforquantfinance.com/\">get started with Python for quant finance</a>. For educational purposes. Not investment advise. Use at your own risk."
   ]
  }
 ],
 "metadata": {
  "jupytext": {
   "cell_metadata_filter": "-all",
   "main_language": "python",
   "notebook_metadata_filter": "-all"
  },
  "kernelspec": {
   "display_name": "Python 3 (ipykernel)",
   "language": "python",
   "name": "python3"
  },
  "language_info": {
   "codemirror_mode": {
    "name": "ipython",
    "version": 3
   },
   "file_extension": ".py",
   "mimetype": "text/x-python",
   "name": "python",
   "nbconvert_exporter": "python",
   "pygments_lexer": "ipython3",
   "version": "3.10.13"
  }
 },
 "nbformat": 4,
 "nbformat_minor": 5
}
