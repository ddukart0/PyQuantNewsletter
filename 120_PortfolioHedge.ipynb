{
 "cells": [
  {
   "cell_type": "markdown",
   "id": "8951973e",
   "metadata": {},
   "source": [
    "<div style=\"background-color:#000;\"><img src=\"pqn.png\"></img></div>"
   ]
  },
  {
   "cell_type": "code",
   "execution_count": null,
   "id": "4980b1a9",
   "metadata": {},
   "outputs": [],
   "source": [
    "import yfinance as yf\n",
    "import statsmodels.api as sm"
   ]
  },
  {
   "cell_type": "markdown",
   "id": "f72310b1",
   "metadata": {},
   "source": [
    "## Download and prepare stock data for analysis"
   ]
  },
  {
   "cell_type": "markdown",
   "id": "54e9acb8",
   "metadata": {},
   "source": [
    "We will download historical stock data for selected tickers from Yahoo Finance. We will also calculate their daily returns to prepare for further analysis."
   ]
  },
  {
   "cell_type": "code",
   "execution_count": null,
   "id": "2f1d3621",
   "metadata": {},
   "outputs": [],
   "source": [
    "tickers = ['AAPL', 'MSFT', 'AMZN', 'NVDA', 'GOOG', 'META', 'TSLA', 'QQQ']\n",
    "data = yf.download(tickers, start='2022-01-01', end='2023-12-31')['Adj Close']"
   ]
  },
  {
   "cell_type": "code",
   "execution_count": null,
   "id": "e70ba572",
   "metadata": {},
   "outputs": [],
   "source": [
    "benchmark_returns = (\n",
    "    data\n",
    "    .pop(\"QQQ\")\n",
    "    .pct_change()\n",
    "    .dropna()\n",
    ")"
   ]
  },
  {
   "cell_type": "code",
   "execution_count": null,
   "id": "9a5f52f6",
   "metadata": {},
   "outputs": [],
   "source": [
    "portfolio_returns = (\n",
    "    data\n",
    "    .pct_change()\n",
    "    .dropna()\n",
    "    .sum(axis=1)\n",
    ")"
   ]
  },
  {
   "cell_type": "markdown",
   "id": "d80d31b6",
   "metadata": {},
   "source": [
    "We begin by defining a list of stock tickers that we are interested in analyzing. Using the yfinance library, we download the adjusted closing prices for these stocks over a specified time period. We separate the returns of the benchmark ETF, QQQ, from the portfolio of other stocks. We calculate the percentage change in adjusted closing prices for both the benchmark and the portfolio to get daily returns, which helps us understand the daily performance of these stocks."
   ]
  },
  {
   "cell_type": "markdown",
   "id": "f9b028bd",
   "metadata": {},
   "source": [
    "## Visualize the returns"
   ]
  },
  {
   "cell_type": "markdown",
   "id": "cc18529f",
   "metadata": {},
   "source": [
    "We will create plots to visualize the daily returns of both our portfolio and the benchmark."
   ]
  },
  {
   "cell_type": "code",
   "execution_count": null,
   "id": "cf83dae6",
   "metadata": {
    "lines_to_next_cell": 1
   },
   "outputs": [],
   "source": [
    "portfolio_returns.plot()\n",
    "benchmark_returns.plot()"
   ]
  },
  {
   "cell_type": "markdown",
   "id": "0718ed9b",
   "metadata": {},
   "source": [
    "With the data prepared, we create visualizations of the daily returns for our portfolio and the benchmark. These plots help us to quickly understand the volatility and trends in the returns. The portfolio returns are the aggregated daily returns of all stocks except QQQ, while the benchmark returns come from the QQQ ETF alone. By plotting both, we can visually compare how the portfolio performs relative to the benchmark over time."
   ]
  },
  {
   "cell_type": "markdown",
   "id": "31066e8c",
   "metadata": {},
   "source": [
    "## Perform linear regression to analyze portfolio performance"
   ]
  },
  {
   "cell_type": "markdown",
   "id": "9555d696",
   "metadata": {},
   "source": [
    "We will use linear regression to determine the relationship between our portfolio returns and the benchmark returns. This will allow us to understand how our portfolio is performing relative to the market."
   ]
  },
  {
   "cell_type": "code",
   "execution_count": null,
   "id": "d914ff7c",
   "metadata": {
    "lines_to_next_cell": 1
   },
   "outputs": [],
   "source": [
    "def linreg(x, y):    \n",
    "    x = sm.add_constant(x)\n",
    "    model = sm.OLS(y, x).fit()\n",
    "    return model"
   ]
  },
  {
   "cell_type": "code",
   "execution_count": null,
   "id": "777bd1b6",
   "metadata": {},
   "outputs": [],
   "source": [
    "X = benchmark_returns.values\n",
    "Y = portfolio_returns.values"
   ]
  },
  {
   "cell_type": "code",
   "execution_count": null,
   "id": "7270a901",
   "metadata": {},
   "outputs": [],
   "source": [
    "model = linreg(X, Y)\n",
    "alpha, beta = model.params[0], model.params[1]"
   ]
  },
  {
   "cell_type": "code",
   "execution_count": null,
   "id": "522b00b0",
   "metadata": {},
   "outputs": [],
   "source": [
    "print(model.summary())\n",
    "print(f\"Alpha: {alpha}\")\n",
    "print(f\"Beta: {beta}\")"
   ]
  },
  {
   "cell_type": "markdown",
   "id": "a756b3ac",
   "metadata": {},
   "source": [
    "We define a function to perform linear regression using the statsmodels library. We add a constant to include an intercept in the regression. This function returns a fitted model object that we can analyze. We input the benchmark returns as the independent variable and the portfolio returns as the dependent variable. The regression provides us with an alpha and beta value. Alpha represents the excess returns of the portfolio not explained by the benchmark, while beta measures the sensitivity of the portfolio to market movements. The summary of the model provides additional statistics to evaluate the fit."
   ]
  },
  {
   "cell_type": "markdown",
   "id": "be1e69f8",
   "metadata": {},
   "source": [
    "## Build and analyze a hedged portfolio"
   ]
  },
  {
   "cell_type": "markdown",
   "id": "1f114884",
   "metadata": {},
   "source": [
    "We will create a hedged portfolio by adjusting the portfolio returns based on the beta from our regression. We will then analyze the performance of this hedged portfolio."
   ]
  },
  {
   "cell_type": "code",
   "execution_count": null,
   "id": "2de5aee9",
   "metadata": {},
   "outputs": [],
   "source": [
    "hedged_portfolio_returns = -beta * benchmark_returns + portfolio_returns"
   ]
  },
  {
   "cell_type": "code",
   "execution_count": null,
   "id": "d26f6131",
   "metadata": {},
   "outputs": [],
   "source": [
    "P = hedged_portfolio_returns.values\n",
    "model = linreg(X, P)\n",
    "alpha, beta = model.params[0], model.params[1]"
   ]
  },
  {
   "cell_type": "code",
   "execution_count": null,
   "id": "60affc2f",
   "metadata": {},
   "outputs": [],
   "source": [
    "print(f\"Alpha: {alpha}\")\n",
    "print(f\"Beta: {round(beta, 6)}\")"
   ]
  },
  {
   "cell_type": "code",
   "execution_count": null,
   "id": "cc0c8c0a",
   "metadata": {},
   "outputs": [],
   "source": [
    "hedged_portfolio_returns.plot()\n",
    "benchmark_returns.plot()"
   ]
  },
  {
   "cell_type": "markdown",
   "id": "3d5d5c5a",
   "metadata": {},
   "source": [
    "Using the beta from our previous regression, we adjust the portfolio returns to create a hedged portfolio. This involves subtracting the product of beta and benchmark returns from the portfolio returns, effectively reducing market exposure. We perform another regression analysis on the hedged returns against the benchmark to evaluate the hedging effectiveness. The new alpha and beta values indicate how well the hedged portfolio performs independently of market movements. Finally, we plot the hedged portfolio returns alongside the benchmark to visually assess the results."
   ]
  },
  {
   "cell_type": "markdown",
   "id": "f77af4c5",
   "metadata": {},
   "source": [
    "## Your next steps"
   ]
  },
  {
   "cell_type": "markdown",
   "id": "dc62b3e0-71c1-49d1-9b46-00258cd536f4",
   "metadata": {},
   "source": [
    "Try changing the tickers in the code to analyze a different set of stocks. Observe how the alpha and beta values change with different portfolios. Experiment with different time periods to see how the market conditions affect your analysis."
   ]
  },
  {
   "cell_type": "markdown",
   "id": "81bb768c",
   "metadata": {},
   "source": [
    "<a href=\"https://pyquantnews.com/\">PyQuant News</a> is where finance practitioners level up with Python for quant finance, algorithmic trading, and market data analysis. Looking to get started? Check out the fastest growing, top-selling course to <a href=\"https://gettingstartedwithpythonforquantfinance.com/\">get started with Python for quant finance</a>. For educational purposes. Not investment advise. Use at your own risk."
   ]
  }
 ],
 "metadata": {
  "jupytext": {
   "cell_metadata_filter": "-all",
   "main_language": "python",
   "notebook_metadata_filter": "-all"
  },
  "kernelspec": {
   "display_name": "Python 3 (ipykernel)",
   "language": "python",
   "name": "python3"
  },
  "language_info": {
   "codemirror_mode": {
    "name": "ipython",
    "version": 3
   },
   "file_extension": ".py",
   "mimetype": "text/x-python",
   "name": "python",
   "nbconvert_exporter": "python",
   "pygments_lexer": "ipython3",
   "version": "3.10.13"
  }
 },
 "nbformat": 4,
 "nbformat_minor": 5
}
