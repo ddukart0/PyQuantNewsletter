{
 "cells": [
  {
   "cell_type": "markdown",
   "id": "acf92cad",
   "metadata": {},
   "source": [
    "<div style=\"background-color:#000;\"><img src=\"pqn.png\"></img></div>"
   ]
  },
  {
   "cell_type": "markdown",
   "id": "48b3228b",
   "metadata": {},
   "source": [
    "This code cross-validates a parameterized trading strategy using historical data. It defines a cross-validation schema that splits data into training and testing sets based on specified time ranges. The code then applies a simple trading strategy, an EMA crossover with an ATR trailing stop, to each split. It evaluates the strategy's performance using the Sharpe ratio and performs parameter optimization to test various combinations. Finally, it analyzes the correlation between training and testing results to assess the strategy's robustness."
   ]
  },
  {
   "cell_type": "code",
   "execution_count": null,
   "id": "785f4c8d",
   "metadata": {},
   "outputs": [],
   "source": [
    "import numpy as np\n",
    "from pandas.tseries.frequencies import to_offset\n",
    "import vectorbtpro as vbt"
   ]
  },
  {
   "cell_type": "markdown",
   "id": "ca356a7c",
   "metadata": {},
   "source": [
    "Set the theme for VectorBT plots to dark"
   ]
  },
  {
   "cell_type": "code",
   "execution_count": null,
   "id": "81e4fb7f",
   "metadata": {},
   "outputs": [],
   "source": [
    "vbt.settings.set_theme(\"dark\")"
   ]
  },
  {
   "cell_type": "markdown",
   "id": "93718ad2",
   "metadata": {},
   "source": [
    "Define parameters for the data pull, including symbol, start and end dates, and timeframe"
   ]
  },
  {
   "cell_type": "code",
   "execution_count": null,
   "id": "15af4a7d",
   "metadata": {},
   "outputs": [],
   "source": [
    "SYMBOL = \"AAPL\"\n",
    "START = \"2010\"\n",
    "END = \"now\"\n",
    "TIMEFRAME = \"day\""
   ]
  },
  {
   "cell_type": "markdown",
   "id": "68e65272",
   "metadata": {},
   "source": [
    "Pull historical data for the specified symbol and timeframe"
   ]
  },
  {
   "cell_type": "code",
   "execution_count": null,
   "id": "c28fc62d",
   "metadata": {},
   "outputs": [],
   "source": [
    "data = vbt.YFData.pull(\n",
    "    SYMBOL,\n",
    "    start=START,\n",
    "    end=END,\n",
    "    timeframe=TIMEFRAME\n",
    ")"
   ]
  },
  {
   "cell_type": "markdown",
   "id": "004a7434",
   "metadata": {},
   "source": [
    "Define parameters for the cross-validation schema, including training and testing periods"
   ]
  },
  {
   "cell_type": "code",
   "execution_count": null,
   "id": "8044bc95",
   "metadata": {},
   "outputs": [],
   "source": [
    "TRAIN = 12\n",
    "TEST = 12\n",
    "EVERY = 3\n",
    "OFFSET = \"MS\""
   ]
  },
  {
   "cell_type": "markdown",
   "id": "f32836d0",
   "metadata": {},
   "source": [
    "Create a splitter object that divides the date range into training and testing sets"
   ]
  },
  {
   "cell_type": "code",
   "execution_count": null,
   "id": "4bb6df7a",
   "metadata": {},
   "outputs": [],
   "source": [
    "splitter = vbt.Splitter.from_ranges(\n",
    "    data.index, \n",
    "    every=f\"{EVERY}{OFFSET}\", \n",
    "    lookback_period=f\"{TRAIN + TEST}{OFFSET}\",\n",
    "    split=(\n",
    "        vbt.RepFunc(lambda index: index < index[0] + TRAIN * to_offset(OFFSET)),\n",
    "        vbt.RepFunc(lambda index: index >= index[0] + TRAIN * to_offset(OFFSET)),\n",
    "    ),\n",
    "    set_labels=[\"train\", \"test\"]\n",
    ")"
   ]
  },
  {
   "cell_type": "markdown",
   "id": "d053230f",
   "metadata": {},
   "source": [
    "Display the splitter plots to visualize the training and testing sets"
   ]
  },
  {
   "cell_type": "code",
   "execution_count": null,
   "id": "a7d4f3b1",
   "metadata": {
    "lines_to_next_cell": 1
   },
   "outputs": [],
   "source": [
    "splitter.plots().show_png()"
   ]
  },
  {
   "cell_type": "markdown",
   "id": "a5fb63bd",
   "metadata": {},
   "source": [
    "Define an objective function to execute a trading strategy with specific parameters"
   ]
  },
  {
   "cell_type": "code",
   "execution_count": null,
   "id": "89ffd31c",
   "metadata": {
    "lines_to_next_cell": 1
   },
   "outputs": [],
   "source": [
    "def objective(data, fast_period=10, slow_period=20, atr_period=14, atr_mult=3):\n",
    "    \"\"\"Execute EMA crossover with ATR trailing stop\n",
    "    \n",
    "    Parameters\n",
    "    ----------\n",
    "    data : vbt.Data\n",
    "        Historical price data\n",
    "    fast_period : int, optional\n",
    "        Period for fast EMA, by default 10\n",
    "    slow_period : int, optional\n",
    "        Period for slow EMA, by default 20\n",
    "    atr_period : int, optional\n",
    "        Period for ATR, by default 14\n",
    "    atr_mult : int, optional\n",
    "        Multiplier for ATR trailing stop, by default 3\n",
    "    \n",
    "    Returns\n",
    "    -------\n",
    "    float\n",
    "        Sharpe ratio of the strategy\n",
    "    \"\"\"\n",
    "    \n",
    "    # Calculate fast and slow EMAs and ATR for the given periods\n",
    "    fast_ema = data.run(\"talib:ema\", fast_period, short_name=\"fast_ema\", unpack=True)\n",
    "    slow_ema = data.run(\"talib:ema\", slow_period, short_name=\"slow_ema\", unpack=True)\n",
    "    atr = data.run(\"talib:atr\", atr_period, unpack=True)\n",
    "    \n",
    "    # Define a portfolio using EMA crossover signals and ATR trailing stop\n",
    "    pf = vbt.PF.from_signals(\n",
    "        data, \n",
    "        entries=fast_ema.vbt.crossed_above(slow_ema), \n",
    "        exits=fast_ema.vbt.crossed_below(slow_ema), \n",
    "        tsl_stop=atr * atr_mult, \n",
    "        save_returns=True,\n",
    "        freq=TIMEFRAME\n",
    "    )\n",
    "    \n",
    "    # Return the Sharpe ratio of the portfolio\n",
    "    return pf.sharpe_ratio"
   ]
  },
  {
   "cell_type": "markdown",
   "id": "435b9bc6",
   "metadata": {},
   "source": [
    "Print the Sharpe ratio for the objective function with default parameters"
   ]
  },
  {
   "cell_type": "code",
   "execution_count": null,
   "id": "5eddf8e7",
   "metadata": {},
   "outputs": [],
   "source": [
    "print(objective(data))"
   ]
  },
  {
   "cell_type": "markdown",
   "id": "bb529329",
   "metadata": {},
   "source": [
    "Decorate the objective function to enable it to accept lists of parameters and execute across combinations"
   ]
  },
  {
   "cell_type": "code",
   "execution_count": null,
   "id": "5973132c",
   "metadata": {},
   "outputs": [],
   "source": [
    "param_objective = vbt.parameterized(\n",
    "    objective,\n",
    "    merge_func=\"concat\",\n",
    "    mono_n_chunks=\"auto\",\n",
    "    execute_kwargs=dict(engine=\"pathos\")\n",
    ")"
   ]
  },
  {
   "cell_type": "markdown",
   "id": "99ed7911",
   "metadata": {},
   "source": [
    "Further decorate the function to run across date ranges specified by the splitter"
   ]
  },
  {
   "cell_type": "code",
   "execution_count": null,
   "id": "64779848",
   "metadata": {},
   "outputs": [],
   "source": [
    "cv_objective = vbt.split(\n",
    "    param_objective,\n",
    "    splitter=splitter, \n",
    "    takeable_args=[\"data\"], \n",
    "    merge_func=\"concat\", \n",
    "    execute_kwargs=dict(show_progress=True)\n",
    ")"
   ]
  },
  {
   "cell_type": "markdown",
   "id": "3226b761",
   "metadata": {},
   "source": [
    "Generate Sharpe ratio results for various parameter combinations using cross-validation"
   ]
  },
  {
   "cell_type": "code",
   "execution_count": null,
   "id": "7c2a13f0",
   "metadata": {},
   "outputs": [],
   "source": [
    "sharpe_ratio = cv_objective(\n",
    "    data,\n",
    "    vbt.Param(np.arange(10, 50), condition=\"slow_period - fast_period >= 5\"),\n",
    "    vbt.Param(np.arange(10, 50)),\n",
    "    vbt.Param(np.arange(10, 50), condition=\"fast_period <= atr_period <= slow_period\"),\n",
    "    vbt.Param(np.arange(2, 5))\n",
    ")"
   ]
  },
  {
   "cell_type": "markdown",
   "id": "6623c94c",
   "metadata": {},
   "source": [
    "Print the resulting Sharpe ratio for the parameter combinations"
   ]
  },
  {
   "cell_type": "code",
   "execution_count": null,
   "id": "5fd8d29e",
   "metadata": {},
   "outputs": [],
   "source": [
    "print(sharpe_ratio)"
   ]
  },
  {
   "cell_type": "markdown",
   "id": "b7cbaf9f",
   "metadata": {},
   "source": [
    "Extract the Sharpe ratio for the training set"
   ]
  },
  {
   "cell_type": "code",
   "execution_count": null,
   "id": "535d4341",
   "metadata": {},
   "outputs": [],
   "source": [
    "train_sharpe_ratio = sharpe_ratio.xs(\"train\", level=\"set\")"
   ]
  },
  {
   "cell_type": "markdown",
   "id": "f801764d",
   "metadata": {},
   "source": [
    "Extract the Sharpe ratio for the testing set"
   ]
  },
  {
   "cell_type": "code",
   "execution_count": null,
   "id": "5d653e94",
   "metadata": {},
   "outputs": [],
   "source": [
    "test_sharpe_ratio = sharpe_ratio.xs(\"test\", level=\"set\")"
   ]
  },
  {
   "cell_type": "markdown",
   "id": "bb51825b",
   "metadata": {},
   "source": [
    "Print the correlation between training and testing Sharpe ratios"
   ]
  },
  {
   "cell_type": "code",
   "execution_count": null,
   "id": "025204c9",
   "metadata": {},
   "outputs": [],
   "source": [
    "print(train_sharpe_ratio.corr(test_sharpe_ratio))"
   ]
  },
  {
   "cell_type": "markdown",
   "id": "17b28a92",
   "metadata": {},
   "source": [
    "Calculate the difference in Sharpe ratios between testing and training sets"
   ]
  },
  {
   "cell_type": "code",
   "execution_count": null,
   "id": "24d79b93",
   "metadata": {},
   "outputs": [],
   "source": [
    "sharpe_ratio_diff = test_sharpe_ratio - train_sharpe_ratio"
   ]
  },
  {
   "cell_type": "markdown",
   "id": "20641a43",
   "metadata": {},
   "source": [
    "Compute the median difference in Sharpe ratios grouped by fast and slow EMA periods"
   ]
  },
  {
   "cell_type": "code",
   "execution_count": null,
   "id": "22ffa89d",
   "metadata": {},
   "outputs": [],
   "source": [
    "sharpe_ratio_diff_median = sharpe_ratio_diff.groupby(\n",
    "    [\"fast_period\", \"slow_period\"]\n",
    ").median()"
   ]
  },
  {
   "cell_type": "markdown",
   "id": "05ad889e",
   "metadata": {},
   "source": [
    "Display a heatmap of the median differences"
   ]
  },
  {
   "cell_type": "code",
   "execution_count": null,
   "id": "20221cd2",
   "metadata": {},
   "outputs": [],
   "source": [
    "sharpe_ratio_diff_median.vbt.heatmap(\n",
    "    trace_kwargs=dict(colorscale=\"RdBu\")\n",
    ").show_png()"
   ]
  },
  {
   "cell_type": "markdown",
   "id": "cf874803",
   "metadata": {},
   "source": [
    "<a href=\"https://pyquantnews.com/\">PyQuant News</a> is where finance practitioners level up with Python for quant finance, algorithmic trading, and market data analysis. Looking to get started? Check out the fastest growing, top-selling course to <a href=\"https://gettingstartedwithpythonforquantfinance.com/\">get started with Python for quant finance</a>. For educational purposes. Not investment advise. Use at your own risk."
   ]
  }
 ],
 "metadata": {
  "jupytext": {
   "cell_metadata_filter": "-all",
   "main_language": "python",
   "notebook_metadata_filter": "-all"
  }
 },
 "nbformat": 4,
 "nbformat_minor": 5
}
