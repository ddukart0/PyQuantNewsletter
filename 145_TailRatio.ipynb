{
 "cells": [
  {
   "cell_type": "markdown",
   "id": "0d4a1d64",
   "metadata": {},
   "source": [
    "<div style=\"background-color:#000;\"><img src=\"pqn.png\"></img></div>"
   ]
  },
  {
   "cell_type": "markdown",
   "id": "0d75fc0a",
   "metadata": {},
   "source": [
    "These libraries help us download financial data, analyze it, and create visualizations"
   ]
  },
  {
   "cell_type": "code",
   "execution_count": null,
   "id": "4c166733",
   "metadata": {},
   "outputs": [],
   "source": [
    "import matplotlib.pyplot as plt\n",
    "import numpy as np\n",
    "import pandas as pd\n",
    "import yfinance as yf"
   ]
  },
  {
   "cell_type": "markdown",
   "id": "3a841646",
   "metadata": {},
   "source": [
    "We download stock data for NVDA and AMD, calculate daily returns, and prepare it for analysis"
   ]
  },
  {
   "cell_type": "code",
   "execution_count": null,
   "id": "c0d3a0f4",
   "metadata": {
    "lines_to_next_cell": 1
   },
   "outputs": [],
   "source": [
    "df = (\n",
    "    yf.download([\"NVDA\", \"AMD\"], start=\"2020-01-01\")\n",
    "    .Close.pct_change(fill_method=None)\n",
    "    .dropna()\n",
    ")"
   ]
  },
  {
   "cell_type": "markdown",
   "id": "5748e2c2",
   "metadata": {},
   "source": [
    "This code fetches the closing prices for NVIDIA and AMD stocks from January 1, 2020, to the present. It then calculates the daily percentage returns and removes any rows with missing data. The resulting dataframe contains the daily returns for both stocks, which we'll use for our analysis."
   ]
  },
  {
   "cell_type": "markdown",
   "id": "7ac3f2a8",
   "metadata": {},
   "source": [
    "### Calculate tail ratios"
   ]
  },
  {
   "cell_type": "markdown",
   "id": "5fdc085f",
   "metadata": {},
   "source": [
    "We define a function to compute the tail ratio and apply it to our stock data"
   ]
  },
  {
   "cell_type": "code",
   "execution_count": null,
   "id": "a1dcdb36",
   "metadata": {
    "lines_to_next_cell": 1
   },
   "outputs": [],
   "source": [
    "def tail_ratio(returns):\n",
    "    return abs(np.percentile(returns, 95)) / abs(np.percentile(returns, 5))"
   ]
  },
  {
   "cell_type": "code",
   "execution_count": null,
   "id": "51f7d526",
   "metadata": {},
   "outputs": [],
   "source": [
    "tail_ratio_a = tail_ratio(df.AMD)\n",
    "tail_ratio_b = tail_ratio(df.NVDA)"
   ]
  },
  {
   "cell_type": "code",
   "execution_count": null,
   "id": "67322d51",
   "metadata": {},
   "outputs": [],
   "source": [
    "print(f\"Tail Ratio for AMD: {tail_ratio_a:.4f}\")\n",
    "print(f\"Tail Ratio for NVDA: {tail_ratio_b:.4f}\")"
   ]
  },
  {
   "cell_type": "markdown",
   "id": "5f0319c3",
   "metadata": {},
   "source": [
    "The tail ratio is a measure of the relative size of the positive and negative tails of a distribution. Our function calculates this by dividing the absolute value of the 95th percentile by the absolute value of the 5th percentile. We then apply this function to both AMD and NVIDIA returns and print the results. A higher tail ratio suggests more extreme positive returns relative to negative ones."
   ]
  },
  {
   "cell_type": "markdown",
   "id": "8945b903",
   "metadata": {},
   "source": [
    "### Visualize return distributions"
   ]
  },
  {
   "cell_type": "markdown",
   "id": "5175a9a1",
   "metadata": {},
   "source": [
    "We create a histogram to compare the return distributions of AMD and NVIDIA"
   ]
  },
  {
   "cell_type": "code",
   "execution_count": null,
   "id": "fcd17588",
   "metadata": {},
   "outputs": [],
   "source": [
    "plt.figure(figsize=(10, 6))\n",
    "plt.hist(df.AMD, bins=50, alpha=0.5, label=\"AMD\")\n",
    "plt.hist(df.NVDA, bins=50, alpha=0.5, label=\"NVDA\")\n",
    "plt.axvline(np.percentile(df.AMD, 5), color=\"r\", linestyle=\"dashed\", linewidth=2)\n",
    "plt.axvline(np.percentile(df.AMD, 95), color=\"r\", linestyle=\"dashed\", linewidth=2)\n",
    "plt.axvline(np.percentile(df.NVDA, 5), color=\"g\", linestyle=\"dashed\", linewidth=2)\n",
    "plt.axvline(np.percentile(df.NVDA, 95), color=\"g\", linestyle=\"dashed\", linewidth=2)\n",
    "plt.legend()\n",
    "plt.title(\"Return Distributions with 5th and 95th Percentiles\")\n",
    "plt.xlabel(\"Returns\")\n",
    "plt.ylabel(\"Frequency\")\n",
    "plt.show()"
   ]
  },
  {
   "cell_type": "markdown",
   "id": "8faffbc1",
   "metadata": {},
   "source": [
    "This visualization creates overlapping histograms of the daily returns for AMD and NVIDIA. We use 50 bins to show the distribution of returns for each stock. The 5th and 95th percentiles are marked with dashed lines for each stock. This helps us visually compare the return distributions and see how the tail ratios we calculated earlier relate to the actual data."
   ]
  },
  {
   "cell_type": "markdown",
   "id": "4f631a94",
   "metadata": {},
   "source": [
    "<a href=\"https://pyquantnews.com/\">PyQuant News</a> is where finance practitioners level up with Python for quant finance, algorithmic trading, and market data analysis. Looking to get started? Check out the fastest growing, top-selling course to <a href=\"https://gettingstartedwithpythonforquantfinance.com/\">get started with Python for quant finance</a>. For educational purposes. Not investment advise. Use at your own risk."
   ]
  }
 ],
 "metadata": {
  "jupytext": {
   "cell_metadata_filter": "-all",
   "main_language": "python",
   "notebook_metadata_filter": "-all"
  },
  "kernelspec": {
   "display_name": "Python 3 (ipykernel)",
   "language": "python",
   "name": "python3"
  },
  "language_info": {
   "codemirror_mode": {
    "name": "ipython",
    "version": 3
   },
   "file_extension": ".py",
   "mimetype": "text/x-python",
   "name": "python",
   "nbconvert_exporter": "python",
   "pygments_lexer": "ipython3",
   "version": "3.10.13"
  }
 },
 "nbformat": 4,
 "nbformat_minor": 5
}
