{
 "cells": [
  {
   "cell_type": "markdown",
   "id": "b0d0bcb7",
   "metadata": {},
   "source": [
    "<div style=\"background-color:#000;\"><img src=\"pqn.png\"></img></div>"
   ]
  },
  {
   "cell_type": "markdown",
   "id": "da1283e1",
   "metadata": {},
   "source": [
    "## Imports and setup"
   ]
  },
  {
   "cell_type": "markdown",
   "id": "9d09ed00",
   "metadata": {},
   "source": [
    "We use these libraries to get financial data, analyze numbers, handle dates, model options, and make clear charts. These tools give us everything we need for pricing and visualizing financial instruments."
   ]
  },
  {
   "cell_type": "code",
   "execution_count": null,
   "id": "7db708d7",
   "metadata": {},
   "outputs": [],
   "source": [
    "import matplotlib.pyplot as plt\n",
    "import numpy as np\n",
    "import pandas as pd\n",
    "import yfinance as yf\n",
    "from QuantLib import *"
   ]
  },
  {
   "cell_type": "markdown",
   "id": "70a01351",
   "metadata": {
    "lines_to_next_cell": 2
   },
   "source": [
    "We’re bringing in tools for charting, data analysis, data collection, and financial modeling. This combination helps us work with price data, build and price options, and show the results visually. Bringing them together makes our workflow smoother and more reliable."
   ]
  },
  {
   "cell_type": "markdown",
   "id": "97c1d9c7",
   "metadata": {},
   "source": [
    "## Retrieve and prepare financial data"
   ]
  },
  {
   "cell_type": "markdown",
   "id": "5c683cc7",
   "metadata": {},
   "source": [
    "We collect the most recent year of prices for a specific stock, then prepare key market data needed for our analysis."
   ]
  },
  {
   "cell_type": "code",
   "execution_count": null,
   "id": "c7b3c0e3",
   "metadata": {},
   "outputs": [],
   "source": [
    "ticker = \"AAPL\"\n",
    "data = yf.download(ticker, period=\"1y\", multi_level_index=False)\n",
    "spot_price = data.Close.iat[-1]\n",
    "risk_free_rate = 0.04\n",
    "dividend_yield = 0.006\n",
    "vol_annual = np.std(np.log(data[\"Close\"] / data[\"Close\"].shift(1)).dropna()) * np.sqrt(\n",
    "    252\n",
    ")"
   ]
  },
  {
   "cell_type": "markdown",
   "id": "eb2d0ee7",
   "metadata": {
    "lines_to_next_cell": 2
   },
   "source": [
    "We pick a stock and download its daily price history for the past year. We then pick out the latest closing price. For analysis, we assume fixed values for interest and dividends, and measure typical daily price swings to estimate how much the price usually moves in a year. This gives us a solid starting point for pricing options."
   ]
  },
  {
   "cell_type": "markdown",
   "id": "1c73c6d9",
   "metadata": {},
   "source": [
    "## Define option contracts and set up engine"
   ]
  },
  {
   "cell_type": "markdown",
   "id": "e440feb8",
   "metadata": {},
   "source": [
    "We set the date for valuation, pick an expiry, and lay out a range of possible payouts for different option strike prices. We also build the financial model needed to estimate option values."
   ]
  },
  {
   "cell_type": "code",
   "execution_count": null,
   "id": "29ed94dd",
   "metadata": {},
   "outputs": [],
   "source": [
    "valuation_date = Date.todaysDate()\n",
    "Settings.instance().evaluationDate = valuation_date\n",
    "expiry_days = 60\n",
    "expiry_date = TARGET().advance(valuation_date, Period(expiry_days, Days))\n",
    "maturity = Actual365Fixed().yearFraction(valuation_date, expiry_date)\n",
    "option_type = Option.Call"
   ]
  },
  {
   "cell_type": "code",
   "execution_count": null,
   "id": "5cfcc1ea",
   "metadata": {},
   "outputs": [],
   "source": [
    "strikes = np.linspace(spot_price * 0.8, spot_price * 1.2, 61)\n",
    "payoffs = [PlainVanillaPayoff(option_type, k) for k in strikes]\n",
    "exercise = AmericanExercise(valuation_date, expiry_date)\n",
    "option_list = [VanillaOption(payoff, exercise) for payoff in payoffs]"
   ]
  },
  {
   "cell_type": "code",
   "execution_count": null,
   "id": "88b3065a",
   "metadata": {},
   "outputs": [],
   "source": [
    "spot_handle = QuoteHandle(SimpleQuote(spot_price))\n",
    "flat_ts = YieldTermStructureHandle(\n",
    "    FlatForward(valuation_date, risk_free_rate, Actual365Fixed())\n",
    ")\n",
    "dividend_ts = YieldTermStructureHandle(\n",
    "    FlatForward(valuation_date, dividend_yield, Actual365Fixed())\n",
    ")\n",
    "flat_vol = BlackVolTermStructureHandle(\n",
    "    BlackConstantVol(valuation_date, TARGET(), vol_annual, Actual365Fixed())\n",
    ")\n",
    "bsm_process = BlackScholesMertonProcess(spot_handle, dividend_ts, flat_ts, flat_vol)"
   ]
  },
  {
   "cell_type": "code",
   "execution_count": null,
   "id": "d9bcd050",
   "metadata": {},
   "outputs": [],
   "source": [
    "for opt in option_list:\n",
    "    engine = BinomialVanillaEngine(bsm_process, \"crr\", 1000)\n",
    "    opt.setPricingEngine(engine)"
   ]
  },
  {
   "cell_type": "markdown",
   "id": "997acd19",
   "metadata": {
    "lines_to_next_cell": 2
   },
   "source": [
    "We establish today’s date for analysis, set when the option expires, and create a variety of options with strikes both below and above current price. Each option has the right to be exercised anytime up to expiry. We use a standard model that blends observed prices, rates, and volatility. We then assign a pricing method to each option so it can be properly valued."
   ]
  },
  {
   "cell_type": "markdown",
   "id": "bad6fddd",
   "metadata": {},
   "source": [
    "## Calculate and plot option prices"
   ]
  },
  {
   "cell_type": "markdown",
   "id": "fa7b87bc",
   "metadata": {},
   "source": [
    "We calculate the estimated market price for each different strike, then chart the results to see how value changes across strike prices."
   ]
  },
  {
   "cell_type": "code",
   "execution_count": null,
   "id": "f1ba92f4",
   "metadata": {},
   "outputs": [],
   "source": [
    "option_prices = [opt.NPV() for opt in option_list]"
   ]
  },
  {
   "cell_type": "code",
   "execution_count": null,
   "id": "c8c74918",
   "metadata": {},
   "outputs": [],
   "source": [
    "plt.figure(figsize=(8, 5))\n",
    "plt.plot(strikes, option_prices, label=\"American Option Price\")\n",
    "plt.scatter(strikes, option_prices, s=12)\n",
    "plt.title(f\"{ticker} American {Option.Call} Option Price vs Strike\")\n",
    "plt.xlabel(\"Strike Price\")\n",
    "plt.ylabel(\"Option Price (60 Days to Expiration)\")\n",
    "plt.grid(True, alpha=0.3)\n",
    "plt.tight_layout()\n",
    "plt.show()"
   ]
  },
  {
   "cell_type": "markdown",
   "id": "472ce3b6",
   "metadata": {},
   "source": [
    "We run the pricing model for each option and collect their values. Then, we build a chart with strikes on the x-axis and the corresponding option prices on the y-axis. By seeing this in a single chart, we get an intuitive sense of how the option’s price responds to different strike prices as the expiry date approaches. This makes it easy to spot patterns or key price levels."
   ]
  },
  {
   "cell_type": "markdown",
   "id": "49b6c336",
   "metadata": {},
   "source": [
    "<a href=\"https://pyquantnews.com/\">PyQuant News</a> is where finance practitioners level up with Python for quant finance, algorithmic trading, and market data analysis. Looking to get started? Check out the fastest growing, top-selling course to <a href=\"https://gettingstartedwithpythonforquantfinance.com/\">get started with Python for quant finance</a>. For educational purposes. Not investment advice. Use at your own risk."
   ]
  }
 ],
 "metadata": {
  "jupytext": {
   "cell_metadata_filter": "-all",
   "main_language": "python",
   "notebook_metadata_filter": "-all"
  }
 },
 "nbformat": 4,
 "nbformat_minor": 5
}
