{
 "cells": [
  {
   "cell_type": "markdown",
   "id": "ed6fe4c5",
   "metadata": {},
   "source": [
    "<div style=\"background-color:#000;\"><img src=\"pqn.png\"></img></div>"
   ]
  },
  {
   "cell_type": "markdown",
   "id": "57578f15",
   "metadata": {},
   "source": [
    "## Imports and setup"
   ]
  },
  {
   "cell_type": "markdown",
   "id": "cee309a2",
   "metadata": {},
   "source": [
    "We import libraries for data handling, optimization, portfolio simulation, and plotting, along with some support for warnings and date management."
   ]
  },
  {
   "cell_type": "code",
   "execution_count": null,
   "id": "99bff47e",
   "metadata": {},
   "outputs": [],
   "source": [
    "import os\n",
    "import warnings\n",
    "from datetime import datetime\n",
    "import riskfolio as rp"
   ]
  },
  {
   "cell_type": "code",
   "execution_count": null,
   "id": "1b4de9f7",
   "metadata": {},
   "outputs": [],
   "source": [
    "import numpy as np\n",
    "import pandas as pd\n",
    "import yfinance as yf\n",
    "import vectorbt as vbt\n",
    "from vectorbt.portfolio.enums import Direction, SizeType\n",
    "from vectorbt.portfolio.nb import order_nb, sort_call_seq_nb"
   ]
  },
  {
   "cell_type": "code",
   "execution_count": null,
   "id": "5e7b8529",
   "metadata": {},
   "outputs": [],
   "source": [
    "vbt.settings.returns[\"year_freq\"] = \"252 days\""
   ]
  },
  {
   "cell_type": "code",
   "execution_count": null,
   "id": "567af902",
   "metadata": {},
   "outputs": [],
   "source": [
    "warnings.filterwarnings(\"ignore\")"
   ]
  },
  {
   "cell_type": "markdown",
   "id": "35110f2a",
   "metadata": {},
   "source": [
    "This segment brings in the core libraries needed to build, test, and evaluate a portfolio strategy. We're setting general behavior like treating each year as 252 trading days and turning off warning messages to keep the output tidy. With these imports, we enable data downloading, calculations, optimization, and visualization in later steps."
   ]
  },
  {
   "cell_type": "markdown",
   "id": "f41a1430",
   "metadata": {},
   "source": [
    "## Load and prepare historical data"
   ]
  },
  {
   "cell_type": "markdown",
   "id": "ab708d4d",
   "metadata": {},
   "source": [
    "We select major finance sector stocks, then download their historical prices and clean up the dataset by removing incomplete dates."
   ]
  },
  {
   "cell_type": "code",
   "execution_count": null,
   "id": "b7c87851",
   "metadata": {},
   "outputs": [],
   "source": [
    "tickers = [\n",
    "\"JPM\", \"V\", \"MA\", \"BAC\", \"WFC\", \"GS\", \"MS\", \"AXP\", \"C\"\n",
    "]"
   ]
  },
  {
   "cell_type": "code",
   "execution_count": null,
   "id": "dfd117be",
   "metadata": {},
   "outputs": [],
   "source": [
    "data = yf.download(tickers, start=\"2010-01-01\", end=\"2024-06-30\", auto_adjust=False)[\"Close\"].dropna()"
   ]
  },
  {
   "cell_type": "markdown",
   "id": "e14c21b6",
   "metadata": {
    "lines_to_next_cell": 2
   },
   "source": [
    "Here we define our investment universe by listing ticker symbols for several well-known financial companies. We then collect daily closing prices for these stocks from Yahoo Finance, covering more than a decade. Removing dates with missing values leaves us with a consistent dataset for robust backtesting."
   ]
  },
  {
   "cell_type": "markdown",
   "id": "98190fc7",
   "metadata": {},
   "source": [
    "## Define portfolio simulation functions"
   ]
  },
  {
   "cell_type": "markdown",
   "id": "71845a06",
   "metadata": {},
   "source": [
    "We set how often to rebalance, how to look back at price history for optimization, and how to place portfolio trades."
   ]
  },
  {
   "cell_type": "code",
   "execution_count": null,
   "id": "8e6a7ad0",
   "metadata": {
    "lines_to_next_cell": 1
   },
   "outputs": [],
   "source": [
    "num_tests = 2000\n",
    "ann_factor = data.vbt.returns(freq=\"D\").ann_factor"
   ]
  },
  {
   "cell_type": "code",
   "execution_count": null,
   "id": "2312c8c4",
   "metadata": {
    "lines_to_next_cell": 1
   },
   "outputs": [],
   "source": [
    "def pre_sim_func_nb(sc, every_nth):\n",
    "    sc.segment_mask[:, :] = False\n",
    "    sc.segment_mask[every_nth::every_nth, :] = True\n",
    "    return ()"
   ]
  },
  {
   "cell_type": "code",
   "execution_count": null,
   "id": "4e778722",
   "metadata": {
    "lines_to_next_cell": 1
   },
   "outputs": [],
   "source": [
    "def pre_segment_func_nb(\n",
    "    sc, find_weights_nb, history_len, ann_factor, num_tests, srb_sharpe\n",
    "):\n",
    "    if history_len == -1:\n",
    "        close = sc.close[: sc.i, sc.from_col : sc.to_col]\n",
    "    else:\n",
    "        if sc.i - history_len <= 0:\n",
    "            return (np.full(sc.group_len, np.nan),)\n",
    "        close = sc.close[sc.i - history_len : sc.i, sc.from_col : sc.to_col]\n",
    "\n",
    "    best_sharpe_ratio, weights = find_weights_nb(sc, close, num_tests)\n",
    "    srb_sharpe[sc.i] = best_sharpe_ratio\n",
    "\n",
    "    size_type = np.full(sc.group_len, SizeType.TargetPercent)\n",
    "    direction = np.full(sc.group_len, Direction.LongOnly)\n",
    "    temp_float_arr = np.empty(sc.group_len, dtype=np.float_)\n",
    "    for k in range(sc.group_len):\n",
    "        col = sc.from_col + k\n",
    "        sc.last_val_price[col] = sc.close[sc.i, col]\n",
    "    sort_call_seq_nb(sc, weights, size_type, direction, temp_float_arr)\n",
    "\n",
    "    return (weights,)"
   ]
  },
  {
   "cell_type": "code",
   "execution_count": null,
   "id": "21b49cb1",
   "metadata": {},
   "outputs": [],
   "source": [
    "def order_func_nb(oc, weights):\n",
    "    col_i = oc.call_seq_now[oc.call_idx]\n",
    "    return order_nb(\n",
    "        weights[col_i],\n",
    "        oc.close[oc.i, oc.col],\n",
    "        size_type=SizeType.TargetPercent,\n",
    "    )"
   ]
  },
  {
   "cell_type": "markdown",
   "id": "67651d5f",
   "metadata": {
    "lines_to_next_cell": 2
   },
   "source": [
    "This block sets the groundwork for our portfolio simulation. We specify how often rebalancing happens, how much historical data to use when making allocation decisions, and how orders are created during simulation. The functions handle date logic, extract relevant price data, optimize for the best risk-adjusted returns, and structure trades to aim for those weights. Using this setup, our strategy can dynamically recalculate allocations throughout the backtest."
   ]
  },
  {
   "cell_type": "markdown",
   "id": "8cc049b4",
   "metadata": {},
   "source": [
    "## Optimize portfolio weights and run backtest"
   ]
  },
  {
   "cell_type": "markdown",
   "id": "77643897",
   "metadata": {},
   "source": [
    "We run an optimization to find weights that maximize risk-adjusted returns using past data, then simulate the portfolio and review performance."
   ]
  },
  {
   "cell_type": "code",
   "execution_count": null,
   "id": "2ab3c135",
   "metadata": {
    "lines_to_next_cell": 1
   },
   "outputs": [],
   "source": [
    "def opt_weights(sc, close, num_tests):\n",
    "    close = pd.DataFrame(close, columns=tickers)\n",
    "    returns = close.pct_change().dropna()\n",
    "    port = rp.Portfolio(returns=returns)\n",
    "    port.assets_stats(method_mu=\"hist\", method_cov=\"hist\")\n",
    "    w = port.optimization(model=\"Classic\", rm=\"CDaR\", obj=\"Sharpe\", hist=True)\n",
    "    weights = np.ravel(w.to_numpy())\n",
    "    shp = rp.Sharpe(w, port.mu, cov=port.cov, returns=returns, rm=\"CDaR\", alpha=0.05)\n",
    "    return shp, weights"
   ]
  },
  {
   "cell_type": "code",
   "execution_count": null,
   "id": "3c71feb0",
   "metadata": {},
   "outputs": [],
   "source": [
    "sharpe = np.full(data.shape, np.nan)\n",
    "pf = vbt.Portfolio.from_order_func(\n",
    "    data,\n",
    "    order_func_nb,\n",
    "    pre_sim_func_nb=pre_sim_func_nb,\n",
    "    pre_sim_args=(30,),\n",
    "    pre_segment_func_nb=pre_segment_func_nb,\n",
    "    pre_segment_args=(opt_weights, 252 * 4, ann_factor, num_tests, sharpe),\n",
    "    cash_sharing=True,\n",
    "    group_by=True,\n",
    "    use_numba=False,\n",
    "    freq=\"D\"\n",
    ")"
   ]
  },
  {
   "cell_type": "code",
   "execution_count": null,
   "id": "bdb57eca",
   "metadata": {},
   "outputs": [],
   "source": [
    "pf.plot_cum_returns()"
   ]
  },
  {
   "cell_type": "code",
   "execution_count": null,
   "id": "61e7c970",
   "metadata": {},
   "outputs": [],
   "source": [
    "pf.stats()"
   ]
  },
  {
   "cell_type": "code",
   "execution_count": null,
   "id": "f6b642d6",
   "metadata": {},
   "outputs": [],
   "source": [
    "bm_returns = pf.benchmark_returns()\n",
    "bm_returns_acc = bm_returns.vbt.returns(\n",
    "    freq=\"1d\",\n",
    "    year_freq=\"252 days\",\n",
    ")\n",
    "print(f\"Benchmark sharpe: {bm_returns_acc.sharpe_ratio()}\")\n",
    "print(f\"Benchmark drawdown: {bm_returns_acc.max_drawdown()}\")"
   ]
  },
  {
   "cell_type": "markdown",
   "id": "e8b0aca5",
   "metadata": {},
   "source": [
    "We define how to select our portfolio weights by maximizing the Sharpe ratio—this balances return against risk. Then we use a simulation engine to run our strategy, regularly rebalancing according to these optimal allocations. Finally, we visualize cumulative returns, print statistics, and compare results against a simple buy-and-hold approach. This gives us clear insight into how our adaptive strategy performed over many years, using real historical price data."
   ]
  },
  {
   "cell_type": "markdown",
   "id": "6da34626",
   "metadata": {},
   "source": [
    "<a href=\"https://pyquantnews.com/\">PyQuant News</a> is where finance practitioners level up with Python for quant finance, algorithmic trading, and market data analysis. Looking to get started? Check out the fastest growing, top-selling course to <a href=\"https://gettingstartedwithpythonforquantfinance.com/\">get started with Python for quant finance</a>. For educational purposes. Not investment advice. Use at your own risk."
   ]
  }
 ],
 "metadata": {
  "jupytext": {
   "cell_metadata_filter": "-all",
   "main_language": "python",
   "notebook_metadata_filter": "-all"
  }
 },
 "nbformat": 4,
 "nbformat_minor": 5
}
