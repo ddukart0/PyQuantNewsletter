{
 "cells": [
  {
   "cell_type": "markdown",
   "id": "f341a2f9",
   "metadata": {},
   "source": [
    "<div style=\"background-color:#000;\"><img src=\"pqn.png\"></img></div>"
   ]
  },
  {
   "cell_type": "markdown",
   "id": "7113e328",
   "metadata": {},
   "source": [
    "We import libraries for downloading financial data, running portfolio simulations, calculating asset analytics, and displaying results. We also set chart and warning preferences so output is clear and easy to follow."
   ]
  },
  {
   "cell_type": "markdown",
   "id": "861667ce",
   "metadata": {},
   "source": [
    "## Imports and setup"
   ]
  },
  {
   "cell_type": "code",
   "execution_count": null,
   "id": "842efac6",
   "metadata": {},
   "outputs": [],
   "source": [
    "import os\n",
    "import warnings\n",
    "from datetime import datetime\n",
    "import riskfolio as rp"
   ]
  },
  {
   "cell_type": "code",
   "execution_count": null,
   "id": "1764b69c",
   "metadata": {},
   "outputs": [],
   "source": [
    "import numpy as np\n",
    "import pandas as pd\n",
    "import yfinance as yf\n",
    "import vectorbt as vbt\n",
    "from vectorbt.portfolio.enums import Direction, SizeType\n",
    "from vectorbt.portfolio.nb import order_nb, sort_call_seq_nb"
   ]
  },
  {
   "cell_type": "code",
   "execution_count": null,
   "id": "4101e2c9",
   "metadata": {},
   "outputs": [],
   "source": [
    "vbt.settings.returns[\"year_freq\"] = \"252 days\""
   ]
  },
  {
   "cell_type": "code",
   "execution_count": null,
   "id": "7743f4f2",
   "metadata": {},
   "outputs": [],
   "source": [
    "warnings.filterwarnings(\"ignore\")"
   ]
  },
  {
   "cell_type": "markdown",
   "id": "3414d8af",
   "metadata": {},
   "source": [
    "Here we bring in everything we’ll need for the rest of the code. We import libraries for finance and data handling, set how return calculations treat a year, and turn off less helpful warning messages to keep our results focused."
   ]
  },
  {
   "cell_type": "code",
   "execution_count": null,
   "id": "9a289c4f",
   "metadata": {},
   "outputs": [],
   "source": []
  },
  {
   "cell_type": "markdown",
   "id": "a004c127",
   "metadata": {},
   "source": [
    "We define which stocks and assets we want to analyze and download their historical price data from Yahoo Finance. We pull the daily closing prices for each ticker from 2010 to mid-2024."
   ]
  },
  {
   "cell_type": "code",
   "execution_count": null,
   "id": "30c843a9",
   "metadata": {},
   "outputs": [],
   "source": [
    "tickers = [\n",
    "\"UUUU\", \"UEC\", \"DNN\", \"URG\", \"tsla\", \"CCJ\"\n",
    "]"
   ]
  },
  {
   "cell_type": "code",
   "execution_count": null,
   "id": "a96c6478",
   "metadata": {},
   "outputs": [],
   "source": [
    "data = yf.download(tickers, start=\"2010-01-01\", end=\"2024-06-30\", auto_adjust=False)[\"Close\"]"
   ]
  },
  {
   "cell_type": "markdown",
   "id": "5df650f8",
   "metadata": {},
   "source": [
    "We pick a mix of uranium stocks and Tesla, then pull in their daily closing prices for over a decade. This gives us the data foundation for all later calculations and analysis. By storing prices for this full window, we set up plenty of history for our simulation and optimization steps."
   ]
  },
  {
   "cell_type": "code",
   "execution_count": null,
   "id": "9058cd60",
   "metadata": {},
   "outputs": [],
   "source": []
  },
  {
   "cell_type": "markdown",
   "id": "7b4ab48b",
   "metadata": {},
   "source": [
    "## Build portfolio optimization simulation"
   ]
  },
  {
   "cell_type": "markdown",
   "id": "712070da",
   "metadata": {},
   "source": [
    "We set up a few core parameters for our backtest, including how often we'll run simulations and how many tests to run when searching for good portfolios."
   ]
  },
  {
   "cell_type": "code",
   "execution_count": null,
   "id": "a803e1ba",
   "metadata": {
    "lines_to_next_cell": 1
   },
   "outputs": [],
   "source": [
    "num_tests = 2000\n",
    "ann_factor = data.vbt.returns(freq=\"D\").ann_factor"
   ]
  },
  {
   "cell_type": "code",
   "execution_count": null,
   "id": "4153406b",
   "metadata": {},
   "outputs": [],
   "source": [
    "def pre_sim_func_nb(sc, every_nth):\n",
    "    # Define rebalancing days\n",
    "    sc.segment_mask[:, :] = False\n",
    "    sc.segment_mask[every_nth::every_nth, :] = True\n",
    "    return ()"
   ]
  },
  {
   "cell_type": "markdown",
   "id": "5a064688",
   "metadata": {},
   "source": [
    "This first function prepares the simulation by deciding which days we'll rebalance our portfolio. Setting a regular interval, like every 30 trading days, helps us simulate how these strategies perform with consistent rebalancing. This approach mimics what we'd do in the real world, instead of adjusting positions daily. "
   ]
  },
  {
   "cell_type": "code",
   "execution_count": null,
   "id": "c1aaa1e8",
   "metadata": {},
   "outputs": [],
   "source": []
  },
  {
   "cell_type": "code",
   "execution_count": null,
   "id": "1b88e6f7",
   "metadata": {},
   "outputs": [],
   "source": [
    "def pre_segment_func_nb(\n",
    "    sc, find_weights_nb, history_len, ann_factor, num_tests, srb_sharpe\n",
    "):\n",
    "    if history_len == -1:\n",
    "        # Look back at the entire time period\n",
    "        close = sc.close[: sc.i, sc.from_col : sc.to_col]\n",
    "    else:\n",
    "        # Look back at a fixed time period\n",
    "        if sc.i - history_len <= 0:\n",
    "            return (np.full(sc.group_len, np.nan),)  # insufficient data\n",
    "        close = sc.close[sc.i - history_len : sc.i, sc.from_col : sc.to_col]\n",
    "\n",
    "    # Find optimal weights\n",
    "    best_sharpe_ratio, weights = find_weights_nb(sc, close, num_tests)\n",
    "    srb_sharpe[sc.i] = best_sharpe_ratio\n",
    "\n",
    "    # Update valuation price and reorder orders\n",
    "    size_type = np.full(sc.group_len, SizeType.TargetPercent)\n",
    "    direction = np.full(sc.group_len, Direction.LongOnly)\n",
    "    temp_float_arr = np.empty(sc.group_len, dtype=np.float_)\n",
    "    for k in range(sc.group_len):\n",
    "        col = sc.from_col + k\n",
    "        sc.last_val_price[col] = sc.close[sc.i, col]\n",
    "    sort_call_seq_nb(sc, weights, size_type, direction, temp_float_arr)\n",
    "\n",
    "    return (weights,)"
   ]
  },
  {
   "cell_type": "markdown",
   "id": "bbded0cf",
   "metadata": {},
   "source": [
    "This function figures out the best way to split our money among assets each time we rebalance. It can use all available history or just a fixed window, depending on how much data we want. It then calculates weights targeting higher risk-adjusted returns, and updates info the simulation needs to place our orders for the new rebalance."
   ]
  },
  {
   "cell_type": "code",
   "execution_count": null,
   "id": "7c9ccfca",
   "metadata": {},
   "outputs": [],
   "source": []
  },
  {
   "cell_type": "code",
   "execution_count": null,
   "id": "a2fcff7d",
   "metadata": {},
   "outputs": [],
   "source": [
    "def order_func_nb(oc, weights):\n",
    "    col_i = oc.call_seq_now[oc.call_idx]\n",
    "    return order_nb(\n",
    "        weights[col_i],\n",
    "        oc.close[oc.i, oc.col],\n",
    "        size_type=SizeType.TargetPercent,\n",
    "    )"
   ]
  },
  {
   "cell_type": "markdown",
   "id": "b6f4f759",
   "metadata": {},
   "source": [
    "Here we place our simulated orders to adjust the holdings in the portfolio. We use the weights calculated above to tell the simulation what percent to hold in each asset after each rebalance. This function ensures that, as we move through the simulation, allocations actually change according to what our optimization recommends."
   ]
  },
  {
   "cell_type": "code",
   "execution_count": null,
   "id": "6cb435f0",
   "metadata": {},
   "outputs": [],
   "source": []
  },
  {
   "cell_type": "code",
   "execution_count": null,
   "id": "32ea181a",
   "metadata": {},
   "outputs": [],
   "source": [
    "# This function runs the portfolio optimizer. It uses the most recent data to calculate asset returns, measures the risk of each, and computes the mix that should deliver the highest return per unit of downside risk.\n",
    "def opt_weights(sc, close, num_tests):\n",
    "    close = pd.DataFrame(close, columns=tickers)\n",
    "    returns = close.pct_change().dropna()\n",
    "    port = rp.Portfolio(returns=returns)\n",
    "    port.assets_stats(method_mu=\"hist\", method_cov=\"hist\")\n",
    "    w = port.optimization(model=\"Classic\", rm=\"CDaR\", obj=\"Sharpe\", hist=True)\n",
    "    weights = np.ravel(w.to_numpy())\n",
    "    shp = rp.Sharpe(w, port.mu, cov=port.cov, returns=returns, rm=\"CDaR\", alpha=0.05)\n",
    "    return shp, weights"
   ]
  },
  {
   "cell_type": "markdown",
   "id": "b2d4dbd0",
   "metadata": {},
   "source": [
    "This function takes in a window of historical prices, turns them into returns, and feeds them into a classic mean-variance optimizer library. It finds weights that maximize the Sharpe ratio (risk-adjusted return) while focusing on downside risk, reflecting a cautious but practical investor mindset. This gives us a data-driven way to select allocations over time."
   ]
  },
  {
   "cell_type": "code",
   "execution_count": null,
   "id": "47233c22",
   "metadata": {},
   "outputs": [],
   "source": []
  },
  {
   "cell_type": "markdown",
   "id": "1adadca1",
   "metadata": {},
   "source": [
    "## Run backtest and display results"
   ]
  },
  {
   "cell_type": "markdown",
   "id": "856f56ce",
   "metadata": {},
   "source": [
    "We set up the containers for our risk-adjusted return calculations, then run our entire backtest: simulating rebalancing the portfolio with optimized weights over the full period, and optionally benchmarking performance."
   ]
  },
  {
   "cell_type": "code",
   "execution_count": null,
   "id": "a32193ec",
   "metadata": {},
   "outputs": [],
   "source": [
    "sharpe = np.full(data.shape, np.nan)\n",
    "pf = vbt.Portfolio.from_order_func(\n",
    "    data,\n",
    "    order_func_nb,\n",
    "    pre_sim_func_nb=pre_sim_func_nb,\n",
    "    pre_sim_args=(30,),\n",
    "    pre_segment_func_nb=pre_segment_func_nb,\n",
    "    pre_segment_args=(opt_weights, 252 * 4, ann_factor, num_tests, sharpe),\n",
    "    cash_sharing=True,\n",
    "    group_by=True,\n",
    "    use_numba=False,\n",
    "    freq=\"D\"\n",
    ")"
   ]
  },
  {
   "cell_type": "code",
   "execution_count": null,
   "id": "e5ea8351",
   "metadata": {},
   "outputs": [],
   "source": [
    "pf.plot_cum_returns()"
   ]
  },
  {
   "cell_type": "code",
   "execution_count": null,
   "id": "6fe73de8",
   "metadata": {},
   "outputs": [],
   "source": [
    "pf.stats()"
   ]
  },
  {
   "cell_type": "code",
   "execution_count": null,
   "id": "8622da40",
   "metadata": {},
   "outputs": [],
   "source": [
    "bm_returns = pf.benchmark_returns()\n",
    "bm_returns_acc = bm_returns.vbt.returns(\n",
    "    freq=\"1d\",\n",
    "    year_freq=\"252 days\",\n",
    ")\n",
    "print(f\"Benchmark sharpe: {bm_returns_acc.sharpe_ratio()}\")\n",
    "print(f\"Benchmark drawdown: {bm_returns_acc.max_drawdown()}\")"
   ]
  },
  {
   "cell_type": "markdown",
   "id": "b1c9b5be",
   "metadata": {},
   "source": [
    "We initialize a grid to save Sharpe ratios, then run our custom portfolio simulation. Using our optimizer at every rebalance step, we automatically shift allocations to wherever recent data suggests risk-adjusted returns will be best. Finally, we create a visual of total returns over time and print out key stats including the standard performance measures. This makes it easy to see how our strategy compares to simply buying and holding everything."
   ]
  },
  {
   "cell_type": "markdown",
   "id": "453b8dd2",
   "metadata": {},
   "source": [
    "<a href=\"https://pyquantnews.com/\">PyQuant News</a> is where finance practitioners level up with Python for quant finance, algorithmic trading, and market data analysis. Looking to get started? Check out the fastest growing, top-selling course to <a href=\"https://gettingstartedwithpythonforquantfinance.com/\">get started with Python for quant finance</a>. For educational purposes. Not investment advice. Use at your own risk."
   ]
  }
 ],
 "metadata": {
  "jupytext": {
   "cell_metadata_filter": "-all",
   "main_language": "python",
   "notebook_metadata_filter": "-all"
  }
 },
 "nbformat": 4,
 "nbformat_minor": 5
}
