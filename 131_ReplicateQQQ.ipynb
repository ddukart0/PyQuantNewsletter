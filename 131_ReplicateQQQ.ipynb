{
 "cells": [
  {
   "cell_type": "markdown",
   "id": "8c57816d",
   "metadata": {},
   "source": [
    "<div style=\"background-color:#000;\"><img src=\"pqn.png\"></img></div>"
   ]
  },
  {
   "cell_type": "code",
   "execution_count": null,
   "id": "eabb3391",
   "metadata": {},
   "outputs": [],
   "source": [
    "```python\n",
    "import riskfolio as rp\n",
    "import pandas as pd\n",
    "import yfinance as yf"
   ]
  },
  {
   "cell_type": "code",
   "execution_count": null,
   "id": "e836364c",
   "metadata": {},
   "outputs": [],
   "source": [
    "```"
   ]
  },
  {
   "cell_type": "markdown",
   "id": "adf19156",
   "metadata": {},
   "source": [
    "## Fetch historical stock data and calculate returns"
   ]
  },
  {
   "cell_type": "code",
   "execution_count": null,
   "id": "1d494582",
   "metadata": {},
   "outputs": [],
   "source": [
    "We will fetch historical stock price data for a list of assets from Yahoo Finance. This data will be used to calculate daily returns, which are necessary for constructing a portfolio."
   ]
  },
  {
   "cell_type": "code",
   "execution_count": null,
   "id": "500a8e12",
   "metadata": {},
   "outputs": [],
   "source": [
    "```python\n",
    "assets = [\"QQQ\", \"AAPL\", \"MSFT\", \"AMZN\", \"GOOGL\", \"META\", \"TSLA\", \"NVDA\"]"
   ]
  },
  {
   "cell_type": "code",
   "execution_count": null,
   "id": "38fff73c",
   "metadata": {},
   "outputs": [],
   "source": [
    "data = yf.download(assets, start=\"2016-01-01\", end=\"2019-12-30\")[\"Adj Close\"]\n",
    "data.index = pd.to_datetime(data.index)"
   ]
  },
  {
   "cell_type": "code",
   "execution_count": null,
   "id": "346dcf28",
   "metadata": {},
   "outputs": [],
   "source": [
    "returns = data.pct_change().dropna()\n",
    "bench_returns = returns.pop(\"QQQ\").to_frame()"
   ]
  },
  {
   "cell_type": "code",
   "execution_count": null,
   "id": "59bf83ed",
   "metadata": {},
   "outputs": [],
   "source": [
    "```"
   ]
  },
  {
   "cell_type": "code",
   "execution_count": null,
   "id": "4c8b8f01",
   "metadata": {},
   "outputs": [],
   "source": [
    "We define a list of asset symbols that we are interested in analyzing. These symbols include popular technology stocks and an ETF. Using the `yfinance` library, we download adjusted closing price data for these assets over a specified date range. The data is then converted to a pandas DataFrame with a datetime index for easier manipulation. We calculate daily percentage returns for the assets and store them in a DataFrame, dropping any missing values. The benchmark returns, specifically for the QQQ ETF, are also isolated for later comparison."
   ]
  },
  {
   "cell_type": "markdown",
   "id": "c4c9e471",
   "metadata": {},
   "source": [
    "## Set up and configure the portfolio"
   ]
  },
  {
   "cell_type": "code",
   "execution_count": null,
   "id": "40709711",
   "metadata": {},
   "outputs": [],
   "source": [
    "Next, we will set up a portfolio object to store the asset returns and configure it with desired statistical methods. We also define some constraints for the optimization process."
   ]
  },
  {
   "cell_type": "code",
   "execution_count": null,
   "id": "984c8ae1",
   "metadata": {},
   "outputs": [],
   "source": [
    "```python\n",
    "port = rp.Portfolio(returns=returns)\n",
    "port.assets_stats(method_mu=\"hist\", method_cov=\"hist\", d=0.94)"
   ]
  },
  {
   "cell_type": "code",
   "execution_count": null,
   "id": "b689fd27",
   "metadata": {},
   "outputs": [],
   "source": [
    "port.kindbench = False\n",
    "port.benchindex = bench_returns"
   ]
  },
  {
   "cell_type": "code",
   "execution_count": null,
   "id": "2cf05f90",
   "metadata": {},
   "outputs": [],
   "source": [
    "port.allowTE = True\n",
    "port.TE = 0.008"
   ]
  },
  {
   "cell_type": "code",
   "execution_count": null,
   "id": "aea52d15",
   "metadata": {},
   "outputs": [],
   "source": [
    "```"
   ]
  },
  {
   "cell_type": "code",
   "execution_count": null,
   "id": "a6b34994",
   "metadata": {},
   "outputs": [],
   "source": [
    "We create a portfolio object using the `riskfolio` library and load the calculated returns into it. We then calculate asset statistics like mean and covariance using historical data, setting the decay factor for exponential smoothing. We indicate that there are no predefined benchmark weights, choosing instead to use the benchmark index we previously defined. We enable the use of tracking error constraints, which will allow us to control how much the portfolio's returns can deviate from the benchmark. We set a maximum tracking error of 0.8%, ensuring our portfolio remains closely aligned with the benchmark."
   ]
  },
  {
   "cell_type": "markdown",
   "id": "7d2ad2d9",
   "metadata": {},
   "source": [
    "## Optimize the portfolio and visualize the result"
   ]
  },
  {
   "cell_type": "code",
   "execution_count": null,
   "id": "57d70a6d",
   "metadata": {},
   "outputs": [],
   "source": [
    "We will perform the portfolio optimization using the specified risk model and objective function. After obtaining the optimal weights, we will visualize the portfolio composition with a pie chart."
   ]
  },
  {
   "cell_type": "code",
   "execution_count": null,
   "id": "158600f0",
   "metadata": {},
   "outputs": [],
   "source": [
    "```python\n",
    "w = port.optimization(\n",
    "    model=\"Classic\",\n",
    "    rm=\"CVaR\",\n",
    "    obj=\"Sharpe\",\n",
    "    rf=0,\n",
    "    l=0,\n",
    "    hist=True\n",
    ")"
   ]
  },
  {
   "cell_type": "code",
   "execution_count": null,
   "id": "d5f8a126",
   "metadata": {},
   "outputs": [],
   "source": [
    "ax = rp.plot_pie(\n",
    "    w=w,\n",
    "    title=\"Sharpe Mean CVaR\",\n",
    "    others=0.05,\n",
    "    nrow=25,\n",
    "    cmap=\"tab20\",\n",
    "    height=6,\n",
    "    width=10,\n",
    "    ax=None,\n",
    ")"
   ]
  },
  {
   "cell_type": "code",
   "execution_count": null,
   "id": "deca6ab4",
   "metadata": {},
   "outputs": [],
   "source": [
    "```"
   ]
  },
  {
   "cell_type": "code",
   "execution_count": null,
   "id": "7be3484c",
   "metadata": {},
   "outputs": [],
   "source": [
    "We perform the portfolio optimization using a classic mean-variance model. The risk measure chosen is Conditional Value-at-Risk (CVaR), which focuses on tail risk. We aim to maximize the Sharpe ratio, which balances risk and return. The optimization assumes a risk-free rate of 0% and uses historical data for calculations. The result is a set of optimal asset weights, which we then visualize using a pie chart. The pie chart helps us understand the composition of the portfolio, showing the relative weight of each asset. We also group smaller allocations under \"others\" for simplicity."
   ]
  },
  {
   "cell_type": "markdown",
   "id": "5cfbf910",
   "metadata": {},
   "source": [
    "## Compare portfolio and benchmark returns"
   ]
  },
  {
   "cell_type": "code",
   "execution_count": null,
   "id": "6b5fa2f8",
   "metadata": {},
   "outputs": [],
   "source": [
    "We will calculate the cumulative returns for both the optimized portfolio and the benchmark. Finally, we will plot these returns to visually compare their performance over time."
   ]
  },
  {
   "cell_type": "code",
   "execution_count": null,
   "id": "d1d118b0",
   "metadata": {},
   "outputs": [],
   "source": [
    "```python\n",
    "portfolio_returns = returns.dot(w)"
   ]
  },
  {
   "cell_type": "code",
   "execution_count": null,
   "id": "daf58ff6",
   "metadata": {},
   "outputs": [],
   "source": [
    "comparison = pd.concat([portfolio_returns, bench_returns], axis=1)"
   ]
  },
  {
   "cell_type": "code",
   "execution_count": null,
   "id": "2bd7b7e9",
   "metadata": {},
   "outputs": [],
   "source": [
    "comparison.add(1).cumprod().plot(figsize=(10, 6), title=\"Cumulative Returns: QQQ vs Portfolio\")"
   ]
  },
  {
   "cell_type": "code",
   "execution_count": null,
   "id": "9d9a5ded",
   "metadata": {},
   "outputs": [],
   "source": [
    "```"
   ]
  },
  {
   "cell_type": "code",
   "execution_count": null,
   "id": "99d44926",
   "metadata": {},
   "outputs": [],
   "source": [
    "We calculate the portfolio's returns by multiplying the asset returns by their respective weights. This gives us a time series of portfolio returns. We then create a DataFrame that combines these portfolio returns with the benchmark returns, aligning them for comparison. We calculate cumulative returns by adding one to each return and taking the cumulative product over time. Finally, we plot these cumulative returns to visually compare the performance of the optimized portfolio against the QQQ benchmark. The resulting plot provides a clear view of how well the portfolio tracks the benchmark and highlights any periods of outperformance or underperformance."
   ]
  },
  {
   "cell_type": "markdown",
   "id": "536d24de",
   "metadata": {},
   "source": [
    "## Your next steps"
   ]
  },
  {
   "cell_type": "code",
   "execution_count": null,
   "id": "dca4927f",
   "metadata": {},
   "outputs": [],
   "source": [
    "Try adjusting the maximum allowed tracking error to see how it affects the portfolio's composition and returns. You can also explore changing the risk measure from CVaR to another option like variance or maximum drawdown. Experiment with different objective functions to see how they influence the optimization results. Each of these changes can provide insights into how different constraints and goals impact the behavior of a portfolio.\n",
    "```"
   ]
  },
  {
   "cell_type": "markdown",
   "id": "44338975",
   "metadata": {},
   "source": [
    "<a href=\"https://pyquantnews.com/\">PyQuant News</a> is where finance practitioners level up with Python for quant finance, algorithmic trading, and market data analysis. Looking to get started? Check out the fastest growing, top-selling course to <a href=\"https://gettingstartedwithpythonforquantfinance.com/\">get started with Python for quant finance</a>. For educational purposes. Not investment advise. Use at your own risk."
   ]
  }
 ],
 "metadata": {
  "jupytext": {
   "cell_metadata_filter": "-all",
   "main_language": "python",
   "notebook_metadata_filter": "-all"
  }
 },
 "nbformat": 4,
 "nbformat_minor": 5
}
