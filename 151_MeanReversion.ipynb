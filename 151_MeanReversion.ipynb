{
 "cells": [
  {
   "cell_type": "markdown",
   "id": "c912f309",
   "metadata": {},
   "source": [
    "<div style=\"background-color:#000;\"><img src=\"pqn.png\"></img></div>"
   ]
  },
  {
   "cell_type": "markdown",
   "id": "7d965066",
   "metadata": {},
   "source": [
    "These libraries provide tools for quantitative finance, data manipulation, and backtesting trading strategies"
   ]
  },
  {
   "cell_type": "code",
   "execution_count": null,
   "id": "54a0f7c3",
   "metadata": {},
   "outputs": [],
   "source": [
    "import pandas as pd\n",
    "import warnings"
   ]
  },
  {
   "cell_type": "code",
   "execution_count": null,
   "id": "72bbb301",
   "metadata": {},
   "outputs": [],
   "source": [
    "from zipline import run_algorithm\n",
    "from zipline.pipeline.factors import Returns, VWAP\n",
    "from zipline.pipeline import CustomFactor, Pipeline\n",
    "from zipline.api import (\n",
    "    calendars,\n",
    "    attach_pipeline,\n",
    "    schedule_function,\n",
    "    date_rules,\n",
    "    time_rules,\n",
    "    pipeline_output,\n",
    "    record,\n",
    "    order_target_percent,\n",
    "    get_datetime\n",
    ")"
   ]
  },
  {
   "cell_type": "code",
   "execution_count": null,
   "id": "6e1111cf",
   "metadata": {
    "lines_to_next_cell": 1
   },
   "outputs": [],
   "source": [
    "warnings.filterwarnings(\"ignore\")"
   ]
  },
  {
   "cell_type": "markdown",
   "id": "8d84d7c9",
   "metadata": {},
   "source": [
    "Our code uses these libraries to create a mean reversion trading strategy. We'll define custom factors, set up a pipeline for stock selection, and implement a trading algorithm."
   ]
  },
  {
   "cell_type": "markdown",
   "id": "10566a18",
   "metadata": {},
   "source": [
    "## Define our custom factor"
   ]
  },
  {
   "cell_type": "markdown",
   "id": "82d00a74",
   "metadata": {},
   "source": [
    "We create a custom factor to calculate mean reversion scores for stocks."
   ]
  },
  {
   "cell_type": "code",
   "execution_count": null,
   "id": "eca5257b",
   "metadata": {
    "lines_to_next_cell": 1
   },
   "outputs": [],
   "source": [
    "class MeanReversion(CustomFactor):\n",
    "    inputs = [Returns(window_length=21)]\n",
    "    window_length = 21\n",
    "\n",
    "    def compute(self, today, assets, out, monthly_returns):\n",
    "        df = pd.DataFrame(monthly_returns)\n",
    "        out[:] = df.iloc[-1].sub(df.mean()).div(df.std())"
   ]
  },
  {
   "cell_type": "markdown",
   "id": "80297783",
   "metadata": {},
   "source": [
    "This code defines a custom factor called MeanReversion. It uses a 21-day window of stock returns to calculate a mean reversion score. The score is based on how far the most recent return is from the average, relative to the standard deviation. This helps identify stocks that may be overbought or oversold."
   ]
  },
  {
   "cell_type": "markdown",
   "id": "b80178ae",
   "metadata": {},
   "source": [
    "## Set up our trading pipeline"
   ]
  },
  {
   "cell_type": "markdown",
   "id": "8ba15eba",
   "metadata": {},
   "source": [
    "We create a pipeline to select stocks based on our mean reversion factor."
   ]
  },
  {
   "cell_type": "code",
   "execution_count": null,
   "id": "49bd5a82",
   "metadata": {},
   "outputs": [],
   "source": [
    "def compute_factors():\n",
    "    mean_reversion = MeanReversion()\n",
    "    vwap = VWAP(window_length=21)\n",
    "    pipe = Pipeline(\n",
    "        columns={\n",
    "            \"longs\": mean_reversion.bottom(5),\n",
    "            \"shorts\": mean_reversion.top(5),\n",
    "            \"ranking\": mean_reversion.rank(),\n",
    "        },\n",
    "        screen=vwap > 15.0\n",
    "    )\n",
    "    return pipe"
   ]
  },
  {
   "cell_type": "code",
   "execution_count": null,
   "id": "fca463d2",
   "metadata": {
    "lines_to_next_cell": 1
   },
   "outputs": [],
   "source": [
    "pipe = compute_factors()\n",
    "pipe.show_graph()"
   ]
  },
  {
   "cell_type": "markdown",
   "id": "5f2b05be",
   "metadata": {},
   "source": [
    "Our pipeline selects stocks for long and short positions based on their mean reversion scores. We choose the bottom 5 stocks for long positions and the top 5 for short positions. We also include a ranking of all stocks. The pipeline screens out low-priced stocks by only considering those with a 21-day volume-weighted average price above $15."
   ]
  },
  {
   "cell_type": "markdown",
   "id": "6e367dfc",
   "metadata": {},
   "source": [
    "## Implement our trading algorithm"
   ]
  },
  {
   "cell_type": "markdown",
   "id": "d57198a3",
   "metadata": {},
   "source": [
    "We define functions to handle trading logic and portfolio rebalancing."
   ]
  },
  {
   "cell_type": "code",
   "execution_count": null,
   "id": "9f3c02b1",
   "metadata": {},
   "outputs": [],
   "source": [
    "def before_trading_start(context, data):\n",
    "    context.factor_data = pipeline_output(\"factor_pipeline\")\n",
    "    record(factor_data=context.factor_data.ranking)\n",
    "\n",
    "    assets = context.factor_data.index\n",
    "    record(prices=data.current(assets, \"price\"))"
   ]
  },
  {
   "cell_type": "code",
   "execution_count": null,
   "id": "825de4d7",
   "metadata": {
    "lines_to_next_cell": 1
   },
   "outputs": [],
   "source": [
    "def rebalance(context, data):\n",
    "    factor_data = context.factor_data\n",
    "    assets = factor_data.index\n",
    "\n",
    "    longs = assets[factor_data.longs]\n",
    "    shorts = assets[factor_data.shorts]\n",
    "    divest = context.portfolio.positions.keys() - longs.union(shorts)\n",
    "\n",
    "    print(\n",
    "        f\"{get_datetime().date()} | Longs {len(longs)} | Shorts {len(shorts)} | {context.portfolio.portfolio_value}\"\n",
    "    )\n",
    "\n",
    "    exec_trades(data, assets=divest, target_percent=0)\n",
    "\n",
    "    exec_trades(\n",
    "        data, assets=longs, target_percent=1 / len(longs) if len(longs) > 0 else 0\n",
    "    )"
   ]
  },
  {
   "cell_type": "code",
   "execution_count": null,
   "id": "a90e6b12",
   "metadata": {},
   "outputs": [],
   "source": [
    "def exec_trades(data, assets, target_percent):\n",
    "    for asset in assets:\n",
    "        if data.can_trade(asset):\n",
    "            order_target_percent(asset, target_percent)"
   ]
  },
  {
   "cell_type": "code",
   "execution_count": null,
   "id": "c7a3406e",
   "metadata": {
    "lines_to_next_cell": 1
   },
   "outputs": [],
   "source": [
    "def initialize(context):\n",
    "    attach_pipeline(compute_factors(), \"factor_pipeline\")\n",
    "    schedule_function(\n",
    "        rebalance,\n",
    "        date_rules.month_end(),\n",
    "        time_rules.market_open(),\n",
    "        calendar=calendars.US_EQUITIES,\n",
    "    )"
   ]
  },
  {
   "cell_type": "markdown",
   "id": "15a35ca9",
   "metadata": {},
   "source": [
    "These functions form the core of our trading algorithm. We gather factor data before trading starts, rebalance our portfolio at the end of each month, and execute trades to achieve our target allocations. The algorithm aims to go long on stocks with low mean reversion scores and short those with high scores."
   ]
  },
  {
   "cell_type": "markdown",
   "id": "7cb3ce63",
   "metadata": {},
   "source": [
    "## Run our backtest"
   ]
  },
  {
   "cell_type": "markdown",
   "id": "663ad1d4",
   "metadata": {},
   "source": [
    "We set up and run a backtest of our trading strategy."
   ]
  },
  {
   "cell_type": "code",
   "execution_count": null,
   "id": "9b61402a",
   "metadata": {},
   "outputs": [],
   "source": [
    "start = pd.Timestamp(\"2020-01-01\")\n",
    "end = pd.Timestamp(\"2024-07-01\")\n",
    "capital_base = 25_000"
   ]
  },
  {
   "cell_type": "code",
   "execution_count": null,
   "id": "6130b699",
   "metadata": {},
   "outputs": [],
   "source": [
    "perf = run_algorithm(\n",
    "    start=start,\n",
    "    end=end,\n",
    "    initialize=initialize,\n",
    "    capital_base=capital_base,\n",
    "    before_trading_start=before_trading_start,\n",
    "    bundle=\"quotemedia\",\n",
    ")"
   ]
  },
  {
   "cell_type": "code",
   "execution_count": null,
   "id": "b1f17dd5",
   "metadata": {},
   "outputs": [],
   "source": [
    "perf.portfolio_value.plot()"
   ]
  },
  {
   "cell_type": "markdown",
   "id": "03614846",
   "metadata": {},
   "source": [
    "We run a backtest of our strategy from January 2020 to July 2024 with an initial capital of $25,000. The algorithm uses the Quotemedia data bundle for historical stock prices. After running the backtest, we plot the portfolio value over time to visualize the strategy's performance."
   ]
  },
  {
   "cell_type": "markdown",
   "id": "33a3dfb6",
   "metadata": {},
   "source": [
    "<a href=\"https://pyquantnews.com/\">PyQuant News</a> is where finance practitioners level up with Python for quant finance, algorithmic trading, and market data analysis. Looking to get started? Check out the fastest growing, top-selling course to <a href=\"https://gettingstartedwithpythonforquantfinance.com/\">get started with Python for quant finance</a>. For educational purposes. Not investment advise. Use at your own risk."
   ]
  }
 ],
 "metadata": {
  "jupytext": {
   "cell_metadata_filter": "-all",
   "main_language": "python",
   "notebook_metadata_filter": "-all"
  }
 },
 "nbformat": 4,
 "nbformat_minor": 5
}
