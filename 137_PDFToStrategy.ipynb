{
 "cells": [
  {
   "cell_type": "markdown",
   "id": "beac507d",
   "metadata": {},
   "source": [
    "<div style=\"background-color:#000;\"><img src=\"pqn.png\"></img></div>"
   ]
  },
  {
   "cell_type": "markdown",
   "id": "bebe2a65",
   "metadata": {},
   "source": [
    "### Set up our environment"
   ]
  },
  {
   "cell_type": "markdown",
   "id": "44a8cac7",
   "metadata": {},
   "source": [
    "We import necessary libraries and set up our environment for the pairs trading strategy implementation."
   ]
  },
  {
   "cell_type": "code",
   "execution_count": null,
   "id": "e667ed3e",
   "metadata": {},
   "outputs": [],
   "source": [
    "import os\n",
    "import asyncio\n",
    "from dotenv import load_dotenv"
   ]
  },
  {
   "cell_type": "code",
   "execution_count": null,
   "id": "5616bd68",
   "metadata": {},
   "outputs": [],
   "source": [
    "from llama_index.llms.openai import OpenAI\n",
    "from llama_index.core.workflow import Context\n",
    "from llama_index.core.agent.workflow import (\n",
    "    FunctionAgent,\n",
    "    AgentWorkflow,\n",
    "    AgentOutput,\n",
    "    ToolCall,\n",
    "    ToolCallResult,\n",
    ")\n",
    "from llama_index.core import SimpleDirectoryReader, GPTVectorStoreIndex"
   ]
  },
  {
   "cell_type": "code",
   "execution_count": null,
   "id": "e766a67c",
   "metadata": {},
   "outputs": [],
   "source": [
    "load_dotenv()"
   ]
  },
  {
   "cell_type": "markdown",
   "id": "347b3245",
   "metadata": {},
   "source": [
    "We import libraries for file handling, asynchronous programming, and environment variable management. We also import components from the llama_index library for natural language processing and workflow management. The load_dotenv() function loads environment variables from a .env file, which is useful for storing sensitive information like API keys."
   ]
  },
  {
   "cell_type": "markdown",
   "id": "82c29906",
   "metadata": {},
   "source": [
    "### Initialize our LLM"
   ]
  },
  {
   "cell_type": "markdown",
   "id": "903616f6",
   "metadata": {},
   "source": [
    "We set up our Language Model (LLM) using OpenAI's GPT-4."
   ]
  },
  {
   "cell_type": "code",
   "execution_count": null,
   "id": "746907c3",
   "metadata": {},
   "outputs": [],
   "source": [
    "llm = OpenAI(model=\"gpt-4o\")"
   ]
  },
  {
   "cell_type": "markdown",
   "id": "78d84f72",
   "metadata": {},
   "source": [
    "We create an instance of the OpenAI language model using the GPT-4 variant. This model will be used throughout our workflow to process natural language and generate responses. The API key for OpenAI should be stored in the .env file that was loaded earlier."
   ]
  },
  {
   "cell_type": "markdown",
   "id": "02146768",
   "metadata": {},
   "source": [
    "### Define our workflow tools"
   ]
  },
  {
   "cell_type": "markdown",
   "id": "447c2933",
   "metadata": {},
   "source": [
    "We define the tools our agents will use in the workflow."
   ]
  },
  {
   "cell_type": "code",
   "execution_count": null,
   "id": "ce1ac01c",
   "metadata": {},
   "outputs": [],
   "source": [
    "async def read_pdf_tool(ctx: Context) -> str:\n",
    "    \"\"\"\n",
    "    Reads the provided PDF file and extracts a detailed description of the pairs trading strategy.\n",
    "    \"\"\"\n",
    "    documents = SimpleDirectoryReader(input_files=[\"pairs.pdf\"]).load_data()\n",
    "    index = GPTVectorStoreIndex(documents)\n",
    "    query_engine = index.as_query_engine()\n",
    "    query = (\n",
    "        \"Extract a detailed description of the pairs trading strategy implementation from this PDF. \"\n",
    "        \"Ensure the description is detailed enough to reproduce the strategy in code.\"\n",
    "    )\n",
    "    response = query_engine.query(query)\n",
    "    return str(response)"
   ]
  },
  {
   "cell_type": "code",
   "execution_count": null,
   "id": "d5faa5a9",
   "metadata": {},
   "outputs": [],
   "source": [
    "async def build_plan_tool(ctx: Context, plan: str) -> str:\n",
    "    \"\"\"\n",
    "    Uses the provided strategy description to generate a detailed implementation plan in Python.\n",
    "    Updates the workflow state with the plan.\n",
    "    \"\"\"\n",
    "    current_state = await ctx.get(\"state\")\n",
    "    current_state[\"implementation_plan\"] = plan\n",
    "    await ctx.set(\"state\", current_state)\n",
    "    return \"Implementation plan recorded.\""
   ]
  },
  {
   "cell_type": "code",
   "execution_count": null,
   "id": "a2bf0223",
   "metadata": {},
   "outputs": [],
   "source": [
    "async def write_code_tool(ctx: Context, plan: str) -> str:\n",
    "    \"\"\"\n",
    "    Uses the provided implementation plan to generate complete, executable Python code.\n",
    "    Updates the workflow state with the generated code.\n",
    "    \"\"\"\n",
    "    current_state = await ctx.get(\"state\")\n",
    "    current_state[\"python_code\"] = plan\n",
    "    await ctx.set(\"state\", current_state)\n",
    "    return \"Python code recorded.\""
   ]
  },
  {
   "cell_type": "markdown",
   "id": "a3ed2e38",
   "metadata": {},
   "source": [
    "We define three asynchronous functions that serve as tools in our workflow. The read_pdf_tool extracts information from a PDF file, the build_plan_tool generates an implementation plan, and the write_code_tool generates Python code. These tools interact with the workflow context to update the state as they progress."
   ]
  },
  {
   "cell_type": "markdown",
   "id": "a2595047",
   "metadata": {},
   "source": [
    "### Create our agents"
   ]
  },
  {
   "cell_type": "markdown",
   "id": "61a99832",
   "metadata": {},
   "source": [
    "We set up the agents that will use our tools to process the pairs trading strategy."
   ]
  },
  {
   "cell_type": "code",
   "execution_count": null,
   "id": "dfdd5234",
   "metadata": {},
   "outputs": [],
   "source": [
    "pdf_reader_agent = FunctionAgent(\n",
    "    name=\"PDFReaderAgent\",\n",
    "    description=(\n",
    "        \"Reads a PDF file containing a pairs trading strategy and extracts a detailed description \"\n",
    "        \"of the strategy implementation.\"\n",
    "    ),\n",
    "    system_prompt=(\n",
    "        \"You are the PDFReaderAgent that can read PDFs containing implementation details of pairs trading strategies \"\n",
    "        \"and describe the strategy in detail. Once you read the PDF and describe the implementation details and are \"\n",
    "        \"satisfied, you should hand off control to the PlanBuilderAgent to develop an implementation plan. \"\n",
    "        \"You should have a detailed description of the strategy before handing off control to the PlanBuilderAgent.\"\n",
    "    ),\n",
    "    llm=llm,\n",
    "    tools=[read_pdf_tool],\n",
    "    can_handoff_to=[\"PlanBuilderAgent\"],\n",
    ")"
   ]
  },
  {
   "cell_type": "code",
   "execution_count": null,
   "id": "738a0e47",
   "metadata": {},
   "outputs": [],
   "source": [
    "plan_builder_agent = FunctionAgent(\n",
    "    name=\"PlanBuilderAgent\",\n",
    "    description=(\n",
    "        \"Takes the detailed strategy description and builds a detailed plan to implement the strategy in Python.\"\n",
    "    ),"
   ]
  },
  {
   "cell_type": "markdown",
   "id": "f2373e83",
   "metadata": {},
   "source": [
    "<a href=\"https://pyquantnews.com/\">PyQuant News</a> is where finance practitioners level up with Python for quant finance, algorithmic trading, and market data analysis. Looking to get started? Check out the fastest growing, top-selling course to <a href=\"https://gettingstartedwithpythonforquantfinance.com/\">get started with Python for quant finance</a>. For educational purposes. Not investment advise. Use at your own risk."
   ]
  }
 ],
 "metadata": {
  "jupytext": {
   "cell_metadata_filter": "-all",
   "main_language": "python",
   "notebook_metadata_filter": "-all"
  }
 },
 "nbformat": 4,
 "nbformat_minor": 5
}
