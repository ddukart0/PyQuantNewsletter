{
 "cells": [
  {
   "cell_type": "markdown",
   "id": "90034b19",
   "metadata": {},
   "source": [
    "<div style=\"background-color:#000;\"><img src=\"pqn.png\"></img></div>"
   ]
  },
  {
   "cell_type": "code",
   "execution_count": null,
   "id": "0a420ba0",
   "metadata": {},
   "outputs": [],
   "source": [
    "import pandas as pd\n",
    "import riskfolio as rp\n",
    "import yfinance as yf"
   ]
  },
  {
   "cell_type": "markdown",
   "id": "540480e1",
   "metadata": {},
   "source": [
    "### Download historical price data and calculate returns"
   ]
  },
  {
   "cell_type": "markdown",
   "id": "9916e7a9",
   "metadata": {},
   "source": [
    "We first define the date range and the list of asset tickers. This allows us to decide which assets and time period we are interested in analyzing."
   ]
  },
  {
   "cell_type": "code",
   "execution_count": null,
   "id": "0a25cba9",
   "metadata": {},
   "outputs": [],
   "source": [
    "start = \"2016-01-01\"\n",
    "end = \"2019-12-30\"\n",
    "\n",
    "assets = [\n",
    "    \"JCI\", \"TGT\", \"CMCSA\", \"CPB\", \"MO\", \"APA\", \"MMC\", \"JPM\", \"ZION\",\n",
    "    \"PSA\", \"BAX\", \"BMY\", \"LUV\", \"PCAR\", \"TXT\", \"TMO\", \"DE\", \"MSFT\",\n",
    "    \"HPQ\", \"SEE\", \"VZ\", \"CNP\", \"NI\", \"T\", \"BA\"\n",
    "]\n",
    "\n",
    "prices = yf.download(assets, start=start, end=end)[\"Adj Close\"]\n",
    "returns = prices.pct_change().dropna()"
   ]
  },
  {
   "cell_type": "markdown",
   "id": "2e0ff6e4",
   "metadata": {},
   "source": [
    "We download historical price data for the specified assets over the chosen date range. After downloading, we calculate daily returns from the adjusted closing prices of each asset.\n",
    "\n",
    "We use Yahoo Finance to obtain the adjusted closing prices for our assets over the specified period. The percentage change function calculates daily returns from these prices. Dropping missing values ensures we have a clean dataset for analysis."
   ]
  },
  {
   "cell_type": "markdown",
   "id": "d484b612",
   "metadata": {},
   "source": [
    "### Create a portfolio and calculate optimal allocation"
   ]
  },
  {
   "cell_type": "markdown",
   "id": "3c9f924a",
   "metadata": {},
   "source": [
    "Next, we create a portfolio object using the calculated returns. This portfolio will be used to perform optimization and calculate the optimal allocation of assets."
   ]
  },
  {
   "cell_type": "code",
   "execution_count": null,
   "id": "1a99aa94",
   "metadata": {},
   "outputs": [],
   "source": [
    "port = rp.Portfolio(returns=returns)\n",
    "\n",
    "port.assets_stats(method_mu=\"hist\", method_cov=\"ledoit\")\n",
    "port.lowerret = 0.00056488 * 1.5\n",
    "\n",
    "model = \"Classic\"\n",
    "rm = \"MV\"\n",
    "\n",
    "w_rp = port.rp_optimization(model=model, rm=rm)"
   ]
  },
  {
   "cell_type": "markdown",
   "id": "0ec2c4e6",
   "metadata": {},
   "source": [
    "We calculate the expected returns and covariance matrix of the portfolio, using historical data and the Ledoit-Wolf shrinkage method for covariance. We also set a target return for the portfolio."
   ]
  },
  {
   "cell_type": "markdown",
   "id": "f5031792",
   "metadata": {},
   "source": [
    "We use historical data to estimate expected returns and the Ledoit-Wolf method for a more stable covariance matrix. Setting a lower target return helps guide the optimization process to achieve a desired level of return."
   ]
  },
  {
   "cell_type": "markdown",
   "id": "1fc3c289",
   "metadata": {},
   "source": [
    "We then define the optimization model and risk measure. These parameters guide how the portfolio optimization will be carried out."
   ]
  },
  {
   "cell_type": "markdown",
   "id": "a07fe883",
   "metadata": {},
   "source": [
    "We estimate the optimal portfolio allocation using risk parity optimization. This step uses the previously defined model and risk measure to determine how much of each asset should be included in the portfolio."
   ]
  },
  {
   "cell_type": "markdown",
   "id": "d7b9aaec",
   "metadata": {},
   "source": [
    "We use the \"Classic\" model which seeks to balance the risk of the portfolio using Mean-Variance (\"MV\") optimization. The optimization process calculates optimal asset weights to minimize risk while achieving the desired return."
   ]
  },
  {
   "cell_type": "markdown",
   "id": "5532e828",
   "metadata": {},
   "source": [
    "### Define constraints and re-optimize the portfolio"
   ]
  },
  {
   "cell_type": "markdown",
   "id": "f6ba38fe",
   "metadata": {},
   "source": [
    "We create a DataFrame to categorize assets by their industry. This categorization will be used to apply constraints during portfolio optimization."
   ]
  },
  {
   "cell_type": "code",
   "execution_count": null,
   "id": "e8a3892e",
   "metadata": {},
   "outputs": [],
   "source": [
    "asset_classes = {\n",
    "    \"Assets\": assets,\n",
    "    \"Industry\": [\n",
    "        \"Consumer Discretionary\", \"Consumer Discretionary\", \"Consumer Discretionary\",\n",
    "        \"Consumer Staples\", \"Consumer Staples\", \"Energy\", \"Financials\", \"Financials\",\n",
    "        \"Financials\", \"Financials\", \"Health Care\", \"Health Care\", \"Industrials\",\n",
    "        \"Industrials\", \"Industrials\", \"Health Care\", \"Industrials\",\n",
    "        \"Information Technology\", \"Information Technology\", \"Materials\",\n",
    "        \"Telecommunications Services\", \"Utilities\", \"Utilities\",\n",
    "        \"Telecommunications Services\", \"Financials\"\n",
    "    ]\n",
    "}\n",
    "\n",
    "asset_classes = pd.DataFrame(asset_classes)\n",
    "asset_classes = asset_classes.sort_values(by=[\"Assets\"])\n",
    "\n",
    "constraints = {\n",
    "    \"Disabled\": [False, False, False, False, False],\n",
    "    \"Type\": [\"All Assets\", \"Classes\", \"Classes\", \"Classes\", \"Classes\"],\n",
    "    \"Set\": [\"\", \"Industry\", \"Industry\", \"Industry\", \"Industry\"],\n",
    "    \"Position\": [\"\", \"Financials\", \"Utilities\", \"Industrials\", \"Consumer Discretionary\"],\n",
    "    \"Sign\": [\"<=\", \"<=\", \"<=\", \"<=\", \"<=\"],\n",
    "    \"Weight\": [0.10, 0.2, 0.2, 0.2, 0.2],\n",
    "    \"Type Relative\": [\"\", \"\", \"\", \"\", \"\"],\n",
    "    \"Relative Set\": [\"\", \"\", \"\", \"\", \"\"],\n",
    "    \"Relative\": [\"\", \"\", \"\", \"\", \"\"],\n",
    "    \"Factor\": [\"\", \"\", \"\", \"\", \"\"]\n",
    "}\n",
    "\n",
    "constraints = pd.DataFrame(constraints)\n",
    "\n",
    "A, B = rp.assets_constraints(constraints, asset_classes)\n",
    "\n",
    "port.ainequality = A\n",
    "port.binequality = B\n",
    "\n",
    "w_rp = port.rp_optimization(model=model, rm=rm)"
   ]
  },
  {
   "cell_type": "markdown",
   "id": "4fd5bd34",
   "metadata": {},
   "source": [
    "We convert the asset classes into a sorted DataFrame. This makes it easier to apply and manage constraints based on industry classifications."
   ]
  },
  {
   "cell_type": "markdown",
   "id": "3ff2f931",
   "metadata": {},
   "source": [
    "We define constraints for the optimization process, specifying limits on the weight of certain asset classes. This helps ensure the portfolio is diversified across different industries."
   ]
  },
  {
   "cell_type": "markdown",
   "id": "d47893e0",
   "metadata": {},
   "source": [
    "We convert the constraints into a DataFrame, which is used to set inequality constraints for the portfolio optimization."
   ]
  },
  {
   "cell_type": "markdown",
   "id": "132c42e9",
   "metadata": {},
   "source": [
    "We define asset constraints using the specified constraints and asset classes. These constraints are then applied to the portfolio optimization process."
   ]
  },
  {
   "cell_type": "markdown",
   "id": "92a8f0d6",
   "metadata": {},
   "source": [
    "We set the portfolio's inequality constraints using the matrices derived from our constraints. We re-run the portfolio optimization to account for these new constraints."
   ]
  },
  {
   "cell_type": "markdown",
   "id": "1bba432b",
   "metadata": {},
   "source": [
    "The constraints are implemented as inequality constraints in the portfolio optimization. By re-running the optimization, we ensure the asset allocations adhere to the constraints while still aiming to minimize risk."
   ]
  },
  {
   "cell_type": "markdown",
   "id": "bd2d6363",
   "metadata": {},
   "source": [
    "### Visualize the optimal portfolio allocation and risk contribution"
   ]
  },
  {
   "cell_type": "markdown",
   "id": "0cd2aaea",
   "metadata": {},
   "source": [
    "We visualize the optimal portfolio allocation using a pie chart. This helps us understand the distribution of asset weights in the optimized portfolio."
   ]
  },
  {
   "cell_type": "code",
   "execution_count": null,
   "id": "9bd2a08b",
   "metadata": {},
   "outputs": [],
   "source": [
    "rp.plot_pie(\n",
    "    w=w_rp, \n",
    "    others=0.05,\n",
    "    nrow=25,\n",
    "    height=6,\n",
    "    width=10\n",
    ")"
   ]
  },
  {
   "cell_type": "markdown",
   "id": "54ab5a21",
   "metadata": {},
   "source": [
    "The pie chart displays how assets are weighted in the optimal portfolio, highlighting diversification. By setting a threshold for \"others,\" we group smaller allocations into a single category to simplify the visualization."
   ]
  },
  {
   "cell_type": "markdown",
   "id": "2a06bc61",
   "metadata": {},
   "source": [
    "We visualize the risk contribution of each asset in the portfolio. This shows how much each asset contributes to the overall portfolio risk."
   ]
  },
  {
   "cell_type": "code",
   "execution_count": null,
   "id": "d284ba5d",
   "metadata": {},
   "outputs": [],
   "source": [
    "rp.plot_risk_con(\n",
    "    w_rp, \n",
    "    cov=port.cov, \n",
    "    returns=port.returns, \n",
    "    height=6,\n",
    "    width=10\n",
    ")"
   ]
  },
  {
   "cell_type": "markdown",
   "id": "ec1cf5d4",
   "metadata": {},
   "source": [
    "The risk contribution plot helps us understand which assets contribute most to portfolio risk. It uses the asset weights, covariance matrix, and returns to calculate and visualize risk distribution."
   ]
  },
  {
   "cell_type": "markdown",
   "id": "788b8186",
   "metadata": {},
   "source": [
    "### Your next steps"
   ]
  },
  {
   "cell_type": "markdown",
   "id": "b2922e1a-e07e-4543-8360-8233c1da400e",
   "metadata": {},
   "source": [
    "Try modifying the list of assets to include different companies or sectors. You can also adjust the constraints to see how they affect the optimal portfolio allocation. Experiment with different optimization models and risk measures to explore other portfolio strategies."
   ]
  },
  {
   "cell_type": "markdown",
   "id": "756b1983",
   "metadata": {},
   "source": [
    "<a href=\"https://pyquantnews.com/\">PyQuant News</a> is where finance practitioners level up with Python for quant finance, algorithmic trading, and market data analysis. Looking to get started? Check out the fastest growing, top-selling course to <a href=\"https://gettingstartedwithpythonforquantfinance.com/\">get started with Python for quant finance</a>. For educational purposes. Not investment advise. Use at your own risk."
   ]
  }
 ],
 "metadata": {
  "jupytext": {
   "cell_metadata_filter": "-all",
   "main_language": "python",
   "notebook_metadata_filter": "-all"
  },
  "kernelspec": {
   "display_name": "Python 3 (ipykernel)",
   "language": "python",
   "name": "python3"
  },
  "language_info": {
   "codemirror_mode": {
    "name": "ipython",
    "version": 3
   },
   "file_extension": ".py",
   "mimetype": "text/x-python",
   "name": "python",
   "nbconvert_exporter": "python",
   "pygments_lexer": "ipython3",
   "version": "3.10.13"
  }
 },
 "nbformat": 4,
 "nbformat_minor": 5
}
